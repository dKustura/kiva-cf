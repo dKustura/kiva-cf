{
 "cells": [
  {
   "cell_type": "markdown",
   "metadata": {},
   "source": [
    "# Kiva collaborative filtering\n",
    "## Polara framework"
   ]
  },
  {
   "cell_type": "markdown",
   "metadata": {},
   "source": [
    "***\n",
    "### Imports"
   ]
  },
  {
   "cell_type": "code",
   "execution_count": 30,
   "metadata": {},
   "outputs": [],
   "source": [
    "# essentials\n",
    "import os\n",
    "import sys\n",
    "import csv\n",
    "import pandas as pd\n",
    "import numpy as np\n",
    "from sklearn.metrics import roc_auc_score, precision_recall_curve, auc\n",
    "from scipy.sparse import csr_matrix, lil_matrix\n",
    "\n",
    "# polara framework\n",
    "from polara.recommender.data import RecommenderData\n",
    "from polara.recommender.models import SVDModel, PopularityModel, RandomModel\n",
    "from polara.recommender.external.implicit.ialswrapper import ImplicitALS\n",
    "from polara.datasets.movielens import get_movielens_data\n",
    "from polara.evaluation import evaluation_engine as ee\n",
    "from polara.evaluation.plotting import show_hit_rates, show_precision_recall, show_ranking, show_relevance\n",
    "\n",
    "# utilities\n",
    "import codecs\n",
    "import logging\n",
    "import time\n",
    "import tqdm\n",
    "\n",
    "# visualization libraries\n",
    "import seaborn as sns\n",
    "import matplotlib.pyplot as plt\n",
    "\n",
    "# serialization\n",
    "import pickle"
   ]
  },
  {
   "cell_type": "code",
   "execution_count": 2,
   "metadata": {},
   "outputs": [],
   "source": [
    "pd.set_option('display.max_columns', 40)"
   ]
  },
  {
   "cell_type": "code",
   "execution_count": 3,
   "metadata": {},
   "outputs": [
    {
     "name": "stdout",
     "output_type": "stream",
     "text": [
      "env: MKL_NUM_THREADS=1\n"
     ]
    }
   ],
   "source": [
    "%env MKL_NUM_THREADS=1\n",
    "logging.basicConfig(level=logging.DEBUG)"
   ]
  },
  {
   "cell_type": "markdown",
   "metadata": {},
   "source": [
    "***\n",
    "### Pickle loads"
   ]
  },
  {
   "cell_type": "code",
   "execution_count": null,
   "metadata": {},
   "outputs": [],
   "source": [
    "loans_table = pickle.load(open(\"pickle/loans_table.p\", \"rb\"))\n",
    "funded_loans_table = pickle.load(open(\"pickle/funded_loans_table.p\", \"rb\"))\n",
    "funded_loan_ids_set = pickle.load(open(\"pickle/funded_loan_ids_set.p\", \"rb\"))"
   ]
  },
  {
   "cell_type": "code",
   "execution_count": null,
   "metadata": {},
   "outputs": [],
   "source": [
    "utility_matrix = pickle.load(open(\"pickle/utility_matrix.p\", \"rb\"))"
   ]
  },
  {
   "cell_type": "code",
   "execution_count": null,
   "metadata": {},
   "outputs": [],
   "source": [
    "utility_matrix_df = pickle.load(open(\"pickle/utility_matrix_df.p\", \"rb\"))"
   ]
  },
  {
   "cell_type": "code",
   "execution_count": null,
   "metadata": {},
   "outputs": [],
   "source": [
    "utility_matrix_df.head()"
   ]
  },
  {
   "cell_type": "markdown",
   "metadata": {},
   "source": [
    "***\n",
    "### Dataset reading"
   ]
  },
  {
   "cell_type": "code",
   "execution_count": null,
   "metadata": {},
   "outputs": [],
   "source": [
    "loans_table = pd.read_csv('additional-kiva-snapshot/loans.csv')\n",
    "loans_table = loans_table.sort_values(by='raised_time')"
   ]
  },
  {
   "cell_type": "code",
   "execution_count": null,
   "metadata": {},
   "outputs": [],
   "source": [
    "funded_loans_table = loans_table[loans_table.status == 'funded']"
   ]
  },
  {
   "cell_type": "code",
   "execution_count": null,
   "metadata": {},
   "outputs": [],
   "source": [
    "START_DATE = '2013-10-01'\n",
    "END_DATE = '2015-05-01'\n",
    "\n",
    "mask = (funded_loans_table['raised_time'] > START_DATE) & (funded_loans_table['raised_time'] <= END_DATE)\n",
    "funded_loans_table = funded_loans_table.loc[mask]\n",
    "del mask\n",
    "\n",
    "funded_loan_ids_set = set(funded_loans_table['loan_id'])"
   ]
  },
  {
   "cell_type": "code",
   "execution_count": null,
   "metadata": {},
   "outputs": [],
   "source": [
    "# pickle.dump(loans_table, open(\"/pickle/loans_table.p\", \"wb\"))\n",
    "# pickle.dump(funded_loans_table, open(\"pickle/funded_loans_table.p\", \"wb\"))\n",
    "# pickle.dump(funded_loan_ids_set, open(\"pickle/funded_loan_ids_set.p\", \"wb\"))"
   ]
  },
  {
   "cell_type": "code",
   "execution_count": null,
   "metadata": {},
   "outputs": [],
   "source": [
    "# free ram\n",
    "del loans_table\n",
    "del funded_loans_table"
   ]
  },
  {
   "cell_type": "code",
   "execution_count": null,
   "metadata": {},
   "outputs": [],
   "source": [
    "loans = set()\n",
    "lenders = set()\n",
    "loans_lenders_dict = {}\n",
    "\n",
    "with open('additional-kiva-snapshot/loans_lenders.csv', newline='', encoding=\"utf8\") as csvfile:\n",
    "    csv_reader = csv.reader(csvfile)\n",
    "    line_num = 0\n",
    "    for row in csv_reader:\n",
    "        if line_num == 0:\n",
    "            line_num += 1\n",
    "            continue\n",
    "        loan_id, lender_ids = row\n",
    "        loan_id = int(loan_id)\n",
    "        if loan_id not in funded_loan_ids_set:\n",
    "            continue\n",
    "        \n",
    "        loans.add(loan_id)\n",
    "        new_lenders = set(lender_ids.split(\", \"))\n",
    "        loans_lenders_dict[loan_id] = new_lenders\n",
    "        lenders.update(new_lenders)\n",
    "        line_num += 1\n",
    "\n",
    "loans = list(loans)\n",
    "lenders = list(lenders)\n",
    "\n",
    "print('Loans-lenders dict filled')"
   ]
  },
  {
   "cell_type": "markdown",
   "metadata": {},
   "source": [
    "***\n",
    "### Utility matrix creation"
   ]
  },
  {
   "cell_type": "code",
   "execution_count": null,
   "metadata": {},
   "outputs": [],
   "source": [
    "lenders_reverse_index = {k: v for v, k in enumerate(lenders)}\n",
    "utility_matrix = lil_matrix((len(loans), len(lenders)), dtype=np.float64)"
   ]
  },
  {
   "cell_type": "code",
   "execution_count": null,
   "metadata": {},
   "outputs": [],
   "source": [
    "for loan_index, loan in enumerate(loans):\n",
    "    for lender in loans_lenders_dict[loan]:\n",
    "        lender_index = lenders_reverse_index[lender]\n",
    "        utility_matrix[loan_index, lender_index] = 1.0\n",
    "\n",
    "print('Filled utility matrix')"
   ]
  },
  {
   "cell_type": "code",
   "execution_count": null,
   "metadata": {},
   "outputs": [],
   "source": [
    "utility_matrix = utility_matrix.tocsr()"
   ]
  },
  {
   "cell_type": "code",
   "execution_count": null,
   "metadata": {},
   "outputs": [],
   "source": [
    "# pickle.dump(utility_matrix, open(\"pickle/utility_matrix.p\", \"wb\"))"
   ]
  },
  {
   "cell_type": "markdown",
   "metadata": {},
   "source": [
    "#### Conversion to SparseDataFrame"
   ]
  },
  {
   "cell_type": "code",
   "execution_count": null,
   "metadata": {},
   "outputs": [],
   "source": [
    "utility_matrix_df = pd.SparseDataFrame(utility_matrix)"
   ]
  },
  {
   "cell_type": "code",
   "execution_count": null,
   "metadata": {},
   "outputs": [],
   "source": [
    "# pickle.dump(utility_matrix_df, open(\"pickle/utility_matrix_df.p\", \"wb\"))"
   ]
  },
  {
   "cell_type": "code",
   "execution_count": null,
   "metadata": {},
   "outputs": [],
   "source": [
    "def write_matrix_to_csv(matrix, filename):\n",
    "    if not isinstance(matrix, scipy.sparse.coo_matrix):\n",
    "        matrix = matrix.tocoo()\n",
    "    \n",
    "    with open(filename, 'w', encoding='utf-8') as f:\n",
    "        f.write(\"%s,%s,%s\\n\" % ('itemid', 'userid', 'feedback'))\n",
    "        for i,j,v in zip(matrix.row, matrix.col, matrix.data):\n",
    "            f.write(\"%s,%s,%s\\n\" % (i, j, v))"
   ]
  },
  {
   "cell_type": "code",
   "execution_count": 4,
   "metadata": {},
   "outputs": [],
   "source": [
    "kiva_dataframe = pd.read_csv('kiva_dataframe.csv', engine='c')"
   ]
  },
  {
   "cell_type": "code",
   "execution_count": 5,
   "metadata": {},
   "outputs": [
    {
     "data": {
      "text/plain": [
       "(5339455, 3)"
      ]
     },
     "execution_count": 5,
     "metadata": {},
     "output_type": "execute_result"
    }
   ],
   "source": [
    "kiva_dataframe.shape"
   ]
  },
  {
   "cell_type": "code",
   "execution_count": 8,
   "metadata": {},
   "outputs": [
    {
     "data": {
      "text/html": [
       "<div>\n",
       "<style scoped>\n",
       "    .dataframe tbody tr th:only-of-type {\n",
       "        vertical-align: middle;\n",
       "    }\n",
       "\n",
       "    .dataframe tbody tr th {\n",
       "        vertical-align: top;\n",
       "    }\n",
       "\n",
       "    .dataframe thead th {\n",
       "        text-align: right;\n",
       "    }\n",
       "</style>\n",
       "<table border=\"1\" class=\"dataframe\">\n",
       "  <thead>\n",
       "    <tr style=\"text-align: right;\">\n",
       "      <th></th>\n",
       "      <th>itemid</th>\n",
       "      <th>userid</th>\n",
       "      <th>feedback</th>\n",
       "    </tr>\n",
       "  </thead>\n",
       "  <tbody>\n",
       "    <tr>\n",
       "      <th>0</th>\n",
       "      <td>0</td>\n",
       "      <td>7703</td>\n",
       "      <td>1.0</td>\n",
       "    </tr>\n",
       "    <tr>\n",
       "      <th>1</th>\n",
       "      <td>0</td>\n",
       "      <td>8354</td>\n",
       "      <td>1.0</td>\n",
       "    </tr>\n",
       "    <tr>\n",
       "      <th>2</th>\n",
       "      <td>0</td>\n",
       "      <td>9000</td>\n",
       "      <td>1.0</td>\n",
       "    </tr>\n",
       "    <tr>\n",
       "      <th>3</th>\n",
       "      <td>0</td>\n",
       "      <td>10247</td>\n",
       "      <td>1.0</td>\n",
       "    </tr>\n",
       "    <tr>\n",
       "      <th>4</th>\n",
       "      <td>0</td>\n",
       "      <td>21284</td>\n",
       "      <td>1.0</td>\n",
       "    </tr>\n",
       "  </tbody>\n",
       "</table>\n",
       "</div>"
      ],
      "text/plain": [
       "   itemid  userid  feedback\n",
       "0       0    7703       1.0\n",
       "1       0    8354       1.0\n",
       "2       0    9000       1.0\n",
       "3       0   10247       1.0\n",
       "4       0   21284       1.0"
      ]
     },
     "execution_count": 8,
     "metadata": {},
     "output_type": "execute_result"
    }
   ],
   "source": [
    "kiva_dataframe.head()"
   ]
  },
  {
   "cell_type": "markdown",
   "metadata": {},
   "source": [
    "***\n",
    "### Polara example"
   ]
  },
  {
   "cell_type": "code",
   "execution_count": null,
   "metadata": {},
   "outputs": [],
   "source": [
    "# define models\n",
    "ml_data = get_movielens_data(get_genres=False)\n",
    "data_model = RecommenderData(ml_data, 'userid', 'movieid', 'rating')\n",
    "\n",
    "# data_model = RecommenderData(kiva_dataframe, 'userid', 'itemid', 'feedback')\n",
    "\n",
    "svd = SVDModel(data_model)\n",
    "popular = PopularityModel(data_model)\n",
    "random = RandomModel(data_model)\n",
    "models = [svd, popular, random]\n",
    "\n",
    "metrics = ['ranking', 'relevance'] # metrics for evaluation: NDGC, Precision, Recall, etc.\n",
    "folds = [1, 2, 3, 4, 5] # use all 5 folds for cross-validation (default)\n",
    "topk_values = [1, 5, 10, 20, 50] # values of k to experiment with\n",
    "\n",
    "# run 5-fold CV experiment\n",
    "result = ee.run_cv_experiment(models, folds, metrics,\n",
    "                              fold_experiment=ee.topk_test,\n",
    "                              topk_list=topk_values)"
   ]
  },
  {
   "cell_type": "code",
   "execution_count": null,
   "metadata": {},
   "outputs": [],
   "source": [
    "# calculate average values across all folds for e.g. relevance metrics\n",
    "scores = result.mean(axis=0, level=['top-n', 'model']) # use .std instead of .mean for standard deviation\n",
    "scores.xs('nDCG', level='metric', axis=1).unstack('model')"
   ]
  },
  {
   "cell_type": "markdown",
   "metadata": {},
   "source": [
    "***\n",
    "### Cross-validation"
   ]
  },
  {
   "cell_type": "code",
   "execution_count": 9,
   "metadata": {},
   "outputs": [
    {
     "name": "stdout",
     "output_type": "stream",
     "text": [
      "Preparing data...\n",
      "207 unique itemid's within 228 holdout interactions were filtered. Reason: not in the training data.\n",
      "85452 unique userid's within 136096 holdout interactions were filtered. Reason: not in the training data.\n",
      "114 of 44225 userid's were filtered out from holdout. Reason: incompatible number of items.\n",
      "Done.\n",
      "There are 5070574 events in the training and 132333 events in the holdout.\n"
     ]
    },
    {
     "name": "stderr",
     "output_type": "stream",
     "text": [
      "DEBUG:root:Prepared data in 144.29s\n"
     ]
    }
   ],
   "source": [
    "data_model = RecommenderData(kiva_dataframe, 'userid', 'itemid', 'feedback', seed=0)\n",
    "data_model.warm_start = False\n",
    "\n",
    "start = time.time()\n",
    "data_model.prepare()\n",
    "logging.debug(\"Prepared data in %0.2fs\", time.time() - start)"
   ]
  },
  {
   "cell_type": "code",
   "execution_count": 38,
   "metadata": {},
   "outputs": [],
   "source": [
    "als_default = ImplicitALS(data_model) # create model\n",
    "als_default.rank = 10\n",
    "als_default.alpha = 1\n",
    "als_default.epsilon = 1\n",
    "als_default.weight_func = None\n",
    "als_default.regularization = 0.1\n",
    "als_default.num_threads = 0\n",
    "als_default.num_epochs = 30\n",
    "\n",
    "# als_default.build() # fit model\n",
    "\n",
    "# start = time.time()\n",
    "# als_default.evaluate() # by default it calculates the total number of hits\n",
    "# logging.debug(\"Evaluated model ALS in %0.2fs\", time.time() - start)"
   ]
  },
  {
   "cell_type": "code",
   "execution_count": 39,
   "metadata": {},
   "outputs": [],
   "source": [
    "als_alpha_forty = ImplicitALS(data_model) # create model\n",
    "als_alpha_forty.rank = 10\n",
    "als_alpha_forty.alpha = 40\n",
    "als_alpha_forty.epsilon = 1\n",
    "als_alpha_forty.weight_func = None\n",
    "als_alpha_forty.regularization = 0.1\n",
    "als_alpha_forty.num_threads = 0\n",
    "als_alpha_forty.num_epochs = 30\n",
    "\n",
    "# als_alpha_forty.build() # fit model\n",
    "\n",
    "# start = time.time()\n",
    "# als_alpha_forty.evaluate() # by default it calculates the total number of hits\n",
    "# logging.debug(\"Evaluated model ALS in %0.2fs\", time.time() - start)"
   ]
  },
  {
   "cell_type": "code",
   "execution_count": 40,
   "metadata": {},
   "outputs": [],
   "source": [
    "popular = PopularityModel(data_model)\n",
    "random = RandomModel(data_model)"
   ]
  },
  {
   "cell_type": "code",
   "execution_count": 41,
   "metadata": {},
   "outputs": [
    {
     "name": "stderr",
     "output_type": "stream",
     "text": [
      "WARNING:implicit:GPU training requires factor size to be a multiple of 32. Increasing factors from 10 to 32.\n",
      "DEBUG:implicit:Converting input to CSR format\n",
      "DEBUG:implicit:Converted input to CSR in 0.187s\n",
      "DEBUG:implicit:Calculated transpose in 0.125s\n",
      "DEBUG:implicit:Initialized factors in 0.4373898506164551\n",
      "DEBUG:implicit:Running 30 ALS iterations\n",
      "100%|████████████████████████████████████████████████████████████████████████████████| 30.0/30 [00:10<00:00,  2.87it/s]\n"
     ]
    },
    {
     "name": "stdout",
     "output_type": "stream",
     "text": [
      "iALS training time: 13.195s\n"
     ]
    },
    {
     "name": "stderr",
     "output_type": "stream",
     "text": [
      "WARNING:implicit:GPU training requires factor size to be a multiple of 32. Increasing factors from 10 to 32.\n",
      "DEBUG:implicit:Converting input to CSR format\n",
      "DEBUG:implicit:Converted input to CSR in 0.172s\n",
      "DEBUG:implicit:Calculated transpose in 0.141s\n",
      "DEBUG:implicit:Initialized factors in 0.40612268447875977\n",
      "DEBUG:implicit:Running 30 ALS iterations\n",
      "100%|████████████████████████████████████████████████████████████████████████████████| 30.0/30 [00:10<00:00,  2.91it/s]\n"
     ]
    },
    {
     "name": "stdout",
     "output_type": "stream",
     "text": [
      "iALS training time: 11.873s\n",
      "Preparing data...\n",
      "182 unique itemid's within 197 holdout interactions were filtered. Reason: not in the training data.\n",
      "85704 unique userid's within 136225 holdout interactions were filtered. Reason: not in the training data.\n",
      "89 of 43984 userid's were filtered out from holdout. Reason: incompatible number of items.\n",
      "Done.\n",
      "There are 5071181 events in the training and 131685 events in the holdout.\n"
     ]
    },
    {
     "name": "stderr",
     "output_type": "stream",
     "text": [
      "WARNING:implicit:GPU training requires factor size to be a multiple of 32. Increasing factors from 10 to 32.\n",
      "DEBUG:implicit:Converting input to CSR format\n",
      "DEBUG:implicit:Converted input to CSR in 0.172s\n",
      "DEBUG:implicit:Calculated transpose in 0.141s\n",
      "DEBUG:implicit:Initialized factors in 0.4373960494995117\n",
      "DEBUG:implicit:Running 30 ALS iterations\n",
      "100%|████████████████████████████████████████████████████████████████████████████████| 30.0/30 [00:11<00:00,  2.91it/s]\n"
     ]
    },
    {
     "name": "stdout",
     "output_type": "stream",
     "text": [
      "iALS training time: 13.392s\n"
     ]
    },
    {
     "name": "stderr",
     "output_type": "stream",
     "text": [
      "WARNING:implicit:GPU training requires factor size to be a multiple of 32. Increasing factors from 10 to 32.\n",
      "DEBUG:implicit:Converting input to CSR format\n",
      "DEBUG:implicit:Converted input to CSR in 0.172s\n",
      "DEBUG:implicit:Calculated transpose in 0.141s\n",
      "DEBUG:implicit:Initialized factors in 0.40615367889404297\n",
      "DEBUG:implicit:Running 30 ALS iterations\n",
      "100%|████████████████████████████████████████████████████████████████████████████████| 30.0/30 [00:11<00:00,  2.88it/s]\n"
     ]
    },
    {
     "name": "stdout",
     "output_type": "stream",
     "text": [
      "iALS training time: 11.948s\n",
      "Preparing data...\n",
      "215 unique itemid's within 227 holdout interactions were filtered. Reason: not in the training data.\n",
      "85431 unique userid's within 135552 holdout interactions were filtered. Reason: not in the training data.\n",
      "97 of 44250 userid's were filtered out from holdout. Reason: incompatible number of items.\n",
      "Done.\n",
      "There are 5071031 events in the training and 132459 events in the holdout.\n"
     ]
    },
    {
     "name": "stderr",
     "output_type": "stream",
     "text": [
      "WARNING:implicit:GPU training requires factor size to be a multiple of 32. Increasing factors from 10 to 32.\n",
      "DEBUG:implicit:Converting input to CSR format\n",
      "DEBUG:implicit:Converted input to CSR in 0.401s\n",
      "DEBUG:implicit:Calculated transpose in 0.200s\n",
      "DEBUG:implicit:Initialized factors in 0.48560595512390137\n",
      "DEBUG:implicit:Running 30 ALS iterations\n",
      "100%|████████████████████████████████████████████████████████████████████████████████| 30.0/30 [00:10<00:00,  2.95it/s]\n"
     ]
    },
    {
     "name": "stdout",
     "output_type": "stream",
     "text": [
      "iALS training time: 13.563s\n"
     ]
    },
    {
     "name": "stderr",
     "output_type": "stream",
     "text": [
      "WARNING:implicit:GPU training requires factor size to be a multiple of 32. Increasing factors from 10 to 32.\n",
      "DEBUG:implicit:Converting input to CSR format\n",
      "DEBUG:implicit:Converted input to CSR in 0.232s\n",
      "DEBUG:implicit:Calculated transpose in 0.200s\n",
      "DEBUG:implicit:Initialized factors in 0.48564767837524414\n",
      "DEBUG:implicit:Running 30 ALS iterations\n",
      "100%|████████████████████████████████████████████████████████████████████████████████| 30.0/30 [00:10<00:00,  2.89it/s]\n"
     ]
    },
    {
     "name": "stdout",
     "output_type": "stream",
     "text": [
      "iALS training time: 12.101s\n"
     ]
    },
    {
     "name": "stderr",
     "output_type": "stream",
     "text": [
      "DEBUG:root:Cross-validation experiment finished in 2771.97s\n"
     ]
    }
   ],
   "source": [
    "models = [als_default, popular, random, als_alpha_forty]\n",
    "\n",
    "metrics = ['ranking', 'relevance'] # metrics for evaluation: NDGC, Precision, Recall, etc.\n",
    "folds = [1, 2, 3] # use all 5 folds for cross-validation (default)\n",
    "topk_values = [5, 10, 20] # values of k to experiment with\n",
    "\n",
    "start = time.time()\n",
    "\n",
    "# run 5-fold CV experiment\n",
    "result = ee.run_cv_experiment(models, folds, metrics,\n",
    "                              fold_experiment=ee.topk_test,\n",
    "                              topk_list=topk_values)\n",
    "\n",
    "\n",
    "logging.debug(\"Cross-validation experiment finished in %0.2fs\", time.time() - start)"
   ]
  },
  {
   "cell_type": "code",
   "execution_count": null,
   "metadata": {},
   "outputs": [],
   "source": [
    "# holdout_sizes = [1, 2, 5]\n",
    "\n",
    "# result = ee.run_cv_experiment(models, folds, metrics,\n",
    "#                               fold_experiment=ee.holdout_test,\n",
    "#                               holdout_sizes=holdout_sizes)"
   ]
  },
  {
   "cell_type": "code",
   "execution_count": 42,
   "metadata": {},
   "outputs": [
    {
     "data": {
      "text/html": [
       "<div>\n",
       "<style scoped>\n",
       "    .dataframe tbody tr th:only-of-type {\n",
       "        vertical-align: middle;\n",
       "    }\n",
       "\n",
       "    .dataframe tbody tr th {\n",
       "        vertical-align: top;\n",
       "    }\n",
       "\n",
       "    .dataframe thead tr th {\n",
       "        text-align: left;\n",
       "    }\n",
       "\n",
       "    .dataframe thead tr:last-of-type th {\n",
       "        text-align: right;\n",
       "    }\n",
       "</style>\n",
       "<table border=\"1\" class=\"dataframe\">\n",
       "  <thead>\n",
       "    <tr>\n",
       "      <th></th>\n",
       "      <th>type</th>\n",
       "      <th colspan=\"3\" halign=\"left\">relevance</th>\n",
       "      <th>ranking</th>\n",
       "    </tr>\n",
       "    <tr>\n",
       "      <th></th>\n",
       "      <th>metric</th>\n",
       "      <th>precision</th>\n",
       "      <th>recall</th>\n",
       "      <th>miss_rate</th>\n",
       "      <th>nDCG</th>\n",
       "    </tr>\n",
       "    <tr>\n",
       "      <th>top-n</th>\n",
       "      <th>model</th>\n",
       "      <th></th>\n",
       "      <th></th>\n",
       "      <th></th>\n",
       "      <th></th>\n",
       "    </tr>\n",
       "  </thead>\n",
       "  <tbody>\n",
       "    <tr>\n",
       "      <th rowspan=\"4\" valign=\"top\">5</th>\n",
       "      <th>iALS</th>\n",
       "      <td>0.001109</td>\n",
       "      <td>0.001849</td>\n",
       "      <td>0.998151</td>\n",
       "      <td>0.001528</td>\n",
       "    </tr>\n",
       "    <tr>\n",
       "      <th>MP</th>\n",
       "      <td>0.001156</td>\n",
       "      <td>0.001927</td>\n",
       "      <td>0.998073</td>\n",
       "      <td>0.001675</td>\n",
       "    </tr>\n",
       "    <tr>\n",
       "      <th>RND</th>\n",
       "      <td>0.000014</td>\n",
       "      <td>0.000023</td>\n",
       "      <td>0.999977</td>\n",
       "      <td>0.000016</td>\n",
       "    </tr>\n",
       "    <tr>\n",
       "      <th>iALS</th>\n",
       "      <td>0.001353</td>\n",
       "      <td>0.002255</td>\n",
       "      <td>0.997745</td>\n",
       "      <td>0.001904</td>\n",
       "    </tr>\n",
       "    <tr>\n",
       "      <th rowspan=\"4\" valign=\"top\">10</th>\n",
       "      <th>iALS</th>\n",
       "      <td>0.000967</td>\n",
       "      <td>0.003223</td>\n",
       "      <td>0.996777</td>\n",
       "      <td>0.002154</td>\n",
       "    </tr>\n",
       "    <tr>\n",
       "      <th>MP</th>\n",
       "      <td>0.000841</td>\n",
       "      <td>0.002804</td>\n",
       "      <td>0.997196</td>\n",
       "      <td>0.002052</td>\n",
       "    </tr>\n",
       "    <tr>\n",
       "      <th>RND</th>\n",
       "      <td>0.000011</td>\n",
       "      <td>0.000035</td>\n",
       "      <td>0.999965</td>\n",
       "      <td>0.000022</td>\n",
       "    </tr>\n",
       "    <tr>\n",
       "      <th>iALS</th>\n",
       "      <td>0.001272</td>\n",
       "      <td>0.004239</td>\n",
       "      <td>0.995761</td>\n",
       "      <td>0.002801</td>\n",
       "    </tr>\n",
       "    <tr>\n",
       "      <th rowspan=\"4\" valign=\"top\">20</th>\n",
       "      <th>iALS</th>\n",
       "      <td>0.000727</td>\n",
       "      <td>0.004847</td>\n",
       "      <td>0.995153</td>\n",
       "      <td>0.002727</td>\n",
       "    </tr>\n",
       "    <tr>\n",
       "      <th>MP</th>\n",
       "      <td>0.000909</td>\n",
       "      <td>0.006063</td>\n",
       "      <td>0.993937</td>\n",
       "      <td>0.003236</td>\n",
       "    </tr>\n",
       "    <tr>\n",
       "      <th>RND</th>\n",
       "      <td>0.000014</td>\n",
       "      <td>0.000091</td>\n",
       "      <td>0.999909</td>\n",
       "      <td>0.000041</td>\n",
       "    </tr>\n",
       "    <tr>\n",
       "      <th>iALS</th>\n",
       "      <td>0.001072</td>\n",
       "      <td>0.007146</td>\n",
       "      <td>0.992854</td>\n",
       "      <td>0.003832</td>\n",
       "    </tr>\n",
       "  </tbody>\n",
       "</table>\n",
       "</div>"
      ],
      "text/plain": [
       "type        relevance                       ranking\n",
       "metric      precision    recall miss_rate      nDCG\n",
       "top-n model                                        \n",
       "5     iALS   0.001109  0.001849  0.998151  0.001528\n",
       "      MP     0.001156  0.001927  0.998073  0.001675\n",
       "      RND    0.000014  0.000023  0.999977  0.000016\n",
       "      iALS   0.001353  0.002255  0.997745  0.001904\n",
       "10    iALS   0.000967  0.003223  0.996777  0.002154\n",
       "      MP     0.000841  0.002804  0.997196  0.002052\n",
       "      RND    0.000011  0.000035  0.999965  0.000022\n",
       "      iALS   0.001272  0.004239  0.995761  0.002801\n",
       "20    iALS   0.000727  0.004847  0.995153  0.002727\n",
       "      MP     0.000909  0.006063  0.993937  0.003236\n",
       "      RND    0.000014  0.000091  0.999909  0.000041\n",
       "      iALS   0.001072  0.007146  0.992854  0.003832"
      ]
     },
     "execution_count": 42,
     "metadata": {},
     "output_type": "execute_result"
    }
   ],
   "source": [
    "# calculate average values across all folds for e.g. relevance metrics\n",
    "scores = result.mean(axis=0, level=['top-n', 'model']) # use .std instead of .mean for standard deviation\n",
    "# scores.xs('recall', level='metric', axis=1).unstack('model')\n",
    "scores"
   ]
  },
  {
   "cell_type": "code",
   "execution_count": null,
   "metadata": {},
   "outputs": [],
   "source": [
    "show_relevance(result)"
   ]
  },
  {
   "cell_type": "code",
   "execution_count": null,
   "metadata": {},
   "outputs": [],
   "source": [
    "ml_data = get_movielens_data(get_genres=False)\n",
    "ml_data"
   ]
  },
  {
   "cell_type": "markdown",
   "metadata": {},
   "source": [
    "***\n",
    "### Variable sizes"
   ]
  },
  {
   "cell_type": "code",
   "execution_count": 32,
   "metadata": {},
   "outputs": [
    {
     "name": "stdout",
     "output_type": "stream",
     "text": [
      "                kiva_dataframe: 122.2MiB\n",
      "                             _:   4.3KiB\n",
      "                        result:   4.3KiB\n",
      "                           _20:   4.3KiB\n",
      "               RecommenderData:   2.0KiB\n",
      "                   ImplicitALS:   2.0KiB\n",
      "               PopularityModel:   1.4KiB\n",
      "                   RandomModel:   1.4KiB\n",
      "                    lil_matrix:   1.0KiB\n",
      "                      SVDModel:   1.0KiB\n"
     ]
    }
   ],
   "source": [
    "import sys\n",
    "def sizeof_fmt(num, suffix='B'):\n",
    "    ''' By Fred Cirera, after https://stackoverflow.com/a/1094933/1870254'''\n",
    "    for unit in ['','Ki','Mi','Gi','Ti','Pi','Ei','Zi']:\n",
    "        if abs(num) < 1024.0:\n",
    "            return \"%3.1f%s%s\" % (num, unit, suffix)\n",
    "        num /= 1024.0\n",
    "    return \"%.1f%s%s\" % (num, 'Yi', suffix)\n",
    "\n",
    "for name, size in sorted(((name, sys.getsizeof(value)) for name,value in locals().items()),\n",
    "                         key= lambda x: -x[1])[:10]:\n",
    "    print(\"{:>30}: {:>8}\".format(name,sizeof_fmt(size)))"
   ]
  },
  {
   "cell_type": "code",
   "execution_count": null,
   "metadata": {},
   "outputs": [],
   "source": []
  }
 ],
 "metadata": {
  "kernelspec": {
   "display_name": "Python 3",
   "language": "python",
   "name": "python3"
  },
  "language_info": {
   "codemirror_mode": {
    "name": "ipython",
    "version": 3
   },
   "file_extension": ".py",
   "mimetype": "text/x-python",
   "name": "python",
   "nbconvert_exporter": "python",
   "pygments_lexer": "ipython3",
   "version": "3.6.8"
  }
 },
 "nbformat": 4,
 "nbformat_minor": 2
}
