{
 "cells": [
  {
   "cell_type": "markdown",
   "metadata": {},
   "source": [
    "# Kiva collaborative filtering\n",
    "## Polara framework"
   ]
  },
  {
   "cell_type": "markdown",
   "metadata": {},
   "source": [
    "***\n",
    "### Imports"
   ]
  },
  {
   "cell_type": "code",
   "execution_count": 21,
   "metadata": {},
   "outputs": [],
   "source": [
    "# essentials\n",
    "import os\n",
    "import sys\n",
    "import csv\n",
    "import itertools\n",
    "import copy\n",
    "import pandas as pd\n",
    "import numpy as np\n",
    "from sklearn.metrics import roc_auc_score, precision_recall_curve, auc\n",
    "from scipy.sparse import csr_matrix, lil_matrix, coo_matrix\n",
    "\n",
    "# polara framework\n",
    "from polara.recommender.data import RecommenderData\n",
    "from polara.recommender.models import SVDModel, PopularityModel, RandomModel, CooccurrenceModel\n",
    "from polara.recommender.external.implicit.ialswrapper import ImplicitALS\n",
    "from polara.recommender.external.implicit.ibprwrapper import ImplicitBPR\n",
    "from polara.datasets.movielens import get_movielens_data\n",
    "from polara.evaluation import evaluation_engine as ee\n",
    "from polara.evaluation.plotting import show_hit_rates, show_precision_recall, show_ranking, show_relevance\n",
    "\n",
    "# utilities\n",
    "import codecs\n",
    "import logging\n",
    "import time\n",
    "import tqdm\n",
    "\n",
    "# visualization libraries\n",
    "import seaborn as sns\n",
    "import matplotlib.pyplot as plt\n",
    "\n",
    "# serialization\n",
    "import pickle"
   ]
  },
  {
   "cell_type": "code",
   "execution_count": 4,
   "metadata": {},
   "outputs": [],
   "source": [
    "pd.set_option('display.max_columns', 40)\n",
    "pd.set_option('display.max_rows', 300)"
   ]
  },
  {
   "cell_type": "code",
   "execution_count": 5,
   "metadata": {},
   "outputs": [
    {
     "name": "stdout",
     "output_type": "stream",
     "text": [
      "env: MKL_NUM_THREADS=1\n"
     ]
    }
   ],
   "source": [
    "%env MKL_NUM_THREADS=1\n",
    "logging.basicConfig(level=logging.DEBUG)"
   ]
  },
  {
   "cell_type": "code",
   "execution_count": 23,
   "metadata": {},
   "outputs": [],
   "source": [
    "def write_matrix_to_csv(matrix, filename):\n",
    "    if not isinstance(matrix, coo_matrix):\n",
    "        matrix = matrix.tocoo()\n",
    "    \n",
    "    with open(filename, 'w', encoding='utf-8') as f:\n",
    "        f.write(\"%s,%s,%s\\n\" % ('itemid', 'userid', 'feedback'))\n",
    "        for i,j,v in zip(matrix.row, matrix.col, matrix.data):\n",
    "            f.write(\"%s,%s,%s\\n\" % (i, j, v))"
   ]
  },
  {
   "cell_type": "markdown",
   "metadata": {},
   "source": [
    "***\n",
    "## Hyperparameter evaluation"
   ]
  },
  {
   "cell_type": "markdown",
   "metadata": {},
   "source": [
    "### Pickle loads"
   ]
  },
  {
   "cell_type": "code",
   "execution_count": null,
   "metadata": {},
   "outputs": [],
   "source": [
    "loans_table = pickle.load(open(\"pickle/loans_table.p\", \"rb\"))\n",
    "funded_loans_table = pickle.load(open(\"pickle/funded_loans_table.p\", \"rb\"))\n",
    "funded_loan_ids_set = pickle.load(open(\"pickle/funded_loan_ids_set.p\", \"rb\"))"
   ]
  },
  {
   "cell_type": "code",
   "execution_count": null,
   "metadata": {},
   "outputs": [],
   "source": [
    "utility_matrix = pickle.load(open(\"pickle/utility_matrix.p\", \"rb\"))"
   ]
  },
  {
   "cell_type": "code",
   "execution_count": 4,
   "metadata": {},
   "outputs": [],
   "source": [
    "utility_matrix_df = pickle.load(open(\"pickle/utility_matrix_df.p\", \"rb\"))"
   ]
  },
  {
   "cell_type": "code",
   "execution_count": null,
   "metadata": {},
   "outputs": [],
   "source": [
    "utility_matrix_df.head()"
   ]
  },
  {
   "cell_type": "markdown",
   "metadata": {},
   "source": [
    "***\n",
    "### Dataset reading"
   ]
  },
  {
   "cell_type": "code",
   "execution_count": 4,
   "metadata": {},
   "outputs": [],
   "source": [
    "loans_table = pd.read_csv('additional-kiva-snapshot/loans.csv')\n",
    "loans_table = loans_table.sort_values(by='raised_time')"
   ]
  },
  {
   "cell_type": "code",
   "execution_count": 5,
   "metadata": {},
   "outputs": [],
   "source": [
    "funded_loans_table = loans_table[loans_table.status == 'funded']"
   ]
  },
  {
   "cell_type": "code",
   "execution_count": 6,
   "metadata": {},
   "outputs": [],
   "source": [
    "START_DATE = '2013-10-01'\n",
    "END_DATE = '2015-05-01'\n",
    "\n",
    "mask = (funded_loans_table['raised_time'] > START_DATE) & (funded_loans_table['raised_time'] <= END_DATE)\n",
    "funded_loans_table = funded_loans_table.loc[mask]\n",
    "del mask\n",
    "\n",
    "funded_loan_ids_set = set(funded_loans_table['loan_id'])"
   ]
  },
  {
   "cell_type": "code",
   "execution_count": null,
   "metadata": {},
   "outputs": [],
   "source": [
    "# pickle.dump(loans_table, open(\"pickle/loans_table.p\", \"wb\"))\n",
    "# pickle.dump(funded_loans_table, open(\"pickle/funded_loans_table.p\", \"wb\"))\n",
    "# pickle.dump(funded_loan_ids_set, open(\"pickle/funded_loan_ids_set.p\", \"wb\"))"
   ]
  },
  {
   "cell_type": "code",
   "execution_count": 7,
   "metadata": {},
   "outputs": [],
   "source": [
    "# free ram\n",
    "del loans_table\n",
    "del funded_loans_table"
   ]
  },
  {
   "cell_type": "code",
   "execution_count": 8,
   "metadata": {},
   "outputs": [
    {
     "name": "stdout",
     "output_type": "stream",
     "text": [
      "Loans-lenders dict filled\n"
     ]
    }
   ],
   "source": [
    "loans = set()\n",
    "lenders = set()\n",
    "loans_lenders_dict = {}\n",
    "\n",
    "with open('additional-kiva-snapshot/loans_lenders.csv', newline='', encoding=\"utf8\") as csvfile:\n",
    "    csv_reader = csv.reader(csvfile)\n",
    "    line_num = 0\n",
    "    for row in csv_reader:\n",
    "        if line_num == 0:\n",
    "            line_num += 1\n",
    "            continue\n",
    "        loan_id, lender_ids = row\n",
    "        loan_id = int(loan_id)\n",
    "        if loan_id not in funded_loan_ids_set:\n",
    "            continue\n",
    "        \n",
    "        loans.add(loan_id)\n",
    "        new_lenders = set(lender_ids.split(\", \"))\n",
    "        loans_lenders_dict[loan_id] = new_lenders\n",
    "        lenders.update(new_lenders)\n",
    "        line_num += 1\n",
    "\n",
    "loans = list(loans)\n",
    "lenders = list(lenders)\n",
    "\n",
    "print('Loans-lenders dict filled')"
   ]
  },
  {
   "cell_type": "markdown",
   "metadata": {},
   "source": [
    "***\n",
    "### Utility matrix creation"
   ]
  },
  {
   "cell_type": "code",
   "execution_count": 9,
   "metadata": {},
   "outputs": [],
   "source": [
    "lenders_reverse_index = {k: v for v, k in enumerate(lenders)}\n",
    "utility_matrix = lil_matrix((len(loans), len(lenders)), dtype=np.float64)"
   ]
  },
  {
   "cell_type": "code",
   "execution_count": 10,
   "metadata": {},
   "outputs": [
    {
     "name": "stdout",
     "output_type": "stream",
     "text": [
      "Filled utility matrix\n"
     ]
    }
   ],
   "source": [
    "for loan_index, loan in enumerate(loans):\n",
    "    for lender in loans_lenders_dict[loan]:\n",
    "        lender_index = lenders_reverse_index[lender]\n",
    "        utility_matrix[loan_index, lender_index] = 1.0\n",
    "\n",
    "print('Filled utility matrix')"
   ]
  },
  {
   "cell_type": "code",
   "execution_count": 11,
   "metadata": {},
   "outputs": [],
   "source": [
    "utility_matrix = utility_matrix.tocsr()"
   ]
  },
  {
   "cell_type": "code",
   "execution_count": null,
   "metadata": {},
   "outputs": [],
   "source": [
    "# pickle.dump(utility_matrix, open(\"pickle/utility_matrix.p\", \"wb\"))"
   ]
  },
  {
   "cell_type": "code",
   "execution_count": 18,
   "metadata": {},
   "outputs": [
    {
     "name": "stdout",
     "output_type": "stream",
     "text": [
      "5339455\n",
      "lenders:  648650\n",
      "loans:  250888\n"
     ]
    }
   ],
   "source": [
    "print(utility_matrix.nnz)\n",
    "print('lenders: ', len(lenders))\n",
    "print('loans: ', len(loans))"
   ]
  },
  {
   "cell_type": "code",
   "execution_count": null,
   "metadata": {},
   "outputs": [],
   "source": [
    "write_matrix_to_csv(utility_matrix, \"kiva_dataframe.csv\")"
   ]
  },
  {
   "cell_type": "code",
   "execution_count": 19,
   "metadata": {},
   "outputs": [
    {
     "name": "stdout",
     "output_type": "stream",
     "text": [
      "Sparsitiy: 99.996719 %\n"
     ]
    }
   ],
   "source": [
    "matrix_size = utility_matrix.shape[0]*utility_matrix.shape[1] # Number of possible interactions in the matrix\n",
    "num_interactions = utility_matrix.nnz # Number of items interacted with\n",
    "sparsity = 100*(1 - (num_interactions/matrix_size))\n",
    "print('Sparsitiy: %f %%' % sparsity)"
   ]
  },
  {
   "cell_type": "code",
   "execution_count": 17,
   "metadata": {},
   "outputs": [
    {
     "name": "stdout",
     "output_type": "stream",
     "text": [
      "  (0, 6640)\t1.0\n",
      "  (0, 10202)\t1.0\n",
      "  (0, 28107)\t1.0\n",
      "  (0, 28187)\t1.0\n",
      "  (0, 35318)\t1.0\n",
      "  (0, 40001)\t1.0\n",
      "  (0, 50325)\t1.0\n",
      "  (0, 57890)\t1.0\n",
      "  (0, 64050)\t1.0\n",
      "  (0, 68006)\t1.0\n",
      "  (0, 69985)\t1.0\n",
      "  (0, 74717)\t1.0\n",
      "  (0, 75169)\t1.0\n",
      "  (0, 75666)\t1.0\n",
      "  (0, 80041)\t1.0\n",
      "  (0, 82347)\t1.0\n",
      "  (0, 83544)\t1.0\n",
      "  (0, 85627)\t1.0\n",
      "  (0, 99992)\t1.0\n",
      "  (0, 100921)\t1.0\n",
      "  (0, 104778)\t1.0\n",
      "  (0, 112377)\t1.0\n",
      "  (0, 113820)\t1.0\n",
      "  (0, 116622)\t1.0\n",
      "  (0, 132796)\t1.0\n",
      "  :\t:\n",
      "  (250887, 528884)\t1.0\n",
      "  (250887, 530003)\t1.0\n",
      "  (250887, 537902)\t1.0\n",
      "  (250887, 539431)\t1.0\n",
      "  (250887, 539635)\t1.0\n",
      "  (250887, 547342)\t1.0\n",
      "  (250887, 553134)\t1.0\n",
      "  (250887, 557078)\t1.0\n",
      "  (250887, 575728)\t1.0\n",
      "  (250887, 578309)\t1.0\n",
      "  (250887, 579099)\t1.0\n",
      "  (250887, 591684)\t1.0\n",
      "  (250887, 593250)\t1.0\n",
      "  (250887, 594308)\t1.0\n",
      "  (250887, 595907)\t1.0\n",
      "  (250887, 599768)\t1.0\n",
      "  (250887, 603712)\t1.0\n",
      "  (250887, 608322)\t1.0\n",
      "  (250887, 612239)\t1.0\n",
      "  (250887, 613717)\t1.0\n",
      "  (250887, 619613)\t1.0\n",
      "  (250887, 634168)\t1.0\n",
      "  (250887, 638143)\t1.0\n",
      "  (250887, 643444)\t1.0\n",
      "  (250887, 647108)\t1.0\n"
     ]
    }
   ],
   "source": [
    "print(utility_matrix)"
   ]
  },
  {
   "cell_type": "markdown",
   "metadata": {},
   "source": [
    "#### Conversion to SparseDataFrame"
   ]
  },
  {
   "cell_type": "code",
   "execution_count": null,
   "metadata": {},
   "outputs": [],
   "source": [
    "# utility_matrix_df = pd.SparseDataFrame(utility_matrix)"
   ]
  },
  {
   "cell_type": "code",
   "execution_count": null,
   "metadata": {},
   "outputs": [],
   "source": [
    "# pickle.dump(utility_matrix_df, open(\"pickle/utility_matrix_df.p\", \"wb\"))"
   ]
  },
  {
   "cell_type": "markdown",
   "metadata": {},
   "source": [
    "#### Load Kiva dataframe"
   ]
  },
  {
   "cell_type": "code",
   "execution_count": 4,
   "metadata": {},
   "outputs": [],
   "source": [
    "kiva_dataframe = pd.read_csv('kiva_dataframe.csv', engine='c')"
   ]
  },
  {
   "cell_type": "code",
   "execution_count": 5,
   "metadata": {},
   "outputs": [
    {
     "data": {
      "text/plain": [
       "(5339455, 3)"
      ]
     },
     "execution_count": 5,
     "metadata": {},
     "output_type": "execute_result"
    }
   ],
   "source": [
    "kiva_dataframe.shape"
   ]
  },
  {
   "cell_type": "code",
   "execution_count": 6,
   "metadata": {},
   "outputs": [
    {
     "data": {
      "text/html": [
       "<div>\n",
       "<style scoped>\n",
       "    .dataframe tbody tr th:only-of-type {\n",
       "        vertical-align: middle;\n",
       "    }\n",
       "\n",
       "    .dataframe tbody tr th {\n",
       "        vertical-align: top;\n",
       "    }\n",
       "\n",
       "    .dataframe thead th {\n",
       "        text-align: right;\n",
       "    }\n",
       "</style>\n",
       "<table border=\"1\" class=\"dataframe\">\n",
       "  <thead>\n",
       "    <tr style=\"text-align: right;\">\n",
       "      <th></th>\n",
       "      <th>itemid</th>\n",
       "      <th>userid</th>\n",
       "      <th>feedback</th>\n",
       "    </tr>\n",
       "  </thead>\n",
       "  <tbody>\n",
       "    <tr>\n",
       "      <th>0</th>\n",
       "      <td>0</td>\n",
       "      <td>7703</td>\n",
       "      <td>1.0</td>\n",
       "    </tr>\n",
       "    <tr>\n",
       "      <th>1</th>\n",
       "      <td>0</td>\n",
       "      <td>8354</td>\n",
       "      <td>1.0</td>\n",
       "    </tr>\n",
       "    <tr>\n",
       "      <th>2</th>\n",
       "      <td>0</td>\n",
       "      <td>9000</td>\n",
       "      <td>1.0</td>\n",
       "    </tr>\n",
       "    <tr>\n",
       "      <th>3</th>\n",
       "      <td>0</td>\n",
       "      <td>10247</td>\n",
       "      <td>1.0</td>\n",
       "    </tr>\n",
       "    <tr>\n",
       "      <th>4</th>\n",
       "      <td>0</td>\n",
       "      <td>21284</td>\n",
       "      <td>1.0</td>\n",
       "    </tr>\n",
       "  </tbody>\n",
       "</table>\n",
       "</div>"
      ],
      "text/plain": [
       "   itemid  userid  feedback\n",
       "0       0    7703       1.0\n",
       "1       0    8354       1.0\n",
       "2       0    9000       1.0\n",
       "3       0   10247       1.0\n",
       "4       0   21284       1.0"
      ]
     },
     "execution_count": 6,
     "metadata": {},
     "output_type": "execute_result"
    }
   ],
   "source": [
    "kiva_dataframe.head()"
   ]
  },
  {
   "cell_type": "markdown",
   "metadata": {},
   "source": [
    "***\n",
    "### Polara example"
   ]
  },
  {
   "cell_type": "code",
   "execution_count": null,
   "metadata": {},
   "outputs": [],
   "source": [
    "# define models\n",
    "ml_data = get_movielens_data(get_genres=False)\n",
    "data_model = RecommenderData(ml_data, 'userid', 'movieid', 'rating')\n",
    "\n",
    "# data_model = RecommenderData(kiva_dataframe, 'userid', 'itemid', 'feedback')\n",
    "\n",
    "svd = SVDModel(data_model)\n",
    "popular = PopularityModel(data_model)\n",
    "random = RandomModel(data_model)\n",
    "models = [svd, popular, random]\n",
    "\n",
    "metrics = ['ranking', 'relevance'] # metrics for evaluation: NDGC, Precision, Recall, etc.\n",
    "folds = [1, 2, 3, 4, 5] # use all 5 folds for cross-validation (default)\n",
    "topk_values = [1, 5, 10, 20, 50] # values of k to experiment with\n",
    "\n",
    "# run 5-fold CV experiment\n",
    "result = ee.run_cv_experiment(models, folds, metrics,\n",
    "                              fold_experiment=ee.topk_test,\n",
    "                              topk_list=topk_values)"
   ]
  },
  {
   "cell_type": "code",
   "execution_count": null,
   "metadata": {},
   "outputs": [],
   "source": [
    "# calculate average values across all folds for e.g. relevance metrics\n",
    "scores = result.mean(axis=0, level=['top-n', 'model']) # use .std instead of .mean for standard deviation\n",
    "# scores.xs('nDCG', level='metric', axis=1).unstack('model')"
   ]
  },
  {
   "cell_type": "code",
   "execution_count": null,
   "metadata": {},
   "outputs": [],
   "source": [
    "scores"
   ]
  },
  {
   "cell_type": "markdown",
   "metadata": {},
   "source": [
    "***\n",
    "### Cross-validation"
   ]
  },
  {
   "cell_type": "code",
   "execution_count": 7,
   "metadata": {},
   "outputs": [
    {
     "name": "stdout",
     "output_type": "stream",
     "text": [
      "Preparing data...\n",
      "207 unique itemid's within 228 holdout interactions were filtered. Reason: not in the training data.\n",
      "85452 unique userid's within 136096 holdout interactions were filtered. Reason: not in the training data.\n",
      "114 of 44225 userid's were filtered out from holdout. Reason: incompatible number of items.\n",
      "Done.\n",
      "There are 5070574 events in the training and 132333 events in the holdout.\n"
     ]
    },
    {
     "name": "stderr",
     "output_type": "stream",
     "text": [
      "DEBUG:root:Prepared data in 152.57s\n"
     ]
    }
   ],
   "source": [
    "data_model = RecommenderData(kiva_dataframe, 'userid', 'itemid', 'feedback', seed=0)\n",
    "data_model.warm_start = False\n",
    "\n",
    "start = time.time()\n",
    "data_model.prepare()\n",
    "logging.debug(\"Prepared data in %0.2fs\", time.time() - start)"
   ]
  },
  {
   "cell_type": "code",
   "execution_count": 8,
   "metadata": {},
   "outputs": [],
   "source": [
    "random = RandomModel(data_model)\n",
    "popular = PopularityModel(data_model)\n",
    "svd = SVDModel(data_model)\n",
    "\n",
    "# bpr = ImplicitBPR(data_model)\n",
    "# bpr.rank = 200\n",
    "# bpr.num_epochs = 100\n",
    "# bpr.use_gpu = False"
   ]
  },
  {
   "cell_type": "markdown",
   "metadata": {},
   "source": [
    "Generate a list of ALS models by parameter grid:"
   ]
  },
  {
   "cell_type": "code",
   "execution_count": 9,
   "metadata": {},
   "outputs": [],
   "source": [
    "def get_base_model(model_name):\n",
    "    if (model_name == 'bpr'):\n",
    "        model = ImplicitBPR(data_model)\n",
    "    else:\n",
    "        model = ImplicitALS(data_model)\n",
    "        model.epsilon = 1e-8\n",
    "        model.weight_func = np.log2\n",
    "    \n",
    "    model.use_gpu = False\n",
    "    return model\n",
    "\n",
    "def get_grid_models(cv_param_grid, model_name):\n",
    "    models = []\n",
    "    keys, values = zip(*cv_param_grid.items())\n",
    "    for v in itertools.product(*values):\n",
    "        params = dict(zip(keys, v))\n",
    "        next_model = get_base_model(model_name)\n",
    "        name = next_model.method\n",
    "        for k, v in params.items():\n",
    "            setattr(next_model, k, v)\n",
    "            name += '_%s-%s' % (k, v)\n",
    "        \n",
    "        next_model.method = name\n",
    "        models.append(next_model)\n",
    "    return models"
   ]
  },
  {
   "cell_type": "markdown",
   "metadata": {},
   "source": [
    "Cross-validation setup:"
   ]
  },
  {
   "cell_type": "code",
   "execution_count": 17,
   "metadata": {},
   "outputs": [],
   "source": [
    "cv_param_grid = {\n",
    "    'rank': [100],\n",
    "    'regularization': [0.01],\n",
    "    'num_epochs': [60],\n",
    "    'alpha': [100]\n",
    "}"
   ]
  },
  {
   "cell_type": "code",
   "execution_count": 18,
   "metadata": {},
   "outputs": [],
   "source": [
    "basic_models = [random, popular, svd]\n",
    "\n",
    "als_models = get_grid_models(cv_param_grid, 'als')\n",
    "models = basic_models + als_models\n",
    "\n",
    "# bpr_models = get_grid_models(cv_param_grid, 'bpr')\n",
    "# models = basic_models + bpr_models\n",
    "\n",
    "metrics = ['ranking', 'relevance'] # metrics for evaluation: NDGC, Precision, Recall, etc.\n",
    "folds = [1, 2, 3]\n",
    "topk_values = [5, 10, 20] # values of k to experiment with"
   ]
  },
  {
   "cell_type": "code",
   "execution_count": 19,
   "metadata": {},
   "outputs": [
    {
     "name": "stdout",
     "output_type": "stream",
     "text": [
      "Preparing data...\n",
      "211 unique itemid's within 234 holdout interactions were filtered. Reason: not in the training data.\n",
      "85443 unique userid's within 136172 holdout interactions were filtered. Reason: not in the training data.\n",
      "100 of 44237 userid's were filtered out from holdout. Reason: incompatible number of items.\n",
      "Done.\n",
      "There are 5070446 events in the training and 132411 events in the holdout.\n",
      "PureSVD training time: 3.694s\n"
     ]
    },
    {
     "name": "stderr",
     "output_type": "stream",
     "text": [
      "DEBUG:implicit:Converting input to CSR format\n",
      "DEBUG:implicit:Converted input to CSR in 0.203s\n",
      "DEBUG:implicit:Calculated transpose in 0.156s\n",
      "DEBUG:implicit:Initialized factors in 1.345975637435913\n",
      "DEBUG:implicit:Running 60 ALS iterations\n",
      "100%|████████████████████████████████████████████████████████████████████████████████| 60.0/60 [02:51<00:00,  2.77s/it]\n"
     ]
    },
    {
     "name": "stdout",
     "output_type": "stream",
     "text": [
      "iALS_rank-100_regularization-0.01_num_epochs-60_alpha-100 training time: 02m:53s\n",
      "Evaluated model RND in 282.35s\n",
      "Evaluated model MP in 122.57s\n"
     ]
    },
    {
     "ename": "KeyboardInterrupt",
     "evalue": "",
     "output_type": "error",
     "traceback": [
      "\u001b[1;31m---------------------------------------------------------------------------\u001b[0m",
      "\u001b[1;31mKeyboardInterrupt\u001b[0m                         Traceback (most recent call last)",
      "\u001b[1;32m<ipython-input-19-7a6349ae2d67>\u001b[0m in \u001b[0;36m<module>\u001b[1;34m\u001b[0m\n\u001b[0;32m      4\u001b[0m result = ee.run_cv_experiment(models, folds, metrics,\n\u001b[0;32m      5\u001b[0m                               \u001b[0mfold_experiment\u001b[0m\u001b[1;33m=\u001b[0m\u001b[0mee\u001b[0m\u001b[1;33m.\u001b[0m\u001b[0mtopk_test\u001b[0m\u001b[1;33m,\u001b[0m\u001b[1;33m\u001b[0m\u001b[1;33m\u001b[0m\u001b[0m\n\u001b[1;32m----> 6\u001b[1;33m                               topk_list=topk_values)\n\u001b[0m\u001b[0;32m      7\u001b[0m \u001b[1;33m\u001b[0m\u001b[0m\n\u001b[0;32m      8\u001b[0m \u001b[1;33m\u001b[0m\u001b[0m\n",
      "\u001b[1;32m~\\Anaconda3\\lib\\site-packages\\polara-0.6.4-py3.6.egg\\polara\\evaluation\\evaluation_engine.py\u001b[0m in \u001b[0;36mrun_cv_experiment\u001b[1;34m(models, folds, metrics, fold_experiment, force_build, iterator, **kwargs)\u001b[0m\n\u001b[0;32m    135\u001b[0m         \u001b[0mdata\u001b[0m\u001b[1;33m.\u001b[0m\u001b[0mupdate\u001b[0m\u001b[1;33m(\u001b[0m\u001b[1;33m)\u001b[0m\u001b[1;33m\u001b[0m\u001b[1;33m\u001b[0m\u001b[0m\n\u001b[0;32m    136\u001b[0m         \u001b[0mbuild_models\u001b[0m\u001b[1;33m(\u001b[0m\u001b[0mmodels\u001b[0m\u001b[1;33m,\u001b[0m \u001b[0mforce_build\u001b[0m\u001b[1;33m)\u001b[0m\u001b[1;33m\u001b[0m\u001b[1;33m\u001b[0m\u001b[0m\n\u001b[1;32m--> 137\u001b[1;33m         \u001b[0mfold_result\u001b[0m \u001b[1;33m=\u001b[0m \u001b[0mfold_experiment\u001b[0m\u001b[1;33m(\u001b[0m\u001b[0mmodels\u001b[0m\u001b[1;33m,\u001b[0m \u001b[0mmetrics\u001b[0m\u001b[1;33m=\u001b[0m\u001b[0mmetrics\u001b[0m\u001b[1;33m,\u001b[0m \u001b[1;33m**\u001b[0m\u001b[0mkwargs\u001b[0m\u001b[1;33m)\u001b[0m\u001b[1;33m\u001b[0m\u001b[1;33m\u001b[0m\u001b[0m\n\u001b[0m\u001b[0;32m    138\u001b[0m         \u001b[0mfold_results\u001b[0m\u001b[1;33m.\u001b[0m\u001b[0mappend\u001b[0m\u001b[1;33m(\u001b[0m\u001b[0mfold_result\u001b[0m\u001b[1;33m)\u001b[0m\u001b[1;33m\u001b[0m\u001b[1;33m\u001b[0m\u001b[0m\n\u001b[0;32m    139\u001b[0m     \u001b[1;32mreturn\u001b[0m \u001b[0mconsolidate\u001b[0m\u001b[1;33m(\u001b[0m\u001b[0mfold_results\u001b[0m\u001b[1;33m,\u001b[0m \u001b[0mlevel_name\u001b[0m\u001b[1;33m=\u001b[0m\u001b[1;34m'fold'\u001b[0m\u001b[1;33m,\u001b[0m \u001b[0mlevel_keys\u001b[0m\u001b[1;33m=\u001b[0m\u001b[0mfolds\u001b[0m\u001b[1;33m)\u001b[0m\u001b[1;33m\u001b[0m\u001b[1;33m\u001b[0m\u001b[0m\n",
      "\u001b[1;32m~\\Anaconda3\\lib\\site-packages\\polara-0.6.4-py3.6.egg\\polara\\evaluation\\evaluation_engine.py\u001b[0m in \u001b[0;36mtopk_test\u001b[1;34m(models, **kwargs)\u001b[0m\n\u001b[0;32m    111\u001b[0m     \u001b[1;32mfor\u001b[0m \u001b[0mtopk\u001b[0m \u001b[1;32min\u001b[0m \u001b[0mtopk_list_sorted\u001b[0m\u001b[1;33m:\u001b[0m\u001b[1;33m\u001b[0m\u001b[1;33m\u001b[0m\u001b[0m\n\u001b[0;32m    112\u001b[0m         \u001b[0mkwargs\u001b[0m\u001b[1;33m[\u001b[0m\u001b[1;34m'topk'\u001b[0m\u001b[1;33m]\u001b[0m \u001b[1;33m=\u001b[0m \u001b[0mtopk\u001b[0m\u001b[1;33m\u001b[0m\u001b[1;33m\u001b[0m\u001b[0m\n\u001b[1;32m--> 113\u001b[1;33m         \u001b[0mmetric_scores\u001b[0m \u001b[1;33m=\u001b[0m \u001b[0mevaluate_models\u001b[0m\u001b[1;33m(\u001b[0m\u001b[0mmodels\u001b[0m\u001b[1;33m,\u001b[0m \u001b[0mmetrics\u001b[0m\u001b[1;33m,\u001b[0m \u001b[1;33m**\u001b[0m\u001b[0mkwargs\u001b[0m\u001b[1;33m)\u001b[0m\u001b[1;33m\u001b[0m\u001b[1;33m\u001b[0m\u001b[0m\n\u001b[0m\u001b[0;32m    114\u001b[0m         \u001b[0mtopk_scores\u001b[0m\u001b[1;33m.\u001b[0m\u001b[0mappend\u001b[0m\u001b[1;33m(\u001b[0m\u001b[0mmetric_scores\u001b[0m\u001b[1;33m)\u001b[0m\u001b[1;33m\u001b[0m\u001b[1;33m\u001b[0m\u001b[0m\n\u001b[0;32m    115\u001b[0m \u001b[1;33m\u001b[0m\u001b[0m\n",
      "\u001b[1;32m~\\Anaconda3\\lib\\site-packages\\polara-0.6.4-py3.6.egg\\polara\\evaluation\\evaluation_engine.py\u001b[0m in \u001b[0;36mevaluate_models\u001b[1;34m(models, metrics, **kwargs)\u001b[0m\n\u001b[0;32m     55\u001b[0m     \u001b[1;32mfor\u001b[0m \u001b[0mmodel\u001b[0m \u001b[1;32min\u001b[0m \u001b[0mmodels\u001b[0m\u001b[1;33m:\u001b[0m\u001b[1;33m\u001b[0m\u001b[1;33m\u001b[0m\u001b[0m\n\u001b[0;32m     56\u001b[0m         \u001b[0mstart\u001b[0m \u001b[1;33m=\u001b[0m \u001b[0mtime\u001b[0m\u001b[1;33m.\u001b[0m\u001b[0mtime\u001b[0m\u001b[1;33m(\u001b[0m\u001b[1;33m)\u001b[0m\u001b[1;33m\u001b[0m\u001b[1;33m\u001b[0m\u001b[0m\n\u001b[1;32m---> 57\u001b[1;33m         \u001b[0mmodel_scores\u001b[0m \u001b[1;33m=\u001b[0m \u001b[0mmodel\u001b[0m\u001b[1;33m.\u001b[0m\u001b[0mevaluate\u001b[0m\u001b[1;33m(\u001b[0m\u001b[0mmetric_type\u001b[0m\u001b[1;33m=\u001b[0m\u001b[0mmetrics\u001b[0m\u001b[1;33m,\u001b[0m \u001b[1;33m**\u001b[0m\u001b[0mkwargs\u001b[0m\u001b[1;33m)\u001b[0m\u001b[1;33m\u001b[0m\u001b[1;33m\u001b[0m\u001b[0m\n\u001b[0m\u001b[0;32m     58\u001b[0m         \u001b[1;31m# ensure correct format\u001b[0m\u001b[1;33m\u001b[0m\u001b[1;33m\u001b[0m\u001b[1;33m\u001b[0m\u001b[0m\n\u001b[0;32m     59\u001b[0m         \u001b[0mmodel_scores\u001b[0m \u001b[1;33m=\u001b[0m \u001b[0mmodel_scores\u001b[0m \u001b[1;32mif\u001b[0m \u001b[0misinstance\u001b[0m\u001b[1;33m(\u001b[0m\u001b[0mmodel_scores\u001b[0m\u001b[1;33m,\u001b[0m \u001b[0mlist\u001b[0m\u001b[1;33m)\u001b[0m \u001b[1;32melse\u001b[0m \u001b[1;33m[\u001b[0m\u001b[0mmodel_scores\u001b[0m\u001b[1;33m]\u001b[0m\u001b[1;33m\u001b[0m\u001b[1;33m\u001b[0m\u001b[0m\n",
      "\u001b[1;32m~\\Anaconda3\\lib\\site-packages\\polara-0.6.4-py3.6.egg\\polara\\recommender\\models.py\u001b[0m in \u001b[0;36mevaluate\u001b[1;34m(self, metric_type, topk, not_rated_penalty, switch_positive, ignore_feedback, simple_rates, on_feedback_level)\u001b[0m\n\u001b[0;32m    423\u001b[0m         \u001b[1;31m# this will ensure that model is renewed if data has changed\u001b[0m\u001b[1;33m\u001b[0m\u001b[1;33m\u001b[0m\u001b[1;33m\u001b[0m\u001b[0m\n\u001b[0;32m    424\u001b[0m         \u001b[0mholdout\u001b[0m \u001b[1;33m=\u001b[0m \u001b[0mself\u001b[0m\u001b[1;33m.\u001b[0m\u001b[0mdata\u001b[0m\u001b[1;33m.\u001b[0m\u001b[0mtest\u001b[0m\u001b[1;33m.\u001b[0m\u001b[0mholdout\u001b[0m \u001b[1;31m# <-- call before getting recs\u001b[0m\u001b[1;33m\u001b[0m\u001b[1;33m\u001b[0m\u001b[0m\n\u001b[1;32m--> 425\u001b[1;33m         \u001b[0mrecommendations\u001b[0m \u001b[1;33m=\u001b[0m \u001b[0mself\u001b[0m\u001b[1;33m.\u001b[0m\u001b[0mrecommendations\u001b[0m\u001b[1;33m[\u001b[0m\u001b[1;33m:\u001b[0m\u001b[1;33m,\u001b[0m \u001b[1;33m:\u001b[0m\u001b[0mtopk\u001b[0m\u001b[1;33m]\u001b[0m  \u001b[1;31m# will recalculate if empty\u001b[0m\u001b[1;33m\u001b[0m\u001b[1;33m\u001b[0m\u001b[0m\n\u001b[0m\u001b[0;32m    426\u001b[0m \u001b[1;33m\u001b[0m\u001b[0m\n\u001b[0;32m    427\u001b[0m         \u001b[0mswitch_positive\u001b[0m \u001b[1;33m=\u001b[0m \u001b[0mswitch_positive\u001b[0m \u001b[1;32mor\u001b[0m \u001b[0mself\u001b[0m\u001b[1;33m.\u001b[0m\u001b[0mswitch_positive\u001b[0m\u001b[1;33m\u001b[0m\u001b[1;33m\u001b[0m\u001b[0m\n",
      "\u001b[1;32m~\\Anaconda3\\lib\\site-packages\\polara-0.6.4-py3.6.egg\\polara\\recommender\\models.py\u001b[0m in \u001b[0;36mrecommendations\u001b[1;34m(self)\u001b[0m\n\u001b[0;32m    101\u001b[0m                     \u001b[0mprint\u001b[0m\u001b[1;33m(\u001b[0m\u001b[1;34m'{} model is not ready. Rebuilding.'\u001b[0m\u001b[1;33m.\u001b[0m\u001b[0mformat\u001b[0m\u001b[1;33m(\u001b[0m\u001b[0mself\u001b[0m\u001b[1;33m.\u001b[0m\u001b[0mmethod\u001b[0m\u001b[1;33m)\u001b[0m\u001b[1;33m)\u001b[0m\u001b[1;33m\u001b[0m\u001b[1;33m\u001b[0m\u001b[0m\n\u001b[0;32m    102\u001b[0m                 \u001b[0mself\u001b[0m\u001b[1;33m.\u001b[0m\u001b[0mbuild\u001b[0m\u001b[1;33m(\u001b[0m\u001b[1;33m)\u001b[0m\u001b[1;33m\u001b[0m\u001b[1;33m\u001b[0m\u001b[0m\n\u001b[1;32m--> 103\u001b[1;33m             \u001b[0mself\u001b[0m\u001b[1;33m.\u001b[0m\u001b[0m_recommendations\u001b[0m \u001b[1;33m=\u001b[0m \u001b[0mself\u001b[0m\u001b[1;33m.\u001b[0m\u001b[0mget_recommendations\u001b[0m\u001b[1;33m(\u001b[0m\u001b[1;33m)\u001b[0m\u001b[1;33m\u001b[0m\u001b[1;33m\u001b[0m\u001b[0m\n\u001b[0m\u001b[0;32m    104\u001b[0m         \u001b[1;32mreturn\u001b[0m \u001b[0mself\u001b[0m\u001b[1;33m.\u001b[0m\u001b[0m_recommendations\u001b[0m\u001b[1;33m\u001b[0m\u001b[1;33m\u001b[0m\u001b[0m\n\u001b[0;32m    105\u001b[0m \u001b[1;33m\u001b[0m\u001b[0m\n",
      "\u001b[1;32m~\\Anaconda3\\lib\\site-packages\\polara-0.6.4-py3.6.egg\\polara\\recommender\\models.py\u001b[0m in \u001b[0;36mget_recommendations\u001b[1;34m(self)\u001b[0m\n\u001b[0;32m    399\u001b[0m             \u001b[0mself\u001b[0m\u001b[1;33m.\u001b[0m\u001b[0mrun_parallel_recommender\u001b[0m\u001b[1;33m(\u001b[0m\u001b[0mtop_recs\u001b[0m\u001b[1;33m,\u001b[0m \u001b[0muser_slices\u001b[0m\u001b[1;33m,\u001b[0m \u001b[1;33m*\u001b[0m\u001b[0mtest_data\u001b[0m\u001b[1;33m)\u001b[0m\u001b[1;33m\u001b[0m\u001b[1;33m\u001b[0m\u001b[0m\n\u001b[0;32m    400\u001b[0m         \u001b[1;32melse\u001b[0m\u001b[1;33m:\u001b[0m\u001b[1;33m\u001b[0m\u001b[1;33m\u001b[0m\u001b[0m\n\u001b[1;32m--> 401\u001b[1;33m             \u001b[0mself\u001b[0m\u001b[1;33m.\u001b[0m\u001b[0mrun_sequential_recommender\u001b[0m\u001b[1;33m(\u001b[0m\u001b[0mtop_recs\u001b[0m\u001b[1;33m,\u001b[0m \u001b[0muser_slices\u001b[0m\u001b[1;33m,\u001b[0m \u001b[1;33m*\u001b[0m\u001b[0mtest_data\u001b[0m\u001b[1;33m)\u001b[0m\u001b[1;33m\u001b[0m\u001b[1;33m\u001b[0m\u001b[0m\n\u001b[0m\u001b[0;32m    402\u001b[0m         \u001b[1;32mreturn\u001b[0m \u001b[0mtop_recs\u001b[0m\u001b[1;33m\u001b[0m\u001b[1;33m\u001b[0m\u001b[0m\n\u001b[0;32m    403\u001b[0m \u001b[1;33m\u001b[0m\u001b[0m\n",
      "\u001b[1;32m~\\Anaconda3\\lib\\site-packages\\polara-0.6.4-py3.6.egg\\polara\\recommender\\models.py\u001b[0m in \u001b[0;36mrun_sequential_recommender\u001b[1;34m(self, result, user_slices, *args)\u001b[0m\n\u001b[0;32m    383\u001b[0m         \u001b[1;32mfor\u001b[0m \u001b[0muser_slice\u001b[0m \u001b[1;32min\u001b[0m \u001b[0muser_slices\u001b[0m\u001b[1;33m:\u001b[0m\u001b[1;33m\u001b[0m\u001b[1;33m\u001b[0m\u001b[0m\n\u001b[0;32m    384\u001b[0m             \u001b[0mstart\u001b[0m\u001b[1;33m,\u001b[0m \u001b[0mstop\u001b[0m \u001b[1;33m=\u001b[0m \u001b[0muser_slice\u001b[0m\u001b[1;33m\u001b[0m\u001b[1;33m\u001b[0m\u001b[0m\n\u001b[1;32m--> 385\u001b[1;33m             \u001b[0mresult\u001b[0m\u001b[1;33m[\u001b[0m\u001b[0mstart\u001b[0m\u001b[1;33m:\u001b[0m\u001b[0mstop\u001b[0m\u001b[1;33m,\u001b[0m \u001b[1;33m:\u001b[0m\u001b[1;33m]\u001b[0m \u001b[1;33m=\u001b[0m \u001b[0mself\u001b[0m\u001b[1;33m.\u001b[0m\u001b[0m_slice_recommender\u001b[0m\u001b[1;33m(\u001b[0m\u001b[0muser_slice\u001b[0m\u001b[1;33m,\u001b[0m \u001b[1;33m*\u001b[0m\u001b[0margs\u001b[0m\u001b[1;33m)\u001b[0m\u001b[1;33m\u001b[0m\u001b[1;33m\u001b[0m\u001b[0m\n\u001b[0m\u001b[0;32m    386\u001b[0m \u001b[1;33m\u001b[0m\u001b[0m\n\u001b[0;32m    387\u001b[0m \u001b[1;33m\u001b[0m\u001b[0m\n",
      "\u001b[1;32m~\\Anaconda3\\lib\\site-packages\\polara-0.6.4-py3.6.egg\\polara\\recommender\\models.py\u001b[0m in \u001b[0;36m_slice_recommender\u001b[1;34m(self, user_slice, test_data, test_shape, test_users)\u001b[0m\n\u001b[0;32m    356\u001b[0m     \u001b[1;32mdef\u001b[0m \u001b[0m_slice_recommender\u001b[0m\u001b[1;33m(\u001b[0m\u001b[0mself\u001b[0m\u001b[1;33m,\u001b[0m \u001b[0muser_slice\u001b[0m\u001b[1;33m,\u001b[0m \u001b[0mtest_data\u001b[0m\u001b[1;33m,\u001b[0m \u001b[0mtest_shape\u001b[0m\u001b[1;33m,\u001b[0m \u001b[0mtest_users\u001b[0m\u001b[1;33m)\u001b[0m\u001b[1;33m:\u001b[0m\u001b[1;33m\u001b[0m\u001b[1;33m\u001b[0m\u001b[0m\n\u001b[0;32m    357\u001b[0m         \u001b[0mstart\u001b[0m\u001b[1;33m,\u001b[0m \u001b[0mstop\u001b[0m \u001b[1;33m=\u001b[0m \u001b[0muser_slice\u001b[0m\u001b[1;33m\u001b[0m\u001b[1;33m\u001b[0m\u001b[0m\n\u001b[1;32m--> 358\u001b[1;33m         \u001b[0mscores\u001b[0m\u001b[1;33m,\u001b[0m \u001b[0mslice_data\u001b[0m \u001b[1;33m=\u001b[0m \u001b[0mself\u001b[0m\u001b[1;33m.\u001b[0m\u001b[0mslice_recommendations\u001b[0m\u001b[1;33m(\u001b[0m\u001b[0mtest_data\u001b[0m\u001b[1;33m,\u001b[0m \u001b[0mtest_shape\u001b[0m\u001b[1;33m,\u001b[0m \u001b[0mstart\u001b[0m\u001b[1;33m,\u001b[0m \u001b[0mstop\u001b[0m\u001b[1;33m,\u001b[0m \u001b[0mtest_users\u001b[0m\u001b[1;33m)\u001b[0m\u001b[1;33m\u001b[0m\u001b[1;33m\u001b[0m\u001b[0m\n\u001b[0m\u001b[0;32m    359\u001b[0m         \u001b[1;32mif\u001b[0m \u001b[0mself\u001b[0m\u001b[1;33m.\u001b[0m\u001b[0mfilter_seen\u001b[0m\u001b[1;33m:\u001b[0m\u001b[1;33m\u001b[0m\u001b[1;33m\u001b[0m\u001b[0m\n\u001b[0;32m    360\u001b[0m             \u001b[1;31m# prevent seen items from appearing in recommendations\u001b[0m\u001b[1;33m\u001b[0m\u001b[1;33m\u001b[0m\u001b[1;33m\u001b[0m\u001b[0m\n",
      "\u001b[1;32m~\\Anaconda3\\lib\\site-packages\\polara-0.6.4-py3.6.egg\\polara\\recommender\\models.py\u001b[0m in \u001b[0;36mslice_recommendations\u001b[1;34m(self, test_data, shape, start, stop, test_users)\u001b[0m\n\u001b[0;32m    849\u001b[0m         \u001b[0mtest_matrix\u001b[0m\u001b[1;33m,\u001b[0m \u001b[0mslice_data\u001b[0m \u001b[1;33m=\u001b[0m \u001b[0mself\u001b[0m\u001b[1;33m.\u001b[0m\u001b[0mget_test_matrix\u001b[0m\u001b[1;33m(\u001b[0m\u001b[0mtest_data\u001b[0m\u001b[1;33m,\u001b[0m \u001b[0mshape\u001b[0m\u001b[1;33m,\u001b[0m \u001b[1;33m(\u001b[0m\u001b[0mstart\u001b[0m\u001b[1;33m,\u001b[0m \u001b[0mstop\u001b[0m\u001b[1;33m)\u001b[0m\u001b[1;33m)\u001b[0m\u001b[1;33m\u001b[0m\u001b[1;33m\u001b[0m\u001b[0m\n\u001b[0;32m    850\u001b[0m         \u001b[0mv\u001b[0m \u001b[1;33m=\u001b[0m \u001b[0mself\u001b[0m\u001b[1;33m.\u001b[0m\u001b[0mfactors\u001b[0m\u001b[1;33m[\u001b[0m\u001b[0mself\u001b[0m\u001b[1;33m.\u001b[0m\u001b[0mdata\u001b[0m\u001b[1;33m.\u001b[0m\u001b[0mfields\u001b[0m\u001b[1;33m.\u001b[0m\u001b[0mitemid\u001b[0m\u001b[1;33m]\u001b[0m\u001b[1;33m\u001b[0m\u001b[1;33m\u001b[0m\u001b[0m\n\u001b[1;32m--> 851\u001b[1;33m         \u001b[0mscores\u001b[0m \u001b[1;33m=\u001b[0m \u001b[1;33m(\u001b[0m\u001b[0mtest_matrix\u001b[0m\u001b[1;33m.\u001b[0m\u001b[0mdot\u001b[0m\u001b[1;33m(\u001b[0m\u001b[0mv\u001b[0m\u001b[1;33m)\u001b[0m\u001b[1;33m)\u001b[0m\u001b[1;33m.\u001b[0m\u001b[0mdot\u001b[0m\u001b[1;33m(\u001b[0m\u001b[0mv\u001b[0m\u001b[1;33m.\u001b[0m\u001b[0mT\u001b[0m\u001b[1;33m)\u001b[0m\u001b[1;33m\u001b[0m\u001b[1;33m\u001b[0m\u001b[0m\n\u001b[0m\u001b[0;32m    852\u001b[0m         \u001b[1;32mreturn\u001b[0m \u001b[0mscores\u001b[0m\u001b[1;33m,\u001b[0m \u001b[0mslice_data\u001b[0m\u001b[1;33m\u001b[0m\u001b[1;33m\u001b[0m\u001b[0m\n\u001b[0;32m    853\u001b[0m \u001b[1;33m\u001b[0m\u001b[0m\n",
      "\u001b[1;31mKeyboardInterrupt\u001b[0m: "
     ]
    }
   ],
   "source": [
    "start = time.time()\n",
    "\n",
    "# run 3-fold CV experiment\n",
    "result = ee.run_cv_experiment(models, folds, metrics,\n",
    "                              fold_experiment=ee.topk_test,\n",
    "                              topk_list=topk_values)\n",
    "\n",
    "\n",
    "logging.debug(\"Cross-validation experiment finished in %0.2fs\", time.time() - start)"
   ]
  },
  {
   "cell_type": "code",
   "execution_count": 20,
   "metadata": {},
   "outputs": [],
   "source": [
    "pickle.dump(result, open(\"eval_results/result_7.p\", \"wb\"))"
   ]
  },
  {
   "cell_type": "code",
   "execution_count": 21,
   "metadata": {},
   "outputs": [
    {
     "data": {
      "text/html": [
       "<div>\n",
       "<style scoped>\n",
       "    .dataframe tbody tr th:only-of-type {\n",
       "        vertical-align: middle;\n",
       "    }\n",
       "\n",
       "    .dataframe tbody tr th {\n",
       "        vertical-align: top;\n",
       "    }\n",
       "\n",
       "    .dataframe thead tr th {\n",
       "        text-align: left;\n",
       "    }\n",
       "\n",
       "    .dataframe thead tr:last-of-type th {\n",
       "        text-align: right;\n",
       "    }\n",
       "</style>\n",
       "<table border=\"1\" class=\"dataframe\">\n",
       "  <thead>\n",
       "    <tr>\n",
       "      <th></th>\n",
       "      <th></th>\n",
       "      <th>type</th>\n",
       "      <th colspan=\"5\" halign=\"left\">relevance</th>\n",
       "      <th colspan=\"2\" halign=\"left\">ranking</th>\n",
       "    </tr>\n",
       "    <tr>\n",
       "      <th></th>\n",
       "      <th></th>\n",
       "      <th>metric</th>\n",
       "      <th>precision</th>\n",
       "      <th>recall</th>\n",
       "      <th>fallout</th>\n",
       "      <th>specifity</th>\n",
       "      <th>miss_rate</th>\n",
       "      <th>nDCG</th>\n",
       "      <th>nDCL</th>\n",
       "    </tr>\n",
       "    <tr>\n",
       "      <th>fold</th>\n",
       "      <th>top-n</th>\n",
       "      <th>model</th>\n",
       "      <th></th>\n",
       "      <th></th>\n",
       "      <th></th>\n",
       "      <th></th>\n",
       "      <th></th>\n",
       "      <th></th>\n",
       "      <th></th>\n",
       "    </tr>\n",
       "  </thead>\n",
       "  <tbody>\n",
       "    <tr>\n",
       "      <th rowspan=\"21\" valign=\"top\">1</th>\n",
       "      <th rowspan=\"7\" valign=\"top\">5</th>\n",
       "      <th>RND</th>\n",
       "      <td>0.000014</td>\n",
       "      <td>0.000023</td>\n",
       "      <td>None</td>\n",
       "      <td>None</td>\n",
       "      <td>0.999977</td>\n",
       "      <td>0.000027</td>\n",
       "      <td>None</td>\n",
       "    </tr>\n",
       "    <tr>\n",
       "      <th>MP</th>\n",
       "      <td>0.001115</td>\n",
       "      <td>0.001858</td>\n",
       "      <td>None</td>\n",
       "      <td>None</td>\n",
       "      <td>0.998142</td>\n",
       "      <td>0.001654</td>\n",
       "      <td>None</td>\n",
       "    </tr>\n",
       "    <tr>\n",
       "      <th>PureSVD</th>\n",
       "      <td>0.001355</td>\n",
       "      <td>0.002258</td>\n",
       "      <td>None</td>\n",
       "      <td>None</td>\n",
       "      <td>0.997742</td>\n",
       "      <td>0.002124</td>\n",
       "      <td>None</td>\n",
       "    </tr>\n",
       "    <tr>\n",
       "      <th>BPR_learning_rate-0.05</th>\n",
       "      <td>0.002388</td>\n",
       "      <td>0.003980</td>\n",
       "      <td>None</td>\n",
       "      <td>None</td>\n",
       "      <td>0.996020</td>\n",
       "      <td>0.003662</td>\n",
       "      <td>None</td>\n",
       "    </tr>\n",
       "    <tr>\n",
       "      <th>BPR_learning_rate-0.1</th>\n",
       "      <td>0.002660</td>\n",
       "      <td>0.004433</td>\n",
       "      <td>None</td>\n",
       "      <td>None</td>\n",
       "      <td>0.995567</td>\n",
       "      <td>0.004208</td>\n",
       "      <td>None</td>\n",
       "    </tr>\n",
       "    <tr>\n",
       "      <th>BPR_learning_rate-0.5</th>\n",
       "      <td>0.000000</td>\n",
       "      <td>0.000000</td>\n",
       "      <td>None</td>\n",
       "      <td>None</td>\n",
       "      <td>1.000000</td>\n",
       "      <td>0.000000</td>\n",
       "      <td>None</td>\n",
       "    </tr>\n",
       "    <tr>\n",
       "      <th>BPR_learning_rate-1</th>\n",
       "      <td>0.000000</td>\n",
       "      <td>0.000000</td>\n",
       "      <td>None</td>\n",
       "      <td>None</td>\n",
       "      <td>1.000000</td>\n",
       "      <td>0.000000</td>\n",
       "      <td>None</td>\n",
       "    </tr>\n",
       "    <tr>\n",
       "      <th rowspan=\"7\" valign=\"top\">10</th>\n",
       "      <th>RND</th>\n",
       "      <td>0.000009</td>\n",
       "      <td>0.000030</td>\n",
       "      <td>None</td>\n",
       "      <td>None</td>\n",
       "      <td>0.999970</td>\n",
       "      <td>0.000030</td>\n",
       "      <td>None</td>\n",
       "    </tr>\n",
       "    <tr>\n",
       "      <th>MP</th>\n",
       "      <td>0.000834</td>\n",
       "      <td>0.002779</td>\n",
       "      <td>None</td>\n",
       "      <td>None</td>\n",
       "      <td>0.997221</td>\n",
       "      <td>0.002047</td>\n",
       "      <td>None</td>\n",
       "    </tr>\n",
       "    <tr>\n",
       "      <th>PureSVD</th>\n",
       "      <td>0.000931</td>\n",
       "      <td>0.003104</td>\n",
       "      <td>None</td>\n",
       "      <td>None</td>\n",
       "      <td>0.996896</td>\n",
       "      <td>0.002503</td>\n",
       "      <td>None</td>\n",
       "    </tr>\n",
       "    <tr>\n",
       "      <th>BPR_learning_rate-0.05</th>\n",
       "      <td>0.001881</td>\n",
       "      <td>0.006268</td>\n",
       "      <td>None</td>\n",
       "      <td>None</td>\n",
       "      <td>0.993732</td>\n",
       "      <td>0.004693</td>\n",
       "      <td>None</td>\n",
       "    </tr>\n",
       "    <tr>\n",
       "      <th>BPR_learning_rate-0.1</th>\n",
       "      <td>0.002023</td>\n",
       "      <td>0.006744</td>\n",
       "      <td>None</td>\n",
       "      <td>None</td>\n",
       "      <td>0.993256</td>\n",
       "      <td>0.005254</td>\n",
       "      <td>None</td>\n",
       "    </tr>\n",
       "    <tr>\n",
       "      <th>BPR_learning_rate-0.5</th>\n",
       "      <td>0.000000</td>\n",
       "      <td>0.000000</td>\n",
       "      <td>None</td>\n",
       "      <td>None</td>\n",
       "      <td>1.000000</td>\n",
       "      <td>0.000000</td>\n",
       "      <td>None</td>\n",
       "    </tr>\n",
       "    <tr>\n",
       "      <th>BPR_learning_rate-1</th>\n",
       "      <td>0.000000</td>\n",
       "      <td>0.000000</td>\n",
       "      <td>None</td>\n",
       "      <td>None</td>\n",
       "      <td>1.000000</td>\n",
       "      <td>0.000000</td>\n",
       "      <td>None</td>\n",
       "    </tr>\n",
       "    <tr>\n",
       "      <th rowspan=\"7\" valign=\"top\">20</th>\n",
       "      <th>RND</th>\n",
       "      <td>0.000009</td>\n",
       "      <td>0.000060</td>\n",
       "      <td>None</td>\n",
       "      <td>None</td>\n",
       "      <td>0.999940</td>\n",
       "      <td>0.000041</td>\n",
       "      <td>None</td>\n",
       "    </tr>\n",
       "    <tr>\n",
       "      <th>MP</th>\n",
       "      <td>0.000896</td>\n",
       "      <td>0.005974</td>\n",
       "      <td>None</td>\n",
       "      <td>None</td>\n",
       "      <td>0.994026</td>\n",
       "      <td>0.003209</td>\n",
       "      <td>None</td>\n",
       "    </tr>\n",
       "    <tr>\n",
       "      <th>PureSVD</th>\n",
       "      <td>0.000676</td>\n",
       "      <td>0.004509</td>\n",
       "      <td>None</td>\n",
       "      <td>None</td>\n",
       "      <td>0.995491</td>\n",
       "      <td>0.003006</td>\n",
       "      <td>None</td>\n",
       "    </tr>\n",
       "    <tr>\n",
       "      <th>BPR_learning_rate-0.05</th>\n",
       "      <td>0.001380</td>\n",
       "      <td>0.009199</td>\n",
       "      <td>None</td>\n",
       "      <td>None</td>\n",
       "      <td>0.990801</td>\n",
       "      <td>0.005725</td>\n",
       "      <td>None</td>\n",
       "    </tr>\n",
       "    <tr>\n",
       "      <th>BPR_learning_rate-0.1</th>\n",
       "      <td>0.001562</td>\n",
       "      <td>0.010415</td>\n",
       "      <td>None</td>\n",
       "      <td>None</td>\n",
       "      <td>0.989585</td>\n",
       "      <td>0.006556</td>\n",
       "      <td>None</td>\n",
       "    </tr>\n",
       "    <tr>\n",
       "      <th>BPR_learning_rate-0.5</th>\n",
       "      <td>0.000016</td>\n",
       "      <td>0.000106</td>\n",
       "      <td>None</td>\n",
       "      <td>None</td>\n",
       "      <td>0.999894</td>\n",
       "      <td>0.000035</td>\n",
       "      <td>None</td>\n",
       "    </tr>\n",
       "    <tr>\n",
       "      <th>BPR_learning_rate-1</th>\n",
       "      <td>0.000016</td>\n",
       "      <td>0.000106</td>\n",
       "      <td>None</td>\n",
       "      <td>None</td>\n",
       "      <td>0.999894</td>\n",
       "      <td>0.000035</td>\n",
       "      <td>None</td>\n",
       "    </tr>\n",
       "    <tr>\n",
       "      <th rowspan=\"21\" valign=\"top\">2</th>\n",
       "      <th rowspan=\"7\" valign=\"top\">5</th>\n",
       "      <th>RND</th>\n",
       "      <td>0.000014</td>\n",
       "      <td>0.000023</td>\n",
       "      <td>None</td>\n",
       "      <td>None</td>\n",
       "      <td>0.999977</td>\n",
       "      <td>0.000017</td>\n",
       "      <td>None</td>\n",
       "    </tr>\n",
       "    <tr>\n",
       "      <th>MP</th>\n",
       "      <td>0.001180</td>\n",
       "      <td>0.001967</td>\n",
       "      <td>None</td>\n",
       "      <td>None</td>\n",
       "      <td>0.998033</td>\n",
       "      <td>0.001668</td>\n",
       "      <td>None</td>\n",
       "    </tr>\n",
       "    <tr>\n",
       "      <th>PureSVD</th>\n",
       "      <td>0.001176</td>\n",
       "      <td>0.001959</td>\n",
       "      <td>None</td>\n",
       "      <td>None</td>\n",
       "      <td>0.998041</td>\n",
       "      <td>0.001879</td>\n",
       "      <td>None</td>\n",
       "    </tr>\n",
       "    <tr>\n",
       "      <th>BPR_learning_rate-0.05</th>\n",
       "      <td>0.002201</td>\n",
       "      <td>0.003668</td>\n",
       "      <td>None</td>\n",
       "      <td>None</td>\n",
       "      <td>0.996332</td>\n",
       "      <td>0.003425</td>\n",
       "      <td>None</td>\n",
       "    </tr>\n",
       "    <tr>\n",
       "      <th>BPR_learning_rate-0.1</th>\n",
       "      <td>0.002433</td>\n",
       "      <td>0.004055</td>\n",
       "      <td>None</td>\n",
       "      <td>None</td>\n",
       "      <td>0.995945</td>\n",
       "      <td>0.003716</td>\n",
       "      <td>None</td>\n",
       "    </tr>\n",
       "    <tr>\n",
       "      <th>BPR_learning_rate-0.5</th>\n",
       "      <td>0.000005</td>\n",
       "      <td>0.000008</td>\n",
       "      <td>None</td>\n",
       "      <td>None</td>\n",
       "      <td>0.999992</td>\n",
       "      <td>0.000011</td>\n",
       "      <td>None</td>\n",
       "    </tr>\n",
       "    <tr>\n",
       "      <th>BPR_learning_rate-1</th>\n",
       "      <td>0.000005</td>\n",
       "      <td>0.000008</td>\n",
       "      <td>None</td>\n",
       "      <td>None</td>\n",
       "      <td>0.999992</td>\n",
       "      <td>0.000011</td>\n",
       "      <td>None</td>\n",
       "    </tr>\n",
       "    <tr>\n",
       "      <th rowspan=\"7\" valign=\"top\">10</th>\n",
       "      <th>RND</th>\n",
       "      <td>0.000014</td>\n",
       "      <td>0.000046</td>\n",
       "      <td>None</td>\n",
       "      <td>None</td>\n",
       "      <td>0.999954</td>\n",
       "      <td>0.000027</td>\n",
       "      <td>None</td>\n",
       "    </tr>\n",
       "    <tr>\n",
       "      <th>MP</th>\n",
       "      <td>0.000875</td>\n",
       "      <td>0.002916</td>\n",
       "      <td>None</td>\n",
       "      <td>None</td>\n",
       "      <td>0.997084</td>\n",
       "      <td>0.002077</td>\n",
       "      <td>None</td>\n",
       "    </tr>\n",
       "    <tr>\n",
       "      <th>PureSVD</th>\n",
       "      <td>0.000932</td>\n",
       "      <td>0.003106</td>\n",
       "      <td>None</td>\n",
       "      <td>None</td>\n",
       "      <td>0.996894</td>\n",
       "      <td>0.002402</td>\n",
       "      <td>None</td>\n",
       "    </tr>\n",
       "    <tr>\n",
       "      <th>BPR_learning_rate-0.05</th>\n",
       "      <td>0.001702</td>\n",
       "      <td>0.005673</td>\n",
       "      <td>None</td>\n",
       "      <td>None</td>\n",
       "      <td>0.994327</td>\n",
       "      <td>0.004327</td>\n",
       "      <td>None</td>\n",
       "    </tr>\n",
       "    <tr>\n",
       "      <th>BPR_learning_rate-0.1</th>\n",
       "      <td>0.001961</td>\n",
       "      <td>0.006538</td>\n",
       "      <td>None</td>\n",
       "      <td>None</td>\n",
       "      <td>0.993462</td>\n",
       "      <td>0.004835</td>\n",
       "      <td>None</td>\n",
       "    </tr>\n",
       "    <tr>\n",
       "      <th>BPR_learning_rate-0.5</th>\n",
       "      <td>0.000005</td>\n",
       "      <td>0.000015</td>\n",
       "      <td>None</td>\n",
       "      <td>None</td>\n",
       "      <td>0.999985</td>\n",
       "      <td>0.000014</td>\n",
       "      <td>None</td>\n",
       "    </tr>\n",
       "    <tr>\n",
       "      <th>BPR_learning_rate-1</th>\n",
       "      <td>0.000005</td>\n",
       "      <td>0.000015</td>\n",
       "      <td>None</td>\n",
       "      <td>None</td>\n",
       "      <td>0.999985</td>\n",
       "      <td>0.000014</td>\n",
       "      <td>None</td>\n",
       "    </tr>\n",
       "    <tr>\n",
       "      <th rowspan=\"7\" valign=\"top\">20</th>\n",
       "      <th>RND</th>\n",
       "      <td>0.000011</td>\n",
       "      <td>0.000076</td>\n",
       "      <td>None</td>\n",
       "      <td>None</td>\n",
       "      <td>0.999924</td>\n",
       "      <td>0.000037</td>\n",
       "      <td>None</td>\n",
       "    </tr>\n",
       "    <tr>\n",
       "      <th>MP</th>\n",
       "      <td>0.000945</td>\n",
       "      <td>0.006303</td>\n",
       "      <td>None</td>\n",
       "      <td>None</td>\n",
       "      <td>0.993697</td>\n",
       "      <td>0.003311</td>\n",
       "      <td>None</td>\n",
       "    </tr>\n",
       "    <tr>\n",
       "      <th>PureSVD</th>\n",
       "      <td>0.000687</td>\n",
       "      <td>0.004579</td>\n",
       "      <td>None</td>\n",
       "      <td>None</td>\n",
       "      <td>0.995421</td>\n",
       "      <td>0.002935</td>\n",
       "      <td>None</td>\n",
       "    </tr>\n",
       "    <tr>\n",
       "      <th>BPR_learning_rate-0.05</th>\n",
       "      <td>0.001305</td>\n",
       "      <td>0.008703</td>\n",
       "      <td>None</td>\n",
       "      <td>None</td>\n",
       "      <td>0.991297</td>\n",
       "      <td>0.005401</td>\n",
       "      <td>None</td>\n",
       "    </tr>\n",
       "    <tr>\n",
       "      <th>BPR_learning_rate-0.1</th>\n",
       "      <td>0.001472</td>\n",
       "      <td>0.009811</td>\n",
       "      <td>None</td>\n",
       "      <td>None</td>\n",
       "      <td>0.990189</td>\n",
       "      <td>0.005991</td>\n",
       "      <td>None</td>\n",
       "    </tr>\n",
       "    <tr>\n",
       "      <th>BPR_learning_rate-0.5</th>\n",
       "      <td>0.000031</td>\n",
       "      <td>0.000205</td>\n",
       "      <td>None</td>\n",
       "      <td>None</td>\n",
       "      <td>0.999795</td>\n",
       "      <td>0.000076</td>\n",
       "      <td>None</td>\n",
       "    </tr>\n",
       "    <tr>\n",
       "      <th>BPR_learning_rate-1</th>\n",
       "      <td>0.000031</td>\n",
       "      <td>0.000205</td>\n",
       "      <td>None</td>\n",
       "      <td>None</td>\n",
       "      <td>0.999795</td>\n",
       "      <td>0.000076</td>\n",
       "      <td>None</td>\n",
       "    </tr>\n",
       "    <tr>\n",
       "      <th rowspan=\"21\" valign=\"top\">3</th>\n",
       "      <th rowspan=\"7\" valign=\"top\">5</th>\n",
       "      <th>RND</th>\n",
       "      <td>0.000014</td>\n",
       "      <td>0.000023</td>\n",
       "      <td>None</td>\n",
       "      <td>None</td>\n",
       "      <td>0.999977</td>\n",
       "      <td>0.000014</td>\n",
       "      <td>None</td>\n",
       "    </tr>\n",
       "    <tr>\n",
       "      <th>MP</th>\n",
       "      <td>0.001173</td>\n",
       "      <td>0.001955</td>\n",
       "      <td>None</td>\n",
       "      <td>None</td>\n",
       "      <td>0.998045</td>\n",
       "      <td>0.001704</td>\n",
       "      <td>None</td>\n",
       "    </tr>\n",
       "    <tr>\n",
       "      <th>PureSVD</th>\n",
       "      <td>0.000942</td>\n",
       "      <td>0.001570</td>\n",
       "      <td>None</td>\n",
       "      <td>None</td>\n",
       "      <td>0.998430</td>\n",
       "      <td>0.001443</td>\n",
       "      <td>None</td>\n",
       "    </tr>\n",
       "    <tr>\n",
       "      <th>BPR_learning_rate-0.05</th>\n",
       "      <td>0.002156</td>\n",
       "      <td>0.003594</td>\n",
       "      <td>None</td>\n",
       "      <td>None</td>\n",
       "      <td>0.996406</td>\n",
       "      <td>0.003390</td>\n",
       "      <td>None</td>\n",
       "    </tr>\n",
       "    <tr>\n",
       "      <th>BPR_learning_rate-0.1</th>\n",
       "      <td>0.002605</td>\n",
       "      <td>0.004341</td>\n",
       "      <td>None</td>\n",
       "      <td>None</td>\n",
       "      <td>0.995659</td>\n",
       "      <td>0.004005</td>\n",
       "      <td>None</td>\n",
       "    </tr>\n",
       "    <tr>\n",
       "      <th>BPR_learning_rate-0.5</th>\n",
       "      <td>0.000005</td>\n",
       "      <td>0.000008</td>\n",
       "      <td>None</td>\n",
       "      <td>None</td>\n",
       "      <td>0.999992</td>\n",
       "      <td>0.000005</td>\n",
       "      <td>None</td>\n",
       "    </tr>\n",
       "    <tr>\n",
       "      <th>BPR_learning_rate-1</th>\n",
       "      <td>0.000005</td>\n",
       "      <td>0.000008</td>\n",
       "      <td>None</td>\n",
       "      <td>None</td>\n",
       "      <td>0.999992</td>\n",
       "      <td>0.000005</td>\n",
       "      <td>None</td>\n",
       "    </tr>\n",
       "    <tr>\n",
       "      <th rowspan=\"7\" valign=\"top\">10</th>\n",
       "      <th>RND</th>\n",
       "      <td>0.000020</td>\n",
       "      <td>0.000068</td>\n",
       "      <td>None</td>\n",
       "      <td>None</td>\n",
       "      <td>0.999932</td>\n",
       "      <td>0.000035</td>\n",
       "      <td>None</td>\n",
       "    </tr>\n",
       "    <tr>\n",
       "      <th>MP</th>\n",
       "      <td>0.000815</td>\n",
       "      <td>0.002718</td>\n",
       "      <td>None</td>\n",
       "      <td>None</td>\n",
       "      <td>0.997282</td>\n",
       "      <td>0.002032</td>\n",
       "      <td>None</td>\n",
       "    </tr>\n",
       "    <tr>\n",
       "      <th>PureSVD</th>\n",
       "      <td>0.000786</td>\n",
       "      <td>0.002620</td>\n",
       "      <td>None</td>\n",
       "      <td>None</td>\n",
       "      <td>0.997380</td>\n",
       "      <td>0.001926</td>\n",
       "      <td>None</td>\n",
       "    </tr>\n",
       "    <tr>\n",
       "      <th>BPR_learning_rate-0.05</th>\n",
       "      <td>0.001712</td>\n",
       "      <td>0.005707</td>\n",
       "      <td>None</td>\n",
       "      <td>None</td>\n",
       "      <td>0.994293</td>\n",
       "      <td>0.004347</td>\n",
       "      <td>None</td>\n",
       "    </tr>\n",
       "    <tr>\n",
       "      <th>BPR_learning_rate-0.1</th>\n",
       "      <td>0.002038</td>\n",
       "      <td>0.006795</td>\n",
       "      <td>None</td>\n",
       "      <td>None</td>\n",
       "      <td>0.993205</td>\n",
       "      <td>0.005109</td>\n",
       "      <td>None</td>\n",
       "    </tr>\n",
       "    <tr>\n",
       "      <th>BPR_learning_rate-0.5</th>\n",
       "      <td>0.000007</td>\n",
       "      <td>0.000023</td>\n",
       "      <td>None</td>\n",
       "      <td>None</td>\n",
       "      <td>0.999977</td>\n",
       "      <td>0.000011</td>\n",
       "      <td>None</td>\n",
       "    </tr>\n",
       "    <tr>\n",
       "      <th>BPR_learning_rate-1</th>\n",
       "      <td>0.000007</td>\n",
       "      <td>0.000023</td>\n",
       "      <td>None</td>\n",
       "      <td>None</td>\n",
       "      <td>0.999977</td>\n",
       "      <td>0.000011</td>\n",
       "      <td>None</td>\n",
       "    </tr>\n",
       "    <tr>\n",
       "      <th rowspan=\"7\" valign=\"top\">20</th>\n",
       "      <th>RND</th>\n",
       "      <td>0.000020</td>\n",
       "      <td>0.000136</td>\n",
       "      <td>None</td>\n",
       "      <td>None</td>\n",
       "      <td>0.999864</td>\n",
       "      <td>0.000059</td>\n",
       "      <td>None</td>\n",
       "    </tr>\n",
       "    <tr>\n",
       "      <th>MP</th>\n",
       "      <td>0.000887</td>\n",
       "      <td>0.005911</td>\n",
       "      <td>None</td>\n",
       "      <td>None</td>\n",
       "      <td>0.994089</td>\n",
       "      <td>0.003188</td>\n",
       "      <td>None</td>\n",
       "    </tr>\n",
       "    <tr>\n",
       "      <th>PureSVD</th>\n",
       "      <td>0.000582</td>\n",
       "      <td>0.003880</td>\n",
       "      <td>None</td>\n",
       "      <td>None</td>\n",
       "      <td>0.996120</td>\n",
       "      <td>0.002375</td>\n",
       "      <td>None</td>\n",
       "    </tr>\n",
       "    <tr>\n",
       "      <th>BPR_learning_rate-0.05</th>\n",
       "      <td>0.001302</td>\n",
       "      <td>0.008682</td>\n",
       "      <td>None</td>\n",
       "      <td>None</td>\n",
       "      <td>0.991318</td>\n",
       "      <td>0.005403</td>\n",
       "      <td>None</td>\n",
       "    </tr>\n",
       "    <tr>\n",
       "      <th>BPR_learning_rate-0.1</th>\n",
       "      <td>0.001553</td>\n",
       "      <td>0.010350</td>\n",
       "      <td>None</td>\n",
       "      <td>None</td>\n",
       "      <td>0.989650</td>\n",
       "      <td>0.006364</td>\n",
       "      <td>None</td>\n",
       "    </tr>\n",
       "    <tr>\n",
       "      <th>BPR_learning_rate-0.5</th>\n",
       "      <td>0.000029</td>\n",
       "      <td>0.000196</td>\n",
       "      <td>None</td>\n",
       "      <td>None</td>\n",
       "      <td>0.999804</td>\n",
       "      <td>0.000067</td>\n",
       "      <td>None</td>\n",
       "    </tr>\n",
       "    <tr>\n",
       "      <th>BPR_learning_rate-1</th>\n",
       "      <td>0.000029</td>\n",
       "      <td>0.000196</td>\n",
       "      <td>None</td>\n",
       "      <td>None</td>\n",
       "      <td>0.999804</td>\n",
       "      <td>0.000067</td>\n",
       "      <td>None</td>\n",
       "    </tr>\n",
       "  </tbody>\n",
       "</table>\n",
       "</div>"
      ],
      "text/plain": [
       "type                              relevance                              \\\n",
       "metric                            precision    recall fallout specifity   \n",
       "fold top-n model                                                          \n",
       "1    5     RND                     0.000014  0.000023    None      None   \n",
       "           MP                      0.001115  0.001858    None      None   \n",
       "           PureSVD                 0.001355  0.002258    None      None   \n",
       "           BPR_learning_rate-0.05  0.002388  0.003980    None      None   \n",
       "           BPR_learning_rate-0.1   0.002660  0.004433    None      None   \n",
       "           BPR_learning_rate-0.5   0.000000  0.000000    None      None   \n",
       "           BPR_learning_rate-1     0.000000  0.000000    None      None   \n",
       "     10    RND                     0.000009  0.000030    None      None   \n",
       "           MP                      0.000834  0.002779    None      None   \n",
       "           PureSVD                 0.000931  0.003104    None      None   \n",
       "           BPR_learning_rate-0.05  0.001881  0.006268    None      None   \n",
       "           BPR_learning_rate-0.1   0.002023  0.006744    None      None   \n",
       "           BPR_learning_rate-0.5   0.000000  0.000000    None      None   \n",
       "           BPR_learning_rate-1     0.000000  0.000000    None      None   \n",
       "     20    RND                     0.000009  0.000060    None      None   \n",
       "           MP                      0.000896  0.005974    None      None   \n",
       "           PureSVD                 0.000676  0.004509    None      None   \n",
       "           BPR_learning_rate-0.05  0.001380  0.009199    None      None   \n",
       "           BPR_learning_rate-0.1   0.001562  0.010415    None      None   \n",
       "           BPR_learning_rate-0.5   0.000016  0.000106    None      None   \n",
       "           BPR_learning_rate-1     0.000016  0.000106    None      None   \n",
       "2    5     RND                     0.000014  0.000023    None      None   \n",
       "           MP                      0.001180  0.001967    None      None   \n",
       "           PureSVD                 0.001176  0.001959    None      None   \n",
       "           BPR_learning_rate-0.05  0.002201  0.003668    None      None   \n",
       "           BPR_learning_rate-0.1   0.002433  0.004055    None      None   \n",
       "           BPR_learning_rate-0.5   0.000005  0.000008    None      None   \n",
       "           BPR_learning_rate-1     0.000005  0.000008    None      None   \n",
       "     10    RND                     0.000014  0.000046    None      None   \n",
       "           MP                      0.000875  0.002916    None      None   \n",
       "           PureSVD                 0.000932  0.003106    None      None   \n",
       "           BPR_learning_rate-0.05  0.001702  0.005673    None      None   \n",
       "           BPR_learning_rate-0.1   0.001961  0.006538    None      None   \n",
       "           BPR_learning_rate-0.5   0.000005  0.000015    None      None   \n",
       "           BPR_learning_rate-1     0.000005  0.000015    None      None   \n",
       "     20    RND                     0.000011  0.000076    None      None   \n",
       "           MP                      0.000945  0.006303    None      None   \n",
       "           PureSVD                 0.000687  0.004579    None      None   \n",
       "           BPR_learning_rate-0.05  0.001305  0.008703    None      None   \n",
       "           BPR_learning_rate-0.1   0.001472  0.009811    None      None   \n",
       "           BPR_learning_rate-0.5   0.000031  0.000205    None      None   \n",
       "           BPR_learning_rate-1     0.000031  0.000205    None      None   \n",
       "3    5     RND                     0.000014  0.000023    None      None   \n",
       "           MP                      0.001173  0.001955    None      None   \n",
       "           PureSVD                 0.000942  0.001570    None      None   \n",
       "           BPR_learning_rate-0.05  0.002156  0.003594    None      None   \n",
       "           BPR_learning_rate-0.1   0.002605  0.004341    None      None   \n",
       "           BPR_learning_rate-0.5   0.000005  0.000008    None      None   \n",
       "           BPR_learning_rate-1     0.000005  0.000008    None      None   \n",
       "     10    RND                     0.000020  0.000068    None      None   \n",
       "           MP                      0.000815  0.002718    None      None   \n",
       "           PureSVD                 0.000786  0.002620    None      None   \n",
       "           BPR_learning_rate-0.05  0.001712  0.005707    None      None   \n",
       "           BPR_learning_rate-0.1   0.002038  0.006795    None      None   \n",
       "           BPR_learning_rate-0.5   0.000007  0.000023    None      None   \n",
       "           BPR_learning_rate-1     0.000007  0.000023    None      None   \n",
       "     20    RND                     0.000020  0.000136    None      None   \n",
       "           MP                      0.000887  0.005911    None      None   \n",
       "           PureSVD                 0.000582  0.003880    None      None   \n",
       "           BPR_learning_rate-0.05  0.001302  0.008682    None      None   \n",
       "           BPR_learning_rate-0.1   0.001553  0.010350    None      None   \n",
       "           BPR_learning_rate-0.5   0.000029  0.000196    None      None   \n",
       "           BPR_learning_rate-1     0.000029  0.000196    None      None   \n",
       "\n",
       "type                                          ranking        \n",
       "metric                            miss_rate      nDCG  nDCL  \n",
       "fold top-n model                                             \n",
       "1    5     RND                     0.999977  0.000027  None  \n",
       "           MP                      0.998142  0.001654  None  \n",
       "           PureSVD                 0.997742  0.002124  None  \n",
       "           BPR_learning_rate-0.05  0.996020  0.003662  None  \n",
       "           BPR_learning_rate-0.1   0.995567  0.004208  None  \n",
       "           BPR_learning_rate-0.5   1.000000  0.000000  None  \n",
       "           BPR_learning_rate-1     1.000000  0.000000  None  \n",
       "     10    RND                     0.999970  0.000030  None  \n",
       "           MP                      0.997221  0.002047  None  \n",
       "           PureSVD                 0.996896  0.002503  None  \n",
       "           BPR_learning_rate-0.05  0.993732  0.004693  None  \n",
       "           BPR_learning_rate-0.1   0.993256  0.005254  None  \n",
       "           BPR_learning_rate-0.5   1.000000  0.000000  None  \n",
       "           BPR_learning_rate-1     1.000000  0.000000  None  \n",
       "     20    RND                     0.999940  0.000041  None  \n",
       "           MP                      0.994026  0.003209  None  \n",
       "           PureSVD                 0.995491  0.003006  None  \n",
       "           BPR_learning_rate-0.05  0.990801  0.005725  None  \n",
       "           BPR_learning_rate-0.1   0.989585  0.006556  None  \n",
       "           BPR_learning_rate-0.5   0.999894  0.000035  None  \n",
       "           BPR_learning_rate-1     0.999894  0.000035  None  \n",
       "2    5     RND                     0.999977  0.000017  None  \n",
       "           MP                      0.998033  0.001668  None  \n",
       "           PureSVD                 0.998041  0.001879  None  \n",
       "           BPR_learning_rate-0.05  0.996332  0.003425  None  \n",
       "           BPR_learning_rate-0.1   0.995945  0.003716  None  \n",
       "           BPR_learning_rate-0.5   0.999992  0.000011  None  \n",
       "           BPR_learning_rate-1     0.999992  0.000011  None  \n",
       "     10    RND                     0.999954  0.000027  None  \n",
       "           MP                      0.997084  0.002077  None  \n",
       "           PureSVD                 0.996894  0.002402  None  \n",
       "           BPR_learning_rate-0.05  0.994327  0.004327  None  \n",
       "           BPR_learning_rate-0.1   0.993462  0.004835  None  \n",
       "           BPR_learning_rate-0.5   0.999985  0.000014  None  \n",
       "           BPR_learning_rate-1     0.999985  0.000014  None  \n",
       "     20    RND                     0.999924  0.000037  None  \n",
       "           MP                      0.993697  0.003311  None  \n",
       "           PureSVD                 0.995421  0.002935  None  \n",
       "           BPR_learning_rate-0.05  0.991297  0.005401  None  \n",
       "           BPR_learning_rate-0.1   0.990189  0.005991  None  \n",
       "           BPR_learning_rate-0.5   0.999795  0.000076  None  \n",
       "           BPR_learning_rate-1     0.999795  0.000076  None  \n",
       "3    5     RND                     0.999977  0.000014  None  \n",
       "           MP                      0.998045  0.001704  None  \n",
       "           PureSVD                 0.998430  0.001443  None  \n",
       "           BPR_learning_rate-0.05  0.996406  0.003390  None  \n",
       "           BPR_learning_rate-0.1   0.995659  0.004005  None  \n",
       "           BPR_learning_rate-0.5   0.999992  0.000005  None  \n",
       "           BPR_learning_rate-1     0.999992  0.000005  None  \n",
       "     10    RND                     0.999932  0.000035  None  \n",
       "           MP                      0.997282  0.002032  None  \n",
       "           PureSVD                 0.997380  0.001926  None  \n",
       "           BPR_learning_rate-0.05  0.994293  0.004347  None  \n",
       "           BPR_learning_rate-0.1   0.993205  0.005109  None  \n",
       "           BPR_learning_rate-0.5   0.999977  0.000011  None  \n",
       "           BPR_learning_rate-1     0.999977  0.000011  None  \n",
       "     20    RND                     0.999864  0.000059  None  \n",
       "           MP                      0.994089  0.003188  None  \n",
       "           PureSVD                 0.996120  0.002375  None  \n",
       "           BPR_learning_rate-0.05  0.991318  0.005403  None  \n",
       "           BPR_learning_rate-0.1   0.989650  0.006364  None  \n",
       "           BPR_learning_rate-0.5   0.999804  0.000067  None  \n",
       "           BPR_learning_rate-1     0.999804  0.000067  None  "
      ]
     },
     "execution_count": 21,
     "metadata": {},
     "output_type": "execute_result"
    }
   ],
   "source": [
    "result"
   ]
  },
  {
   "cell_type": "code",
   "execution_count": null,
   "metadata": {},
   "outputs": [],
   "source": [
    "# calculate average values across all folds for e.g. relevance metrics\n",
    "scores = result.mean(axis=0, level=['top-n', 'model']) # use .std instead of .mean for standard deviation\n",
    "# scores.xs('recall', level='metric', axis=1).unstack('model')\n",
    "scores"
   ]
  },
  {
   "cell_type": "markdown",
   "metadata": {},
   "source": [
    "***\n",
    "### Variable sizes"
   ]
  },
  {
   "cell_type": "code",
   "execution_count": 14,
   "metadata": {},
   "outputs": [
    {
     "name": "stdout",
     "output_type": "stream",
     "text": [
      "               RecommenderData:   2.0KiB\n",
      "                   ImplicitALS:   2.0KiB\n",
      "                      SVDModel:   1.4KiB\n",
      "               PopularityModel:   1.4KiB\n",
      "                   RandomModel:   1.4KiB\n",
      "                    csr_matrix:   1.0KiB\n",
      "                    lil_matrix:   1.0KiB\n",
      "             CooccurrenceModel:   1.0KiB\n",
      "                           _i1:   917.0B\n",
      "                    als_models:   768.0B\n"
     ]
    }
   ],
   "source": [
    "import sys\n",
    "def sizeof_fmt(num, suffix='B'):\n",
    "    ''' By Fred Cirera, after https://stackoverflow.com/a/1094933/1870254'''\n",
    "    for unit in ['','Ki','Mi','Gi','Ti','Pi','Ei','Zi']:\n",
    "        if abs(num) < 1024.0:\n",
    "            return \"%3.1f%s%s\" % (num, unit, suffix)\n",
    "        num /= 1024.0\n",
    "    return \"%.1f%s%s\" % (num, 'Yi', suffix)\n",
    "\n",
    "for name, size in sorted(((name, sys.getsizeof(value)) for name,value in locals().items()),\n",
    "                         key= lambda x: -x[1])[:10]:\n",
    "    print(\"{:>30}: {:>8}\".format(name,sizeof_fmt(size)))"
   ]
  },
  {
   "cell_type": "code",
   "execution_count": 13,
   "metadata": {},
   "outputs": [],
   "source": [
    "del kiva_dataframe"
   ]
  },
  {
   "cell_type": "markdown",
   "metadata": {},
   "source": [
    "## Final Testing"
   ]
  },
  {
   "cell_type": "markdown",
   "metadata": {},
   "source": [
    "### Dataset reading"
   ]
  },
  {
   "cell_type": "code",
   "execution_count": 45,
   "metadata": {},
   "outputs": [],
   "source": [
    "loans_table_f = pd.read_csv('additional-kiva-snapshot/loans.csv')\n",
    "loans_table_f = loans_table_f.sort_values(by='raised_time')"
   ]
  },
  {
   "cell_type": "code",
   "execution_count": 46,
   "metadata": {},
   "outputs": [],
   "source": [
    "funded_loans_table_f = loans_table_f[loans_table_f.status == 'funded']"
   ]
  },
  {
   "cell_type": "code",
   "execution_count": 47,
   "metadata": {},
   "outputs": [],
   "source": [
    "START_DATE_f = '2011-11-01'\n",
    "END_DATE_f = '2013-09-30'\n",
    "\n",
    "mask_f = (funded_loans_table_f['raised_time'] > START_DATE_f) & (funded_loans_table_f['raised_time'] <= END_DATE_f)\n",
    "funded_loans_table_f = funded_loans_table_f.loc[mask_f]\n",
    "del mask_f\n",
    "\n",
    "funded_loan_ids_set_f = set(funded_loans_table_f['loan_id'])"
   ]
  },
  {
   "cell_type": "code",
   "execution_count": 48,
   "metadata": {},
   "outputs": [],
   "source": [
    "# pickle.dump(loans_table_f, open(\"pickle/loans_table_f.p\", \"wb\"))\n",
    "# pickle.dump(funded_loans_table_f, open(\"pickle/funded_loans_table_f.p\", \"wb\"))\n",
    "# pickle.dump(funded_loan_ids_set_f, open(\"pickle/funded_loan_ids_set_f.p\", \"wb\"))"
   ]
  },
  {
   "cell_type": "code",
   "execution_count": 49,
   "metadata": {},
   "outputs": [],
   "source": [
    "# free ram\n",
    "del loans_table_f\n",
    "del funded_loans_table_f"
   ]
  },
  {
   "cell_type": "code",
   "execution_count": 50,
   "metadata": {},
   "outputs": [
    {
     "name": "stdout",
     "output_type": "stream",
     "text": [
      "Loans-lenders dict filled\n"
     ]
    }
   ],
   "source": [
    "loans_f = set()\n",
    "lenders_f = set()\n",
    "loans_lenders_dict_f = {}\n",
    "\n",
    "with open('additional-kiva-snapshot/loans_lenders.csv', newline='', encoding=\"utf8\") as csvfile:\n",
    "    csv_reader = csv.reader(csvfile)\n",
    "    line_num = 0\n",
    "    for row in csv_reader:\n",
    "        if line_num == 0:\n",
    "            line_num += 1\n",
    "            continue\n",
    "        loan_id, lender_ids = row\n",
    "        loan_id = int(loan_id)\n",
    "        if loan_id not in funded_loan_ids_set_f:\n",
    "            continue\n",
    "        \n",
    "        loans_f.add(loan_id)\n",
    "        new_lenders = set(lender_ids.split(\", \"))\n",
    "        loans_lenders_dict_f[loan_id] = new_lenders\n",
    "        lenders_f.update(new_lenders)\n",
    "        line_num += 1\n",
    "\n",
    "loans_f = list(loans_f)\n",
    "lenders_f = list(lenders_f)\n",
    "\n",
    "print('Loans-lenders dict filled')"
   ]
  },
  {
   "cell_type": "markdown",
   "metadata": {},
   "source": [
    "### Utility matrix creation"
   ]
  },
  {
   "cell_type": "code",
   "execution_count": 51,
   "metadata": {},
   "outputs": [],
   "source": [
    "lenders_reverse_index_f = {k: v for v, k in enumerate(lenders_f)}\n",
    "utility_matrix_f = lil_matrix((len(loans_f), len(lenders_f)), dtype=np.float64)"
   ]
  },
  {
   "cell_type": "code",
   "execution_count": 52,
   "metadata": {},
   "outputs": [
    {
     "name": "stdout",
     "output_type": "stream",
     "text": [
      "Filled utility matrix\n"
     ]
    }
   ],
   "source": [
    "for loan_index, loan in enumerate(loans_f):\n",
    "    for lender in loans_lenders_dict_f[loan]:\n",
    "        lender_index = lenders_reverse_index_f[lender]\n",
    "        utility_matrix_f[loan_index, lender_index] = 1.0\n",
    "\n",
    "print('Filled utility matrix')"
   ]
  },
  {
   "cell_type": "code",
   "execution_count": 53,
   "metadata": {},
   "outputs": [],
   "source": [
    "utility_matrix_f = utility_matrix_f.tocsr()"
   ]
  },
  {
   "cell_type": "code",
   "execution_count": 54,
   "metadata": {},
   "outputs": [],
   "source": [
    "# pickle.dump(utility_matrix_f, open(\"pickle/utility_matrix_f.p\", \"wb\"))"
   ]
  },
  {
   "cell_type": "code",
   "execution_count": 55,
   "metadata": {},
   "outputs": [
    {
     "name": "stdout",
     "output_type": "stream",
     "text": [
      "5944688\n",
      "lenders:  649453\n",
      "loans:  248040\n"
     ]
    }
   ],
   "source": [
    "print(utility_matrix_f.nnz)\n",
    "print('lenders: ', len(lenders_f))\n",
    "print('loans: ', len(loans_f))"
   ]
  },
  {
   "cell_type": "code",
   "execution_count": 56,
   "metadata": {},
   "outputs": [],
   "source": [
    "write_matrix_to_csv(utility_matrix_f, \"kiva_dataframe_f.csv\")"
   ]
  },
  {
   "cell_type": "markdown",
   "metadata": {},
   "source": [
    "#### Load Kiva dataframe"
   ]
  },
  {
   "cell_type": "code",
   "execution_count": 57,
   "metadata": {},
   "outputs": [],
   "source": [
    "kiva_dataframe_f = pd.read_csv('kiva_dataframe_f.csv', engine='c')"
   ]
  },
  {
   "cell_type": "code",
   "execution_count": 58,
   "metadata": {},
   "outputs": [
    {
     "data": {
      "text/plain": [
       "(5944688, 3)"
      ]
     },
     "execution_count": 58,
     "metadata": {},
     "output_type": "execute_result"
    }
   ],
   "source": [
    "kiva_dataframe_f.shape"
   ]
  },
  {
   "cell_type": "code",
   "execution_count": 59,
   "metadata": {},
   "outputs": [
    {
     "data": {
      "text/html": [
       "<div>\n",
       "<style scoped>\n",
       "    .dataframe tbody tr th:only-of-type {\n",
       "        vertical-align: middle;\n",
       "    }\n",
       "\n",
       "    .dataframe tbody tr th {\n",
       "        vertical-align: top;\n",
       "    }\n",
       "\n",
       "    .dataframe thead th {\n",
       "        text-align: right;\n",
       "    }\n",
       "</style>\n",
       "<table border=\"1\" class=\"dataframe\">\n",
       "  <thead>\n",
       "    <tr style=\"text-align: right;\">\n",
       "      <th></th>\n",
       "      <th>itemid</th>\n",
       "      <th>userid</th>\n",
       "      <th>feedback</th>\n",
       "    </tr>\n",
       "  </thead>\n",
       "  <tbody>\n",
       "    <tr>\n",
       "      <th>0</th>\n",
       "      <td>0</td>\n",
       "      <td>33826</td>\n",
       "      <td>1.0</td>\n",
       "    </tr>\n",
       "    <tr>\n",
       "      <th>1</th>\n",
       "      <td>0</td>\n",
       "      <td>61025</td>\n",
       "      <td>1.0</td>\n",
       "    </tr>\n",
       "    <tr>\n",
       "      <th>2</th>\n",
       "      <td>0</td>\n",
       "      <td>337745</td>\n",
       "      <td>1.0</td>\n",
       "    </tr>\n",
       "    <tr>\n",
       "      <th>3</th>\n",
       "      <td>0</td>\n",
       "      <td>413925</td>\n",
       "      <td>1.0</td>\n",
       "    </tr>\n",
       "    <tr>\n",
       "      <th>4</th>\n",
       "      <td>0</td>\n",
       "      <td>510382</td>\n",
       "      <td>1.0</td>\n",
       "    </tr>\n",
       "  </tbody>\n",
       "</table>\n",
       "</div>"
      ],
      "text/plain": [
       "   itemid  userid  feedback\n",
       "0       0   33826       1.0\n",
       "1       0   61025       1.0\n",
       "2       0  337745       1.0\n",
       "3       0  413925       1.0\n",
       "4       0  510382       1.0"
      ]
     },
     "execution_count": 59,
     "metadata": {},
     "output_type": "execute_result"
    }
   ],
   "source": [
    "kiva_dataframe_f.head()"
   ]
  },
  {
   "cell_type": "code",
   "execution_count": null,
   "metadata": {
    "scrolled": false
   },
   "outputs": [],
   "source": [
    "data_model = RecommenderData(kiva_dataframe_f, 'userid', 'itemid', 'feedback', seed=0)\n",
    "data_model.warm_start = False\n",
    "\n",
    "start = time.time()\n",
    "data_model.prepare()\n",
    "logging.debug(\"Prepared data in %0.2fs\", time.time() - start)"
   ]
  },
  {
   "cell_type": "code",
   "execution_count": null,
   "metadata": {},
   "outputs": [],
   "source": [
    "random = RandomModel(data_model)\n",
    "popular = PopularityModel(data_model)\n",
    "svd = SVDModel(data_model)\n",
    "\n",
    "bpr = ImplicitBPR(data_model)\n",
    "bpr.rank = 200\n",
    "bpr.num_epochs = 100\n",
    "bpr.use_gpu = False\n",
    "\n",
    "als = ImplicitALS(data_model)\n",
    "als.epsilon = 1e-8\n",
    "als.weight_func = np.log2\n",
    "als.rank = 200\n",
    "als.num_epochs = 60\n",
    "als.alpha = 50\n",
    "als.regularization = 0.01\n",
    "\n",
    "models = [random, popular, svd, bpr, als]"
   ]
  },
  {
   "cell_type": "code",
   "execution_count": null,
   "metadata": {},
   "outputs": [],
   "source": [
    "metrics = ['ranking', 'relevance'] # metrics for evaluation: NDGC, Precision, Recall, etc.\n",
    "folds = [1]\n",
    "topk_values = [5, 10, 20] # values of k to experiment with\n",
    "\n",
    "start = time.time()\n",
    "\n",
    "result = ee.run_cv_experiment(models, folds, metrics,\n",
    "                              fold_experiment=ee.topk_test,\n",
    "                              topk_list=topk_values)\n",
    "\n",
    "\n",
    "logging.debug(\"Experiment finished in %0.2fs\", time.time() - start)"
   ]
  },
  {
   "cell_type": "code",
   "execution_count": null,
   "metadata": {},
   "outputs": [],
   "source": [
    "pickle.dump(result, open(\"eval_results/result_f_2.p\", \"wb\"))"
   ]
  },
  {
   "cell_type": "code",
   "execution_count": null,
   "metadata": {
    "scrolled": true
   },
   "outputs": [],
   "source": [
    "# calculate average values across all folds for e.g. relevance metrics\n",
    "scores = result.mean(axis=0, level=['top-n', 'model']) # use .std instead of .mean for standard deviation\n",
    "# scores.xs('recall', level='metric', axis=1).unstack('model')\n",
    "scores"
   ]
  },
  {
   "cell_type": "markdown",
   "metadata": {},
   "source": [
    "#### Test data sparsity"
   ]
  },
  {
   "cell_type": "code",
   "execution_count": null,
   "metadata": {},
   "outputs": [],
   "source": [
    "matrix_size = utility_matrix_f.shape[0]*utility_matrix_f.shape[1] # Number of possible interactions in the matrix\n",
    "num_interactions = utility_matrix_f.nnz # Number of items interacted with\n",
    "sparsity = 100*(1 - (num_interactions/matrix_size))\n",
    "print('Sparsitiy: %f %%' % sparsity)"
   ]
  }
 ],
 "metadata": {
  "kernelspec": {
   "display_name": "Python 3",
   "language": "python",
   "name": "python3"
  },
  "language_info": {
   "codemirror_mode": {
    "name": "ipython",
    "version": 3
   },
   "file_extension": ".py",
   "mimetype": "text/x-python",
   "name": "python",
   "nbconvert_exporter": "python",
   "pygments_lexer": "ipython3",
   "version": "3.6.8"
  }
 },
 "nbformat": 4,
 "nbformat_minor": 2
}
