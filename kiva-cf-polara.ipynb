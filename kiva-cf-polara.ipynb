{
 "cells": [
  {
   "cell_type": "markdown",
   "metadata": {},
   "source": [
    "# Kiva collaborative filtering\n",
    "## Polara framework"
   ]
  },
  {
   "cell_type": "markdown",
   "metadata": {},
   "source": [
    "***\n",
    "### Imports"
   ]
  },
  {
   "cell_type": "code",
   "execution_count": 1,
   "metadata": {},
   "outputs": [],
   "source": [
    "# essentials\n",
    "import os\n",
    "import sys\n",
    "import csv\n",
    "import itertools\n",
    "import copy\n",
    "import pandas as pd\n",
    "import numpy as np\n",
    "from sklearn.metrics import roc_auc_score, precision_recall_curve, auc\n",
    "from scipy.sparse import csr_matrix, lil_matrix\n",
    "\n",
    "# polara framework\n",
    "from polara.recommender.data import RecommenderData\n",
    "from polara.recommender.models import SVDModel, PopularityModel, RandomModel, CooccurrenceModel\n",
    "from polara.recommender.external.implicit.ialswrapper import ImplicitALS\n",
    "from polara.datasets.movielens import get_movielens_data\n",
    "from polara.evaluation import evaluation_engine as ee\n",
    "from polara.evaluation.plotting import show_hit_rates, show_precision_recall, show_ranking, show_relevance\n",
    "\n",
    "# utilities\n",
    "import codecs\n",
    "import logging\n",
    "import time\n",
    "import tqdm\n",
    "\n",
    "# visualization libraries\n",
    "import seaborn as sns\n",
    "import matplotlib.pyplot as plt\n",
    "\n",
    "# serialization\n",
    "import pickle"
   ]
  },
  {
   "cell_type": "code",
   "execution_count": 2,
   "metadata": {},
   "outputs": [],
   "source": [
    "pd.set_option('display.max_columns', 40)"
   ]
  },
  {
   "cell_type": "code",
   "execution_count": 3,
   "metadata": {},
   "outputs": [
    {
     "name": "stdout",
     "output_type": "stream",
     "text": [
      "env: MKL_NUM_THREADS=1\n"
     ]
    }
   ],
   "source": [
    "%env MKL_NUM_THREADS=1\n",
    "logging.basicConfig(level=logging.DEBUG)"
   ]
  },
  {
   "cell_type": "markdown",
   "metadata": {},
   "source": [
    "***\n",
    "### Pickle loads"
   ]
  },
  {
   "cell_type": "code",
   "execution_count": null,
   "metadata": {},
   "outputs": [],
   "source": [
    "loans_table = pickle.load(open(\"pickle/loans_table.p\", \"rb\"))\n",
    "funded_loans_table = pickle.load(open(\"pickle/funded_loans_table.p\", \"rb\"))\n",
    "funded_loan_ids_set = pickle.load(open(\"pickle/funded_loan_ids_set.p\", \"rb\"))"
   ]
  },
  {
   "cell_type": "code",
   "execution_count": null,
   "metadata": {},
   "outputs": [],
   "source": [
    "utility_matrix = pickle.load(open(\"pickle/utility_matrix.p\", \"rb\"))"
   ]
  },
  {
   "cell_type": "code",
   "execution_count": null,
   "metadata": {},
   "outputs": [],
   "source": [
    "utility_matrix_df = pickle.load(open(\"pickle/utility_matrix_df.p\", \"rb\"))"
   ]
  },
  {
   "cell_type": "code",
   "execution_count": null,
   "metadata": {},
   "outputs": [],
   "source": [
    "utility_matrix_df.head()"
   ]
  },
  {
   "cell_type": "markdown",
   "metadata": {},
   "source": [
    "***\n",
    "### Dataset reading"
   ]
  },
  {
   "cell_type": "code",
   "execution_count": null,
   "metadata": {},
   "outputs": [],
   "source": [
    "loans_table = pd.read_csv('additional-kiva-snapshot/loans.csv')\n",
    "loans_table = loans_table.sort_values(by='raised_time')"
   ]
  },
  {
   "cell_type": "code",
   "execution_count": null,
   "metadata": {},
   "outputs": [],
   "source": [
    "funded_loans_table = loans_table[loans_table.status == 'funded']"
   ]
  },
  {
   "cell_type": "code",
   "execution_count": null,
   "metadata": {},
   "outputs": [],
   "source": [
    "START_DATE = '2013-10-01'\n",
    "END_DATE = '2015-05-01'\n",
    "\n",
    "mask = (funded_loans_table['raised_time'] > START_DATE) & (funded_loans_table['raised_time'] <= END_DATE)\n",
    "funded_loans_table = funded_loans_table.loc[mask]\n",
    "del mask\n",
    "\n",
    "funded_loan_ids_set = set(funded_loans_table['loan_id'])"
   ]
  },
  {
   "cell_type": "code",
   "execution_count": null,
   "metadata": {},
   "outputs": [],
   "source": [
    "# pickle.dump(loans_table, open(\"pickle/loans_table.p\", \"wb\"))\n",
    "# pickle.dump(funded_loans_table, open(\"pickle/funded_loans_table.p\", \"wb\"))\n",
    "# pickle.dump(funded_loan_ids_set, open(\"pickle/funded_loan_ids_set.p\", \"wb\"))"
   ]
  },
  {
   "cell_type": "code",
   "execution_count": null,
   "metadata": {},
   "outputs": [],
   "source": [
    "# free ram\n",
    "del loans_table\n",
    "del funded_loans_table"
   ]
  },
  {
   "cell_type": "code",
   "execution_count": null,
   "metadata": {},
   "outputs": [],
   "source": [
    "loans = set()\n",
    "lenders = set()\n",
    "loans_lenders_dict = {}\n",
    "\n",
    "with open('additional-kiva-snapshot/loans_lenders.csv', newline='', encoding=\"utf8\") as csvfile:\n",
    "    csv_reader = csv.reader(csvfile)\n",
    "    line_num = 0\n",
    "    for row in csv_reader:\n",
    "        if line_num == 0:\n",
    "            line_num += 1\n",
    "            continue\n",
    "        loan_id, lender_ids = row\n",
    "        loan_id = int(loan_id)\n",
    "        if loan_id not in funded_loan_ids_set:\n",
    "            continue\n",
    "        \n",
    "        loans.add(loan_id)\n",
    "        new_lenders = set(lender_ids.split(\", \"))\n",
    "        loans_lenders_dict[loan_id] = new_lenders\n",
    "        lenders.update(new_lenders)\n",
    "        line_num += 1\n",
    "\n",
    "loans = list(loans)\n",
    "lenders = list(lenders)\n",
    "\n",
    "print('Loans-lenders dict filled')"
   ]
  },
  {
   "cell_type": "markdown",
   "metadata": {},
   "source": [
    "***\n",
    "### Utility matrix creation"
   ]
  },
  {
   "cell_type": "code",
   "execution_count": null,
   "metadata": {},
   "outputs": [],
   "source": [
    "lenders_reverse_index = {k: v for v, k in enumerate(lenders)}\n",
    "utility_matrix = lil_matrix((len(loans), len(lenders)), dtype=np.float64)"
   ]
  },
  {
   "cell_type": "code",
   "execution_count": null,
   "metadata": {},
   "outputs": [],
   "source": [
    "for loan_index, loan in enumerate(loans):\n",
    "    for lender in loans_lenders_dict[loan]:\n",
    "        lender_index = lenders_reverse_index[lender]\n",
    "        utility_matrix[loan_index, lender_index] = 1.0\n",
    "\n",
    "print('Filled utility matrix')"
   ]
  },
  {
   "cell_type": "code",
   "execution_count": null,
   "metadata": {},
   "outputs": [],
   "source": [
    "utility_matrix = utility_matrix.tocsr()"
   ]
  },
  {
   "cell_type": "code",
   "execution_count": null,
   "metadata": {},
   "outputs": [],
   "source": [
    "# pickle.dump(utility_matrix, open(\"pickle/utility_matrix.p\", \"wb\"))"
   ]
  },
  {
   "cell_type": "markdown",
   "metadata": {},
   "source": [
    "#### Conversion to SparseDataFrame"
   ]
  },
  {
   "cell_type": "code",
   "execution_count": null,
   "metadata": {},
   "outputs": [],
   "source": [
    "utility_matrix_df = pd.SparseDataFrame(utility_matrix)"
   ]
  },
  {
   "cell_type": "code",
   "execution_count": null,
   "metadata": {},
   "outputs": [],
   "source": [
    "# pickle.dump(utility_matrix_df, open(\"pickle/utility_matrix_df.p\", \"wb\"))"
   ]
  },
  {
   "cell_type": "code",
   "execution_count": null,
   "metadata": {},
   "outputs": [],
   "source": [
    "def write_matrix_to_csv(matrix, filename):\n",
    "    if not isinstance(matrix, scipy.sparse.coo_matrix):\n",
    "        matrix = matrix.tocoo()\n",
    "    \n",
    "    with open(filename, 'w', encoding='utf-8') as f:\n",
    "        f.write(\"%s,%s,%s\\n\" % ('itemid', 'userid', 'feedback'))\n",
    "        for i,j,v in zip(matrix.row, matrix.col, matrix.data):\n",
    "            f.write(\"%s,%s,%s\\n\" % (i, j, v))"
   ]
  },
  {
   "cell_type": "markdown",
   "metadata": {},
   "source": [
    "#### Load Kiva dataframe"
   ]
  },
  {
   "cell_type": "code",
   "execution_count": 4,
   "metadata": {},
   "outputs": [],
   "source": [
    "kiva_dataframe = pd.read_csv('kiva_dataframe.csv', engine='c')"
   ]
  },
  {
   "cell_type": "code",
   "execution_count": 5,
   "metadata": {},
   "outputs": [
    {
     "data": {
      "text/plain": [
       "(5339455, 3)"
      ]
     },
     "execution_count": 5,
     "metadata": {},
     "output_type": "execute_result"
    }
   ],
   "source": [
    "kiva_dataframe.shape"
   ]
  },
  {
   "cell_type": "code",
   "execution_count": 6,
   "metadata": {},
   "outputs": [
    {
     "data": {
      "text/html": [
       "<div>\n",
       "<style scoped>\n",
       "    .dataframe tbody tr th:only-of-type {\n",
       "        vertical-align: middle;\n",
       "    }\n",
       "\n",
       "    .dataframe tbody tr th {\n",
       "        vertical-align: top;\n",
       "    }\n",
       "\n",
       "    .dataframe thead th {\n",
       "        text-align: right;\n",
       "    }\n",
       "</style>\n",
       "<table border=\"1\" class=\"dataframe\">\n",
       "  <thead>\n",
       "    <tr style=\"text-align: right;\">\n",
       "      <th></th>\n",
       "      <th>itemid</th>\n",
       "      <th>userid</th>\n",
       "      <th>feedback</th>\n",
       "    </tr>\n",
       "  </thead>\n",
       "  <tbody>\n",
       "    <tr>\n",
       "      <th>0</th>\n",
       "      <td>0</td>\n",
       "      <td>7703</td>\n",
       "      <td>1.0</td>\n",
       "    </tr>\n",
       "    <tr>\n",
       "      <th>1</th>\n",
       "      <td>0</td>\n",
       "      <td>8354</td>\n",
       "      <td>1.0</td>\n",
       "    </tr>\n",
       "    <tr>\n",
       "      <th>2</th>\n",
       "      <td>0</td>\n",
       "      <td>9000</td>\n",
       "      <td>1.0</td>\n",
       "    </tr>\n",
       "    <tr>\n",
       "      <th>3</th>\n",
       "      <td>0</td>\n",
       "      <td>10247</td>\n",
       "      <td>1.0</td>\n",
       "    </tr>\n",
       "    <tr>\n",
       "      <th>4</th>\n",
       "      <td>0</td>\n",
       "      <td>21284</td>\n",
       "      <td>1.0</td>\n",
       "    </tr>\n",
       "  </tbody>\n",
       "</table>\n",
       "</div>"
      ],
      "text/plain": [
       "   itemid  userid  feedback\n",
       "0       0    7703       1.0\n",
       "1       0    8354       1.0\n",
       "2       0    9000       1.0\n",
       "3       0   10247       1.0\n",
       "4       0   21284       1.0"
      ]
     },
     "execution_count": 6,
     "metadata": {},
     "output_type": "execute_result"
    }
   ],
   "source": [
    "kiva_dataframe.head()"
   ]
  },
  {
   "cell_type": "markdown",
   "metadata": {},
   "source": [
    "***\n",
    "### Polara example"
   ]
  },
  {
   "cell_type": "code",
   "execution_count": null,
   "metadata": {},
   "outputs": [],
   "source": [
    "# define models\n",
    "ml_data = get_movielens_data(get_genres=False)\n",
    "data_model = RecommenderData(ml_data, 'userid', 'movieid', 'rating')\n",
    "\n",
    "# data_model = RecommenderData(kiva_dataframe, 'userid', 'itemid', 'feedback')\n",
    "\n",
    "svd = SVDModel(data_model)\n",
    "popular = PopularityModel(data_model)\n",
    "random = RandomModel(data_model)\n",
    "models = [svd, popular, random]\n",
    "\n",
    "metrics = ['ranking', 'relevance'] # metrics for evaluation: NDGC, Precision, Recall, etc.\n",
    "folds = [1, 2, 3, 4, 5] # use all 5 folds for cross-validation (default)\n",
    "topk_values = [1, 5, 10, 20, 50] # values of k to experiment with\n",
    "\n",
    "# run 5-fold CV experiment\n",
    "result = ee.run_cv_experiment(models, folds, metrics,\n",
    "                              fold_experiment=ee.topk_test,\n",
    "                              topk_list=topk_values)"
   ]
  },
  {
   "cell_type": "code",
   "execution_count": null,
   "metadata": {},
   "outputs": [],
   "source": [
    "# calculate average values across all folds for e.g. relevance metrics\n",
    "scores = result.mean(axis=0, level=['top-n', 'model']) # use .std instead of .mean for standard deviation\n",
    "# scores.xs('nDCG', level='metric', axis=1).unstack('model')"
   ]
  },
  {
   "cell_type": "code",
   "execution_count": null,
   "metadata": {},
   "outputs": [],
   "source": [
    "scores"
   ]
  },
  {
   "cell_type": "markdown",
   "metadata": {},
   "source": [
    "***\n",
    "### Cross-validation"
   ]
  },
  {
   "cell_type": "code",
   "execution_count": 7,
   "metadata": {},
   "outputs": [
    {
     "name": "stdout",
     "output_type": "stream",
     "text": [
      "Preparing data...\n",
      "207 unique itemid's within 228 holdout interactions were filtered. Reason: not in the training data.\n",
      "85452 unique userid's within 136096 holdout interactions were filtered. Reason: not in the training data.\n",
      "114 of 44225 userid's were filtered out from holdout. Reason: incompatible number of items.\n",
      "Done.\n",
      "There are 5070574 events in the training and 132333 events in the holdout.\n"
     ]
    },
    {
     "name": "stderr",
     "output_type": "stream",
     "text": [
      "DEBUG:root:Prepared data in 132.61s\n"
     ]
    }
   ],
   "source": [
    "data_model = RecommenderData(kiva_dataframe, 'userid', 'itemid', 'feedback', seed=0)\n",
    "data_model.warm_start = False\n",
    "\n",
    "start = time.time()\n",
    "data_model.prepare()\n",
    "logging.debug(\"Prepared data in %0.2fs\", time.time() - start)"
   ]
  },
  {
   "cell_type": "code",
   "execution_count": 8,
   "metadata": {},
   "outputs": [],
   "source": [
    "random = RandomModel(data_model)\n",
    "popular = PopularityModel(data_model)\n",
    "svd = SVDModel(data_model)"
   ]
  },
  {
   "cell_type": "markdown",
   "metadata": {},
   "source": [
    "Generate a list of ALS models by parameter grid:"
   ]
  },
  {
   "cell_type": "code",
   "execution_count": 9,
   "metadata": {},
   "outputs": [],
   "source": [
    "def get_base_model():\n",
    "    model = ImplicitALS(data_model)\n",
    "    model.epsilon = 1e-8\n",
    "    model.weight_func = np.log2\n",
    "    model.use_gpu = False\n",
    "    return model\n",
    "\n",
    "def get_grid_models(cv_param_grid):\n",
    "    models = []\n",
    "    keys, values = zip(*cv_param_grid.items())\n",
    "    for v in itertools.product(*values):\n",
    "        params = dict(zip(keys, v))\n",
    "        next_model = get_base_model()\n",
    "        name = 'ALS'\n",
    "        for k, v in params.items():\n",
    "            setattr(next_model, k, v)\n",
    "            name += '_%s-%s' % (k, v)\n",
    "        \n",
    "        next_model.method = name\n",
    "        models.append(next_model)\n",
    "    return models"
   ]
  },
  {
   "cell_type": "markdown",
   "metadata": {},
   "source": [
    "Cross-validation setup:"
   ]
  },
  {
   "cell_type": "code",
   "execution_count": 10,
   "metadata": {},
   "outputs": [],
   "source": [
    "cv_param_grid = {\n",
    "    'rank': [10, 50, 100],\n",
    "    'regularization': [0.01, 0.1, 1],\n",
    "    'alpha': [1, 50, 100],\n",
    "    'num_epochs': [15, 30, 40]\n",
    "}"
   ]
  },
  {
   "cell_type": "code",
   "execution_count": 11,
   "metadata": {},
   "outputs": [],
   "source": [
    "basic_models = [random, popular, svd]\n",
    "als_models = get_grid_models(cv_param_grid)\n",
    "models = basic_models + als_models\n",
    "\n",
    "metrics = ['ranking', 'relevance'] # metrics for evaluation: NDGC, Precision, Recall, etc.\n",
    "folds = [1, 2, 3]\n",
    "topk_values = [5, 10, 20] # values of k to experiment with"
   ]
  },
  {
   "cell_type": "code",
   "execution_count": 15,
   "metadata": {},
   "outputs": [
    {
     "name": "stdout",
     "output_type": "stream",
     "text": [
      "Preparing data...\n",
      "211 unique itemid's within 234 holdout interactions were filtered. Reason: not in the training data.\n",
      "85443 unique userid's within 136172 holdout interactions were filtered. Reason: not in the training data.\n",
      "100 of 44237 userid's were filtered out from holdout. Reason: incompatible number of items.\n",
      "Done.\n",
      "There are 5070446 events in the training and 132411 events in the holdout.\n",
      "PureSVD training time: 3.353s\n"
     ]
    },
    {
     "name": "stderr",
     "output_type": "stream",
     "text": [
      "DEBUG:implicit:Converting input to CSR format\n",
      "DEBUG:implicit:Converted input to CSR in 0.172s\n",
      "DEBUG:implicit:Calculated transpose in 0.127s\n",
      "DEBUG:implicit:Initialized factors in 0.14058566093444824\n",
      "DEBUG:implicit:Running 15 ALS iterations\n",
      "100%|████████████████████████████████████████████████████████████████████████████████| 15.0/15 [00:21<00:00,  1.43s/it]\n"
     ]
    },
    {
     "name": "stdout",
     "output_type": "stream",
     "text": [
      "ALS_rank-10_regularization-0.01_alpha-1_num_epochs-15 training time: 21.566s\n"
     ]
    },
    {
     "name": "stderr",
     "output_type": "stream",
     "text": [
      "DEBUG:implicit:Converting input to CSR format\n",
      "DEBUG:implicit:Converted input to CSR in 0.187s\n",
      "DEBUG:implicit:Calculated transpose in 0.125s\n",
      "DEBUG:implicit:Initialized factors in 0.14058518409729004\n",
      "DEBUG:implicit:Running 30 ALS iterations\n",
      "100%|████████████████████████████████████████████████████████████████████████████████| 30.0/30 [00:42<00:00,  1.26s/it]\n"
     ]
    },
    {
     "name": "stdout",
     "output_type": "stream",
     "text": [
      "ALS_rank-10_regularization-0.01_alpha-1_num_epochs-30 training time: 43.174s\n"
     ]
    },
    {
     "name": "stderr",
     "output_type": "stream",
     "text": [
      "DEBUG:implicit:Converting input to CSR format\n",
      "DEBUG:implicit:Converted input to CSR in 0.211s\n",
      "DEBUG:implicit:Calculated transpose in 0.176s\n",
      "DEBUG:implicit:Initialized factors in 0.12700605392456055\n",
      "DEBUG:implicit:Running 40 ALS iterations\n",
      "100%|████████████████████████████████████████████████████████████████████████████████| 40.0/40 [00:58<00:00,  1.37s/it]\n"
     ]
    },
    {
     "name": "stdout",
     "output_type": "stream",
     "text": [
      "ALS_rank-10_regularization-0.01_alpha-1_num_epochs-40 training time: 58.887s\n"
     ]
    },
    {
     "name": "stderr",
     "output_type": "stream",
     "text": [
      "DEBUG:implicit:Converting input to CSR format\n",
      "DEBUG:implicit:Converted input to CSR in 0.203s\n",
      "DEBUG:implicit:Calculated transpose in 0.141s\n",
      "DEBUG:implicit:Initialized factors in 0.14201688766479492\n",
      "DEBUG:implicit:Running 15 ALS iterations\n",
      "100%|████████████████████████████████████████████████████████████████████████████████| 15.0/15 [00:22<00:00,  1.42s/it]\n"
     ]
    },
    {
     "name": "stdout",
     "output_type": "stream",
     "text": [
      "ALS_rank-10_regularization-0.01_alpha-50_num_epochs-15 training time: 22.982s\n"
     ]
    },
    {
     "name": "stderr",
     "output_type": "stream",
     "text": [
      "DEBUG:implicit:Converting input to CSR format\n",
      "DEBUG:implicit:Converted input to CSR in 0.187s\n",
      "DEBUG:implicit:Calculated transpose in 0.156s\n",
      "DEBUG:implicit:Initialized factors in 0.1405777931213379\n",
      "DEBUG:implicit:Running 30 ALS iterations\n",
      "100%|████████████████████████████████████████████████████████████████████████████████| 30.0/30 [00:44<00:00,  1.47s/it]\n"
     ]
    },
    {
     "name": "stdout",
     "output_type": "stream",
     "text": [
      "ALS_rank-10_regularization-0.01_alpha-50_num_epochs-30 training time: 45.265s\n"
     ]
    },
    {
     "name": "stderr",
     "output_type": "stream",
     "text": [
      "DEBUG:implicit:Converting input to CSR format\n",
      "DEBUG:implicit:Converted input to CSR in 0.203s\n",
      "DEBUG:implicit:Calculated transpose in 0.141s\n",
      "DEBUG:implicit:Initialized factors in 0.14055800437927246\n",
      "DEBUG:implicit:Running 40 ALS iterations\n",
      "100%|████████████████████████████████████████████████████████████████████████████████| 40.0/40 [00:56<00:00,  1.36s/it]\n"
     ]
    },
    {
     "name": "stdout",
     "output_type": "stream",
     "text": [
      "ALS_rank-10_regularization-0.01_alpha-50_num_epochs-40 training time: 57.409s\n"
     ]
    },
    {
     "name": "stderr",
     "output_type": "stream",
     "text": [
      "DEBUG:implicit:Converting input to CSR format\n",
      "DEBUG:implicit:Converted input to CSR in 0.187s\n",
      "DEBUG:implicit:Calculated transpose in 0.141s\n",
      "DEBUG:implicit:Initialized factors in 0.14058780670166016\n",
      "DEBUG:implicit:Running 15 ALS iterations\n",
      "100%|████████████████████████████████████████████████████████████████████████████████| 15.0/15 [00:20<00:00,  1.32s/it]\n"
     ]
    },
    {
     "name": "stdout",
     "output_type": "stream",
     "text": [
      "ALS_rank-10_regularization-0.01_alpha-100_num_epochs-15 training time: 21.464s\n"
     ]
    },
    {
     "name": "stderr",
     "output_type": "stream",
     "text": [
      "DEBUG:implicit:Converting input to CSR format\n",
      "DEBUG:implicit:Converted input to CSR in 0.187s\n",
      "DEBUG:implicit:Calculated transpose in 0.125s\n",
      "DEBUG:implicit:Initialized factors in 0.14061713218688965\n",
      "DEBUG:implicit:Running 30 ALS iterations\n",
      "100%|████████████████████████████████████████████████████████████████████████████████| 30.0/30 [00:40<00:00,  1.26s/it]\n"
     ]
    },
    {
     "name": "stdout",
     "output_type": "stream",
     "text": [
      "ALS_rank-10_regularization-0.01_alpha-100_num_epochs-30 training time: 40.863s\n"
     ]
    },
    {
     "name": "stderr",
     "output_type": "stream",
     "text": [
      "DEBUG:implicit:Converting input to CSR format\n",
      "DEBUG:implicit:Converted input to CSR in 0.187s\n",
      "DEBUG:implicit:Calculated transpose in 0.125s\n",
      "DEBUG:implicit:Initialized factors in 0.14055943489074707\n",
      "DEBUG:implicit:Running 40 ALS iterations\n",
      "100%|████████████████████████████████████████████████████████████████████████████████| 40.0/40 [01:01<00:00,  1.44s/it]\n"
     ]
    },
    {
     "name": "stdout",
     "output_type": "stream",
     "text": [
      "ALS_rank-10_regularization-0.01_alpha-100_num_epochs-40 training time: 01m:02s\n"
     ]
    },
    {
     "name": "stderr",
     "output_type": "stream",
     "text": [
      "DEBUG:implicit:Converting input to CSR format\n",
      "DEBUG:implicit:Converted input to CSR in 0.203s\n",
      "DEBUG:implicit:Calculated transpose in 0.156s\n",
      "DEBUG:implicit:Initialized factors in 0.12499427795410156\n",
      "DEBUG:implicit:Running 15 ALS iterations\n",
      "100%|████████████████████████████████████████████████████████████████████████████████| 15.0/15 [00:21<00:00,  1.28s/it]\n"
     ]
    },
    {
     "name": "stdout",
     "output_type": "stream",
     "text": [
      "ALS_rank-10_regularization-0.1_alpha-1_num_epochs-15 training time: 22.062s\n"
     ]
    },
    {
     "name": "stderr",
     "output_type": "stream",
     "text": [
      "DEBUG:implicit:Converting input to CSR format\n",
      "DEBUG:implicit:Converted input to CSR in 0.156s\n",
      "DEBUG:implicit:Calculated transpose in 0.125s\n",
      "DEBUG:implicit:Initialized factors in 0.10937333106994629\n",
      "DEBUG:implicit:Running 30 ALS iterations\n",
      "100%|████████████████████████████████████████████████████████████████████████████████| 30.0/30 [00:44<00:00,  1.29s/it]\n"
     ]
    },
    {
     "name": "stdout",
     "output_type": "stream",
     "text": [
      "ALS_rank-10_regularization-0.1_alpha-1_num_epochs-30 training time: 45.158s\n"
     ]
    },
    {
     "name": "stderr",
     "output_type": "stream",
     "text": [
      "DEBUG:implicit:Converting input to CSR format\n",
      "DEBUG:implicit:Converted input to CSR in 0.187s\n",
      "DEBUG:implicit:Calculated transpose in 0.141s\n",
      "DEBUG:implicit:Initialized factors in 0.14059162139892578\n",
      "DEBUG:implicit:Running 40 ALS iterations\n",
      "100%|████████████████████████████████████████████████████████████████████████████████| 40.0/40 [00:56<00:00,  1.38s/it]\n"
     ]
    },
    {
     "name": "stdout",
     "output_type": "stream",
     "text": [
      "ALS_rank-10_regularization-0.1_alpha-1_num_epochs-40 training time: 57.005s\n"
     ]
    },
    {
     "name": "stderr",
     "output_type": "stream",
     "text": [
      "DEBUG:implicit:Converting input to CSR format\n",
      "DEBUG:implicit:Converted input to CSR in 0.187s\n",
      "DEBUG:implicit:Calculated transpose in 0.156s\n",
      "DEBUG:implicit:Initialized factors in 0.12497067451477051\n",
      "DEBUG:implicit:Running 15 ALS iterations\n",
      "100%|████████████████████████████████████████████████████████████████████████████████| 15.0/15 [00:20<00:00,  1.22s/it]\n"
     ]
    },
    {
     "name": "stdout",
     "output_type": "stream",
     "text": [
      "ALS_rank-10_regularization-0.1_alpha-50_num_epochs-15 training time: 21.245s\n"
     ]
    },
    {
     "name": "stderr",
     "output_type": "stream",
     "text": [
      "DEBUG:implicit:Converting input to CSR format\n",
      "DEBUG:implicit:Converted input to CSR in 0.172s\n",
      "DEBUG:implicit:Calculated transpose in 0.141s\n",
      "DEBUG:implicit:Initialized factors in 0.12493729591369629\n",
      "DEBUG:implicit:Running 30 ALS iterations\n",
      "100%|████████████████████████████████████████████████████████████████████████████████| 30.0/30 [00:41<00:00,  1.23s/it]\n"
     ]
    },
    {
     "name": "stdout",
     "output_type": "stream",
     "text": [
      "ALS_rank-10_regularization-0.1_alpha-50_num_epochs-30 training time: 42.029s\n"
     ]
    },
    {
     "name": "stderr",
     "output_type": "stream",
     "text": [
      "DEBUG:implicit:Converting input to CSR format\n",
      "DEBUG:implicit:Converted input to CSR in 0.172s\n",
      "DEBUG:implicit:Calculated transpose in 0.141s\n",
      "DEBUG:implicit:Initialized factors in 0.12499475479125977\n",
      "DEBUG:implicit:Running 40 ALS iterations\n",
      "100%|████████████████████████████████████████████████████████████████████████████████| 40.0/40 [00:54<00:00,  1.33s/it]\n"
     ]
    },
    {
     "name": "stdout",
     "output_type": "stream",
     "text": [
      "ALS_rank-10_regularization-0.1_alpha-50_num_epochs-40 training time: 54.605s\n"
     ]
    },
    {
     "name": "stderr",
     "output_type": "stream",
     "text": [
      "DEBUG:implicit:Converting input to CSR format\n",
      "DEBUG:implicit:Converted input to CSR in 0.156s\n",
      "DEBUG:implicit:Calculated transpose in 0.125s\n",
      "DEBUG:implicit:Initialized factors in 0.12496709823608398\n",
      "DEBUG:implicit:Running 15 ALS iterations\n",
      "100%|████████████████████████████████████████████████████████████████████████████████| 15.0/15 [00:20<00:00,  1.27s/it]\n"
     ]
    },
    {
     "name": "stdout",
     "output_type": "stream",
     "text": [
      "ALS_rank-10_regularization-0.1_alpha-100_num_epochs-15 training time: 21.233s\n"
     ]
    },
    {
     "name": "stderr",
     "output_type": "stream",
     "text": [
      "DEBUG:implicit:Converting input to CSR format\n",
      "DEBUG:implicit:Converted input to CSR in 0.172s\n",
      "DEBUG:implicit:Calculated transpose in 0.125s\n",
      "DEBUG:implicit:Initialized factors in 0.12493753433227539\n",
      "DEBUG:implicit:Running 30 ALS iterations\n",
      "100%|████████████████████████████████████████████████████████████████████████████████| 30.0/30 [00:41<00:00,  1.25s/it]\n"
     ]
    },
    {
     "name": "stdout",
     "output_type": "stream",
     "text": [
      "ALS_rank-10_regularization-0.1_alpha-100_num_epochs-30 training time: 41.581s\n"
     ]
    },
    {
     "name": "stderr",
     "output_type": "stream",
     "text": [
      "DEBUG:implicit:Converting input to CSR format\n",
      "DEBUG:implicit:Converted input to CSR in 0.172s\n",
      "DEBUG:implicit:Calculated transpose in 0.141s\n",
      "DEBUG:implicit:Initialized factors in 0.12499070167541504\n",
      "DEBUG:implicit:Running 40 ALS iterations\n",
      "100%|████████████████████████████████████████████████████████████████████████████████| 40.0/40 [00:55<00:00,  1.37s/it]\n"
     ]
    },
    {
     "name": "stdout",
     "output_type": "stream",
     "text": [
      "ALS_rank-10_regularization-0.1_alpha-100_num_epochs-40 training time: 55.816s\n"
     ]
    },
    {
     "name": "stderr",
     "output_type": "stream",
     "text": [
      "DEBUG:implicit:Converting input to CSR format\n",
      "DEBUG:implicit:Converted input to CSR in 0.172s\n",
      "DEBUG:implicit:Calculated transpose in 0.125s\n",
      "DEBUG:implicit:Initialized factors in 0.14061760902404785\n",
      "DEBUG:implicit:Running 15 ALS iterations\n",
      "100%|████████████████████████████████████████████████████████████████████████████████| 15.0/15 [00:20<00:00,  1.24s/it]\n"
     ]
    },
    {
     "name": "stdout",
     "output_type": "stream",
     "text": [
      "ALS_rank-10_regularization-1_alpha-1_num_epochs-15 training time: 21.285s\n"
     ]
    },
    {
     "name": "stderr",
     "output_type": "stream",
     "text": [
      "DEBUG:implicit:Converting input to CSR format\n",
      "DEBUG:implicit:Converted input to CSR in 0.172s\n",
      "DEBUG:implicit:Calculated transpose in 0.141s\n",
      "DEBUG:implicit:Initialized factors in 0.12499666213989258\n",
      "DEBUG:implicit:Running 30 ALS iterations\n",
      "100%|████████████████████████████████████████████████████████████████████████████████| 30.0/30 [00:41<00:00,  1.32s/it]\n"
     ]
    },
    {
     "name": "stdout",
     "output_type": "stream",
     "text": [
      "ALS_rank-10_regularization-1_alpha-1_num_epochs-30 training time: 42.423s\n"
     ]
    },
    {
     "name": "stderr",
     "output_type": "stream",
     "text": [
      "DEBUG:implicit:Converting input to CSR format\n",
      "DEBUG:implicit:Converted input to CSR in 0.172s\n",
      "DEBUG:implicit:Calculated transpose in 0.125s\n",
      "DEBUG:implicit:Initialized factors in 0.12496423721313477\n",
      "DEBUG:implicit:Running 40 ALS iterations\n",
      "100%|████████████████████████████████████████████████████████████████████████████████| 40.0/40 [00:58<00:00,  1.46s/it]\n"
     ]
    },
    {
     "name": "stdout",
     "output_type": "stream",
     "text": [
      "ALS_rank-10_regularization-1_alpha-1_num_epochs-40 training time: 58.642s\n"
     ]
    },
    {
     "name": "stderr",
     "output_type": "stream",
     "text": [
      "DEBUG:implicit:Converting input to CSR format\n",
      "DEBUG:implicit:Converted input to CSR in 0.172s\n",
      "DEBUG:implicit:Calculated transpose in 0.141s\n",
      "DEBUG:implicit:Initialized factors in 0.12496805191040039\n",
      "DEBUG:implicit:Running 15 ALS iterations\n",
      "100%|████████████████████████████████████████████████████████████████████████████████| 15.0/15 [00:20<00:00,  1.23s/it]\n"
     ]
    },
    {
     "name": "stdout",
     "output_type": "stream",
     "text": [
      "ALS_rank-10_regularization-1_alpha-50_num_epochs-15 training time: 20.630s\n"
     ]
    },
    {
     "name": "stderr",
     "output_type": "stream",
     "text": [
      "DEBUG:implicit:Converting input to CSR format\n",
      "DEBUG:implicit:Converted input to CSR in 0.172s\n",
      "DEBUG:implicit:Calculated transpose in 0.125s\n",
      "DEBUG:implicit:Initialized factors in 0.1249399185180664\n",
      "DEBUG:implicit:Running 30 ALS iterations\n",
      "100%|████████████████████████████████████████████████████████████████████████████████| 30.0/30 [00:40<00:00,  1.23s/it]\n"
     ]
    },
    {
     "name": "stdout",
     "output_type": "stream",
     "text": [
      "ALS_rank-10_regularization-1_alpha-50_num_epochs-30 training time: 40.988s\n"
     ]
    },
    {
     "name": "stderr",
     "output_type": "stream",
     "text": [
      "DEBUG:implicit:Converting input to CSR format\n",
      "DEBUG:implicit:Converted input to CSR in 0.156s\n",
      "DEBUG:implicit:Calculated transpose in 0.125s\n",
      "DEBUG:implicit:Initialized factors in 0.12493538856506348\n",
      "DEBUG:implicit:Running 40 ALS iterations\n",
      "100%|████████████████████████████████████████████████████████████████████████████████| 40.0/40 [00:54<00:00,  1.28s/it]\n"
     ]
    },
    {
     "name": "stdout",
     "output_type": "stream",
     "text": [
      "ALS_rank-10_regularization-1_alpha-50_num_epochs-40 training time: 54.847s\n"
     ]
    },
    {
     "name": "stderr",
     "output_type": "stream",
     "text": [
      "DEBUG:implicit:Converting input to CSR format\n",
      "DEBUG:implicit:Converted input to CSR in 0.187s\n",
      "DEBUG:implicit:Calculated transpose in 0.125s\n",
      "DEBUG:implicit:Initialized factors in 0.10937213897705078\n",
      "DEBUG:implicit:Running 15 ALS iterations\n",
      "100%|████████████████████████████████████████████████████████████████████████████████| 15.0/15 [00:20<00:00,  1.27s/it]\n"
     ]
    },
    {
     "name": "stdout",
     "output_type": "stream",
     "text": [
      "ALS_rank-10_regularization-1_alpha-100_num_epochs-15 training time: 20.940s\n"
     ]
    },
    {
     "name": "stderr",
     "output_type": "stream",
     "text": [
      "DEBUG:implicit:Converting input to CSR format\n",
      "DEBUG:implicit:Converted input to CSR in 0.172s\n",
      "DEBUG:implicit:Calculated transpose in 0.125s\n",
      "DEBUG:implicit:Initialized factors in 0.10937380790710449\n",
      "DEBUG:implicit:Running 30 ALS iterations\n",
      "100%|████████████████████████████████████████████████████████████████████████████████| 30.0/30 [00:41<00:00,  1.27s/it]\n"
     ]
    },
    {
     "name": "stdout",
     "output_type": "stream",
     "text": [
      "ALS_rank-10_regularization-1_alpha-100_num_epochs-30 training time: 41.610s\n"
     ]
    },
    {
     "name": "stderr",
     "output_type": "stream",
     "text": [
      "DEBUG:implicit:Converting input to CSR format\n",
      "DEBUG:implicit:Converted input to CSR in 0.156s\n",
      "DEBUG:implicit:Calculated transpose in 0.125s\n",
      "DEBUG:implicit:Initialized factors in 0.12496471405029297\n",
      "DEBUG:implicit:Running 40 ALS iterations\n",
      "100%|████████████████████████████████████████████████████████████████████████████████| 40.0/40 [00:54<00:00,  1.40s/it]\n"
     ]
    },
    {
     "name": "stdout",
     "output_type": "stream",
     "text": [
      "ALS_rank-10_regularization-1_alpha-100_num_epochs-40 training time: 55.122s\n"
     ]
    },
    {
     "name": "stderr",
     "output_type": "stream",
     "text": [
      "DEBUG:implicit:Converting input to CSR format\n",
      "DEBUG:implicit:Converted input to CSR in 0.172s\n",
      "DEBUG:implicit:Calculated transpose in 0.141s\n",
      "DEBUG:implicit:Initialized factors in 0.6091995239257812\n",
      "DEBUG:implicit:Running 15 ALS iterations\n",
      "100%|████████████████████████████████████████████████████████████████████████████████| 15.0/15 [00:27<00:00,  1.70s/it]\n"
     ]
    },
    {
     "name": "stdout",
     "output_type": "stream",
     "text": [
      "ALS_rank-50_regularization-0.01_alpha-1_num_epochs-15 training time: 28.760s\n"
     ]
    },
    {
     "name": "stderr",
     "output_type": "stream",
     "text": [
      "DEBUG:implicit:Converting input to CSR format\n",
      "DEBUG:implicit:Converted input to CSR in 0.172s\n",
      "DEBUG:implicit:Calculated transpose in 0.125s\n",
      "DEBUG:implicit:Initialized factors in 0.6248776912689209\n",
      "DEBUG:implicit:Running 30 ALS iterations\n",
      "100%|████████████████████████████████████████████████████████████████████████████████| 30.0/30 [00:55<00:00,  1.68s/it]\n"
     ]
    },
    {
     "name": "stdout",
     "output_type": "stream",
     "text": [
      "ALS_rank-50_regularization-0.01_alpha-1_num_epochs-30 training time: 56.229s\n"
     ]
    },
    {
     "name": "stderr",
     "output_type": "stream",
     "text": [
      "DEBUG:implicit:Converting input to CSR format\n",
      "DEBUG:implicit:Converted input to CSR in 0.172s\n",
      "DEBUG:implicit:Calculated transpose in 0.141s\n",
      "DEBUG:implicit:Initialized factors in 0.6091961860656738\n",
      "DEBUG:implicit:Running 40 ALS iterations\n",
      "100%|████████████████████████████████████████████████████████████████████████████████| 40.0/40 [01:14<00:00,  1.72s/it]\n"
     ]
    },
    {
     "name": "stdout",
     "output_type": "stream",
     "text": [
      "ALS_rank-50_regularization-0.01_alpha-1_num_epochs-40 training time: 01m:15s\n"
     ]
    },
    {
     "name": "stderr",
     "output_type": "stream",
     "text": [
      "DEBUG:implicit:Converting input to CSR format\n",
      "DEBUG:implicit:Converted input to CSR in 0.172s\n",
      "DEBUG:implicit:Calculated transpose in 0.125s\n",
      "DEBUG:implicit:Initialized factors in 0.6092369556427002\n",
      "DEBUG:implicit:Running 15 ALS iterations\n",
      "100%|████████████████████████████████████████████████████████████████████████████████| 15.0/15 [00:27<00:00,  1.71s/it]\n"
     ]
    },
    {
     "name": "stdout",
     "output_type": "stream",
     "text": [
      "ALS_rank-50_regularization-0.01_alpha-50_num_epochs-15 training time: 28.935s\n"
     ]
    },
    {
     "name": "stderr",
     "output_type": "stream",
     "text": [
      "DEBUG:implicit:Converting input to CSR format\n",
      "DEBUG:implicit:Converted input to CSR in 0.172s\n",
      "DEBUG:implicit:Calculated transpose in 0.141s\n",
      "DEBUG:implicit:Initialized factors in 0.609255313873291\n",
      "DEBUG:implicit:Running 30 ALS iterations\n",
      "100%|████████████████████████████████████████████████████████████████████████████████| 30.0/30 [00:54<00:00,  1.67s/it]\n"
     ]
    },
    {
     "name": "stdout",
     "output_type": "stream",
     "text": [
      "ALS_rank-50_regularization-0.01_alpha-50_num_epochs-30 training time: 55.505s\n"
     ]
    },
    {
     "name": "stderr",
     "output_type": "stream",
     "text": [
      "DEBUG:implicit:Converting input to CSR format\n",
      "DEBUG:implicit:Converted input to CSR in 0.156s\n",
      "DEBUG:implicit:Calculated transpose in 0.125s\n",
      "DEBUG:implicit:Initialized factors in 0.6248223781585693\n",
      "DEBUG:implicit:Running 40 ALS iterations\n",
      "100%|████████████████████████████████████████████████████████████████████████████████| 40.0/40 [01:13<00:00,  1.74s/it]\n"
     ]
    },
    {
     "name": "stdout",
     "output_type": "stream",
     "text": [
      "ALS_rank-50_regularization-0.01_alpha-50_num_epochs-40 training time: 01m:15s\n"
     ]
    },
    {
     "name": "stderr",
     "output_type": "stream",
     "text": [
      "DEBUG:implicit:Converting input to CSR format\n",
      "DEBUG:implicit:Converted input to CSR in 0.156s\n",
      "DEBUG:implicit:Calculated transpose in 0.125s\n",
      "DEBUG:implicit:Initialized factors in 0.624882698059082\n",
      "DEBUG:implicit:Running 15 ALS iterations\n",
      "100%|████████████████████████████████████████████████████████████████████████████████| 15.0/15 [00:27<00:00,  1.67s/it]\n"
     ]
    },
    {
     "name": "stdout",
     "output_type": "stream",
     "text": [
      "ALS_rank-50_regularization-0.01_alpha-100_num_epochs-15 training time: 28.258s\n"
     ]
    },
    {
     "name": "stderr",
     "output_type": "stream",
     "text": [
      "DEBUG:implicit:Converting input to CSR format\n",
      "DEBUG:implicit:Converted input to CSR in 0.187s\n",
      "DEBUG:implicit:Calculated transpose in 0.141s\n",
      "DEBUG:implicit:Initialized factors in 0.6092262268066406\n",
      "DEBUG:implicit:Running 30 ALS iterations\n",
      "100%|████████████████████████████████████████████████████████████████████████████████| 30.0/30 [00:55<00:00,  1.74s/it]\n"
     ]
    },
    {
     "name": "stdout",
     "output_type": "stream",
     "text": [
      "ALS_rank-50_regularization-0.01_alpha-100_num_epochs-30 training time: 56.560s\n"
     ]
    },
    {
     "name": "stderr",
     "output_type": "stream",
     "text": [
      "DEBUG:implicit:Converting input to CSR format\n",
      "DEBUG:implicit:Converted input to CSR in 0.172s\n",
      "DEBUG:implicit:Calculated transpose in 0.141s\n",
      "DEBUG:implicit:Initialized factors in 0.6092283725738525\n",
      "DEBUG:implicit:Running 40 ALS iterations\n",
      "100%|████████████████████████████████████████████████████████████████████████████████| 40.0/40 [01:14<00:00,  1.77s/it]\n"
     ]
    },
    {
     "name": "stdout",
     "output_type": "stream",
     "text": [
      "ALS_rank-50_regularization-0.01_alpha-100_num_epochs-40 training time: 01m:15s\n"
     ]
    },
    {
     "name": "stderr",
     "output_type": "stream",
     "text": [
      "DEBUG:implicit:Converting input to CSR format\n",
      "DEBUG:implicit:Converted input to CSR in 0.172s\n",
      "DEBUG:implicit:Calculated transpose in 0.125s\n",
      "DEBUG:implicit:Initialized factors in 0.6092255115509033\n",
      "DEBUG:implicit:Running 15 ALS iterations\n",
      "100%|████████████████████████████████████████████████████████████████████████████████| 15.0/15 [00:27<00:00,  1.67s/it]\n"
     ]
    },
    {
     "name": "stdout",
     "output_type": "stream",
     "text": [
      "ALS_rank-50_regularization-0.1_alpha-1_num_epochs-15 training time: 28.344s\n"
     ]
    },
    {
     "name": "stderr",
     "output_type": "stream",
     "text": [
      "DEBUG:implicit:Converting input to CSR format\n",
      "DEBUG:implicit:Converted input to CSR in 0.172s\n",
      "DEBUG:implicit:Calculated transpose in 0.141s\n",
      "DEBUG:implicit:Initialized factors in 0.6092555522918701\n",
      "DEBUG:implicit:Running 30 ALS iterations\n",
      "100%|████████████████████████████████████████████████████████████████████████████████| 30.0/30 [00:55<00:00,  1.70s/it]\n"
     ]
    },
    {
     "name": "stdout",
     "output_type": "stream",
     "text": [
      "ALS_rank-50_regularization-0.1_alpha-1_num_epochs-30 training time: 56.519s\n"
     ]
    },
    {
     "name": "stderr",
     "output_type": "stream",
     "text": [
      "DEBUG:implicit:Converting input to CSR format\n",
      "DEBUG:implicit:Converted input to CSR in 0.187s\n",
      "DEBUG:implicit:Calculated transpose in 0.125s\n",
      "DEBUG:implicit:Initialized factors in 0.6248528957366943\n",
      "DEBUG:implicit:Running 40 ALS iterations\n",
      "100%|████████████████████████████████████████████████████████████████████████████████| 40.0/40 [01:14<00:00,  1.71s/it]\n"
     ]
    },
    {
     "name": "stdout",
     "output_type": "stream",
     "text": [
      "ALS_rank-50_regularization-0.1_alpha-1_num_epochs-40 training time: 01m:15s\n"
     ]
    },
    {
     "name": "stderr",
     "output_type": "stream",
     "text": [
      "DEBUG:implicit:Converting input to CSR format\n",
      "DEBUG:implicit:Converted input to CSR in 0.172s\n",
      "DEBUG:implicit:Calculated transpose in 0.125s\n",
      "DEBUG:implicit:Initialized factors in 0.6092381477355957\n",
      "DEBUG:implicit:Running 15 ALS iterations\n",
      "100%|████████████████████████████████████████████████████████████████████████████████| 15.0/15 [00:27<00:00,  1.73s/it]\n"
     ]
    },
    {
     "name": "stdout",
     "output_type": "stream",
     "text": [
      "ALS_rank-50_regularization-0.1_alpha-50_num_epochs-15 training time: 28.825s\n"
     ]
    },
    {
     "name": "stderr",
     "output_type": "stream",
     "text": [
      "DEBUG:implicit:Converting input to CSR format\n",
      "DEBUG:implicit:Converted input to CSR in 0.172s\n",
      "DEBUG:implicit:Calculated transpose in 0.125s\n",
      "DEBUG:implicit:Initialized factors in 0.6248226165771484\n",
      "DEBUG:implicit:Running 30 ALS iterations\n",
      "100%|████████████████████████████████████████████████████████████████████████████████| 30.0/30 [00:55<00:00,  1.74s/it]\n"
     ]
    },
    {
     "name": "stdout",
     "output_type": "stream",
     "text": [
      "ALS_rank-50_regularization-0.1_alpha-50_num_epochs-30 training time: 56.422s\n"
     ]
    },
    {
     "name": "stderr",
     "output_type": "stream",
     "text": [
      "DEBUG:implicit:Converting input to CSR format\n",
      "DEBUG:implicit:Converted input to CSR in 0.172s\n",
      "DEBUG:implicit:Calculated transpose in 0.125s\n",
      "DEBUG:implicit:Initialized factors in 0.6248188018798828\n",
      "DEBUG:implicit:Running 40 ALS iterations\n",
      "100%|████████████████████████████████████████████████████████████████████████████████| 40.0/40 [01:13<00:00,  1.71s/it]\n"
     ]
    },
    {
     "name": "stdout",
     "output_type": "stream",
     "text": [
      "ALS_rank-50_regularization-0.1_alpha-50_num_epochs-40 training time: 01m:14s\n"
     ]
    },
    {
     "name": "stderr",
     "output_type": "stream",
     "text": [
      "DEBUG:implicit:Converting input to CSR format\n",
      "DEBUG:implicit:Converted input to CSR in 0.172s\n",
      "DEBUG:implicit:Calculated transpose in 0.125s\n",
      "DEBUG:implicit:Initialized factors in 0.6092245578765869\n",
      "DEBUG:implicit:Running 15 ALS iterations\n",
      "100%|████████████████████████████████████████████████████████████████████████████████| 15.0/15 [00:28<00:00,  1.70s/it]\n"
     ]
    },
    {
     "name": "stdout",
     "output_type": "stream",
     "text": [
      "ALS_rank-50_regularization-0.1_alpha-100_num_epochs-15 training time: 29.002s\n"
     ]
    },
    {
     "name": "stderr",
     "output_type": "stream",
     "text": [
      "DEBUG:implicit:Converting input to CSR format\n",
      "DEBUG:implicit:Converted input to CSR in 0.156s\n",
      "DEBUG:implicit:Calculated transpose in 0.138s\n",
      "DEBUG:implicit:Initialized factors in 0.6284418106079102\n",
      "DEBUG:implicit:Running 30 ALS iterations\n",
      "100%|████████████████████████████████████████████████████████████████████████████████| 30.0/30 [00:54<00:00,  1.66s/it]\n"
     ]
    },
    {
     "name": "stdout",
     "output_type": "stream",
     "text": [
      "ALS_rank-50_regularization-0.1_alpha-100_num_epochs-30 training time: 55.665s\n"
     ]
    },
    {
     "name": "stderr",
     "output_type": "stream",
     "text": [
      "DEBUG:implicit:Converting input to CSR format\n",
      "DEBUG:implicit:Converted input to CSR in 0.172s\n",
      "DEBUG:implicit:Calculated transpose in 0.125s\n",
      "DEBUG:implicit:Initialized factors in 0.6248757839202881\n",
      "DEBUG:implicit:Running 40 ALS iterations\n",
      "100%|████████████████████████████████████████████████████████████████████████████████| 40.0/40 [01:13<00:00,  1.69s/it]\n"
     ]
    },
    {
     "name": "stdout",
     "output_type": "stream",
     "text": [
      "ALS_rank-50_regularization-0.1_alpha-100_num_epochs-40 training time: 01m:14s\n"
     ]
    },
    {
     "name": "stderr",
     "output_type": "stream",
     "text": [
      "DEBUG:implicit:Converting input to CSR format\n",
      "DEBUG:implicit:Converted input to CSR in 0.156s\n",
      "DEBUG:implicit:Calculated transpose in 0.141s\n",
      "DEBUG:implicit:Initialized factors in 0.6091976165771484\n",
      "DEBUG:implicit:Running 15 ALS iterations\n",
      "100%|████████████████████████████████████████████████████████████████████████████████| 15.0/15 [00:27<00:00,  1.76s/it]\n"
     ]
    },
    {
     "name": "stdout",
     "output_type": "stream",
     "text": [
      "ALS_rank-50_regularization-1_alpha-1_num_epochs-15 training time: 28.632s\n"
     ]
    },
    {
     "name": "stderr",
     "output_type": "stream",
     "text": [
      "DEBUG:implicit:Converting input to CSR format\n",
      "DEBUG:implicit:Converted input to CSR in 0.172s\n",
      "DEBUG:implicit:Calculated transpose in 0.125s\n",
      "DEBUG:implicit:Initialized factors in 0.62481689453125\n",
      "DEBUG:implicit:Running 30 ALS iterations\n",
      "100%|████████████████████████████████████████████████████████████████████████████████| 30.0/30 [00:54<00:00,  1.70s/it]\n"
     ]
    },
    {
     "name": "stdout",
     "output_type": "stream",
     "text": [
      "ALS_rank-50_regularization-1_alpha-1_num_epochs-30 training time: 55.630s\n"
     ]
    },
    {
     "name": "stderr",
     "output_type": "stream",
     "text": [
      "DEBUG:implicit:Converting input to CSR format\n",
      "DEBUG:implicit:Converted input to CSR in 0.172s\n",
      "DEBUG:implicit:Calculated transpose in 0.125s\n",
      "DEBUG:implicit:Initialized factors in 0.6248447895050049\n",
      "DEBUG:implicit:Running 40 ALS iterations\n",
      "100%|████████████████████████████████████████████████████████████████████████████████| 40.0/40 [01:13<00:00,  1.73s/it]\n"
     ]
    },
    {
     "name": "stdout",
     "output_type": "stream",
     "text": [
      "ALS_rank-50_regularization-1_alpha-1_num_epochs-40 training time: 01m:14s\n"
     ]
    },
    {
     "name": "stderr",
     "output_type": "stream",
     "text": [
      "DEBUG:implicit:Converting input to CSR format\n",
      "DEBUG:implicit:Converted input to CSR in 0.172s\n",
      "DEBUG:implicit:Calculated transpose in 0.125s\n",
      "DEBUG:implicit:Initialized factors in 0.6092255115509033\n",
      "DEBUG:implicit:Running 15 ALS iterations\n",
      "100%|████████████████████████████████████████████████████████████████████████████████| 15.0/15 [00:28<00:00,  1.96s/it]\n"
     ]
    },
    {
     "name": "stdout",
     "output_type": "stream",
     "text": [
      "ALS_rank-50_regularization-1_alpha-50_num_epochs-15 training time: 29.269s\n"
     ]
    },
    {
     "name": "stderr",
     "output_type": "stream",
     "text": [
      "DEBUG:implicit:Converting input to CSR format\n",
      "DEBUG:implicit:Converted input to CSR in 0.187s\n",
      "DEBUG:implicit:Calculated transpose in 0.156s\n",
      "DEBUG:implicit:Initialized factors in 0.8435335159301758\n",
      "DEBUG:implicit:Running 30 ALS iterations\n",
      "100%|████████████████████████████████████████████████████████████████████████████████| 30.0/30 [00:56<00:00,  1.72s/it]\n"
     ]
    },
    {
     "name": "stdout",
     "output_type": "stream",
     "text": [
      "ALS_rank-50_regularization-1_alpha-50_num_epochs-30 training time: 57.457s\n"
     ]
    },
    {
     "name": "stderr",
     "output_type": "stream",
     "text": [
      "DEBUG:implicit:Converting input to CSR format\n",
      "DEBUG:implicit:Converted input to CSR in 0.172s\n",
      "DEBUG:implicit:Calculated transpose in 0.125s\n",
      "DEBUG:implicit:Initialized factors in 0.6248455047607422\n",
      "DEBUG:implicit:Running 40 ALS iterations\n",
      "100%|████████████████████████████████████████████████████████████████████████████████| 40.0/40 [01:14<00:00,  1.78s/it]\n"
     ]
    },
    {
     "name": "stdout",
     "output_type": "stream",
     "text": [
      "ALS_rank-50_regularization-1_alpha-50_num_epochs-40 training time: 01m:15s\n"
     ]
    },
    {
     "name": "stderr",
     "output_type": "stream",
     "text": [
      "DEBUG:implicit:Converting input to CSR format\n",
      "DEBUG:implicit:Converted input to CSR in 0.172s\n",
      "DEBUG:implicit:Calculated transpose in 0.125s\n",
      "DEBUG:implicit:Initialized factors in 0.6248455047607422\n",
      "DEBUG:implicit:Running 15 ALS iterations\n",
      "100%|████████████████████████████████████████████████████████████████████████████████| 15.0/15 [00:27<00:00,  1.77s/it]\n"
     ]
    },
    {
     "name": "stdout",
     "output_type": "stream",
     "text": [
      "ALS_rank-50_regularization-1_alpha-100_num_epochs-15 training time: 28.651s\n"
     ]
    },
    {
     "name": "stderr",
     "output_type": "stream",
     "text": [
      "DEBUG:implicit:Converting input to CSR format\n",
      "DEBUG:implicit:Converted input to CSR in 0.172s\n",
      "DEBUG:implicit:Calculated transpose in 0.156s\n",
      "DEBUG:implicit:Initialized factors in 0.6417739391326904\n",
      "DEBUG:implicit:Running 30 ALS iterations\n",
      "100%|████████████████████████████████████████████████████████████████████████████████| 30.0/30 [00:54<00:00,  1.69s/it]\n"
     ]
    },
    {
     "name": "stdout",
     "output_type": "stream",
     "text": [
      "ALS_rank-50_regularization-1_alpha-100_num_epochs-30 training time: 55.930s\n"
     ]
    },
    {
     "name": "stderr",
     "output_type": "stream",
     "text": [
      "DEBUG:implicit:Converting input to CSR format\n",
      "DEBUG:implicit:Converted input to CSR in 0.172s\n",
      "DEBUG:implicit:Calculated transpose in 0.125s\n",
      "DEBUG:implicit:Initialized factors in 0.6248407363891602\n",
      "DEBUG:implicit:Running 40 ALS iterations\n",
      "100%|████████████████████████████████████████████████████████████████████████████████| 40.0/40 [01:12<00:00,  1.68s/it]\n"
     ]
    },
    {
     "name": "stdout",
     "output_type": "stream",
     "text": [
      "ALS_rank-50_regularization-1_alpha-100_num_epochs-40 training time: 01m:14s\n"
     ]
    },
    {
     "name": "stderr",
     "output_type": "stream",
     "text": [
      "DEBUG:implicit:Converting input to CSR format\n",
      "DEBUG:implicit:Converted input to CSR in 0.172s\n",
      "DEBUG:implicit:Calculated transpose in 0.125s\n",
      "DEBUG:implicit:Initialized factors in 1.6558239459991455\n",
      "DEBUG:implicit:Running 15 ALS iterations\n",
      "100%|████████████████████████████████████████████████████████████████████████████████| 15.0/15 [00:39<00:00,  2.37s/it]\n"
     ]
    },
    {
     "name": "stdout",
     "output_type": "stream",
     "text": [
      "ALS_rank-100_regularization-0.01_alpha-1_num_epochs-15 training time: 41.565s\n"
     ]
    },
    {
     "name": "stderr",
     "output_type": "stream",
     "text": [
      "DEBUG:implicit:Converting input to CSR format\n",
      "DEBUG:implicit:Converted input to CSR in 0.156s\n",
      "DEBUG:implicit:Calculated transpose in 0.141s\n",
      "DEBUG:implicit:Initialized factors in 1.2184288501739502\n",
      "DEBUG:implicit:Running 30 ALS iterations\n",
      "100%|████████████████████████████████████████████████████████████████████████████████| 30.0/30 [01:16<00:00,  2.47s/it]\n"
     ]
    },
    {
     "name": "stdout",
     "output_type": "stream",
     "text": [
      "ALS_rank-100_regularization-0.01_alpha-1_num_epochs-30 training time: 01m:18s\n"
     ]
    },
    {
     "name": "stderr",
     "output_type": "stream",
     "text": [
      "DEBUG:implicit:Converting input to CSR format\n",
      "DEBUG:implicit:Converted input to CSR in 0.172s\n",
      "DEBUG:implicit:Calculated transpose in 0.125s\n",
      "DEBUG:implicit:Initialized factors in 1.296562671661377\n",
      "DEBUG:implicit:Running 40 ALS iterations\n",
      "100%|████████████████████████████████████████████████████████████████████████████████| 40.0/40 [01:42<00:00,  2.36s/it]\n"
     ]
    },
    {
     "name": "stdout",
     "output_type": "stream",
     "text": [
      "ALS_rank-100_regularization-0.01_alpha-1_num_epochs-40 training time: 01m:44s\n"
     ]
    },
    {
     "name": "stderr",
     "output_type": "stream",
     "text": [
      "DEBUG:implicit:Converting input to CSR format\n",
      "DEBUG:implicit:Converted input to CSR in 0.172s\n",
      "DEBUG:implicit:Calculated transpose in 0.125s\n",
      "DEBUG:implicit:Initialized factors in 1.234081745147705\n",
      "DEBUG:implicit:Running 15 ALS iterations\n",
      "100%|████████████████████████████████████████████████████████████████████████████████| 15.0/15 [00:39<00:00,  2.43s/it]\n"
     ]
    },
    {
     "name": "stdout",
     "output_type": "stream",
     "text": [
      "ALS_rank-100_regularization-0.01_alpha-50_num_epochs-15 training time: 40.996s\n"
     ]
    },
    {
     "name": "stderr",
     "output_type": "stream",
     "text": [
      "DEBUG:implicit:Converting input to CSR format\n",
      "DEBUG:implicit:Converted input to CSR in 0.156s\n",
      "DEBUG:implicit:Calculated transpose in 0.141s\n",
      "DEBUG:implicit:Initialized factors in 1.2965385913848877\n",
      "DEBUG:implicit:Running 30 ALS iterations\n",
      "100%|████████████████████████████████████████████████████████████████████████████████| 30.0/30 [01:18<00:00,  2.45s/it]\n"
     ]
    },
    {
     "name": "stdout",
     "output_type": "stream",
     "text": [
      "ALS_rank-100_regularization-0.01_alpha-50_num_epochs-30 training time: 01m:20s\n"
     ]
    },
    {
     "name": "stderr",
     "output_type": "stream",
     "text": [
      "DEBUG:implicit:Converting input to CSR format\n",
      "DEBUG:implicit:Converted input to CSR in 0.172s\n",
      "DEBUG:implicit:Calculated transpose in 0.125s\n",
      "DEBUG:implicit:Initialized factors in 2.2650558948516846\n",
      "DEBUG:implicit:Running 40 ALS iterations\n",
      "100%|████████████████████████████████████████████████████████████████████████████████| 40.0/40 [01:43<00:00,  2.33s/it]\n"
     ]
    },
    {
     "name": "stdout",
     "output_type": "stream",
     "text": [
      "ALS_rank-100_regularization-0.01_alpha-50_num_epochs-40 training time: 01m:46s\n"
     ]
    },
    {
     "name": "stderr",
     "output_type": "stream",
     "text": [
      "DEBUG:implicit:Converting input to CSR format\n",
      "DEBUG:implicit:Converted input to CSR in 0.172s\n",
      "DEBUG:implicit:Calculated transpose in 0.125s\n",
      "DEBUG:implicit:Initialized factors in 1.3121564388275146\n",
      "DEBUG:implicit:Running 15 ALS iterations\n",
      "100%|████████████████████████████████████████████████████████████████████████████████| 15.0/15 [00:37<00:00,  2.34s/it]\n"
     ]
    },
    {
     "name": "stdout",
     "output_type": "stream",
     "text": [
      "ALS_rank-100_regularization-0.01_alpha-100_num_epochs-15 training time: 39.560s\n"
     ]
    },
    {
     "name": "stderr",
     "output_type": "stream",
     "text": [
      "DEBUG:implicit:Converting input to CSR format\n",
      "DEBUG:implicit:Converted input to CSR in 0.172s\n",
      "DEBUG:implicit:Calculated transpose in 0.125s\n",
      "DEBUG:implicit:Initialized factors in 1.2184555530548096\n",
      "DEBUG:implicit:Running 30 ALS iterations\n",
      "100%|████████████████████████████████████████████████████████████████████████████████| 30.0/30 [01:16<00:00,  2.34s/it]\n"
     ]
    },
    {
     "name": "stdout",
     "output_type": "stream",
     "text": [
      "ALS_rank-100_regularization-0.01_alpha-100_num_epochs-30 training time: 01m:18s\n"
     ]
    },
    {
     "name": "stderr",
     "output_type": "stream",
     "text": [
      "DEBUG:implicit:Converting input to CSR format\n",
      "DEBUG:implicit:Converted input to CSR in 0.172s\n",
      "DEBUG:implicit:Calculated transpose in 0.125s\n",
      "DEBUG:implicit:Initialized factors in 1.2184545993804932\n",
      "DEBUG:implicit:Running 40 ALS iterations\n",
      "100%|████████████████████████████████████████████████████████████████████████████████| 40.0/40 [01:42<00:00,  2.35s/it]\n"
     ]
    },
    {
     "name": "stdout",
     "output_type": "stream",
     "text": [
      "ALS_rank-100_regularization-0.01_alpha-100_num_epochs-40 training time: 01m:44s\n"
     ]
    },
    {
     "name": "stderr",
     "output_type": "stream",
     "text": [
      "DEBUG:implicit:Converting input to CSR format\n",
      "DEBUG:implicit:Converted input to CSR in 0.172s\n",
      "DEBUG:implicit:Calculated transpose in 0.125s\n",
      "DEBUG:implicit:Initialized factors in 1.2496910095214844\n",
      "DEBUG:implicit:Running 15 ALS iterations\n",
      "100%|████████████████████████████████████████████████████████████████████████████████| 15.0/15 [00:37<00:00,  2.37s/it]\n"
     ]
    },
    {
     "name": "stdout",
     "output_type": "stream",
     "text": [
      "ALS_rank-100_regularization-0.1_alpha-1_num_epochs-15 training time: 39.587s\n"
     ]
    },
    {
     "name": "stderr",
     "output_type": "stream",
     "text": [
      "DEBUG:implicit:Converting input to CSR format\n",
      "DEBUG:implicit:Converted input to CSR in 0.172s\n",
      "DEBUG:implicit:Calculated transpose in 0.125s\n",
      "DEBUG:implicit:Initialized factors in 1.234081745147705\n",
      "DEBUG:implicit:Running 30 ALS iterations\n",
      "100%|████████████████████████████████████████████████████████████████████████████████| 30.0/30 [01:18<00:00,  2.35s/it]\n"
     ]
    },
    {
     "name": "stdout",
     "output_type": "stream",
     "text": [
      "ALS_rank-100_regularization-0.1_alpha-1_num_epochs-30 training time: 01m:20s\n"
     ]
    },
    {
     "name": "stderr",
     "output_type": "stream",
     "text": [
      "DEBUG:implicit:Converting input to CSR format\n",
      "DEBUG:implicit:Converted input to CSR in 0.172s\n",
      "DEBUG:implicit:Calculated transpose in 0.125s\n",
      "DEBUG:implicit:Initialized factors in 1.9995229244232178\n",
      "DEBUG:implicit:Running 40 ALS iterations\n",
      "100%|████████████████████████████████████████████████████████████████████████████████| 40.0/40 [01:43<00:00,  2.33s/it]\n"
     ]
    },
    {
     "name": "stdout",
     "output_type": "stream",
     "text": [
      "ALS_rank-100_regularization-0.1_alpha-1_num_epochs-40 training time: 01m:46s\n"
     ]
    },
    {
     "name": "stderr",
     "output_type": "stream",
     "text": [
      "DEBUG:implicit:Converting input to CSR format\n",
      "DEBUG:implicit:Converted input to CSR in 0.172s\n",
      "DEBUG:implicit:Calculated transpose in 0.125s\n",
      "DEBUG:implicit:Initialized factors in 1.202831506729126\n",
      "DEBUG:implicit:Running 15 ALS iterations\n",
      "100%|████████████████████████████████████████████████████████████████████████████████| 15.0/15 [00:37<00:00,  2.37s/it]\n"
     ]
    },
    {
     "name": "stdout",
     "output_type": "stream",
     "text": [
      "ALS_rank-100_regularization-0.1_alpha-50_num_epochs-15 training time: 39.314s\n"
     ]
    },
    {
     "name": "stderr",
     "output_type": "stream",
     "text": [
      "DEBUG:implicit:Converting input to CSR format\n",
      "DEBUG:implicit:Converted input to CSR in 0.156s\n",
      "DEBUG:implicit:Calculated transpose in 0.125s\n",
      "DEBUG:implicit:Initialized factors in 1.2028350830078125\n",
      "DEBUG:implicit:Running 30 ALS iterations\n",
      "100%|████████████████████████████████████████████████████████████████████████████████| 30.0/30 [01:16<00:00,  2.40s/it]\n"
     ]
    },
    {
     "name": "stdout",
     "output_type": "stream",
     "text": [
      "ALS_rank-100_regularization-0.1_alpha-50_num_epochs-30 training time: 01m:18s\n"
     ]
    },
    {
     "name": "stderr",
     "output_type": "stream",
     "text": [
      "DEBUG:implicit:Converting input to CSR format\n",
      "DEBUG:implicit:Converted input to CSR in 0.187s\n",
      "DEBUG:implicit:Calculated transpose in 0.125s\n",
      "DEBUG:implicit:Initialized factors in 1.2809715270996094\n",
      "DEBUG:implicit:Running 40 ALS iterations\n",
      "100%|████████████████████████████████████████████████████████████████████████████████| 40.0/40 [01:41<00:00,  2.35s/it]\n"
     ]
    },
    {
     "name": "stdout",
     "output_type": "stream",
     "text": [
      "ALS_rank-100_regularization-0.1_alpha-50_num_epochs-40 training time: 01m:43s\n"
     ]
    },
    {
     "name": "stderr",
     "output_type": "stream",
     "text": [
      "DEBUG:implicit:Converting input to CSR format\n",
      "DEBUG:implicit:Converted input to CSR in 0.172s\n",
      "DEBUG:implicit:Calculated transpose in 0.125s\n",
      "DEBUG:implicit:Initialized factors in 1.2496981620788574\n",
      "DEBUG:implicit:Running 15 ALS iterations\n",
      "100%|████████████████████████████████████████████████████████████████████████████████| 15.0/15 [00:37<00:00,  2.37s/it]\n"
     ]
    },
    {
     "name": "stdout",
     "output_type": "stream",
     "text": [
      "ALS_rank-100_regularization-0.1_alpha-100_num_epochs-15 training time: 39.394s\n"
     ]
    },
    {
     "name": "stderr",
     "output_type": "stream",
     "text": [
      "DEBUG:implicit:Converting input to CSR format\n",
      "DEBUG:implicit:Converted input to CSR in 0.156s\n",
      "DEBUG:implicit:Calculated transpose in 0.125s\n",
      "DEBUG:implicit:Initialized factors in 1.2920963764190674\n",
      "DEBUG:implicit:Running 30 ALS iterations\n",
      "100%|████████████████████████████████████████████████████████████████████████████████| 30.0/30 [01:17<00:00,  2.38s/it]\n"
     ]
    },
    {
     "name": "stdout",
     "output_type": "stream",
     "text": [
      "ALS_rank-100_regularization-0.1_alpha-100_num_epochs-30 training time: 01m:19s\n"
     ]
    },
    {
     "name": "stderr",
     "output_type": "stream",
     "text": [
      "DEBUG:implicit:Converting input to CSR format\n",
      "DEBUG:implicit:Converted input to CSR in 0.172s\n",
      "DEBUG:implicit:Calculated transpose in 0.125s\n",
      "DEBUG:implicit:Initialized factors in 1.5152547359466553\n",
      "DEBUG:implicit:Running 40 ALS iterations\n",
      "100%|████████████████████████████████████████████████████████████████████████████████| 40.0/40 [01:42<00:00,  2.38s/it]\n"
     ]
    },
    {
     "name": "stdout",
     "output_type": "stream",
     "text": [
      "ALS_rank-100_regularization-0.1_alpha-100_num_epochs-40 training time: 01m:44s\n"
     ]
    },
    {
     "name": "stderr",
     "output_type": "stream",
     "text": [
      "DEBUG:implicit:Converting input to CSR format\n",
      "DEBUG:implicit:Converted input to CSR in 0.156s\n",
      "DEBUG:implicit:Calculated transpose in 0.141s\n",
      "DEBUG:implicit:Initialized factors in 1.2340760231018066\n",
      "DEBUG:implicit:Running 15 ALS iterations\n",
      "100%|████████████████████████████████████████████████████████████████████████████████| 15.0/15 [00:38<00:00,  2.39s/it]\n"
     ]
    },
    {
     "name": "stdout",
     "output_type": "stream",
     "text": [
      "ALS_rank-100_regularization-1_alpha-1_num_epochs-15 training time: 40.162s\n"
     ]
    },
    {
     "name": "stderr",
     "output_type": "stream",
     "text": [
      "DEBUG:implicit:Converting input to CSR format\n",
      "DEBUG:implicit:Converted input to CSR in 0.172s\n",
      "DEBUG:implicit:Calculated transpose in 0.125s\n",
      "DEBUG:implicit:Initialized factors in 1.234079360961914\n",
      "DEBUG:implicit:Running 30 ALS iterations\n",
      "100%|████████████████████████████████████████████████████████████████████████████████| 30.0/30 [01:16<00:00,  2.51s/it]\n"
     ]
    },
    {
     "name": "stdout",
     "output_type": "stream",
     "text": [
      "ALS_rank-100_regularization-1_alpha-1_num_epochs-30 training time: 01m:18s\n"
     ]
    },
    {
     "name": "stderr",
     "output_type": "stream",
     "text": [
      "DEBUG:implicit:Converting input to CSR format\n",
      "DEBUG:implicit:Converted input to CSR in 0.172s\n",
      "DEBUG:implicit:Calculated transpose in 0.125s\n",
      "DEBUG:implicit:Initialized factors in 1.452747106552124\n",
      "DEBUG:implicit:Running 40 ALS iterations\n",
      "100%|████████████████████████████████████████████████████████████████████████████████| 40.0/40 [01:42<00:00,  2.47s/it]\n"
     ]
    },
    {
     "name": "stdout",
     "output_type": "stream",
     "text": [
      "ALS_rank-100_regularization-1_alpha-1_num_epochs-40 training time: 01m:45s\n"
     ]
    },
    {
     "name": "stderr",
     "output_type": "stream",
     "text": [
      "DEBUG:implicit:Converting input to CSR format\n",
      "DEBUG:implicit:Converted input to CSR in 0.156s\n",
      "DEBUG:implicit:Calculated transpose in 0.125s\n",
      "DEBUG:implicit:Initialized factors in 1.2497220039367676\n",
      "DEBUG:implicit:Running 15 ALS iterations\n",
      "100%|████████████████████████████████████████████████████████████████████████████████| 15.0/15 [00:39<00:00,  2.40s/it]\n"
     ]
    },
    {
     "name": "stdout",
     "output_type": "stream",
     "text": [
      "ALS_rank-100_regularization-1_alpha-50_num_epochs-15 training time: 41.226s\n"
     ]
    },
    {
     "name": "stderr",
     "output_type": "stream",
     "text": [
      "DEBUG:implicit:Converting input to CSR format\n",
      "DEBUG:implicit:Converted input to CSR in 0.156s\n",
      "DEBUG:implicit:Calculated transpose in 0.141s\n",
      "DEBUG:implicit:Initialized factors in 1.2652955055236816\n",
      "DEBUG:implicit:Running 30 ALS iterations\n",
      "100%|████████████████████████████████████████████████████████████████████████████████| 30.0/30 [01:16<00:00,  2.36s/it]\n"
     ]
    },
    {
     "name": "stdout",
     "output_type": "stream",
     "text": [
      "ALS_rank-100_regularization-1_alpha-50_num_epochs-30 training time: 01m:18s\n"
     ]
    },
    {
     "name": "stderr",
     "output_type": "stream",
     "text": [
      "DEBUG:implicit:Converting input to CSR format\n",
      "DEBUG:implicit:Converted input to CSR in 0.156s\n",
      "DEBUG:implicit:Calculated transpose in 0.141s\n",
      "DEBUG:implicit:Initialized factors in 1.5777490139007568\n",
      "DEBUG:implicit:Running 40 ALS iterations\n",
      "100%|████████████████████████████████████████████████████████████████████████████████| 40.0/40 [01:42<00:00,  2.38s/it]\n"
     ]
    },
    {
     "name": "stdout",
     "output_type": "stream",
     "text": [
      "ALS_rank-100_regularization-1_alpha-50_num_epochs-40 training time: 01m:44s\n"
     ]
    },
    {
     "name": "stderr",
     "output_type": "stream",
     "text": [
      "DEBUG:implicit:Converting input to CSR format\n",
      "DEBUG:implicit:Converted input to CSR in 0.172s\n",
      "DEBUG:implicit:Calculated transpose in 0.125s\n",
      "DEBUG:implicit:Initialized factors in 1.249668836593628\n",
      "DEBUG:implicit:Running 15 ALS iterations\n",
      "100%|████████████████████████████████████████████████████████████████████████████████| 15.0/15 [00:38<00:00,  2.42s/it]\n"
     ]
    },
    {
     "name": "stdout",
     "output_type": "stream",
     "text": [
      "ALS_rank-100_regularization-1_alpha-100_num_epochs-15 training time: 40.256s\n"
     ]
    },
    {
     "name": "stderr",
     "output_type": "stream",
     "text": [
      "DEBUG:implicit:Converting input to CSR format\n",
      "DEBUG:implicit:Converted input to CSR in 0.172s\n",
      "DEBUG:implicit:Calculated transpose in 0.125s\n",
      "DEBUG:implicit:Initialized factors in 1.2497310638427734\n",
      "DEBUG:implicit:Running 30 ALS iterations\n",
      "100%|████████████████████████████████████████████████████████████████████████████████| 30.0/30 [01:17<00:00,  2.45s/it]\n"
     ]
    },
    {
     "name": "stdout",
     "output_type": "stream",
     "text": [
      "ALS_rank-100_regularization-1_alpha-100_num_epochs-30 training time: 01m:19s\n"
     ]
    },
    {
     "name": "stderr",
     "output_type": "stream",
     "text": [
      "DEBUG:implicit:Converting input to CSR format\n",
      "DEBUG:implicit:Converted input to CSR in 0.172s\n",
      "DEBUG:implicit:Calculated transpose in 0.125s\n",
      "DEBUG:implicit:Initialized factors in 1.3902902603149414\n",
      "DEBUG:implicit:Running 40 ALS iterations\n",
      "100%|████████████████████████████████████████████████████████████████████████████████| 40.0/40 [01:42<00:00,  2.43s/it]\n"
     ]
    },
    {
     "name": "stdout",
     "output_type": "stream",
     "text": [
      "ALS_rank-100_regularization-1_alpha-100_num_epochs-40 training time: 01m:44s\n",
      "Evaluated model in 252.03s\n",
      "Evaluated model in 107.13s\n",
      "Evaluated model in 166.68s\n",
      "Evaluated model in 131.87s\n",
      "Evaluated model in 131.76s\n",
      "Evaluated model in 128.19s\n",
      "Evaluated model in 126.56s\n",
      "Evaluated model in 123.79s\n",
      "Evaluated model in 125.34s\n",
      "Evaluated model in 124.77s\n",
      "Evaluated model in 125.38s\n",
      "Evaluated model in 125.52s\n",
      "Evaluated model in 132.22s\n",
      "Evaluated model in 132.08s\n",
      "Evaluated model in 132.43s\n",
      "Evaluated model in 127.50s\n",
      "Evaluated model in 128.30s\n",
      "Evaluated model in 126.89s\n",
      "Evaluated model in 131.04s\n",
      "Evaluated model in 126.57s\n",
      "Evaluated model in 127.97s\n",
      "Evaluated model in 133.88s\n",
      "Evaluated model in 136.37s\n",
      "Evaluated model in 133.60s\n",
      "Evaluated model in 128.03s\n",
      "Evaluated model in 124.46s\n",
      "Evaluated model in 127.22s\n",
      "Evaluated model in 129.18s\n",
      "Evaluated model in 130.49s\n",
      "Evaluated model in 127.76s\n",
      "Evaluated model in 147.41s\n",
      "Evaluated model in 146.37s\n",
      "Evaluated model in 147.25s\n",
      "Evaluated model in 145.73s\n",
      "Evaluated model in 144.58s\n",
      "Evaluated model in 147.12s\n",
      "Evaluated model in 145.52s\n",
      "Evaluated model in 147.31s\n",
      "Evaluated model in 147.11s\n",
      "Evaluated model in 146.26s\n",
      "Evaluated model in 145.60s\n",
      "Evaluated model in 145.20s\n",
      "Evaluated model in 145.90s\n",
      "Evaluated model in 144.73s\n",
      "Evaluated model in 142.98s\n",
      "Evaluated model in 144.69s\n",
      "Evaluated model in 145.97s\n",
      "Evaluated model in 145.83s\n",
      "Evaluated model in 144.31s\n",
      "Evaluated model in 144.10s\n",
      "Evaluated model in 145.19s\n",
      "Evaluated model in 145.29s\n",
      "Evaluated model in 144.93s\n",
      "Evaluated model in 145.54s\n",
      "Evaluated model in 146.47s\n",
      "Evaluated model in 144.88s\n",
      "Evaluated model in 147.22s\n",
      "Evaluated model in 154.97s\n",
      "Evaluated model in 155.34s\n",
      "Evaluated model in 155.58s\n",
      "Evaluated model in 161.54s\n",
      "Evaluated model in 160.52s\n",
      "Evaluated model in 159.67s\n",
      "Evaluated model in 158.74s\n",
      "Evaluated model in 158.71s\n",
      "Evaluated model in 160.09s\n",
      "Evaluated model in 156.72s\n",
      "Evaluated model in 157.18s\n",
      "Evaluated model in 157.30s\n",
      "Evaluated model in 159.73s\n",
      "Evaluated model in 160.04s\n",
      "Evaluated model in 159.58s\n",
      "Evaluated model in 162.54s\n",
      "Evaluated model in 162.80s\n",
      "Evaluated model in 161.26s\n",
      "Evaluated model in 155.65s\n",
      "Evaluated model in 156.51s\n",
      "Evaluated model in 156.23s\n",
      "Evaluated model in 158.88s\n",
      "Evaluated model in 160.11s\n",
      "Evaluated model in 162.35s\n",
      "Evaluated model in 163.26s\n",
      "Evaluated model in 162.56s\n",
      "Evaluated model in 163.87s\n",
      "Evaluated model in 0.50s\n",
      "Evaluated model in 0.50s\n",
      "Evaluated model in 0.50s\n",
      "Evaluated model in 0.56s\n",
      "Evaluated model in 0.48s\n",
      "Evaluated model in 0.48s\n",
      "Evaluated model in 0.52s\n",
      "Evaluated model in 0.50s\n",
      "Evaluated model in 0.50s\n",
      "Evaluated model in 0.50s\n",
      "Evaluated model in 0.48s\n",
      "Evaluated model in 0.48s\n",
      "Evaluated model in 0.48s\n",
      "Evaluated model in 0.48s\n",
      "Evaluated model in 0.48s\n",
      "Evaluated model in 0.52s\n",
      "Evaluated model in 0.50s\n",
      "Evaluated model in 0.50s\n",
      "Evaluated model in 0.48s\n",
      "Evaluated model in 0.50s\n",
      "Evaluated model in 0.52s\n",
      "Evaluated model in 0.48s\n",
      "Evaluated model in 0.48s\n",
      "Evaluated model in 0.48s\n",
      "Evaluated model in 0.48s\n",
      "Evaluated model in 0.48s\n",
      "Evaluated model in 0.48s\n",
      "Evaluated model in 0.48s\n",
      "Evaluated model in 0.50s\n",
      "Evaluated model in 0.48s\n",
      "Evaluated model in 0.47s\n",
      "Evaluated model in 0.48s\n",
      "Evaluated model in 0.47s\n",
      "Evaluated model in 0.47s\n",
      "Evaluated model in 0.47s\n",
      "Evaluated model in 0.50s\n",
      "Evaluated model in 0.52s\n",
      "Evaluated model in 0.48s\n",
      "Evaluated model in 0.48s\n",
      "Evaluated model in 0.48s\n",
      "Evaluated model in 0.52s\n",
      "Evaluated model in 0.48s\n",
      "Evaluated model in 0.50s\n",
      "Evaluated model in 0.48s\n",
      "Evaluated model in 0.48s\n",
      "Evaluated model in 0.47s\n",
      "Evaluated model in 0.48s\n",
      "Evaluated model in 0.50s\n",
      "Evaluated model in 0.50s\n",
      "Evaluated model in 0.50s\n",
      "Evaluated model in 0.48s\n",
      "Evaluated model in 0.48s\n",
      "Evaluated model in 0.50s\n",
      "Evaluated model in 0.48s\n",
      "Evaluated model in 0.48s\n",
      "Evaluated model in 0.48s\n",
      "Evaluated model in 0.50s\n",
      "Evaluated model in 0.48s\n",
      "Evaluated model in 0.48s\n",
      "Evaluated model in 0.48s\n",
      "Evaluated model in 0.50s\n",
      "Evaluated model in 0.48s\n",
      "Evaluated model in 0.50s\n",
      "Evaluated model in 0.48s\n",
      "Evaluated model in 0.48s\n",
      "Evaluated model in 0.48s\n",
      "Evaluated model in 0.47s\n",
      "Evaluated model in 0.47s\n",
      "Evaluated model in 0.48s\n",
      "Evaluated model in 0.47s\n",
      "Evaluated model in 0.47s\n",
      "Evaluated model in 0.47s\n",
      "Evaluated model in 0.48s\n",
      "Evaluated model in 0.47s\n",
      "Evaluated model in 0.45s\n",
      "Evaluated model in 0.47s\n",
      "Evaluated model in 0.47s\n",
      "Evaluated model in 0.47s\n",
      "Evaluated model in 0.47s\n",
      "Evaluated model in 0.47s\n",
      "Evaluated model in 0.47s\n",
      "Evaluated model in 0.47s\n",
      "Evaluated model in 0.47s\n",
      "Evaluated model in 0.47s\n",
      "Evaluated model in 0.45s\n",
      "Evaluated model in 0.47s\n",
      "Evaluated model in 0.48s\n",
      "Evaluated model in 0.47s\n",
      "Evaluated model in 0.45s\n",
      "Evaluated model in 0.47s\n",
      "Evaluated model in 0.47s\n",
      "Evaluated model in 0.45s\n",
      "Evaluated model in 0.47s\n",
      "Evaluated model in 0.45s\n",
      "Evaluated model in 0.47s\n",
      "Evaluated model in 0.45s\n",
      "Evaluated model in 0.45s\n",
      "Evaluated model in 0.47s\n",
      "Evaluated model in 0.45s\n",
      "Evaluated model in 0.45s\n",
      "Evaluated model in 0.47s\n",
      "Evaluated model in 0.45s\n",
      "Evaluated model in 0.47s\n",
      "Evaluated model in 0.45s\n",
      "Evaluated model in 0.45s\n",
      "Evaluated model in 0.47s\n",
      "Evaluated model in 0.45s\n",
      "Evaluated model in 0.45s\n",
      "Evaluated model in 0.45s\n",
      "Evaluated model in 0.47s\n",
      "Evaluated model in 0.45s\n",
      "Evaluated model in 0.47s\n",
      "Evaluated model in 0.48s\n",
      "Evaluated model in 0.45s\n",
      "Evaluated model in 0.45s\n",
      "Evaluated model in 0.47s\n",
      "Evaluated model in 0.45s\n",
      "Evaluated model in 0.47s\n",
      "Evaluated model in 0.45s\n",
      "Evaluated model in 0.47s\n",
      "Evaluated model in 0.47s\n",
      "Evaluated model in 0.45s\n",
      "Evaluated model in 0.45s\n",
      "Evaluated model in 0.47s\n",
      "Evaluated model in 0.47s\n",
      "Evaluated model in 0.45s\n",
      "Evaluated model in 0.45s\n",
      "Evaluated model in 0.45s\n",
      "Evaluated model in 0.45s\n",
      "Evaluated model in 0.45s\n",
      "Evaluated model in 0.45s\n",
      "Evaluated model in 0.47s\n",
      "Evaluated model in 0.45s\n",
      "Evaluated model in 0.45s\n",
      "Evaluated model in 0.44s\n",
      "Evaluated model in 0.45s\n",
      "Evaluated model in 0.45s\n",
      "Evaluated model in 0.45s\n",
      "Evaluated model in 0.45s\n",
      "Evaluated model in 0.47s\n",
      "Evaluated model in 0.45s\n",
      "Evaluated model in 0.45s\n",
      "Evaluated model in 0.45s\n",
      "Evaluated model in 0.47s\n",
      "Evaluated model in 0.45s\n",
      "Evaluated model in 0.45s\n",
      "Evaluated model in 0.47s\n",
      "Evaluated model in 0.48s\n",
      "Evaluated model in 0.45s\n",
      "Evaluated model in 0.47s\n",
      "Evaluated model in 0.45s\n",
      "Evaluated model in 0.45s\n",
      "Evaluated model in 0.45s\n",
      "Evaluated model in 0.48s\n",
      "Evaluated model in 0.45s\n",
      "Evaluated model in 0.47s\n",
      "Evaluated model in 0.47s\n",
      "Evaluated model in 0.45s\n",
      "Evaluated model in 0.45s\n",
      "Evaluated model in 0.47s\n",
      "Evaluated model in 0.45s\n",
      "Evaluated model in 0.45s\n",
      "Evaluated model in 0.45s\n",
      "Evaluated model in 0.45s\n",
      "Evaluated model in 0.47s\n",
      "Evaluated model in 0.47s\n",
      "Evaluated model in 0.45s\n",
      "Evaluated model in 0.45s\n",
      "Preparing data...\n",
      "182 unique itemid's within 197 holdout interactions were filtered. Reason: not in the training data.\n",
      "85704 unique userid's within 136225 holdout interactions were filtered. Reason: not in the training data.\n",
      "89 of 43984 userid's were filtered out from holdout. Reason: incompatible number of items.\n",
      "Done.\n",
      "There are 5071181 events in the training and 131685 events in the holdout.\n",
      "PureSVD training time: 3.064s\n"
     ]
    },
    {
     "name": "stderr",
     "output_type": "stream",
     "text": [
      "DEBUG:implicit:Converting input to CSR format\n",
      "DEBUG:implicit:Converted input to CSR in 0.156s\n",
      "DEBUG:implicit:Calculated transpose in 0.125s\n",
      "DEBUG:implicit:Initialized factors in 0.12496256828308105\n",
      "DEBUG:implicit:Running 15 ALS iterations\n",
      "100%|████████████████████████████████████████████████████████████████████████████████| 15.0/15 [00:19<00:00,  1.20s/it]\n"
     ]
    },
    {
     "name": "stdout",
     "output_type": "stream",
     "text": [
      "ALS_rank-10_regularization-0.01_alpha-1_num_epochs-15 training time: 20.112s\n"
     ]
    },
    {
     "name": "stderr",
     "output_type": "stream",
     "text": [
      "DEBUG:implicit:Converting input to CSR format\n",
      "DEBUG:implicit:Converted input to CSR in 0.219s\n",
      "DEBUG:implicit:Calculated transpose in 0.125s\n",
      "DEBUG:implicit:Initialized factors in 0.12493681907653809\n",
      "DEBUG:implicit:Running 30 ALS iterations\n",
      "100%|████████████████████████████████████████████████████████████████████████████████| 30.0/30 [00:40<00:00,  1.28s/it]\n"
     ]
    },
    {
     "name": "stdout",
     "output_type": "stream",
     "text": [
      "ALS_rank-10_regularization-0.01_alpha-1_num_epochs-30 training time: 41.100s\n"
     ]
    },
    {
     "name": "stderr",
     "output_type": "stream",
     "text": [
      "DEBUG:implicit:Converting input to CSR format\n",
      "DEBUG:implicit:Converted input to CSR in 0.172s\n",
      "DEBUG:implicit:Calculated transpose in 0.141s\n",
      "DEBUG:implicit:Initialized factors in 0.12496614456176758\n",
      "DEBUG:implicit:Running 40 ALS iterations\n",
      "100%|████████████████████████████████████████████████████████████████████████████████| 40.0/40 [00:54<00:00,  1.36s/it]\n"
     ]
    },
    {
     "name": "stdout",
     "output_type": "stream",
     "text": [
      "ALS_rank-10_regularization-0.01_alpha-1_num_epochs-40 training time: 55.333s\n"
     ]
    },
    {
     "name": "stderr",
     "output_type": "stream",
     "text": [
      "DEBUG:implicit:Converting input to CSR format\n",
      "DEBUG:implicit:Converted input to CSR in 0.172s\n",
      "DEBUG:implicit:Calculated transpose in 0.125s\n",
      "DEBUG:implicit:Initialized factors in 0.12499475479125977\n",
      "DEBUG:implicit:Running 15 ALS iterations\n",
      "100%|████████████████████████████████████████████████████████████████████████████████| 15.0/15 [00:20<00:00,  1.21s/it]\n"
     ]
    },
    {
     "name": "stdout",
     "output_type": "stream",
     "text": [
      "ALS_rank-10_regularization-0.01_alpha-50_num_epochs-15 training time: 20.634s\n"
     ]
    },
    {
     "name": "stderr",
     "output_type": "stream",
     "text": [
      "DEBUG:implicit:Converting input to CSR format\n",
      "DEBUG:implicit:Converted input to CSR in 0.172s\n",
      "DEBUG:implicit:Calculated transpose in 0.125s\n",
      "DEBUG:implicit:Initialized factors in 0.10937380790710449\n",
      "DEBUG:implicit:Running 30 ALS iterations\n",
      "100%|████████████████████████████████████████████████████████████████████████████████| 30.0/30 [00:40<00:00,  1.27s/it]\n"
     ]
    },
    {
     "name": "stdout",
     "output_type": "stream",
     "text": [
      "ALS_rank-10_regularization-0.01_alpha-50_num_epochs-30 training time: 41.196s\n"
     ]
    },
    {
     "name": "stderr",
     "output_type": "stream",
     "text": [
      "DEBUG:implicit:Converting input to CSR format\n",
      "DEBUG:implicit:Converted input to CSR in 0.172s\n",
      "DEBUG:implicit:Calculated transpose in 0.125s\n",
      "DEBUG:implicit:Initialized factors in 0.12499308586120605\n",
      "DEBUG:implicit:Running 40 ALS iterations\n",
      "100%|████████████████████████████████████████████████████████████████████████████████| 40.0/40 [00:52<00:00,  1.21s/it]\n"
     ]
    },
    {
     "name": "stdout",
     "output_type": "stream",
     "text": [
      "ALS_rank-10_regularization-0.01_alpha-50_num_epochs-40 training time: 52.651s\n"
     ]
    },
    {
     "name": "stderr",
     "output_type": "stream",
     "text": [
      "DEBUG:implicit:Converting input to CSR format\n",
      "DEBUG:implicit:Converted input to CSR in 0.172s\n",
      "DEBUG:implicit:Calculated transpose in 0.125s\n",
      "DEBUG:implicit:Initialized factors in 0.12496495246887207\n",
      "DEBUG:implicit:Running 15 ALS iterations\n",
      "100%|████████████████████████████████████████████████████████████████████████████████| 15.0/15 [00:19<00:00,  1.23s/it]\n"
     ]
    },
    {
     "name": "stdout",
     "output_type": "stream",
     "text": [
      "ALS_rank-10_regularization-0.01_alpha-100_num_epochs-15 training time: 20.220s\n"
     ]
    },
    {
     "name": "stderr",
     "output_type": "stream",
     "text": [
      "DEBUG:implicit:Converting input to CSR format\n",
      "DEBUG:implicit:Converted input to CSR in 0.172s\n",
      "DEBUG:implicit:Calculated transpose in 0.141s\n",
      "DEBUG:implicit:Initialized factors in 0.10933494567871094\n",
      "DEBUG:implicit:Running 30 ALS iterations\n",
      "100%|████████████████████████████████████████████████████████████████████████████████| 30.0/30 [00:40<00:00,  1.27s/it]\n"
     ]
    },
    {
     "name": "stdout",
     "output_type": "stream",
     "text": [
      "ALS_rank-10_regularization-0.01_alpha-100_num_epochs-30 training time: 40.797s\n"
     ]
    },
    {
     "name": "stderr",
     "output_type": "stream",
     "text": [
      "DEBUG:implicit:Converting input to CSR format\n",
      "DEBUG:implicit:Converted input to CSR in 0.172s\n",
      "DEBUG:implicit:Calculated transpose in 0.125s\n",
      "DEBUG:implicit:Initialized factors in 0.12499451637268066\n",
      "DEBUG:implicit:Running 40 ALS iterations\n",
      "100%|████████████████████████████████████████████████████████████████████████████████| 40.0/40 [00:52<00:00,  1.23s/it]\n"
     ]
    },
    {
     "name": "stdout",
     "output_type": "stream",
     "text": [
      "ALS_rank-10_regularization-0.01_alpha-100_num_epochs-40 training time: 53.417s\n"
     ]
    },
    {
     "name": "stderr",
     "output_type": "stream",
     "text": [
      "DEBUG:implicit:Converting input to CSR format\n",
      "DEBUG:implicit:Converted input to CSR in 0.156s\n",
      "DEBUG:implicit:Calculated transpose in 0.125s\n",
      "DEBUG:implicit:Initialized factors in 0.12496519088745117\n",
      "DEBUG:implicit:Running 15 ALS iterations\n",
      "100%|████████████████████████████████████████████████████████████████████████████████| 15.0/15 [00:20<00:00,  1.23s/it]\n"
     ]
    },
    {
     "name": "stdout",
     "output_type": "stream",
     "text": [
      "ALS_rank-10_regularization-0.1_alpha-1_num_epochs-15 training time: 20.602s\n"
     ]
    },
    {
     "name": "stderr",
     "output_type": "stream",
     "text": [
      "DEBUG:implicit:Converting input to CSR format\n",
      "DEBUG:implicit:Converted input to CSR in 0.172s\n",
      "DEBUG:implicit:Calculated transpose in 0.125s\n",
      "DEBUG:implicit:Initialized factors in 0.12497138977050781\n",
      "DEBUG:implicit:Running 30 ALS iterations\n",
      "100%|████████████████████████████████████████████████████████████████████████████████| 30.0/30 [00:39<00:00,  1.23s/it]\n"
     ]
    },
    {
     "name": "stdout",
     "output_type": "stream",
     "text": [
      "ALS_rank-10_regularization-0.1_alpha-1_num_epochs-30 training time: 40.349s\n"
     ]
    },
    {
     "name": "stderr",
     "output_type": "stream",
     "text": [
      "DEBUG:implicit:Converting input to CSR format\n",
      "DEBUG:implicit:Converted input to CSR in 0.172s\n",
      "DEBUG:implicit:Calculated transpose in 0.125s\n",
      "DEBUG:implicit:Initialized factors in 0.1249690055847168\n",
      "DEBUG:implicit:Running 40 ALS iterations\n",
      "100%|████████████████████████████████████████████████████████████████████████████████| 40.0/40 [00:53<00:00,  1.25s/it]\n"
     ]
    },
    {
     "name": "stdout",
     "output_type": "stream",
     "text": [
      "ALS_rank-10_regularization-0.1_alpha-1_num_epochs-40 training time: 53.739s\n"
     ]
    },
    {
     "name": "stderr",
     "output_type": "stream",
     "text": [
      "DEBUG:implicit:Converting input to CSR format\n",
      "DEBUG:implicit:Converted input to CSR in 0.172s\n",
      "DEBUG:implicit:Calculated transpose in 0.125s\n",
      "DEBUG:implicit:Initialized factors in 0.10934138298034668\n",
      "DEBUG:implicit:Running 15 ALS iterations\n",
      "100%|████████████████████████████████████████████████████████████████████████████████| 15.0/15 [00:20<00:00,  1.29s/it]\n"
     ]
    },
    {
     "name": "stdout",
     "output_type": "stream",
     "text": [
      "ALS_rank-10_regularization-0.1_alpha-50_num_epochs-15 training time: 20.664s\n"
     ]
    },
    {
     "name": "stderr",
     "output_type": "stream",
     "text": [
      "DEBUG:implicit:Converting input to CSR format\n",
      "DEBUG:implicit:Converted input to CSR in 0.172s\n",
      "DEBUG:implicit:Calculated transpose in 0.125s\n",
      "DEBUG:implicit:Initialized factors in 0.12496757507324219\n",
      "DEBUG:implicit:Running 30 ALS iterations\n",
      "100%|████████████████████████████████████████████████████████████████████████████████| 30.0/30 [00:40<00:00,  1.25s/it]\n"
     ]
    },
    {
     "name": "stdout",
     "output_type": "stream",
     "text": [
      "ALS_rank-10_regularization-0.1_alpha-50_num_epochs-30 training time: 40.894s\n"
     ]
    },
    {
     "name": "stderr",
     "output_type": "stream",
     "text": [
      "DEBUG:implicit:Converting input to CSR format\n",
      "DEBUG:implicit:Converted input to CSR in 0.172s\n",
      "DEBUG:implicit:Calculated transpose in 0.125s\n",
      "DEBUG:implicit:Initialized factors in 0.12496328353881836\n",
      "DEBUG:implicit:Running 40 ALS iterations\n",
      "100%|████████████████████████████████████████████████████████████████████████████████| 40.0/40 [00:53<00:00,  1.26s/it]\n"
     ]
    },
    {
     "name": "stdout",
     "output_type": "stream",
     "text": [
      "ALS_rank-10_regularization-0.1_alpha-50_num_epochs-40 training time: 54.050s\n"
     ]
    },
    {
     "name": "stderr",
     "output_type": "stream",
     "text": [
      "DEBUG:implicit:Converting input to CSR format\n",
      "DEBUG:implicit:Converted input to CSR in 0.156s\n",
      "DEBUG:implicit:Calculated transpose in 0.125s\n",
      "DEBUG:implicit:Initialized factors in 0.12496566772460938\n",
      "DEBUG:implicit:Running 15 ALS iterations\n",
      "100%|████████████████████████████████████████████████████████████████████████████████| 15.0/15 [00:20<00:00,  1.24s/it]\n"
     ]
    },
    {
     "name": "stdout",
     "output_type": "stream",
     "text": [
      "ALS_rank-10_regularization-0.1_alpha-100_num_epochs-15 training time: 20.558s\n"
     ]
    },
    {
     "name": "stderr",
     "output_type": "stream",
     "text": [
      "DEBUG:implicit:Converting input to CSR format\n",
      "DEBUG:implicit:Converted input to CSR in 0.172s\n",
      "DEBUG:implicit:Calculated transpose in 0.125s\n",
      "DEBUG:implicit:Initialized factors in 0.12496542930603027\n",
      "DEBUG:implicit:Running 30 ALS iterations\n",
      "100%|████████████████████████████████████████████████████████████████████████████████| 30.0/30 [00:40<00:00,  1.27s/it]\n"
     ]
    },
    {
     "name": "stdout",
     "output_type": "stream",
     "text": [
      "ALS_rank-10_regularization-0.1_alpha-100_num_epochs-30 training time: 40.542s\n"
     ]
    },
    {
     "name": "stderr",
     "output_type": "stream",
     "text": [
      "DEBUG:implicit:Converting input to CSR format\n",
      "DEBUG:implicit:Converted input to CSR in 0.172s\n",
      "DEBUG:implicit:Calculated transpose in 0.125s\n",
      "DEBUG:implicit:Initialized factors in 0.12498068809509277\n",
      "DEBUG:implicit:Running 40 ALS iterations\n",
      "100%|████████████████████████████████████████████████████████████████████████████████| 40.0/40 [00:55<00:00,  1.29s/it]\n"
     ]
    },
    {
     "name": "stdout",
     "output_type": "stream",
     "text": [
      "ALS_rank-10_regularization-0.1_alpha-100_num_epochs-40 training time: 56.101s\n"
     ]
    },
    {
     "name": "stderr",
     "output_type": "stream",
     "text": [
      "DEBUG:implicit:Converting input to CSR format\n",
      "DEBUG:implicit:Converted input to CSR in 0.156s\n",
      "DEBUG:implicit:Calculated transpose in 0.141s\n",
      "DEBUG:implicit:Initialized factors in 0.12493729591369629\n",
      "DEBUG:implicit:Running 15 ALS iterations\n",
      "100%|████████████████████████████████████████████████████████████████████████████████| 15.0/15 [00:19<00:00,  1.19s/it]\n"
     ]
    },
    {
     "name": "stdout",
     "output_type": "stream",
     "text": [
      "ALS_rank-10_regularization-1_alpha-1_num_epochs-15 training time: 20.406s\n"
     ]
    },
    {
     "name": "stderr",
     "output_type": "stream",
     "text": [
      "DEBUG:implicit:Converting input to CSR format\n",
      "DEBUG:implicit:Converted input to CSR in 0.156s\n",
      "DEBUG:implicit:Calculated transpose in 0.141s\n",
      "DEBUG:implicit:Initialized factors in 0.1093740463256836\n",
      "DEBUG:implicit:Running 30 ALS iterations\n",
      "100%|████████████████████████████████████████████████████████████████████████████████| 30.0/30 [00:40<00:00,  1.34s/it]\n"
     ]
    },
    {
     "name": "stdout",
     "output_type": "stream",
     "text": [
      "ALS_rank-10_regularization-1_alpha-1_num_epochs-30 training time: 40.989s\n"
     ]
    },
    {
     "name": "stderr",
     "output_type": "stream",
     "text": [
      "DEBUG:implicit:Converting input to CSR format\n",
      "DEBUG:implicit:Converted input to CSR in 0.172s\n",
      "DEBUG:implicit:Calculated transpose in 0.141s\n",
      "DEBUG:implicit:Initialized factors in 0.12493705749511719\n",
      "DEBUG:implicit:Running 40 ALS iterations\n",
      "100%|████████████████████████████████████████████████████████████████████████████████| 40.0/40 [00:52<00:00,  1.20s/it]\n"
     ]
    },
    {
     "name": "stdout",
     "output_type": "stream",
     "text": [
      "ALS_rank-10_regularization-1_alpha-1_num_epochs-40 training time: 52.809s\n"
     ]
    },
    {
     "name": "stderr",
     "output_type": "stream",
     "text": [
      "DEBUG:implicit:Converting input to CSR format\n",
      "DEBUG:implicit:Converted input to CSR in 0.172s\n",
      "DEBUG:implicit:Calculated transpose in 0.125s\n",
      "DEBUG:implicit:Initialized factors in 0.12493610382080078\n",
      "DEBUG:implicit:Running 15 ALS iterations\n",
      "100%|████████████████████████████████████████████████████████████████████████████████| 15.0/15 [00:20<00:00,  1.23s/it]\n"
     ]
    },
    {
     "name": "stdout",
     "output_type": "stream",
     "text": [
      "ALS_rank-10_regularization-1_alpha-50_num_epochs-15 training time: 20.632s\n"
     ]
    },
    {
     "name": "stderr",
     "output_type": "stream",
     "text": [
      "DEBUG:implicit:Converting input to CSR format\n",
      "DEBUG:implicit:Converted input to CSR in 0.172s\n",
      "DEBUG:implicit:Calculated transpose in 0.125s\n",
      "DEBUG:implicit:Initialized factors in 0.1093740463256836\n",
      "DEBUG:implicit:Running 30 ALS iterations\n",
      "100%|████████████████████████████████████████████████████████████████████████████████| 30.0/30 [00:39<00:00,  1.21s/it]\n"
     ]
    },
    {
     "name": "stdout",
     "output_type": "stream",
     "text": [
      "ALS_rank-10_regularization-1_alpha-50_num_epochs-30 training time: 39.804s\n"
     ]
    },
    {
     "name": "stderr",
     "output_type": "stream",
     "text": [
      "DEBUG:implicit:Converting input to CSR format\n",
      "DEBUG:implicit:Converted input to CSR in 0.172s\n",
      "DEBUG:implicit:Calculated transpose in 0.141s\n",
      "DEBUG:implicit:Initialized factors in 0.10933470726013184\n",
      "DEBUG:implicit:Running 40 ALS iterations\n",
      "100%|████████████████████████████████████████████████████████████████████████████████| 40.0/40 [00:52<00:00,  1.22s/it]\n"
     ]
    },
    {
     "name": "stdout",
     "output_type": "stream",
     "text": [
      "ALS_rank-10_regularization-1_alpha-50_num_epochs-40 training time: 52.985s\n"
     ]
    },
    {
     "name": "stderr",
     "output_type": "stream",
     "text": [
      "DEBUG:implicit:Converting input to CSR format\n",
      "DEBUG:implicit:Converted input to CSR in 0.172s\n",
      "DEBUG:implicit:Calculated transpose in 0.125s\n",
      "DEBUG:implicit:Initialized factors in 0.12496376037597656\n",
      "DEBUG:implicit:Running 15 ALS iterations\n",
      "100%|████████████████████████████████████████████████████████████████████████████████| 15.0/15 [00:19<00:00,  1.20s/it]\n"
     ]
    },
    {
     "name": "stdout",
     "output_type": "stream",
     "text": [
      "ALS_rank-10_regularization-1_alpha-100_num_epochs-15 training time: 20.390s\n"
     ]
    },
    {
     "name": "stderr",
     "output_type": "stream",
     "text": [
      "DEBUG:implicit:Converting input to CSR format\n",
      "DEBUG:implicit:Converted input to CSR in 0.172s\n",
      "DEBUG:implicit:Calculated transpose in 0.125s\n",
      "DEBUG:implicit:Initialized factors in 0.12496352195739746\n",
      "DEBUG:implicit:Running 30 ALS iterations\n",
      "100%|████████████████████████████████████████████████████████████████████████████████| 30.0/30 [00:39<00:00,  1.23s/it]\n"
     ]
    },
    {
     "name": "stdout",
     "output_type": "stream",
     "text": [
      "ALS_rank-10_regularization-1_alpha-100_num_epochs-30 training time: 40.274s\n"
     ]
    },
    {
     "name": "stderr",
     "output_type": "stream",
     "text": [
      "DEBUG:implicit:Converting input to CSR format\n",
      "DEBUG:implicit:Converted input to CSR in 0.172s\n",
      "DEBUG:implicit:Calculated transpose in 0.125s\n",
      "DEBUG:implicit:Initialized factors in 0.12496304512023926\n",
      "DEBUG:implicit:Running 40 ALS iterations\n",
      "100%|████████████████████████████████████████████████████████████████████████████████| 40.0/40 [00:53<00:00,  1.20s/it]\n"
     ]
    },
    {
     "name": "stdout",
     "output_type": "stream",
     "text": [
      "ALS_rank-10_regularization-1_alpha-100_num_epochs-40 training time: 53.768s\n"
     ]
    },
    {
     "name": "stderr",
     "output_type": "stream",
     "text": [
      "DEBUG:implicit:Converting input to CSR format\n",
      "DEBUG:implicit:Converted input to CSR in 0.156s\n",
      "DEBUG:implicit:Calculated transpose in 0.141s\n",
      "DEBUG:implicit:Initialized factors in 0.6248772144317627\n",
      "DEBUG:implicit:Running 15 ALS iterations\n",
      "100%|████████████████████████████████████████████████████████████████████████████████| 15.0/15 [00:27<00:00,  1.74s/it]\n"
     ]
    },
    {
     "name": "stdout",
     "output_type": "stream",
     "text": [
      "ALS_rank-50_regularization-0.01_alpha-1_num_epochs-15 training time: 28.818s\n"
     ]
    },
    {
     "name": "stderr",
     "output_type": "stream",
     "text": [
      "DEBUG:implicit:Converting input to CSR format\n",
      "DEBUG:implicit:Converted input to CSR in 0.156s\n",
      "DEBUG:implicit:Calculated transpose in 0.141s\n",
      "DEBUG:implicit:Initialized factors in 0.6717100143432617\n",
      "DEBUG:implicit:Running 30 ALS iterations\n",
      "100%|████████████████████████████████████████████████████████████████████████████████| 30.0/30 [00:55<00:00,  1.70s/it]\n"
     ]
    },
    {
     "name": "stdout",
     "output_type": "stream",
     "text": [
      "ALS_rank-50_regularization-0.01_alpha-1_num_epochs-30 training time: 56.344s\n"
     ]
    },
    {
     "name": "stderr",
     "output_type": "stream",
     "text": [
      "DEBUG:implicit:Converting input to CSR format\n",
      "DEBUG:implicit:Converted input to CSR in 0.172s\n",
      "DEBUG:implicit:Calculated transpose in 0.125s\n",
      "DEBUG:implicit:Initialized factors in 0.624849796295166\n",
      "DEBUG:implicit:Running 40 ALS iterations\n",
      "100%|████████████████████████████████████████████████████████████████████████████████| 40.0/40 [01:13<00:00,  1.71s/it]\n"
     ]
    },
    {
     "name": "stdout",
     "output_type": "stream",
     "text": [
      "ALS_rank-50_regularization-0.01_alpha-1_num_epochs-40 training time: 01m:15s\n"
     ]
    },
    {
     "name": "stderr",
     "output_type": "stream",
     "text": [
      "DEBUG:implicit:Converting input to CSR format\n",
      "DEBUG:implicit:Converted input to CSR in 0.172s\n",
      "DEBUG:implicit:Calculated transpose in 0.125s\n",
      "DEBUG:implicit:Initialized factors in 0.6873347759246826\n",
      "DEBUG:implicit:Running 15 ALS iterations\n",
      "100%|████████████████████████████████████████████████████████████████████████████████| 15.0/15 [00:27<00:00,  1.72s/it]\n"
     ]
    },
    {
     "name": "stdout",
     "output_type": "stream",
     "text": [
      "ALS_rank-50_regularization-0.01_alpha-50_num_epochs-15 training time: 28.991s\n"
     ]
    },
    {
     "name": "stderr",
     "output_type": "stream",
     "text": [
      "DEBUG:implicit:Converting input to CSR format\n",
      "DEBUG:implicit:Converted input to CSR in 0.203s\n",
      "DEBUG:implicit:Calculated transpose in 0.141s\n",
      "DEBUG:implicit:Initialized factors in 0.6717391014099121\n",
      "DEBUG:implicit:Running 30 ALS iterations\n",
      "100%|████████████████████████████████████████████████████████████████████████████████| 30.0/30 [00:54<00:00,  1.66s/it]\n"
     ]
    },
    {
     "name": "stdout",
     "output_type": "stream",
     "text": [
      "ALS_rank-50_regularization-0.01_alpha-50_num_epochs-30 training time: 55.924s\n"
     ]
    },
    {
     "name": "stderr",
     "output_type": "stream",
     "text": [
      "DEBUG:implicit:Converting input to CSR format\n",
      "DEBUG:implicit:Converted input to CSR in 0.172s\n",
      "DEBUG:implicit:Calculated transpose in 0.125s\n",
      "DEBUG:implicit:Initialized factors in 0.6248452663421631\n",
      "DEBUG:implicit:Running 40 ALS iterations\n",
      "100%|████████████████████████████████████████████████████████████████████████████████| 40.0/40 [01:13<00:00,  1.74s/it]\n"
     ]
    },
    {
     "name": "stdout",
     "output_type": "stream",
     "text": [
      "ALS_rank-50_regularization-0.01_alpha-50_num_epochs-40 training time: 01m:15s\n"
     ]
    },
    {
     "name": "stderr",
     "output_type": "stream",
     "text": [
      "DEBUG:implicit:Converting input to CSR format\n",
      "DEBUG:implicit:Converted input to CSR in 0.156s\n",
      "DEBUG:implicit:Calculated transpose in 0.125s\n",
      "DEBUG:implicit:Initialized factors in 0.6248204708099365\n",
      "DEBUG:implicit:Running 15 ALS iterations\n",
      "100%|████████████████████████████████████████████████████████████████████████████████| 15.0/15 [00:27<00:00,  1.69s/it]\n"
     ]
    },
    {
     "name": "stdout",
     "output_type": "stream",
     "text": [
      "ALS_rank-50_regularization-0.01_alpha-100_num_epochs-15 training time: 28.486s\n"
     ]
    },
    {
     "name": "stderr",
     "output_type": "stream",
     "text": [
      "DEBUG:implicit:Converting input to CSR format\n",
      "DEBUG:implicit:Converted input to CSR in 0.172s\n",
      "DEBUG:implicit:Calculated transpose in 0.125s\n",
      "DEBUG:implicit:Initialized factors in 0.6560609340667725\n",
      "DEBUG:implicit:Running 30 ALS iterations\n",
      "100%|████████████████████████████████████████████████████████████████████████████████| 30.0/30 [00:55<00:00,  1.72s/it]\n"
     ]
    },
    {
     "name": "stdout",
     "output_type": "stream",
     "text": [
      "ALS_rank-50_regularization-0.01_alpha-100_num_epochs-30 training time: 56.654s\n"
     ]
    },
    {
     "name": "stderr",
     "output_type": "stream",
     "text": [
      "DEBUG:implicit:Converting input to CSR format\n",
      "DEBUG:implicit:Converted input to CSR in 0.172s\n",
      "DEBUG:implicit:Calculated transpose in 0.125s\n",
      "DEBUG:implicit:Initialized factors in 0.6248493194580078\n",
      "DEBUG:implicit:Running 40 ALS iterations\n",
      "100%|████████████████████████████████████████████████████████████████████████████████| 40.0/40 [01:14<00:00,  1.73s/it]\n"
     ]
    },
    {
     "name": "stdout",
     "output_type": "stream",
     "text": [
      "ALS_rank-50_regularization-0.01_alpha-100_num_epochs-40 training time: 01m:16s\n"
     ]
    },
    {
     "name": "stderr",
     "output_type": "stream",
     "text": [
      "DEBUG:implicit:Converting input to CSR format\n",
      "DEBUG:implicit:Converted input to CSR in 0.172s\n",
      "DEBUG:implicit:Calculated transpose in 0.125s\n",
      "DEBUG:implicit:Initialized factors in 0.6248502731323242\n",
      "DEBUG:implicit:Running 15 ALS iterations\n",
      "100%|████████████████████████████████████████████████████████████████████████████████| 15.0/15 [00:27<00:00,  1.69s/it]\n"
     ]
    },
    {
     "name": "stdout",
     "output_type": "stream",
     "text": [
      "ALS_rank-50_regularization-0.1_alpha-1_num_epochs-15 training time: 28.314s\n"
     ]
    },
    {
     "name": "stderr",
     "output_type": "stream",
     "text": [
      "DEBUG:implicit:Converting input to CSR format\n",
      "DEBUG:implicit:Converted input to CSR in 0.172s\n",
      "DEBUG:implicit:Calculated transpose in 0.141s\n",
      "DEBUG:implicit:Initialized factors in 0.7185459136962891\n",
      "DEBUG:implicit:Running 30 ALS iterations\n",
      "100%|████████████████████████████████████████████████████████████████████████████████| 30.0/30 [00:56<00:00,  1.70s/it]\n"
     ]
    },
    {
     "name": "stdout",
     "output_type": "stream",
     "text": [
      "ALS_rank-50_regularization-0.1_alpha-1_num_epochs-30 training time: 57.340s\n"
     ]
    },
    {
     "name": "stderr",
     "output_type": "stream",
     "text": [
      "DEBUG:implicit:Converting input to CSR format\n",
      "DEBUG:implicit:Converted input to CSR in 0.172s\n",
      "DEBUG:implicit:Calculated transpose in 0.125s\n",
      "DEBUG:implicit:Initialized factors in 0.6248195171356201\n",
      "DEBUG:implicit:Running 40 ALS iterations\n",
      "100%|████████████████████████████████████████████████████████████████████████████████| 40.0/40 [01:14<00:00,  1.69s/it]\n"
     ]
    },
    {
     "name": "stdout",
     "output_type": "stream",
     "text": [
      "ALS_rank-50_regularization-0.1_alpha-1_num_epochs-40 training time: 01m:15s\n"
     ]
    },
    {
     "name": "stderr",
     "output_type": "stream",
     "text": [
      "DEBUG:implicit:Converting input to CSR format\n",
      "DEBUG:implicit:Converted input to CSR in 0.172s\n",
      "DEBUG:implicit:Calculated transpose in 0.125s\n",
      "DEBUG:implicit:Initialized factors in 0.609229326248169\n",
      "DEBUG:implicit:Running 15 ALS iterations\n",
      "100%|████████████████████████████████████████████████████████████████████████████████| 15.0/15 [00:27<00:00,  1.79s/it]\n"
     ]
    },
    {
     "name": "stdout",
     "output_type": "stream",
     "text": [
      "ALS_rank-50_regularization-0.1_alpha-50_num_epochs-15 training time: 28.919s\n"
     ]
    },
    {
     "name": "stderr",
     "output_type": "stream",
     "text": [
      "DEBUG:implicit:Converting input to CSR format\n",
      "DEBUG:implicit:Converted input to CSR in 0.172s\n",
      "DEBUG:implicit:Calculated transpose in 0.125s\n",
      "DEBUG:implicit:Initialized factors in 0.6404941082000732\n",
      "DEBUG:implicit:Running 30 ALS iterations\n",
      "100%|████████████████████████████████████████████████████████████████████████████████| 30.0/30 [00:55<00:00,  1.72s/it]\n"
     ]
    },
    {
     "name": "stdout",
     "output_type": "stream",
     "text": [
      "ALS_rank-50_regularization-0.1_alpha-50_num_epochs-30 training time: 56.222s\n"
     ]
    },
    {
     "name": "stderr",
     "output_type": "stream",
     "text": [
      "DEBUG:implicit:Converting input to CSR format\n",
      "DEBUG:implicit:Converted input to CSR in 0.214s\n",
      "DEBUG:implicit:Calculated transpose in 0.157s\n",
      "DEBUG:implicit:Initialized factors in 0.7342004776000977\n",
      "DEBUG:implicit:Running 40 ALS iterations\n",
      "100%|████████████████████████████████████████████████████████████████████████████████| 40.0/40 [01:14<00:00,  1.75s/it]\n"
     ]
    },
    {
     "name": "stdout",
     "output_type": "stream",
     "text": [
      "ALS_rank-50_regularization-0.1_alpha-50_num_epochs-40 training time: 01m:15s\n"
     ]
    },
    {
     "name": "stderr",
     "output_type": "stream",
     "text": [
      "DEBUG:implicit:Converting input to CSR format\n",
      "DEBUG:implicit:Converted input to CSR in 0.156s\n",
      "DEBUG:implicit:Calculated transpose in 0.125s\n",
      "DEBUG:implicit:Initialized factors in 0.6873347759246826\n",
      "DEBUG:implicit:Running 15 ALS iterations\n",
      "100%|████████████████████████████████████████████████████████████████████████████████| 15.0/15 [00:28<00:00,  1.79s/it]\n"
     ]
    },
    {
     "name": "stdout",
     "output_type": "stream",
     "text": [
      "ALS_rank-50_regularization-0.1_alpha-100_num_epochs-15 training time: 29.233s\n"
     ]
    },
    {
     "name": "stderr",
     "output_type": "stream",
     "text": [
      "DEBUG:implicit:Converting input to CSR format\n",
      "DEBUG:implicit:Converted input to CSR in 0.203s\n",
      "DEBUG:implicit:Calculated transpose in 0.141s\n",
      "DEBUG:implicit:Initialized factors in 0.6873342990875244\n",
      "DEBUG:implicit:Running 30 ALS iterations\n",
      "100%|████████████████████████████████████████████████████████████████████████████████| 30.0/30 [00:55<00:00,  1.74s/it]\n"
     ]
    },
    {
     "name": "stdout",
     "output_type": "stream",
     "text": [
      "ALS_rank-50_regularization-0.1_alpha-100_num_epochs-30 training time: 56.253s\n"
     ]
    },
    {
     "name": "stderr",
     "output_type": "stream",
     "text": [
      "DEBUG:implicit:Converting input to CSR format\n",
      "DEBUG:implicit:Converted input to CSR in 0.172s\n",
      "DEBUG:implicit:Calculated transpose in 0.125s\n",
      "DEBUG:implicit:Initialized factors in 0.6248767375946045\n",
      "DEBUG:implicit:Running 40 ALS iterations\n",
      "100%|████████████████████████████████████████████████████████████████████████████████| 40.0/40 [01:14<00:00,  1.66s/it]\n"
     ]
    },
    {
     "name": "stdout",
     "output_type": "stream",
     "text": [
      "ALS_rank-50_regularization-0.1_alpha-100_num_epochs-40 training time: 01m:15s\n"
     ]
    },
    {
     "name": "stderr",
     "output_type": "stream",
     "text": [
      "DEBUG:implicit:Converting input to CSR format\n",
      "DEBUG:implicit:Converted input to CSR in 0.156s\n",
      "DEBUG:implicit:Calculated transpose in 0.125s\n",
      "DEBUG:implicit:Initialized factors in 0.7810633182525635\n",
      "DEBUG:implicit:Running 15 ALS iterations\n",
      "100%|████████████████████████████████████████████████████████████████████████████████| 15.0/15 [00:28<00:00,  1.76s/it]\n"
     ]
    },
    {
     "name": "stdout",
     "output_type": "stream",
     "text": [
      "ALS_rank-50_regularization-1_alpha-1_num_epochs-15 training time: 29.409s\n"
     ]
    },
    {
     "name": "stderr",
     "output_type": "stream",
     "text": [
      "DEBUG:implicit:Converting input to CSR format\n",
      "DEBUG:implicit:Converted input to CSR in 0.172s\n",
      "DEBUG:implicit:Calculated transpose in 0.125s\n",
      "DEBUG:implicit:Initialized factors in 0.6092567443847656\n",
      "DEBUG:implicit:Running 30 ALS iterations\n",
      "100%|████████████████████████████████████████████████████████████████████████████████| 30.0/30 [00:55<00:00,  1.72s/it]\n"
     ]
    },
    {
     "name": "stdout",
     "output_type": "stream",
     "text": [
      "ALS_rank-50_regularization-1_alpha-1_num_epochs-30 training time: 56.535s\n"
     ]
    },
    {
     "name": "stderr",
     "output_type": "stream",
     "text": [
      "DEBUG:implicit:Converting input to CSR format\n",
      "DEBUG:implicit:Converted input to CSR in 0.156s\n",
      "DEBUG:implicit:Calculated transpose in 0.141s\n",
      "DEBUG:implicit:Initialized factors in 0.6248514652252197\n",
      "DEBUG:implicit:Running 40 ALS iterations\n",
      "100%|████████████████████████████████████████████████████████████████████████████████| 40.0/40 [01:14<00:00,  1.77s/it]\n"
     ]
    },
    {
     "name": "stdout",
     "output_type": "stream",
     "text": [
      "ALS_rank-50_regularization-1_alpha-1_num_epochs-40 training time: 01m:15s\n"
     ]
    },
    {
     "name": "stderr",
     "output_type": "stream",
     "text": [
      "DEBUG:implicit:Converting input to CSR format\n",
      "DEBUG:implicit:Converted input to CSR in 0.172s\n",
      "DEBUG:implicit:Calculated transpose in 0.125s\n",
      "DEBUG:implicit:Initialized factors in 0.6091980934143066\n",
      "DEBUG:implicit:Running 15 ALS iterations\n",
      "100%|████████████████████████████████████████████████████████████████████████████████| 15.0/15 [00:28<00:00,  1.71s/it]\n"
     ]
    },
    {
     "name": "stdout",
     "output_type": "stream",
     "text": [
      "ALS_rank-50_regularization-1_alpha-50_num_epochs-15 training time: 29.250s\n"
     ]
    },
    {
     "name": "stderr",
     "output_type": "stream",
     "text": [
      "DEBUG:implicit:Converting input to CSR format\n",
      "DEBUG:implicit:Converted input to CSR in 0.172s\n",
      "DEBUG:implicit:Calculated transpose in 0.125s\n",
      "DEBUG:implicit:Initialized factors in 0.6248769760131836\n",
      "DEBUG:implicit:Running 30 ALS iterations\n",
      "100%|████████████████████████████████████████████████████████████████████████████████| 30.0/30 [00:55<00:00,  1.72s/it]\n"
     ]
    },
    {
     "name": "stdout",
     "output_type": "stream",
     "text": [
      "ALS_rank-50_regularization-1_alpha-50_num_epochs-30 training time: 56.231s\n"
     ]
    },
    {
     "name": "stderr",
     "output_type": "stream",
     "text": [
      "DEBUG:implicit:Converting input to CSR format\n",
      "DEBUG:implicit:Converted input to CSR in 0.172s\n",
      "DEBUG:implicit:Calculated transpose in 0.125s\n",
      "DEBUG:implicit:Initialized factors in 0.7341687679290771\n",
      "DEBUG:implicit:Running 40 ALS iterations\n",
      "100%|████████████████████████████████████████████████████████████████████████████████| 40.0/40 [01:14<00:00,  1.77s/it]\n"
     ]
    },
    {
     "name": "stdout",
     "output_type": "stream",
     "text": [
      "ALS_rank-50_regularization-1_alpha-50_num_epochs-40 training time: 01m:15s\n"
     ]
    },
    {
     "name": "stderr",
     "output_type": "stream",
     "text": [
      "DEBUG:implicit:Converting input to CSR format\n",
      "DEBUG:implicit:Converted input to CSR in 0.156s\n",
      "DEBUG:implicit:Calculated transpose in 0.125s\n",
      "DEBUG:implicit:Initialized factors in 0.6404986381530762\n",
      "DEBUG:implicit:Running 15 ALS iterations\n",
      "100%|████████████████████████████████████████████████████████████████████████████████| 15.0/15 [00:27<00:00,  1.68s/it]\n"
     ]
    },
    {
     "name": "stdout",
     "output_type": "stream",
     "text": [
      "ALS_rank-50_regularization-1_alpha-100_num_epochs-15 training time: 28.290s\n"
     ]
    },
    {
     "name": "stderr",
     "output_type": "stream",
     "text": [
      "DEBUG:implicit:Converting input to CSR format\n",
      "DEBUG:implicit:Converted input to CSR in 0.156s\n",
      "DEBUG:implicit:Calculated transpose in 0.125s\n",
      "DEBUG:implicit:Initialized factors in 0.6091976165771484\n",
      "DEBUG:implicit:Running 30 ALS iterations\n",
      "100%|████████████████████████████████████████████████████████████████████████████████| 30.0/30 [00:55<00:00,  1.68s/it]\n"
     ]
    },
    {
     "name": "stdout",
     "output_type": "stream",
     "text": [
      "ALS_rank-50_regularization-1_alpha-100_num_epochs-30 training time: 56.156s\n"
     ]
    },
    {
     "name": "stderr",
     "output_type": "stream",
     "text": [
      "DEBUG:implicit:Converting input to CSR format\n",
      "DEBUG:implicit:Converted input to CSR in 0.172s\n",
      "DEBUG:implicit:Calculated transpose in 0.125s\n",
      "DEBUG:implicit:Initialized factors in 0.6092259883880615\n",
      "DEBUG:implicit:Running 40 ALS iterations\n",
      "100%|████████████████████████████████████████████████████████████████████████████████| 40.0/40 [01:13<00:00,  1.65s/it]\n"
     ]
    },
    {
     "name": "stdout",
     "output_type": "stream",
     "text": [
      "ALS_rank-50_regularization-1_alpha-100_num_epochs-40 training time: 01m:15s\n"
     ]
    },
    {
     "name": "stderr",
     "output_type": "stream",
     "text": [
      "DEBUG:implicit:Converting input to CSR format\n",
      "DEBUG:implicit:Converted input to CSR in 0.156s\n",
      "DEBUG:implicit:Calculated transpose in 0.141s\n",
      "DEBUG:implicit:Initialized factors in 2.655585527420044\n",
      "DEBUG:implicit:Running 15 ALS iterations\n",
      "100%|████████████████████████████████████████████████████████████████████████████████| 15.0/15 [00:38<00:00,  2.38s/it]\n"
     ]
    },
    {
     "name": "stdout",
     "output_type": "stream",
     "text": [
      "ALS_rank-100_regularization-0.01_alpha-1_num_epochs-15 training time: 41.635s\n"
     ]
    },
    {
     "name": "stderr",
     "output_type": "stream",
     "text": [
      "DEBUG:implicit:Converting input to CSR format\n",
      "DEBUG:implicit:Converted input to CSR in 0.172s\n",
      "DEBUG:implicit:Calculated transpose in 0.125s\n",
      "DEBUG:implicit:Initialized factors in 1.249701738357544\n",
      "DEBUG:implicit:Running 30 ALS iterations\n",
      "100%|████████████████████████████████████████████████████████████████████████████████| 30.0/30 [01:16<00:00,  2.40s/it]\n"
     ]
    },
    {
     "name": "stdout",
     "output_type": "stream",
     "text": [
      "ALS_rank-100_regularization-0.01_alpha-1_num_epochs-30 training time: 01m:19s\n"
     ]
    },
    {
     "name": "stderr",
     "output_type": "stream",
     "text": [
      "DEBUG:implicit:Converting input to CSR format\n",
      "DEBUG:implicit:Converted input to CSR in 0.172s\n",
      "DEBUG:implicit:Calculated transpose in 0.125s\n",
      "DEBUG:implicit:Initialized factors in 1.2340803146362305\n",
      "DEBUG:implicit:Running 40 ALS iterations\n",
      "100%|████████████████████████████████████████████████████████████████████████████████| 40.0/40 [01:41<00:00,  2.44s/it]\n"
     ]
    },
    {
     "name": "stdout",
     "output_type": "stream",
     "text": [
      "ALS_rank-100_regularization-0.01_alpha-1_num_epochs-40 training time: 01m:43s\n"
     ]
    },
    {
     "name": "stderr",
     "output_type": "stream",
     "text": [
      "DEBUG:implicit:Converting input to CSR format\n",
      "DEBUG:implicit:Converted input to CSR in 0.172s\n",
      "DEBUG:implicit:Calculated transpose in 0.125s\n",
      "DEBUG:implicit:Initialized factors in 1.234048843383789\n",
      "DEBUG:implicit:Running 15 ALS iterations\n",
      "100%|████████████████████████████████████████████████████████████████████████████████| 15.0/15 [00:38<00:00,  2.43s/it]\n"
     ]
    },
    {
     "name": "stdout",
     "output_type": "stream",
     "text": [
      "ALS_rank-100_regularization-0.01_alpha-50_num_epochs-15 training time: 39.955s\n"
     ]
    },
    {
     "name": "stderr",
     "output_type": "stream",
     "text": [
      "DEBUG:implicit:Converting input to CSR format\n",
      "DEBUG:implicit:Converted input to CSR in 0.172s\n",
      "DEBUG:implicit:Calculated transpose in 0.125s\n",
      "DEBUG:implicit:Initialized factors in 1.2341070175170898\n",
      "DEBUG:implicit:Running 30 ALS iterations\n",
      "100%|████████████████████████████████████████████████████████████████████████████████| 30.0/30 [01:17<00:00,  2.37s/it]\n"
     ]
    },
    {
     "name": "stdout",
     "output_type": "stream",
     "text": [
      "ALS_rank-100_regularization-0.01_alpha-50_num_epochs-30 training time: 01m:19s\n"
     ]
    },
    {
     "name": "stderr",
     "output_type": "stream",
     "text": [
      "DEBUG:implicit:Converting input to CSR format\n",
      "DEBUG:implicit:Converted input to CSR in 0.172s\n",
      "DEBUG:implicit:Calculated transpose in 0.125s\n",
      "DEBUG:implicit:Initialized factors in 1.2340784072875977\n",
      "DEBUG:implicit:Running 40 ALS iterations\n",
      "100%|████████████████████████████████████████████████████████████████████████████████| 40.0/40 [01:43<00:00,  2.39s/it]\n"
     ]
    },
    {
     "name": "stdout",
     "output_type": "stream",
     "text": [
      "ALS_rank-100_regularization-0.01_alpha-50_num_epochs-40 training time: 01m:46s\n"
     ]
    },
    {
     "name": "stderr",
     "output_type": "stream",
     "text": [
      "DEBUG:implicit:Converting input to CSR format\n",
      "DEBUG:implicit:Converted input to CSR in 0.172s\n",
      "DEBUG:implicit:Calculated transpose in 0.125s\n",
      "DEBUG:implicit:Initialized factors in 1.2497291564941406\n",
      "DEBUG:implicit:Running 15 ALS iterations\n",
      "100%|████████████████████████████████████████████████████████████████████████████████| 15.0/15 [00:38<00:00,  2.47s/it]\n"
     ]
    },
    {
     "name": "stdout",
     "output_type": "stream",
     "text": [
      "ALS_rank-100_regularization-0.01_alpha-100_num_epochs-15 training time: 40.495s\n"
     ]
    },
    {
     "name": "stderr",
     "output_type": "stream",
     "text": [
      "DEBUG:implicit:Converting input to CSR format\n",
      "DEBUG:implicit:Converted input to CSR in 0.172s\n",
      "DEBUG:implicit:Calculated transpose in 0.141s\n",
      "DEBUG:implicit:Initialized factors in 1.280945062637329\n",
      "DEBUG:implicit:Running 30 ALS iterations\n",
      "100%|████████████████████████████████████████████████████████████████████████████████| 30.0/30 [01:17<00:00,  2.45s/it]\n"
     ]
    },
    {
     "name": "stdout",
     "output_type": "stream",
     "text": [
      "ALS_rank-100_regularization-0.01_alpha-100_num_epochs-30 training time: 01m:19s\n"
     ]
    },
    {
     "name": "stderr",
     "output_type": "stream",
     "text": [
      "DEBUG:implicit:Converting input to CSR format\n",
      "DEBUG:implicit:Converted input to CSR in 0.172s\n",
      "DEBUG:implicit:Calculated transpose in 0.125s\n",
      "DEBUG:implicit:Initialized factors in 1.249701976776123\n",
      "DEBUG:implicit:Running 40 ALS iterations\n",
      "100%|████████████████████████████████████████████████████████████████████████████████| 40.0/40 [01:42<00:00,  2.36s/it]\n"
     ]
    },
    {
     "name": "stdout",
     "output_type": "stream",
     "text": [
      "ALS_rank-100_regularization-0.01_alpha-100_num_epochs-40 training time: 01m:44s\n"
     ]
    },
    {
     "name": "stderr",
     "output_type": "stream",
     "text": [
      "DEBUG:implicit:Converting input to CSR format\n",
      "DEBUG:implicit:Converted input to CSR in 0.156s\n",
      "DEBUG:implicit:Calculated transpose in 0.141s\n",
      "DEBUG:implicit:Initialized factors in 1.3122131824493408\n",
      "DEBUG:implicit:Running 15 ALS iterations\n",
      "100%|████████████████████████████████████████████████████████████████████████████████| 15.0/15 [00:38<00:00,  2.41s/it]\n"
     ]
    },
    {
     "name": "stdout",
     "output_type": "stream",
     "text": [
      "ALS_rank-100_regularization-0.1_alpha-1_num_epochs-15 training time: 39.902s\n"
     ]
    },
    {
     "name": "stderr",
     "output_type": "stream",
     "text": [
      "DEBUG:implicit:Converting input to CSR format\n",
      "DEBUG:implicit:Converted input to CSR in 0.172s\n",
      "DEBUG:implicit:Calculated transpose in 0.125s\n",
      "DEBUG:implicit:Initialized factors in 1.2340970039367676\n",
      "DEBUG:implicit:Running 30 ALS iterations\n",
      "100%|████████████████████████████████████████████████████████████████████████████████| 30.0/30 [01:19<00:00,  2.38s/it]\n"
     ]
    },
    {
     "name": "stdout",
     "output_type": "stream",
     "text": [
      "ALS_rank-100_regularization-0.1_alpha-1_num_epochs-30 training time: 01m:21s\n"
     ]
    },
    {
     "name": "stderr",
     "output_type": "stream",
     "text": [
      "DEBUG:implicit:Converting input to CSR format\n",
      "DEBUG:implicit:Converted input to CSR in 0.172s\n",
      "DEBUG:implicit:Calculated transpose in 0.125s\n",
      "DEBUG:implicit:Initialized factors in 1.8589262962341309\n",
      "DEBUG:implicit:Running 40 ALS iterations\n",
      "100%|████████████████████████████████████████████████████████████████████████████████| 40.0/40 [01:43<00:00,  2.49s/it]\n"
     ]
    },
    {
     "name": "stdout",
     "output_type": "stream",
     "text": [
      "ALS_rank-100_regularization-0.1_alpha-1_num_epochs-40 training time: 01m:46s\n"
     ]
    },
    {
     "name": "stderr",
     "output_type": "stream",
     "text": [
      "DEBUG:implicit:Converting input to CSR format\n",
      "DEBUG:implicit:Converted input to CSR in 0.172s\n",
      "DEBUG:implicit:Calculated transpose in 0.125s\n",
      "DEBUG:implicit:Initialized factors in 1.2341058254241943\n",
      "DEBUG:implicit:Running 15 ALS iterations\n",
      "100%|████████████████████████████████████████████████████████████████████████████████| 15.0/15 [00:39<00:00,  2.38s/it]\n"
     ]
    },
    {
     "name": "stdout",
     "output_type": "stream",
     "text": [
      "ALS_rank-100_regularization-0.1_alpha-50_num_epochs-15 training time: 40.667s\n"
     ]
    },
    {
     "name": "stderr",
     "output_type": "stream",
     "text": [
      "DEBUG:implicit:Converting input to CSR format\n",
      "DEBUG:implicit:Converted input to CSR in 0.172s\n",
      "DEBUG:implicit:Calculated transpose in 0.156s\n",
      "DEBUG:implicit:Initialized factors in 1.2340753078460693\n",
      "DEBUG:implicit:Running 30 ALS iterations\n",
      "100%|████████████████████████████████████████████████████████████████████████████████| 30.0/30 [01:16<00:00,  2.39s/it]\n"
     ]
    },
    {
     "name": "stdout",
     "output_type": "stream",
     "text": [
      "ALS_rank-100_regularization-0.1_alpha-50_num_epochs-30 training time: 01m:18s\n"
     ]
    },
    {
     "name": "stderr",
     "output_type": "stream",
     "text": [
      "DEBUG:implicit:Converting input to CSR format\n",
      "DEBUG:implicit:Converted input to CSR in 0.172s\n",
      "DEBUG:implicit:Calculated transpose in 0.125s\n",
      "DEBUG:implicit:Initialized factors in 1.2496986389160156\n",
      "DEBUG:implicit:Running 40 ALS iterations\n",
      "100%|████████████████████████████████████████████████████████████████████████████████| 40.0/40 [01:42<00:00,  2.35s/it]\n"
     ]
    },
    {
     "name": "stdout",
     "output_type": "stream",
     "text": [
      "ALS_rank-100_regularization-0.1_alpha-50_num_epochs-40 training time: 01m:44s\n"
     ]
    },
    {
     "name": "stderr",
     "output_type": "stream",
     "text": [
      "DEBUG:implicit:Converting input to CSR format\n",
      "DEBUG:implicit:Converted input to CSR in 0.172s\n",
      "DEBUG:implicit:Calculated transpose in 0.141s\n",
      "DEBUG:implicit:Initialized factors in 1.2341187000274658\n",
      "DEBUG:implicit:Running 15 ALS iterations\n",
      "100%|████████████████████████████████████████████████████████████████████████████████| 15.0/15 [00:38<00:00,  2.34s/it]\n"
     ]
    },
    {
     "name": "stdout",
     "output_type": "stream",
     "text": [
      "ALS_rank-100_regularization-0.1_alpha-100_num_epochs-15 training time: 39.887s\n"
     ]
    },
    {
     "name": "stderr",
     "output_type": "stream",
     "text": [
      "DEBUG:implicit:Converting input to CSR format\n",
      "DEBUG:implicit:Converted input to CSR in 0.219s\n",
      "DEBUG:implicit:Calculated transpose in 0.141s\n",
      "DEBUG:implicit:Initialized factors in 1.7964465618133545\n",
      "DEBUG:implicit:Running 30 ALS iterations\n",
      "100%|████████████████████████████████████████████████████████████████████████████████| 30.0/30 [01:17<00:00,  2.38s/it]\n"
     ]
    },
    {
     "name": "stdout",
     "output_type": "stream",
     "text": [
      "ALS_rank-100_regularization-0.1_alpha-100_num_epochs-30 training time: 01m:19s\n"
     ]
    },
    {
     "name": "stderr",
     "output_type": "stream",
     "text": [
      "DEBUG:implicit:Converting input to CSR format\n",
      "DEBUG:implicit:Converted input to CSR in 0.172s\n",
      "DEBUG:implicit:Calculated transpose in 0.125s\n",
      "DEBUG:implicit:Initialized factors in 1.2653183937072754\n",
      "DEBUG:implicit:Running 40 ALS iterations\n",
      "100%|████████████████████████████████████████████████████████████████████████████████| 40.0/40 [01:42<00:00,  2.36s/it]\n"
     ]
    },
    {
     "name": "stdout",
     "output_type": "stream",
     "text": [
      "ALS_rank-100_regularization-0.1_alpha-100_num_epochs-40 training time: 01m:44s\n"
     ]
    },
    {
     "name": "stderr",
     "output_type": "stream",
     "text": [
      "DEBUG:implicit:Converting input to CSR format\n",
      "DEBUG:implicit:Converted input to CSR in 0.172s\n",
      "DEBUG:implicit:Calculated transpose in 0.141s\n",
      "DEBUG:implicit:Initialized factors in 1.390263319015503\n",
      "DEBUG:implicit:Running 15 ALS iterations\n",
      "100%|████████████████████████████████████████████████████████████████████████████████| 15.0/15 [00:38<00:00,  2.35s/it]\n"
     ]
    },
    {
     "name": "stdout",
     "output_type": "stream",
     "text": [
      "ALS_rank-100_regularization-1_alpha-1_num_epochs-15 training time: 40.267s\n"
     ]
    },
    {
     "name": "stderr",
     "output_type": "stream",
     "text": [
      "DEBUG:implicit:Converting input to CSR format\n",
      "DEBUG:implicit:Converted input to CSR in 0.172s\n",
      "DEBUG:implicit:Calculated transpose in 0.125s\n",
      "DEBUG:implicit:Initialized factors in 1.2809395790100098\n",
      "DEBUG:implicit:Running 30 ALS iterations\n",
      "100%|████████████████████████████████████████████████████████████████████████████████| 30.0/30 [01:17<00:00,  2.39s/it]\n"
     ]
    },
    {
     "name": "stdout",
     "output_type": "stream",
     "text": [
      "ALS_rank-100_regularization-1_alpha-1_num_epochs-30 training time: 01m:19s\n"
     ]
    },
    {
     "name": "stderr",
     "output_type": "stream",
     "text": [
      "DEBUG:implicit:Converting input to CSR format\n",
      "DEBUG:implicit:Converted input to CSR in 0.172s\n",
      "DEBUG:implicit:Calculated transpose in 0.141s\n",
      "DEBUG:implicit:Initialized factors in 1.608962059020996\n",
      "DEBUG:implicit:Running 40 ALS iterations\n",
      "100%|████████████████████████████████████████████████████████████████████████████████| 40.0/40 [01:43<00:00,  2.36s/it]\n"
     ]
    },
    {
     "name": "stdout",
     "output_type": "stream",
     "text": [
      "ALS_rank-100_regularization-1_alpha-1_num_epochs-40 training time: 01m:45s\n"
     ]
    },
    {
     "name": "stderr",
     "output_type": "stream",
     "text": [
      "DEBUG:implicit:Converting input to CSR format\n",
      "DEBUG:implicit:Converted input to CSR in 0.172s\n",
      "DEBUG:implicit:Calculated transpose in 0.156s\n",
      "DEBUG:implicit:Initialized factors in 1.2497031688690186\n",
      "DEBUG:implicit:Running 15 ALS iterations\n",
      "100%|████████████████████████████████████████████████████████████████████████████████| 15.0/15 [00:38<00:00,  2.35s/it]\n"
     ]
    },
    {
     "name": "stdout",
     "output_type": "stream",
     "text": [
      "ALS_rank-100_regularization-1_alpha-50_num_epochs-15 training time: 39.865s\n"
     ]
    },
    {
     "name": "stderr",
     "output_type": "stream",
     "text": [
      "DEBUG:implicit:Converting input to CSR format\n",
      "DEBUG:implicit:Converted input to CSR in 0.172s\n",
      "DEBUG:implicit:Calculated transpose in 0.125s\n",
      "DEBUG:implicit:Initialized factors in 1.265317678451538\n",
      "DEBUG:implicit:Running 30 ALS iterations\n",
      "100%|████████████████████████████████████████████████████████████████████████████████| 30.0/30 [01:16<00:00,  2.38s/it]\n"
     ]
    },
    {
     "name": "stdout",
     "output_type": "stream",
     "text": [
      "ALS_rank-100_regularization-1_alpha-50_num_epochs-30 training time: 01m:18s\n"
     ]
    },
    {
     "name": "stderr",
     "output_type": "stream",
     "text": [
      "DEBUG:implicit:Converting input to CSR format\n",
      "DEBUG:implicit:Converted input to CSR in 0.172s\n",
      "DEBUG:implicit:Calculated transpose in 0.125s\n",
      "DEBUG:implicit:Initialized factors in 1.8901429176330566\n",
      "DEBUG:implicit:Running 40 ALS iterations\n",
      "100%|████████████████████████████████████████████████████████████████████████████████| 40.0/40 [01:44<00:00,  2.38s/it]\n"
     ]
    },
    {
     "name": "stdout",
     "output_type": "stream",
     "text": [
      "ALS_rank-100_regularization-1_alpha-50_num_epochs-40 training time: 01m:47s\n"
     ]
    },
    {
     "name": "stderr",
     "output_type": "stream",
     "text": [
      "DEBUG:implicit:Converting input to CSR format\n",
      "DEBUG:implicit:Converted input to CSR in 0.172s\n",
      "DEBUG:implicit:Calculated transpose in 0.125s\n",
      "DEBUG:implicit:Initialized factors in 1.2496716976165771\n",
      "DEBUG:implicit:Running 15 ALS iterations\n",
      "100%|████████████████████████████████████████████████████████████████████████████████| 15.0/15 [00:38<00:00,  2.37s/it]\n"
     ]
    },
    {
     "name": "stdout",
     "output_type": "stream",
     "text": [
      "ALS_rank-100_regularization-1_alpha-100_num_epochs-15 training time: 40.101s\n"
     ]
    },
    {
     "name": "stderr",
     "output_type": "stream",
     "text": [
      "DEBUG:implicit:Converting input to CSR format\n",
      "DEBUG:implicit:Converted input to CSR in 0.172s\n",
      "DEBUG:implicit:Calculated transpose in 0.125s\n",
      "DEBUG:implicit:Initialized factors in 1.2341065406799316\n",
      "DEBUG:implicit:Running 30 ALS iterations\n",
      "100%|████████████████████████████████████████████████████████████████████████████████| 30.0/30 [01:16<00:00,  2.40s/it]\n"
     ]
    },
    {
     "name": "stdout",
     "output_type": "stream",
     "text": [
      "ALS_rank-100_regularization-1_alpha-100_num_epochs-30 training time: 01m:18s\n"
     ]
    },
    {
     "name": "stderr",
     "output_type": "stream",
     "text": [
      "DEBUG:implicit:Converting input to CSR format\n",
      "DEBUG:implicit:Converted input to CSR in 0.172s\n",
      "DEBUG:implicit:Calculated transpose in 0.125s\n",
      "DEBUG:implicit:Initialized factors in 1.6090176105499268\n",
      "DEBUG:implicit:Running 40 ALS iterations\n",
      "100%|████████████████████████████████████████████████████████████████████████████████| 40.0/40 [01:43<00:00,  2.39s/it]\n"
     ]
    },
    {
     "name": "stdout",
     "output_type": "stream",
     "text": [
      "ALS_rank-100_regularization-1_alpha-100_num_epochs-40 training time: 01m:45s\n",
      "Evaluated model in 249.41s\n",
      "Evaluated model in 106.22s\n",
      "Evaluated model in 180.83s\n",
      "Evaluated model in 138.05s\n",
      "Evaluated model in 140.06s\n",
      "Evaluated model in 138.59s\n",
      "Evaluated model in 127.99s\n",
      "Evaluated model in 127.04s\n",
      "Evaluated model in 129.35s\n",
      "Evaluated model in 132.64s\n",
      "Evaluated model in 128.07s\n",
      "Evaluated model in 127.64s\n",
      "Evaluated model in 140.28s\n",
      "Evaluated model in 140.10s\n",
      "Evaluated model in 144.69s\n",
      "Evaluated model in 129.42s\n",
      "Evaluated model in 131.14s\n",
      "Evaluated model in 131.16s\n",
      "Evaluated model in 132.32s\n",
      "Evaluated model in 131.63s\n",
      "Evaluated model in 128.30s\n",
      "Evaluated model in 136.42s\n",
      "Evaluated model in 142.95s\n",
      "Evaluated model in 143.70s\n",
      "Evaluated model in 134.25s\n",
      "Evaluated model in 127.66s\n",
      "Evaluated model in 130.17s\n",
      "Evaluated model in 128.86s\n",
      "Evaluated model in 129.86s\n",
      "Evaluated model in 134.21s\n",
      "Evaluated model in 152.06s\n",
      "Evaluated model in 151.87s\n",
      "Evaluated model in 149.77s\n",
      "Evaluated model in 144.32s\n",
      "Evaluated model in 144.67s\n",
      "Evaluated model in 146.05s\n",
      "Evaluated model in 146.81s\n",
      "Evaluated model in 146.58s\n",
      "Evaluated model in 145.40s\n",
      "Evaluated model in 149.17s\n",
      "Evaluated model in 166.54s\n",
      "Evaluated model in 173.88s\n",
      "Evaluated model in 169.13s\n",
      "Evaluated model in 163.77s\n",
      "Evaluated model in 150.95s\n",
      "Evaluated model in 142.86s\n",
      "Evaluated model in 145.00s\n",
      "Evaluated model in 146.86s\n",
      "Evaluated model in 153.31s\n",
      "Evaluated model in 150.37s\n",
      "Evaluated model in 154.46s\n",
      "Evaluated model in 147.17s\n",
      "Evaluated model in 147.23s\n",
      "Evaluated model in 146.77s\n",
      "Evaluated model in 144.69s\n",
      "Evaluated model in 151.43s\n",
      "Evaluated model in 145.41s\n",
      "Evaluated model in 161.54s\n",
      "Evaluated model in 162.80s\n",
      "Evaluated model in 162.44s\n",
      "Evaluated model in 160.60s\n",
      "Evaluated model in 161.68s\n",
      "Evaluated model in 160.38s\n",
      "Evaluated model in 160.78s\n",
      "Evaluated model in 160.07s\n",
      "Evaluated model in 160.81s\n",
      "Evaluated model in 161.21s\n",
      "Evaluated model in 161.64s\n",
      "Evaluated model in 159.95s\n",
      "Evaluated model in 159.36s\n",
      "Evaluated model in 159.71s\n",
      "Evaluated model in 161.06s\n",
      "Evaluated model in 160.77s\n",
      "Evaluated model in 162.82s\n",
      "Evaluated model in 160.15s\n",
      "Evaluated model in 160.41s\n",
      "Evaluated model in 162.01s\n",
      "Evaluated model in 161.28s\n",
      "Evaluated model in 159.93s\n",
      "Evaluated model in 159.26s\n",
      "Evaluated model in 160.59s\n",
      "Evaluated model in 159.83s\n",
      "Evaluated model in 158.45s\n",
      "Evaluated model in 159.86s\n",
      "Evaluated model in 0.48s\n",
      "Evaluated model in 0.48s\n",
      "Evaluated model in 0.48s\n",
      "Evaluated model in 0.47s\n",
      "Evaluated model in 0.50s\n",
      "Evaluated model in 0.48s\n",
      "Evaluated model in 0.50s\n",
      "Evaluated model in 0.50s\n",
      "Evaluated model in 0.48s\n",
      "Evaluated model in 0.47s\n",
      "Evaluated model in 0.48s\n",
      "Evaluated model in 0.50s\n",
      "Evaluated model in 0.48s\n",
      "Evaluated model in 0.47s\n",
      "Evaluated model in 0.48s\n",
      "Evaluated model in 0.47s\n",
      "Evaluated model in 0.48s\n",
      "Evaluated model in 0.48s\n",
      "Evaluated model in 0.48s\n",
      "Evaluated model in 0.48s\n",
      "Evaluated model in 0.48s\n",
      "Evaluated model in 0.48s\n",
      "Evaluated model in 0.48s\n",
      "Evaluated model in 0.47s\n",
      "Evaluated model in 0.47s\n",
      "Evaluated model in 0.48s\n",
      "Evaluated model in 0.48s\n",
      "Evaluated model in 0.48s\n",
      "Evaluated model in 0.48s\n",
      "Evaluated model in 0.48s\n",
      "Evaluated model in 0.48s\n",
      "Evaluated model in 0.48s\n",
      "Evaluated model in 0.48s\n",
      "Evaluated model in 0.48s\n",
      "Evaluated model in 0.50s\n",
      "Evaluated model in 0.47s\n",
      "Evaluated model in 0.48s\n",
      "Evaluated model in 0.47s\n",
      "Evaluated model in 0.48s\n",
      "Evaluated model in 0.48s\n",
      "Evaluated model in 0.50s\n",
      "Evaluated model in 0.48s\n",
      "Evaluated model in 0.48s\n",
      "Evaluated model in 0.48s\n",
      "Evaluated model in 0.48s\n",
      "Evaluated model in 0.48s\n",
      "Evaluated model in 0.48s\n",
      "Evaluated model in 0.48s\n",
      "Evaluated model in 0.50s\n",
      "Evaluated model in 0.58s\n",
      "Evaluated model in 0.52s\n",
      "Evaluated model in 0.50s\n",
      "Evaluated model in 0.50s\n",
      "Evaluated model in 0.48s\n",
      "Evaluated model in 0.52s\n",
      "Evaluated model in 0.50s\n",
      "Evaluated model in 0.52s\n",
      "Evaluated model in 0.47s\n",
      "Evaluated model in 0.48s\n",
      "Evaluated model in 0.47s\n",
      "Evaluated model in 0.47s\n",
      "Evaluated model in 0.48s\n",
      "Evaluated model in 0.48s\n",
      "Evaluated model in 0.47s\n",
      "Evaluated model in 0.47s\n",
      "Evaluated model in 0.48s\n",
      "Evaluated model in 0.47s\n",
      "Evaluated model in 0.47s\n",
      "Evaluated model in 0.48s\n",
      "Evaluated model in 0.47s\n",
      "Evaluated model in 0.48s\n",
      "Evaluated model in 0.48s\n",
      "Evaluated model in 0.48s\n",
      "Evaluated model in 0.47s\n",
      "Evaluated model in 0.47s\n",
      "Evaluated model in 0.45s\n",
      "Evaluated model in 0.47s\n",
      "Evaluated model in 0.47s\n",
      "Evaluated model in 0.45s\n",
      "Evaluated model in 0.45s\n",
      "Evaluated model in 0.45s\n",
      "Evaluated model in 0.47s\n",
      "Evaluated model in 0.47s\n",
      "Evaluated model in 0.48s\n",
      "Evaluated model in 0.45s\n",
      "Evaluated model in 0.47s\n",
      "Evaluated model in 0.45s\n",
      "Evaluated model in 0.47s\n",
      "Evaluated model in 0.45s\n",
      "Evaluated model in 0.45s\n",
      "Evaluated model in 0.47s\n",
      "Evaluated model in 0.45s\n",
      "Evaluated model in 0.45s\n",
      "Evaluated model in 0.47s\n",
      "Evaluated model in 0.47s\n",
      "Evaluated model in 0.47s\n",
      "Evaluated model in 0.45s\n",
      "Evaluated model in 0.47s\n",
      "Evaluated model in 0.45s\n",
      "Evaluated model in 0.45s\n",
      "Evaluated model in 0.45s\n",
      "Evaluated model in 0.47s\n",
      "Evaluated model in 0.45s\n",
      "Evaluated model in 0.45s\n",
      "Evaluated model in 0.45s\n",
      "Evaluated model in 0.47s\n",
      "Evaluated model in 0.45s\n",
      "Evaluated model in 0.47s\n",
      "Evaluated model in 0.48s\n",
      "Evaluated model in 0.47s\n",
      "Evaluated model in 0.45s\n",
      "Evaluated model in 0.47s\n",
      "Evaluated model in 0.45s\n",
      "Evaluated model in 0.47s\n",
      "Evaluated model in 0.45s\n",
      "Evaluated model in 0.47s\n",
      "Evaluated model in 0.47s\n",
      "Evaluated model in 0.45s\n",
      "Evaluated model in 0.45s\n",
      "Evaluated model in 0.45s\n",
      "Evaluated model in 0.47s\n",
      "Evaluated model in 0.50s\n",
      "Evaluated model in 0.45s\n",
      "Evaluated model in 0.47s\n",
      "Evaluated model in 0.47s\n",
      "Evaluated model in 0.45s\n",
      "Evaluated model in 0.45s\n",
      "Evaluated model in 0.47s\n",
      "Evaluated model in 0.45s\n",
      "Evaluated model in 0.47s\n",
      "Evaluated model in 0.50s\n",
      "Evaluated model in 0.45s\n",
      "Evaluated model in 0.47s\n",
      "Evaluated model in 0.45s\n",
      "Evaluated model in 0.47s\n",
      "Evaluated model in 0.47s\n",
      "Evaluated model in 0.45s\n",
      "Evaluated model in 0.47s\n",
      "Evaluated model in 0.47s\n",
      "Evaluated model in 0.45s\n",
      "Evaluated model in 0.45s\n",
      "Evaluated model in 0.45s\n",
      "Evaluated model in 0.47s\n",
      "Evaluated model in 0.45s\n",
      "Evaluated model in 0.45s\n",
      "Evaluated model in 0.45s\n",
      "Evaluated model in 0.45s\n",
      "Evaluated model in 0.45s\n",
      "Evaluated model in 0.45s\n",
      "Evaluated model in 0.45s\n",
      "Evaluated model in 0.45s\n",
      "Evaluated model in 0.45s\n",
      "Evaluated model in 0.47s\n",
      "Evaluated model in 0.45s\n",
      "Evaluated model in 0.45s\n",
      "Evaluated model in 0.45s\n",
      "Evaluated model in 0.45s\n",
      "Evaluated model in 0.47s\n",
      "Evaluated model in 0.45s\n",
      "Evaluated model in 0.45s\n",
      "Evaluated model in 0.45s\n",
      "Evaluated model in 0.45s\n",
      "Evaluated model in 0.45s\n",
      "Evaluated model in 0.45s\n",
      "Evaluated model in 0.47s\n",
      "Evaluated model in 0.45s\n",
      "Evaluated model in 0.45s\n",
      "Evaluated model in 0.45s\n",
      "Preparing data...\n",
      "215 unique itemid's within 227 holdout interactions were filtered. Reason: not in the training data.\n",
      "85431 unique userid's within 135552 holdout interactions were filtered. Reason: not in the training data.\n",
      "97 of 44250 userid's were filtered out from holdout. Reason: incompatible number of items.\n",
      "Done.\n",
      "There are 5071031 events in the training and 132459 events in the holdout.\n",
      "PureSVD training time: 3.057s\n"
     ]
    },
    {
     "name": "stderr",
     "output_type": "stream",
     "text": [
      "DEBUG:implicit:Converting input to CSR format\n",
      "DEBUG:implicit:Converted input to CSR in 0.156s\n",
      "DEBUG:implicit:Calculated transpose in 0.125s\n",
      "DEBUG:implicit:Initialized factors in 0.12497115135192871\n",
      "DEBUG:implicit:Running 15 ALS iterations\n",
      "100%|████████████████████████████████████████████████████████████████████████████████| 15.0/15 [00:20<00:00,  1.28s/it]\n"
     ]
    },
    {
     "name": "stdout",
     "output_type": "stream",
     "text": [
      "ALS_rank-10_regularization-0.01_alpha-1_num_epochs-15 training time: 20.605s\n"
     ]
    },
    {
     "name": "stderr",
     "output_type": "stream",
     "text": [
      "DEBUG:implicit:Converting input to CSR format\n",
      "DEBUG:implicit:Converted input to CSR in 0.172s\n",
      "DEBUG:implicit:Calculated transpose in 0.125s\n",
      "DEBUG:implicit:Initialized factors in 0.12496328353881836\n",
      "DEBUG:implicit:Running 30 ALS iterations\n",
      "100%|████████████████████████████████████████████████████████████████████████████████| 30.0/30 [00:41<00:00,  1.26s/it]\n"
     ]
    },
    {
     "name": "stdout",
     "output_type": "stream",
     "text": [
      "ALS_rank-10_regularization-0.01_alpha-1_num_epochs-30 training time: 41.904s\n"
     ]
    },
    {
     "name": "stderr",
     "output_type": "stream",
     "text": [
      "DEBUG:implicit:Converting input to CSR format\n",
      "DEBUG:implicit:Converted input to CSR in 0.172s\n",
      "DEBUG:implicit:Calculated transpose in 0.125s\n",
      "DEBUG:implicit:Initialized factors in 0.12496805191040039\n",
      "DEBUG:implicit:Running 40 ALS iterations\n",
      "100%|████████████████████████████████████████████████████████████████████████████████| 40.0/40 [00:53<00:00,  1.31s/it]\n"
     ]
    },
    {
     "name": "stdout",
     "output_type": "stream",
     "text": [
      "ALS_rank-10_regularization-0.01_alpha-1_num_epochs-40 training time: 54.047s\n"
     ]
    },
    {
     "name": "stderr",
     "output_type": "stream",
     "text": [
      "DEBUG:implicit:Converting input to CSR format\n",
      "DEBUG:implicit:Converted input to CSR in 0.172s\n",
      "DEBUG:implicit:Calculated transpose in 0.125s\n",
      "DEBUG:implicit:Initialized factors in 0.12496137619018555\n",
      "DEBUG:implicit:Running 15 ALS iterations\n",
      "100%|████████████████████████████████████████████████████████████████████████████████| 15.0/15 [00:19<00:00,  1.23s/it]\n"
     ]
    },
    {
     "name": "stdout",
     "output_type": "stream",
     "text": [
      "ALS_rank-10_regularization-0.01_alpha-50_num_epochs-15 training time: 20.344s\n"
     ]
    },
    {
     "name": "stderr",
     "output_type": "stream",
     "text": [
      "DEBUG:implicit:Converting input to CSR format\n",
      "DEBUG:implicit:Converted input to CSR in 0.156s\n",
      "DEBUG:implicit:Calculated transpose in 0.125s\n",
      "DEBUG:implicit:Initialized factors in 0.10934758186340332\n",
      "DEBUG:implicit:Running 30 ALS iterations\n",
      "100%|████████████████████████████████████████████████████████████████████████████████| 30.0/30 [00:40<00:00,  1.27s/it]\n"
     ]
    },
    {
     "name": "stdout",
     "output_type": "stream",
     "text": [
      "ALS_rank-10_regularization-0.01_alpha-50_num_epochs-30 training time: 40.636s\n"
     ]
    },
    {
     "name": "stderr",
     "output_type": "stream",
     "text": [
      "DEBUG:implicit:Converting input to CSR format\n",
      "DEBUG:implicit:Converted input to CSR in 0.172s\n",
      "DEBUG:implicit:Calculated transpose in 0.125s\n",
      "DEBUG:implicit:Initialized factors in 0.12496232986450195\n",
      "DEBUG:implicit:Running 40 ALS iterations\n",
      "100%|████████████████████████████████████████████████████████████████████████████████| 40.0/40 [00:54<00:00,  1.25s/it]\n"
     ]
    },
    {
     "name": "stdout",
     "output_type": "stream",
     "text": [
      "ALS_rank-10_regularization-0.01_alpha-50_num_epochs-40 training time: 54.542s\n"
     ]
    },
    {
     "name": "stderr",
     "output_type": "stream",
     "text": [
      "DEBUG:implicit:Converting input to CSR format\n",
      "DEBUG:implicit:Converted input to CSR in 0.172s\n",
      "DEBUG:implicit:Calculated transpose in 0.125s\n",
      "DEBUG:implicit:Initialized factors in 0.12499785423278809\n",
      "DEBUG:implicit:Running 15 ALS iterations\n",
      "100%|████████████████████████████████████████████████████████████████████████████████| 15.0/15 [00:20<00:00,  1.30s/it]\n"
     ]
    },
    {
     "name": "stdout",
     "output_type": "stream",
     "text": [
      "ALS_rank-10_regularization-0.01_alpha-100_num_epochs-15 training time: 20.668s\n"
     ]
    },
    {
     "name": "stderr",
     "output_type": "stream",
     "text": [
      "DEBUG:implicit:Converting input to CSR format\n",
      "DEBUG:implicit:Converted input to CSR in 0.172s\n",
      "DEBUG:implicit:Calculated transpose in 0.125s\n",
      "DEBUG:implicit:Initialized factors in 0.12496781349182129\n",
      "DEBUG:implicit:Running 30 ALS iterations\n",
      "100%|████████████████████████████████████████████████████████████████████████████████| 30.0/30 [00:39<00:00,  1.24s/it]\n"
     ]
    },
    {
     "name": "stdout",
     "output_type": "stream",
     "text": [
      "ALS_rank-10_regularization-0.01_alpha-100_num_epochs-30 training time: 40.275s\n"
     ]
    },
    {
     "name": "stderr",
     "output_type": "stream",
     "text": [
      "DEBUG:implicit:Converting input to CSR format\n",
      "DEBUG:implicit:Converted input to CSR in 0.156s\n",
      "DEBUG:implicit:Calculated transpose in 0.125s\n",
      "DEBUG:implicit:Initialized factors in 0.12496447563171387\n",
      "DEBUG:implicit:Running 40 ALS iterations\n",
      "100%|████████████████████████████████████████████████████████████████████████████████| 40.0/40 [00:53<00:00,  1.20s/it]\n"
     ]
    },
    {
     "name": "stdout",
     "output_type": "stream",
     "text": [
      "ALS_rank-10_regularization-0.01_alpha-100_num_epochs-40 training time: 54.100s\n"
     ]
    },
    {
     "name": "stderr",
     "output_type": "stream",
     "text": [
      "DEBUG:implicit:Converting input to CSR format\n",
      "DEBUG:implicit:Converted input to CSR in 0.156s\n",
      "DEBUG:implicit:Calculated transpose in 0.125s\n",
      "DEBUG:implicit:Initialized factors in 0.12496447563171387\n",
      "DEBUG:implicit:Running 15 ALS iterations\n",
      "100%|████████████████████████████████████████████████████████████████████████████████| 15.0/15 [00:21<00:00,  1.47s/it]\n"
     ]
    },
    {
     "name": "stdout",
     "output_type": "stream",
     "text": [
      "ALS_rank-10_regularization-0.1_alpha-1_num_epochs-15 training time: 21.847s\n"
     ]
    },
    {
     "name": "stderr",
     "output_type": "stream",
     "text": [
      "DEBUG:implicit:Converting input to CSR format\n",
      "DEBUG:implicit:Converted input to CSR in 0.203s\n",
      "DEBUG:implicit:Calculated transpose in 0.172s\n",
      "DEBUG:implicit:Initialized factors in 0.1406114101409912\n",
      "DEBUG:implicit:Running 30 ALS iterations\n",
      "100%|████████████████████████████████████████████████████████████████████████████████| 30.0/30 [00:40<00:00,  1.22s/it]\n"
     ]
    },
    {
     "name": "stdout",
     "output_type": "stream",
     "text": [
      "ALS_rank-10_regularization-0.1_alpha-1_num_epochs-30 training time: 40.803s\n"
     ]
    },
    {
     "name": "stderr",
     "output_type": "stream",
     "text": [
      "DEBUG:implicit:Converting input to CSR format\n",
      "DEBUG:implicit:Converted input to CSR in 0.172s\n",
      "DEBUG:implicit:Calculated transpose in 0.125s\n",
      "DEBUG:implicit:Initialized factors in 0.12493753433227539\n",
      "DEBUG:implicit:Running 40 ALS iterations\n",
      "100%|████████████████████████████████████████████████████████████████████████████████| 40.0/40 [00:54<00:00,  1.24s/it]\n"
     ]
    },
    {
     "name": "stdout",
     "output_type": "stream",
     "text": [
      "ALS_rank-10_regularization-0.1_alpha-1_num_epochs-40 training time: 54.528s\n"
     ]
    },
    {
     "name": "stderr",
     "output_type": "stream",
     "text": [
      "DEBUG:implicit:Converting input to CSR format\n",
      "DEBUG:implicit:Converted input to CSR in 0.172s\n",
      "DEBUG:implicit:Calculated transpose in 0.125s\n",
      "DEBUG:implicit:Initialized factors in 0.12496495246887207\n",
      "DEBUG:implicit:Running 15 ALS iterations\n",
      "100%|████████████████████████████████████████████████████████████████████████████████| 15.0/15 [00:20<00:00,  1.25s/it]\n"
     ]
    },
    {
     "name": "stdout",
     "output_type": "stream",
     "text": [
      "ALS_rank-10_regularization-0.1_alpha-50_num_epochs-15 training time: 20.745s\n"
     ]
    },
    {
     "name": "stderr",
     "output_type": "stream",
     "text": [
      "DEBUG:implicit:Converting input to CSR format\n",
      "DEBUG:implicit:Converted input to CSR in 0.156s\n",
      "DEBUG:implicit:Calculated transpose in 0.141s\n",
      "DEBUG:implicit:Initialized factors in 0.10934162139892578\n",
      "DEBUG:implicit:Running 30 ALS iterations\n",
      "100%|████████████████████████████████████████████████████████████████████████████████| 30.0/30 [00:40<00:00,  1.20s/it]\n"
     ]
    },
    {
     "name": "stdout",
     "output_type": "stream",
     "text": [
      "ALS_rank-10_regularization-0.1_alpha-50_num_epochs-30 training time: 40.470s\n"
     ]
    },
    {
     "name": "stderr",
     "output_type": "stream",
     "text": [
      "DEBUG:implicit:Converting input to CSR format\n",
      "DEBUG:implicit:Converted input to CSR in 0.172s\n",
      "DEBUG:implicit:Calculated transpose in 0.125s\n",
      "DEBUG:implicit:Initialized factors in 0.12496519088745117\n",
      "DEBUG:implicit:Running 40 ALS iterations\n",
      "100%|████████████████████████████████████████████████████████████████████████████████| 40.0/40 [00:53<00:00,  1.22s/it]\n"
     ]
    },
    {
     "name": "stdout",
     "output_type": "stream",
     "text": [
      "ALS_rank-10_regularization-0.1_alpha-50_num_epochs-40 training time: 54.202s\n"
     ]
    },
    {
     "name": "stderr",
     "output_type": "stream",
     "text": [
      "DEBUG:implicit:Converting input to CSR format\n",
      "DEBUG:implicit:Converted input to CSR in 0.172s\n",
      "DEBUG:implicit:Calculated transpose in 0.125s\n",
      "DEBUG:implicit:Initialized factors in 0.1249699592590332\n",
      "DEBUG:implicit:Running 15 ALS iterations\n",
      "100%|████████████████████████████████████████████████████████████████████████████████| 15.0/15 [00:20<00:00,  1.44s/it]\n"
     ]
    },
    {
     "name": "stdout",
     "output_type": "stream",
     "text": [
      "ALS_rank-10_regularization-0.1_alpha-100_num_epochs-15 training time: 20.934s\n"
     ]
    },
    {
     "name": "stderr",
     "output_type": "stream",
     "text": [
      "DEBUG:implicit:Converting input to CSR format\n",
      "DEBUG:implicit:Converted input to CSR in 0.172s\n",
      "DEBUG:implicit:Calculated transpose in 0.187s\n",
      "DEBUG:implicit:Initialized factors in 0.14055967330932617\n",
      "DEBUG:implicit:Running 30 ALS iterations\n",
      "100%|████████████████████████████████████████████████████████████████████████████████| 30.0/30 [00:43<00:00,  1.26s/it]\n"
     ]
    },
    {
     "name": "stdout",
     "output_type": "stream",
     "text": [
      "ALS_rank-10_regularization-0.1_alpha-100_num_epochs-30 training time: 44.554s\n"
     ]
    },
    {
     "name": "stderr",
     "output_type": "stream",
     "text": [
      "DEBUG:implicit:Converting input to CSR format\n",
      "DEBUG:implicit:Converted input to CSR in 0.172s\n",
      "DEBUG:implicit:Calculated transpose in 0.141s\n",
      "DEBUG:implicit:Initialized factors in 0.12496352195739746\n",
      "DEBUG:implicit:Running 40 ALS iterations\n",
      "100%|████████████████████████████████████████████████████████████████████████████████| 40.0/40 [00:53<00:00,  1.21s/it]\n"
     ]
    },
    {
     "name": "stdout",
     "output_type": "stream",
     "text": [
      "ALS_rank-10_regularization-0.1_alpha-100_num_epochs-40 training time: 53.893s\n"
     ]
    },
    {
     "name": "stderr",
     "output_type": "stream",
     "text": [
      "DEBUG:implicit:Converting input to CSR format\n",
      "DEBUG:implicit:Converted input to CSR in 0.172s\n",
      "DEBUG:implicit:Calculated transpose in 0.141s\n",
      "DEBUG:implicit:Initialized factors in 0.14058470726013184\n",
      "DEBUG:implicit:Running 15 ALS iterations\n",
      "100%|████████████████████████████████████████████████████████████████████████████████| 15.0/15 [00:19<00:00,  1.21s/it]\n"
     ]
    },
    {
     "name": "stdout",
     "output_type": "stream",
     "text": [
      "ALS_rank-10_regularization-1_alpha-1_num_epochs-15 training time: 20.263s\n"
     ]
    },
    {
     "name": "stderr",
     "output_type": "stream",
     "text": [
      "DEBUG:implicit:Converting input to CSR format\n",
      "DEBUG:implicit:Converted input to CSR in 0.172s\n",
      "DEBUG:implicit:Calculated transpose in 0.125s\n",
      "DEBUG:implicit:Initialized factors in 0.14058756828308105\n",
      "DEBUG:implicit:Running 30 ALS iterations\n",
      "100%|████████████████████████████████████████████████████████████████████████████████| 30.0/30 [00:41<00:00,  1.32s/it]\n"
     ]
    },
    {
     "name": "stdout",
     "output_type": "stream",
     "text": [
      "ALS_rank-10_regularization-1_alpha-1_num_epochs-30 training time: 41.520s\n"
     ]
    },
    {
     "name": "stderr",
     "output_type": "stream",
     "text": [
      "DEBUG:implicit:Converting input to CSR format\n",
      "DEBUG:implicit:Converted input to CSR in 0.172s\n",
      "DEBUG:implicit:Calculated transpose in 0.141s\n",
      "DEBUG:implicit:Initialized factors in 0.12496495246887207\n",
      "DEBUG:implicit:Running 40 ALS iterations\n",
      "100%|████████████████████████████████████████████████████████████████████████████████| 40.0/40 [00:53<00:00,  1.22s/it]\n"
     ]
    },
    {
     "name": "stdout",
     "output_type": "stream",
     "text": [
      "ALS_rank-10_regularization-1_alpha-1_num_epochs-40 training time: 54.166s\n"
     ]
    },
    {
     "name": "stderr",
     "output_type": "stream",
     "text": [
      "DEBUG:implicit:Converting input to CSR format\n",
      "DEBUG:implicit:Converted input to CSR in 0.172s\n",
      "DEBUG:implicit:Calculated transpose in 0.125s\n",
      "DEBUG:implicit:Initialized factors in 0.1249687671661377\n",
      "DEBUG:implicit:Running 15 ALS iterations\n",
      "100%|████████████████████████████████████████████████████████████████████████████████| 15.0/15 [00:19<00:00,  1.22s/it]\n"
     ]
    },
    {
     "name": "stdout",
     "output_type": "stream",
     "text": [
      "ALS_rank-10_regularization-1_alpha-50_num_epochs-15 training time: 20.337s\n"
     ]
    },
    {
     "name": "stderr",
     "output_type": "stream",
     "text": [
      "DEBUG:implicit:Converting input to CSR format\n",
      "DEBUG:implicit:Converted input to CSR in 0.187s\n",
      "DEBUG:implicit:Calculated transpose in 0.125s\n",
      "DEBUG:implicit:Initialized factors in 0.14058709144592285\n",
      "DEBUG:implicit:Running 30 ALS iterations\n",
      "100%|████████████████████████████████████████████████████████████████████████████████| 30.0/30 [00:40<00:00,  1.28s/it]\n"
     ]
    },
    {
     "name": "stdout",
     "output_type": "stream",
     "text": [
      "ALS_rank-10_regularization-1_alpha-50_num_epochs-30 training time: 40.725s\n"
     ]
    },
    {
     "name": "stderr",
     "output_type": "stream",
     "text": [
      "DEBUG:implicit:Converting input to CSR format\n",
      "DEBUG:implicit:Converted input to CSR in 0.172s\n",
      "DEBUG:implicit:Calculated transpose in 0.141s\n",
      "DEBUG:implicit:Initialized factors in 0.12499237060546875\n",
      "DEBUG:implicit:Running 40 ALS iterations\n",
      "100%|████████████████████████████████████████████████████████████████████████████████| 40.0/40 [00:54<00:00,  1.50s/it]\n"
     ]
    },
    {
     "name": "stdout",
     "output_type": "stream",
     "text": [
      "ALS_rank-10_regularization-1_alpha-50_num_epochs-40 training time: 54.725s\n"
     ]
    },
    {
     "name": "stderr",
     "output_type": "stream",
     "text": [
      "DEBUG:implicit:Converting input to CSR format\n",
      "DEBUG:implicit:Converted input to CSR in 0.234s\n",
      "DEBUG:implicit:Calculated transpose in 0.203s\n",
      "DEBUG:implicit:Initialized factors in 0.15623235702514648\n",
      "DEBUG:implicit:Running 15 ALS iterations\n",
      "100%|████████████████████████████████████████████████████████████████████████████████| 15.0/15 [00:21<00:00,  1.23s/it]\n"
     ]
    },
    {
     "name": "stdout",
     "output_type": "stream",
     "text": [
      "ALS_rank-10_regularization-1_alpha-100_num_epochs-15 training time: 22.531s\n"
     ]
    },
    {
     "name": "stderr",
     "output_type": "stream",
     "text": [
      "DEBUG:implicit:Converting input to CSR format\n",
      "DEBUG:implicit:Converted input to CSR in 0.172s\n",
      "DEBUG:implicit:Calculated transpose in 0.156s\n",
      "DEBUG:implicit:Initialized factors in 0.12499475479125977\n",
      "DEBUG:implicit:Running 30 ALS iterations\n",
      "100%|████████████████████████████████████████████████████████████████████████████████| 30.0/30 [00:39<00:00,  1.21s/it]\n"
     ]
    },
    {
     "name": "stdout",
     "output_type": "stream",
     "text": [
      "ALS_rank-10_regularization-1_alpha-100_num_epochs-30 training time: 39.974s\n"
     ]
    },
    {
     "name": "stderr",
     "output_type": "stream",
     "text": [
      "DEBUG:implicit:Converting input to CSR format\n",
      "DEBUG:implicit:Converted input to CSR in 0.172s\n",
      "DEBUG:implicit:Calculated transpose in 0.141s\n",
      "DEBUG:implicit:Initialized factors in 0.1249380111694336\n",
      "DEBUG:implicit:Running 40 ALS iterations\n",
      "100%|████████████████████████████████████████████████████████████████████████████████| 40.0/40 [00:53<00:00,  1.26s/it]\n"
     ]
    },
    {
     "name": "stdout",
     "output_type": "stream",
     "text": [
      "ALS_rank-10_regularization-1_alpha-100_num_epochs-40 training time: 53.501s\n"
     ]
    },
    {
     "name": "stderr",
     "output_type": "stream",
     "text": [
      "DEBUG:implicit:Converting input to CSR format\n",
      "DEBUG:implicit:Converted input to CSR in 0.172s\n",
      "DEBUG:implicit:Calculated transpose in 0.125s\n",
      "DEBUG:implicit:Initialized factors in 0.6248762607574463\n",
      "DEBUG:implicit:Running 15 ALS iterations\n",
      "100%|████████████████████████████████████████████████████████████████████████████████| 15.0/15 [00:28<00:00,  1.83s/it]\n"
     ]
    },
    {
     "name": "stdout",
     "output_type": "stream",
     "text": [
      "ALS_rank-50_regularization-0.01_alpha-1_num_epochs-15 training time: 29.108s\n"
     ]
    },
    {
     "name": "stderr",
     "output_type": "stream",
     "text": [
      "DEBUG:implicit:Converting input to CSR format\n",
      "DEBUG:implicit:Converted input to CSR in 0.172s\n",
      "DEBUG:implicit:Calculated transpose in 0.141s\n",
      "DEBUG:implicit:Initialized factors in 0.6248505115509033\n",
      "DEBUG:implicit:Running 30 ALS iterations\n",
      "100%|████████████████████████████████████████████████████████████████████████████████| 30.0/30 [00:55<00:00,  1.80s/it]\n"
     ]
    },
    {
     "name": "stdout",
     "output_type": "stream",
     "text": [
      "ALS_rank-50_regularization-0.01_alpha-1_num_epochs-30 training time: 56.823s\n"
     ]
    },
    {
     "name": "stderr",
     "output_type": "stream",
     "text": [
      "DEBUG:implicit:Converting input to CSR format\n",
      "DEBUG:implicit:Converted input to CSR in 0.172s\n",
      "DEBUG:implicit:Calculated transpose in 0.125s\n",
      "DEBUG:implicit:Initialized factors in 0.6404991149902344\n",
      "DEBUG:implicit:Running 40 ALS iterations\n",
      "100%|████████████████████████████████████████████████████████████████████████████████| 40.0/40 [01:14<00:00,  1.71s/it]\n"
     ]
    },
    {
     "name": "stdout",
     "output_type": "stream",
     "text": [
      "ALS_rank-50_regularization-0.01_alpha-1_num_epochs-40 training time: 01m:16s\n"
     ]
    },
    {
     "name": "stderr",
     "output_type": "stream",
     "text": [
      "DEBUG:implicit:Converting input to CSR format\n",
      "DEBUG:implicit:Converted input to CSR in 0.172s\n",
      "DEBUG:implicit:Calculated transpose in 0.141s\n",
      "DEBUG:implicit:Initialized factors in 0.5936079025268555\n",
      "DEBUG:implicit:Running 15 ALS iterations\n",
      "100%|████████████████████████████████████████████████████████████████████████████████| 15.0/15 [00:28<00:00,  1.72s/it]\n"
     ]
    },
    {
     "name": "stdout",
     "output_type": "stream",
     "text": [
      "ALS_rank-50_regularization-0.01_alpha-50_num_epochs-15 training time: 29.044s\n"
     ]
    },
    {
     "name": "stderr",
     "output_type": "stream",
     "text": [
      "DEBUG:implicit:Converting input to CSR format\n",
      "DEBUG:implicit:Converted input to CSR in 0.172s\n",
      "DEBUG:implicit:Calculated transpose in 0.125s\n",
      "DEBUG:implicit:Initialized factors in 0.6404657363891602\n",
      "DEBUG:implicit:Running 30 ALS iterations\n",
      "100%|████████████████████████████████████████████████████████████████████████████████| 30.0/30 [00:55<00:00,  1.76s/it]\n"
     ]
    },
    {
     "name": "stdout",
     "output_type": "stream",
     "text": [
      "ALS_rank-50_regularization-0.01_alpha-50_num_epochs-30 training time: 56.735s\n"
     ]
    },
    {
     "name": "stderr",
     "output_type": "stream",
     "text": [
      "DEBUG:implicit:Converting input to CSR format\n",
      "DEBUG:implicit:Converted input to CSR in 0.172s\n",
      "DEBUG:implicit:Calculated transpose in 0.141s\n",
      "DEBUG:implicit:Initialized factors in 0.6092560291290283\n",
      "DEBUG:implicit:Running 40 ALS iterations\n",
      "100%|████████████████████████████████████████████████████████████████████████████████| 40.0/40 [01:14<00:00,  1.68s/it]\n"
     ]
    },
    {
     "name": "stdout",
     "output_type": "stream",
     "text": [
      "ALS_rank-50_regularization-0.01_alpha-50_num_epochs-40 training time: 01m:15s\n"
     ]
    },
    {
     "name": "stderr",
     "output_type": "stream",
     "text": [
      "DEBUG:implicit:Converting input to CSR format\n",
      "DEBUG:implicit:Converted input to CSR in 0.172s\n",
      "DEBUG:implicit:Calculated transpose in 0.141s\n",
      "DEBUG:implicit:Initialized factors in 0.6248772144317627\n",
      "DEBUG:implicit:Running 15 ALS iterations\n",
      "100%|████████████████████████████████████████████████████████████████████████████████| 15.0/15 [00:28<00:00,  1.79s/it]\n"
     ]
    },
    {
     "name": "stdout",
     "output_type": "stream",
     "text": [
      "ALS_rank-50_regularization-0.01_alpha-100_num_epochs-15 training time: 29.527s\n"
     ]
    },
    {
     "name": "stderr",
     "output_type": "stream",
     "text": [
      "DEBUG:implicit:Converting input to CSR format\n",
      "DEBUG:implicit:Converted input to CSR in 0.187s\n",
      "DEBUG:implicit:Calculated transpose in 0.141s\n",
      "DEBUG:implicit:Initialized factors in 0.6560943126678467\n",
      "DEBUG:implicit:Running 30 ALS iterations\n",
      "100%|████████████████████████████████████████████████████████████████████████████████| 30.0/30 [00:56<00:00,  1.69s/it]\n"
     ]
    },
    {
     "name": "stdout",
     "output_type": "stream",
     "text": [
      "ALS_rank-50_regularization-0.01_alpha-100_num_epochs-30 training time: 57.115s\n"
     ]
    },
    {
     "name": "stderr",
     "output_type": "stream",
     "text": [
      "DEBUG:implicit:Converting input to CSR format\n",
      "DEBUG:implicit:Converted input to CSR in 0.172s\n",
      "DEBUG:implicit:Calculated transpose in 0.141s\n",
      "DEBUG:implicit:Initialized factors in 0.6404697895050049\n",
      "DEBUG:implicit:Running 40 ALS iterations\n",
      "100%|████████████████████████████████████████████████████████████████████████████████| 40.0/40 [01:13<00:00,  1.71s/it]\n"
     ]
    },
    {
     "name": "stdout",
     "output_type": "stream",
     "text": [
      "ALS_rank-50_regularization-0.01_alpha-100_num_epochs-40 training time: 01m:15s\n"
     ]
    },
    {
     "name": "stderr",
     "output_type": "stream",
     "text": [
      "DEBUG:implicit:Converting input to CSR format\n",
      "DEBUG:implicit:Converted input to CSR in 0.172s\n",
      "DEBUG:implicit:Calculated transpose in 0.125s\n",
      "DEBUG:implicit:Initialized factors in 0.6248745918273926\n",
      "DEBUG:implicit:Running 15 ALS iterations\n",
      "100%|████████████████████████████████████████████████████████████████████████████████| 15.0/15 [00:27<00:00,  1.67s/it]\n"
     ]
    },
    {
     "name": "stdout",
     "output_type": "stream",
     "text": [
      "ALS_rank-50_regularization-0.1_alpha-1_num_epochs-15 training time: 28.290s\n"
     ]
    },
    {
     "name": "stderr",
     "output_type": "stream",
     "text": [
      "DEBUG:implicit:Converting input to CSR format\n",
      "DEBUG:implicit:Converted input to CSR in 0.187s\n",
      "DEBUG:implicit:Calculated transpose in 0.125s\n",
      "DEBUG:implicit:Initialized factors in 0.6248469352722168\n",
      "DEBUG:implicit:Running 30 ALS iterations\n",
      "100%|████████████████████████████████████████████████████████████████████████████████| 30.0/30 [00:55<00:00,  1.72s/it]\n"
     ]
    },
    {
     "name": "stdout",
     "output_type": "stream",
     "text": [
      "ALS_rank-50_regularization-0.1_alpha-1_num_epochs-30 training time: 56.076s\n"
     ]
    },
    {
     "name": "stderr",
     "output_type": "stream",
     "text": [
      "DEBUG:implicit:Converting input to CSR format\n",
      "DEBUG:implicit:Converted input to CSR in 0.172s\n",
      "DEBUG:implicit:Calculated transpose in 0.125s\n",
      "DEBUG:implicit:Initialized factors in 0.6248526573181152\n",
      "DEBUG:implicit:Running 40 ALS iterations\n",
      "100%|████████████████████████████████████████████████████████████████████████████████| 40.0/40 [01:14<00:00,  1.70s/it]\n"
     ]
    },
    {
     "name": "stdout",
     "output_type": "stream",
     "text": [
      "ALS_rank-50_regularization-0.1_alpha-1_num_epochs-40 training time: 01m:15s\n"
     ]
    },
    {
     "name": "stderr",
     "output_type": "stream",
     "text": [
      "DEBUG:implicit:Converting input to CSR format\n",
      "DEBUG:implicit:Converted input to CSR in 0.172s\n",
      "DEBUG:implicit:Calculated transpose in 0.141s\n",
      "DEBUG:implicit:Initialized factors in 0.624849796295166\n",
      "DEBUG:implicit:Running 15 ALS iterations\n",
      "100%|████████████████████████████████████████████████████████████████████████████████| 15.0/15 [00:27<00:00,  1.67s/it]\n"
     ]
    },
    {
     "name": "stdout",
     "output_type": "stream",
     "text": [
      "ALS_rank-50_regularization-0.1_alpha-50_num_epochs-15 training time: 28.484s\n"
     ]
    },
    {
     "name": "stderr",
     "output_type": "stream",
     "text": [
      "DEBUG:implicit:Converting input to CSR format\n",
      "DEBUG:implicit:Converted input to CSR in 0.156s\n",
      "DEBUG:implicit:Calculated transpose in 0.141s\n",
      "DEBUG:implicit:Initialized factors in 0.6092276573181152\n",
      "DEBUG:implicit:Running 30 ALS iterations\n",
      "100%|████████████████████████████████████████████████████████████████████████████████| 30.0/30 [01:02<00:00,  1.93s/it]\n"
     ]
    },
    {
     "name": "stdout",
     "output_type": "stream",
     "text": [
      "ALS_rank-50_regularization-0.1_alpha-50_num_epochs-30 training time: 01m:04s\n"
     ]
    },
    {
     "name": "stderr",
     "output_type": "stream",
     "text": [
      "DEBUG:implicit:Converting input to CSR format\n",
      "DEBUG:implicit:Converted input to CSR in 0.187s\n",
      "DEBUG:implicit:Calculated transpose in 0.141s\n",
      "DEBUG:implicit:Initialized factors in 0.9372739791870117\n",
      "DEBUG:implicit:Running 40 ALS iterations\n",
      "100%|████████████████████████████████████████████████████████████████████████████████| 40.0/40 [01:15<00:00,  1.76s/it]\n"
     ]
    },
    {
     "name": "stdout",
     "output_type": "stream",
     "text": [
      "ALS_rank-50_regularization-0.1_alpha-50_num_epochs-40 training time: 01m:16s\n"
     ]
    },
    {
     "name": "stderr",
     "output_type": "stream",
     "text": [
      "DEBUG:implicit:Converting input to CSR format\n",
      "DEBUG:implicit:Converted input to CSR in 0.172s\n",
      "DEBUG:implicit:Calculated transpose in 0.125s\n",
      "DEBUG:implicit:Initialized factors in 0.6248748302459717\n",
      "DEBUG:implicit:Running 15 ALS iterations\n",
      "100%|████████████████████████████████████████████████████████████████████████████████| 15.0/15 [00:27<00:00,  1.73s/it]\n"
     ]
    },
    {
     "name": "stdout",
     "output_type": "stream",
     "text": [
      "ALS_rank-50_regularization-0.1_alpha-100_num_epochs-15 training time: 28.842s\n"
     ]
    },
    {
     "name": "stderr",
     "output_type": "stream",
     "text": [
      "DEBUG:implicit:Converting input to CSR format\n",
      "DEBUG:implicit:Converted input to CSR in 0.172s\n",
      "DEBUG:implicit:Calculated transpose in 0.125s\n",
      "DEBUG:implicit:Initialized factors in 0.6092281341552734\n",
      "DEBUG:implicit:Running 30 ALS iterations\n",
      "100%|████████████████████████████████████████████████████████████████████████████████| 30.0/30 [00:55<00:00,  1.70s/it]\n"
     ]
    },
    {
     "name": "stdout",
     "output_type": "stream",
     "text": [
      "ALS_rank-50_regularization-0.1_alpha-100_num_epochs-30 training time: 56.504s\n"
     ]
    },
    {
     "name": "stderr",
     "output_type": "stream",
     "text": [
      "DEBUG:implicit:Converting input to CSR format\n",
      "DEBUG:implicit:Converted input to CSR in 0.172s\n",
      "DEBUG:implicit:Calculated transpose in 0.125s\n",
      "DEBUG:implicit:Initialized factors in 0.6092562675476074\n",
      "DEBUG:implicit:Running 40 ALS iterations\n",
      "100%|████████████████████████████████████████████████████████████████████████████████| 40.0/40 [01:12<00:00,  1.72s/it]\n"
     ]
    },
    {
     "name": "stdout",
     "output_type": "stream",
     "text": [
      "ALS_rank-50_regularization-0.1_alpha-100_num_epochs-40 training time: 01m:14s\n"
     ]
    },
    {
     "name": "stderr",
     "output_type": "stream",
     "text": [
      "DEBUG:implicit:Converting input to CSR format\n",
      "DEBUG:implicit:Converted input to CSR in 0.172s\n",
      "DEBUG:implicit:Calculated transpose in 0.141s\n",
      "DEBUG:implicit:Initialized factors in 0.6248786449432373\n",
      "DEBUG:implicit:Running 15 ALS iterations\n",
      "100%|████████████████████████████████████████████████████████████████████████████████| 15.0/15 [00:26<00:00,  1.74s/it]\n"
     ]
    },
    {
     "name": "stdout",
     "output_type": "stream",
     "text": [
      "ALS_rank-50_regularization-1_alpha-1_num_epochs-15 training time: 27.975s\n"
     ]
    },
    {
     "name": "stderr",
     "output_type": "stream",
     "text": [
      "DEBUG:implicit:Converting input to CSR format\n",
      "DEBUG:implicit:Converted input to CSR in 0.172s\n",
      "DEBUG:implicit:Calculated transpose in 0.141s\n",
      "DEBUG:implicit:Initialized factors in 0.6248455047607422\n",
      "DEBUG:implicit:Running 30 ALS iterations\n",
      "100%|████████████████████████████████████████████████████████████████████████████████| 30.0/30 [00:54<00:00,  1.73s/it]\n"
     ]
    },
    {
     "name": "stdout",
     "output_type": "stream",
     "text": [
      "ALS_rank-50_regularization-1_alpha-1_num_epochs-30 training time: 55.924s\n"
     ]
    },
    {
     "name": "stderr",
     "output_type": "stream",
     "text": [
      "DEBUG:implicit:Converting input to CSR format\n",
      "DEBUG:implicit:Converted input to CSR in 0.172s\n",
      "DEBUG:implicit:Calculated transpose in 0.125s\n",
      "DEBUG:implicit:Initialized factors in 0.593635082244873\n",
      "DEBUG:implicit:Running 40 ALS iterations\n",
      "100%|████████████████████████████████████████████████████████████████████████████████| 40.0/40 [01:14<00:00,  1.73s/it]\n"
     ]
    },
    {
     "name": "stdout",
     "output_type": "stream",
     "text": [
      "ALS_rank-50_regularization-1_alpha-1_num_epochs-40 training time: 01m:15s\n"
     ]
    },
    {
     "name": "stderr",
     "output_type": "stream",
     "text": [
      "DEBUG:implicit:Converting input to CSR format\n",
      "DEBUG:implicit:Converted input to CSR in 0.172s\n",
      "DEBUG:implicit:Calculated transpose in 0.141s\n",
      "DEBUG:implicit:Initialized factors in 0.6248552799224854\n",
      "DEBUG:implicit:Running 15 ALS iterations\n",
      "100%|████████████████████████████████████████████████████████████████████████████████| 15.0/15 [00:27<00:00,  1.74s/it]\n"
     ]
    },
    {
     "name": "stdout",
     "output_type": "stream",
     "text": [
      "ALS_rank-50_regularization-1_alpha-50_num_epochs-15 training time: 28.418s\n"
     ]
    },
    {
     "name": "stderr",
     "output_type": "stream",
     "text": [
      "DEBUG:implicit:Converting input to CSR format\n",
      "DEBUG:implicit:Converted input to CSR in 0.172s\n",
      "DEBUG:implicit:Calculated transpose in 0.125s\n",
      "DEBUG:implicit:Initialized factors in 0.6873350143432617\n",
      "DEBUG:implicit:Running 30 ALS iterations\n",
      "100%|████████████████████████████████████████████████████████████████████████████████| 30.0/30 [00:56<00:00,  1.80s/it]\n"
     ]
    },
    {
     "name": "stdout",
     "output_type": "stream",
     "text": [
      "ALS_rank-50_regularization-1_alpha-50_num_epochs-30 training time: 58.025s\n"
     ]
    },
    {
     "name": "stderr",
     "output_type": "stream",
     "text": [
      "DEBUG:implicit:Converting input to CSR format\n",
      "DEBUG:implicit:Converted input to CSR in 0.156s\n",
      "DEBUG:implicit:Calculated transpose in 0.125s\n",
      "DEBUG:implicit:Initialized factors in 0.7498197555541992\n",
      "DEBUG:implicit:Running 40 ALS iterations\n",
      "100%|████████████████████████████████████████████████████████████████████████████████| 40.0/40 [01:14<00:00,  1.76s/it]\n"
     ]
    },
    {
     "name": "stdout",
     "output_type": "stream",
     "text": [
      "ALS_rank-50_regularization-1_alpha-50_num_epochs-40 training time: 01m:16s\n"
     ]
    },
    {
     "name": "stderr",
     "output_type": "stream",
     "text": [
      "DEBUG:implicit:Converting input to CSR format\n",
      "DEBUG:implicit:Converted input to CSR in 0.172s\n",
      "DEBUG:implicit:Calculated transpose in 0.141s\n",
      "DEBUG:implicit:Initialized factors in 0.6404697895050049\n",
      "DEBUG:implicit:Running 15 ALS iterations\n",
      "100%|████████████████████████████████████████████████████████████████████████████████| 15.0/15 [00:27<00:00,  1.68s/it]\n"
     ]
    },
    {
     "name": "stdout",
     "output_type": "stream",
     "text": [
      "ALS_rank-50_regularization-1_alpha-100_num_epochs-15 training time: 28.372s\n"
     ]
    },
    {
     "name": "stderr",
     "output_type": "stream",
     "text": [
      "DEBUG:implicit:Converting input to CSR format\n",
      "DEBUG:implicit:Converted input to CSR in 0.172s\n",
      "DEBUG:implicit:Calculated transpose in 0.125s\n",
      "DEBUG:implicit:Initialized factors in 0.6248447895050049\n",
      "DEBUG:implicit:Running 30 ALS iterations\n",
      "100%|████████████████████████████████████████████████████████████████████████████████| 30.0/30 [00:55<00:00,  1.69s/it]\n"
     ]
    },
    {
     "name": "stdout",
     "output_type": "stream",
     "text": [
      "ALS_rank-50_regularization-1_alpha-100_num_epochs-30 training time: 56.115s\n"
     ]
    },
    {
     "name": "stderr",
     "output_type": "stream",
     "text": [
      "DEBUG:implicit:Converting input to CSR format\n",
      "DEBUG:implicit:Converted input to CSR in 0.172s\n",
      "DEBUG:implicit:Calculated transpose in 0.141s\n",
      "DEBUG:implicit:Initialized factors in 0.6092574596405029\n",
      "DEBUG:implicit:Running 40 ALS iterations\n",
      "100%|████████████████████████████████████████████████████████████████████████████████| 40.0/40 [01:13<00:00,  1.70s/it]\n"
     ]
    },
    {
     "name": "stdout",
     "output_type": "stream",
     "text": [
      "ALS_rank-50_regularization-1_alpha-100_num_epochs-40 training time: 01m:15s\n"
     ]
    },
    {
     "name": "stderr",
     "output_type": "stream",
     "text": [
      "DEBUG:implicit:Converting input to CSR format\n",
      "DEBUG:implicit:Converted input to CSR in 0.172s\n",
      "DEBUG:implicit:Calculated transpose in 0.125s\n",
      "DEBUG:implicit:Initialized factors in 1.3121559619903564\n",
      "DEBUG:implicit:Running 15 ALS iterations\n",
      "100%|████████████████████████████████████████████████████████████████████████████████| 15.0/15 [00:38<00:00,  2.35s/it]\n"
     ]
    },
    {
     "name": "stdout",
     "output_type": "stream",
     "text": [
      "ALS_rank-100_regularization-0.01_alpha-1_num_epochs-15 training time: 39.843s\n"
     ]
    },
    {
     "name": "stderr",
     "output_type": "stream",
     "text": [
      "DEBUG:implicit:Converting input to CSR format\n",
      "DEBUG:implicit:Converted input to CSR in 0.187s\n",
      "DEBUG:implicit:Calculated transpose in 0.125s\n",
      "DEBUG:implicit:Initialized factors in 1.343428373336792\n",
      "DEBUG:implicit:Running 30 ALS iterations\n",
      "100%|████████████████████████████████████████████████████████████████████████████████| 30.0/30 [01:16<00:00,  2.38s/it]\n"
     ]
    },
    {
     "name": "stdout",
     "output_type": "stream",
     "text": [
      "ALS_rank-100_regularization-0.01_alpha-1_num_epochs-30 training time: 01m:18s\n"
     ]
    },
    {
     "name": "stderr",
     "output_type": "stream",
     "text": [
      "DEBUG:implicit:Converting input to CSR format\n",
      "DEBUG:implicit:Converted input to CSR in 0.187s\n",
      "DEBUG:implicit:Calculated transpose in 0.125s\n",
      "DEBUG:implicit:Initialized factors in 1.2340753078460693\n",
      "DEBUG:implicit:Running 40 ALS iterations\n",
      "100%|████████████████████████████████████████████████████████████████████████████████| 40.0/40 [01:41<00:00,  2.34s/it]\n"
     ]
    },
    {
     "name": "stdout",
     "output_type": "stream",
     "text": [
      "ALS_rank-100_regularization-0.01_alpha-1_num_epochs-40 training time: 01m:43s\n"
     ]
    },
    {
     "name": "stderr",
     "output_type": "stream",
     "text": [
      "DEBUG:implicit:Converting input to CSR format\n",
      "DEBUG:implicit:Converted input to CSR in 0.187s\n",
      "DEBUG:implicit:Calculated transpose in 0.125s\n",
      "DEBUG:implicit:Initialized factors in 1.265350103378296\n",
      "DEBUG:implicit:Running 15 ALS iterations\n",
      "100%|████████████████████████████████████████████████████████████████████████████████| 15.0/15 [00:37<00:00,  2.37s/it]\n"
     ]
    },
    {
     "name": "stdout",
     "output_type": "stream",
     "text": [
      "ALS_rank-100_regularization-0.01_alpha-50_num_epochs-15 training time: 39.323s\n"
     ]
    },
    {
     "name": "stderr",
     "output_type": "stream",
     "text": [
      "DEBUG:implicit:Converting input to CSR format\n",
      "DEBUG:implicit:Converted input to CSR in 0.172s\n",
      "DEBUG:implicit:Calculated transpose in 0.125s\n",
      "DEBUG:implicit:Initialized factors in 1.3122031688690186\n",
      "DEBUG:implicit:Running 30 ALS iterations\n",
      "100%|████████████████████████████████████████████████████████████████████████████████| 30.0/30 [01:15<00:00,  2.35s/it]\n"
     ]
    },
    {
     "name": "stdout",
     "output_type": "stream",
     "text": [
      "ALS_rank-100_regularization-0.01_alpha-50_num_epochs-30 training time: 01m:18s\n"
     ]
    },
    {
     "name": "stderr",
     "output_type": "stream",
     "text": [
      "DEBUG:implicit:Converting input to CSR format\n",
      "DEBUG:implicit:Converted input to CSR in 0.172s\n",
      "DEBUG:implicit:Calculated transpose in 0.141s\n",
      "DEBUG:implicit:Initialized factors in 1.4059159755706787\n",
      "DEBUG:implicit:Running 40 ALS iterations\n",
      "100%|████████████████████████████████████████████████████████████████████████████████| 40.0/40 [01:42<00:00,  2.39s/it]\n"
     ]
    },
    {
     "name": "stdout",
     "output_type": "stream",
     "text": [
      "ALS_rank-100_regularization-0.01_alpha-50_num_epochs-40 training time: 01m:44s\n"
     ]
    },
    {
     "name": "stderr",
     "output_type": "stream",
     "text": [
      "DEBUG:implicit:Converting input to CSR format\n",
      "DEBUG:implicit:Converted input to CSR in 0.172s\n",
      "DEBUG:implicit:Calculated transpose in 0.125s\n",
      "DEBUG:implicit:Initialized factors in 1.249727487564087\n",
      "DEBUG:implicit:Running 15 ALS iterations\n",
      "100%|████████████████████████████████████████████████████████████████████████████████| 15.0/15 [00:38<00:00,  2.41s/it]\n"
     ]
    },
    {
     "name": "stdout",
     "output_type": "stream",
     "text": [
      "ALS_rank-100_regularization-0.01_alpha-100_num_epochs-15 training time: 39.681s\n"
     ]
    },
    {
     "name": "stderr",
     "output_type": "stream",
     "text": [
      "DEBUG:implicit:Converting input to CSR format\n",
      "DEBUG:implicit:Converted input to CSR in 0.203s\n",
      "DEBUG:implicit:Calculated transpose in 0.141s\n",
      "DEBUG:implicit:Initialized factors in 1.8901762962341309\n",
      "DEBUG:implicit:Running 30 ALS iterations\n",
      "100%|████████████████████████████████████████████████████████████████████████████████| 30.0/30 [01:17<00:00,  2.35s/it]\n"
     ]
    },
    {
     "name": "stdout",
     "output_type": "stream",
     "text": [
      "ALS_rank-100_regularization-0.01_alpha-100_num_epochs-30 training time: 01m:20s\n"
     ]
    },
    {
     "name": "stderr",
     "output_type": "stream",
     "text": [
      "DEBUG:implicit:Converting input to CSR format\n",
      "DEBUG:implicit:Converted input to CSR in 0.172s\n",
      "DEBUG:implicit:Calculated transpose in 0.141s\n",
      "DEBUG:implicit:Initialized factors in 1.2653491497039795\n",
      "DEBUG:implicit:Running 40 ALS iterations\n",
      "100%|████████████████████████████████████████████████████████████████████████████████| 40.0/40 [01:41<00:00,  2.41s/it]\n"
     ]
    },
    {
     "name": "stdout",
     "output_type": "stream",
     "text": [
      "ALS_rank-100_regularization-0.01_alpha-100_num_epochs-40 training time: 01m:44s\n"
     ]
    },
    {
     "name": "stderr",
     "output_type": "stream",
     "text": [
      "DEBUG:implicit:Converting input to CSR format\n",
      "DEBUG:implicit:Converted input to CSR in 0.172s\n",
      "DEBUG:implicit:Calculated transpose in 0.125s\n",
      "DEBUG:implicit:Initialized factors in 1.3590190410614014\n",
      "DEBUG:implicit:Running 15 ALS iterations\n",
      "100%|████████████████████████████████████████████████████████████████████████████████| 15.0/15 [00:37<00:00,  2.34s/it]\n"
     ]
    },
    {
     "name": "stdout",
     "output_type": "stream",
     "text": [
      "ALS_rank-100_regularization-0.1_alpha-1_num_epochs-15 training time: 39.276s\n"
     ]
    },
    {
     "name": "stderr",
     "output_type": "stream",
     "text": [
      "DEBUG:implicit:Converting input to CSR format\n",
      "DEBUG:implicit:Converted input to CSR in 0.172s\n",
      "DEBUG:implicit:Calculated transpose in 0.125s\n",
      "DEBUG:implicit:Initialized factors in 1.2496960163116455\n",
      "DEBUG:implicit:Running 30 ALS iterations\n",
      "100%|████████████████████████████████████████████████████████████████████████████████| 30.0/30 [01:17<00:00,  2.40s/it]\n"
     ]
    },
    {
     "name": "stdout",
     "output_type": "stream",
     "text": [
      "ALS_rank-100_regularization-0.1_alpha-1_num_epochs-30 training time: 01m:19s\n"
     ]
    },
    {
     "name": "stderr",
     "output_type": "stream",
     "text": [
      "DEBUG:implicit:Converting input to CSR format\n",
      "DEBUG:implicit:Converted input to CSR in 0.172s\n",
      "DEBUG:implicit:Calculated transpose in 0.125s\n",
      "DEBUG:implicit:Initialized factors in 1.2496976852416992\n",
      "DEBUG:implicit:Running 40 ALS iterations\n",
      "100%|████████████████████████████████████████████████████████████████████████████████| 40.0/40 [01:41<00:00,  2.33s/it]\n"
     ]
    },
    {
     "name": "stdout",
     "output_type": "stream",
     "text": [
      "ALS_rank-100_regularization-0.1_alpha-1_num_epochs-40 training time: 01m:43s\n"
     ]
    },
    {
     "name": "stderr",
     "output_type": "stream",
     "text": [
      "DEBUG:implicit:Converting input to CSR format\n",
      "DEBUG:implicit:Converted input to CSR in 0.172s\n",
      "DEBUG:implicit:Calculated transpose in 0.125s\n",
      "DEBUG:implicit:Initialized factors in 1.2652904987335205\n",
      "DEBUG:implicit:Running 15 ALS iterations\n",
      "100%|████████████████████████████████████████████████████████████████████████████████| 15.0/15 [00:37<00:00,  2.33s/it]\n"
     ]
    },
    {
     "name": "stdout",
     "output_type": "stream",
     "text": [
      "ALS_rank-100_regularization-0.1_alpha-50_num_epochs-15 training time: 39.520s\n"
     ]
    },
    {
     "name": "stderr",
     "output_type": "stream",
     "text": [
      "DEBUG:implicit:Converting input to CSR format\n",
      "DEBUG:implicit:Converted input to CSR in 0.156s\n",
      "DEBUG:implicit:Calculated transpose in 0.125s\n",
      "DEBUG:implicit:Initialized factors in 1.5152332782745361\n",
      "DEBUG:implicit:Running 30 ALS iterations\n",
      "100%|████████████████████████████████████████████████████████████████████████████████| 30.0/30 [01:15<00:00,  2.37s/it]\n"
     ]
    },
    {
     "name": "stdout",
     "output_type": "stream",
     "text": [
      "ALS_rank-100_regularization-0.1_alpha-50_num_epochs-30 training time: 01m:18s\n"
     ]
    },
    {
     "name": "stderr",
     "output_type": "stream",
     "text": [
      "DEBUG:implicit:Converting input to CSR format\n",
      "DEBUG:implicit:Converted input to CSR in 0.172s\n",
      "DEBUG:implicit:Calculated transpose in 0.125s\n",
      "DEBUG:implicit:Initialized factors in 1.296560525894165\n",
      "DEBUG:implicit:Running 40 ALS iterations\n",
      "100%|████████████████████████████████████████████████████████████████████████████████| 40.0/40 [01:40<00:00,  2.37s/it]\n"
     ]
    },
    {
     "name": "stdout",
     "output_type": "stream",
     "text": [
      "ALS_rank-100_regularization-0.1_alpha-50_num_epochs-40 training time: 01m:42s\n"
     ]
    },
    {
     "name": "stderr",
     "output_type": "stream",
     "text": [
      "DEBUG:implicit:Converting input to CSR format\n",
      "DEBUG:implicit:Converted input to CSR in 0.172s\n",
      "DEBUG:implicit:Calculated transpose in 0.125s\n",
      "DEBUG:implicit:Initialized factors in 1.6870670318603516\n",
      "DEBUG:implicit:Running 15 ALS iterations\n",
      "100%|████████████████████████████████████████████████████████████████████████████████| 15.0/15 [00:44<00:00,  3.05s/it]\n"
     ]
    },
    {
     "name": "stdout",
     "output_type": "stream",
     "text": [
      "ALS_rank-100_regularization-0.1_alpha-100_num_epochs-15 training time: 46.327s\n"
     ]
    },
    {
     "name": "stderr",
     "output_type": "stream",
     "text": [
      "DEBUG:implicit:Converting input to CSR format\n",
      "DEBUG:implicit:Converted input to CSR in 0.250s\n",
      "DEBUG:implicit:Calculated transpose in 0.172s\n",
      "DEBUG:implicit:Initialized factors in 1.5621545314788818\n",
      "DEBUG:implicit:Running 30 ALS iterations\n",
      "100%|████████████████████████████████████████████████████████████████████████████████| 30.0/30 [01:23<00:00,  2.44s/it]\n"
     ]
    },
    {
     "name": "stdout",
     "output_type": "stream",
     "text": [
      "ALS_rank-100_regularization-0.1_alpha-100_num_epochs-30 training time: 01m:26s\n"
     ]
    },
    {
     "name": "stderr",
     "output_type": "stream",
     "text": [
      "DEBUG:implicit:Converting input to CSR format\n",
      "DEBUG:implicit:Converted input to CSR in 0.172s\n",
      "DEBUG:implicit:Calculated transpose in 0.141s\n",
      "DEBUG:implicit:Initialized factors in 1.2184560298919678\n",
      "DEBUG:implicit:Running 40 ALS iterations\n",
      "100%|████████████████████████████████████████████████████████████████████████████████| 40.0/40 [01:43<00:00,  2.43s/it]\n"
     ]
    },
    {
     "name": "stdout",
     "output_type": "stream",
     "text": [
      "ALS_rank-100_regularization-0.1_alpha-100_num_epochs-40 training time: 01m:45s\n"
     ]
    },
    {
     "name": "stderr",
     "output_type": "stream",
     "text": [
      "DEBUG:implicit:Converting input to CSR format\n",
      "DEBUG:implicit:Converted input to CSR in 0.172s\n",
      "DEBUG:implicit:Calculated transpose in 0.141s\n",
      "DEBUG:implicit:Initialized factors in 1.9682812690734863\n",
      "DEBUG:implicit:Running 15 ALS iterations\n",
      "100%|████████████████████████████████████████████████████████████████████████████████| 15.0/15 [00:40<00:00,  2.43s/it]\n"
     ]
    },
    {
     "name": "stdout",
     "output_type": "stream",
     "text": [
      "ALS_rank-100_regularization-1_alpha-1_num_epochs-15 training time: 42.391s\n"
     ]
    },
    {
     "name": "stderr",
     "output_type": "stream",
     "text": [
      "DEBUG:implicit:Converting input to CSR format\n",
      "DEBUG:implicit:Converted input to CSR in 0.172s\n",
      "DEBUG:implicit:Calculated transpose in 0.141s\n",
      "DEBUG:implicit:Initialized factors in 1.2496957778930664\n",
      "DEBUG:implicit:Running 30 ALS iterations\n",
      "100%|████████████████████████████████████████████████████████████████████████████████| 30.0/30 [01:18<00:00,  2.39s/it]\n"
     ]
    },
    {
     "name": "stdout",
     "output_type": "stream",
     "text": [
      "ALS_rank-100_regularization-1_alpha-1_num_epochs-30 training time: 01m:20s\n"
     ]
    },
    {
     "name": "stderr",
     "output_type": "stream",
     "text": [
      "DEBUG:implicit:Converting input to CSR format\n",
      "DEBUG:implicit:Converted input to CSR in 0.187s\n",
      "DEBUG:implicit:Calculated transpose in 0.125s\n",
      "DEBUG:implicit:Initialized factors in 1.2809441089630127\n",
      "DEBUG:implicit:Running 40 ALS iterations\n",
      "100%|████████████████████████████████████████████████████████████████████████████████| 40.0/40 [01:42<00:00,  2.37s/it]\n"
     ]
    },
    {
     "name": "stdout",
     "output_type": "stream",
     "text": [
      "ALS_rank-100_regularization-1_alpha-1_num_epochs-40 training time: 01m:44s\n"
     ]
    },
    {
     "name": "stderr",
     "output_type": "stream",
     "text": [
      "DEBUG:implicit:Converting input to CSR format\n",
      "DEBUG:implicit:Converted input to CSR in 0.172s\n",
      "DEBUG:implicit:Calculated transpose in 0.125s\n",
      "DEBUG:implicit:Initialized factors in 1.3590166568756104\n",
      "DEBUG:implicit:Running 15 ALS iterations\n",
      "100%|████████████████████████████████████████████████████████████████████████████████| 15.0/15 [00:38<00:00,  2.43s/it]\n"
     ]
    },
    {
     "name": "stdout",
     "output_type": "stream",
     "text": [
      "ALS_rank-100_regularization-1_alpha-50_num_epochs-15 training time: 40.432s\n"
     ]
    },
    {
     "name": "stderr",
     "output_type": "stream",
     "text": [
      "DEBUG:implicit:Converting input to CSR format\n",
      "DEBUG:implicit:Converted input to CSR in 0.172s\n",
      "DEBUG:implicit:Calculated transpose in 0.156s\n",
      "DEBUG:implicit:Initialized factors in 1.2965648174285889\n",
      "DEBUG:implicit:Running 30 ALS iterations\n",
      "100%|████████████████████████████████████████████████████████████████████████████████| 30.0/30 [01:16<00:00,  2.36s/it]\n"
     ]
    },
    {
     "name": "stdout",
     "output_type": "stream",
     "text": [
      "ALS_rank-100_regularization-1_alpha-50_num_epochs-30 training time: 01m:18s\n"
     ]
    },
    {
     "name": "stderr",
     "output_type": "stream",
     "text": [
      "DEBUG:implicit:Converting input to CSR format\n",
      "DEBUG:implicit:Converted input to CSR in 0.172s\n",
      "DEBUG:implicit:Calculated transpose in 0.141s\n",
      "DEBUG:implicit:Initialized factors in 1.2340507507324219\n",
      "DEBUG:implicit:Running 40 ALS iterations\n",
      "100%|████████████████████████████████████████████████████████████████████████████████| 40.0/40 [01:42<00:00,  2.35s/it]\n"
     ]
    },
    {
     "name": "stdout",
     "output_type": "stream",
     "text": [
      "ALS_rank-100_regularization-1_alpha-50_num_epochs-40 training time: 01m:44s\n"
     ]
    },
    {
     "name": "stderr",
     "output_type": "stream",
     "text": [
      "DEBUG:implicit:Converting input to CSR format\n",
      "DEBUG:implicit:Converted input to CSR in 0.172s\n",
      "DEBUG:implicit:Calculated transpose in 0.141s\n",
      "DEBUG:implicit:Initialized factors in 1.296565294265747\n",
      "DEBUG:implicit:Running 15 ALS iterations\n",
      "100%|████████████████████████████████████████████████████████████████████████████████| 15.0/15 [00:38<00:00,  2.42s/it]\n"
     ]
    },
    {
     "name": "stdout",
     "output_type": "stream",
     "text": [
      "ALS_rank-100_regularization-1_alpha-100_num_epochs-15 training time: 40.296s\n"
     ]
    },
    {
     "name": "stderr",
     "output_type": "stream",
     "text": [
      "DEBUG:implicit:Converting input to CSR format\n",
      "DEBUG:implicit:Converted input to CSR in 0.172s\n",
      "DEBUG:implicit:Calculated transpose in 0.141s\n",
      "DEBUG:implicit:Initialized factors in 1.2965657711029053\n",
      "DEBUG:implicit:Running 30 ALS iterations\n",
      "100%|████████████████████████████████████████████████████████████████████████████████| 30.0/30 [01:17<00:00,  2.37s/it]\n"
     ]
    },
    {
     "name": "stdout",
     "output_type": "stream",
     "text": [
      "ALS_rank-100_regularization-1_alpha-100_num_epochs-30 training time: 01m:19s\n"
     ]
    },
    {
     "name": "stderr",
     "output_type": "stream",
     "text": [
      "DEBUG:implicit:Converting input to CSR format\n",
      "DEBUG:implicit:Converted input to CSR in 0.172s\n",
      "DEBUG:implicit:Calculated transpose in 0.141s\n",
      "DEBUG:implicit:Initialized factors in 1.2653229236602783\n",
      "DEBUG:implicit:Running 40 ALS iterations\n",
      "100%|████████████████████████████████████████████████████████████████████████████████| 40.0/40 [01:41<00:00,  2.35s/it]\n"
     ]
    },
    {
     "name": "stdout",
     "output_type": "stream",
     "text": [
      "ALS_rank-100_regularization-1_alpha-100_num_epochs-40 training time: 01m:43s\n",
      "Evaluated model in 256.29s\n",
      "Evaluated model in 106.83s\n",
      "Evaluated model in 164.28s\n",
      "Evaluated model in 128.53s\n",
      "Evaluated model in 128.05s\n",
      "Evaluated model in 128.52s\n",
      "Evaluated model in 123.78s\n",
      "Evaluated model in 123.38s\n",
      "Evaluated model in 122.93s\n",
      "Evaluated model in 129.44s\n",
      "Evaluated model in 125.15s\n",
      "Evaluated model in 127.06s\n",
      "Evaluated model in 129.44s\n",
      "Evaluated model in 129.61s\n",
      "Evaluated model in 129.29s\n",
      "Evaluated model in 127.48s\n",
      "Evaluated model in 126.75s\n",
      "Evaluated model in 127.46s\n",
      "Evaluated model in 131.67s\n",
      "Evaluated model in 128.33s\n",
      "Evaluated model in 127.24s\n",
      "Evaluated model in 130.14s\n",
      "Evaluated model in 132.58s\n",
      "Evaluated model in 130.33s\n",
      "Evaluated model in 125.96s\n",
      "Evaluated model in 124.35s\n",
      "Evaluated model in 125.83s\n",
      "Evaluated model in 130.47s\n",
      "Evaluated model in 126.31s\n",
      "Evaluated model in 125.90s\n",
      "Evaluated model in 147.72s\n",
      "Evaluated model in 146.75s\n",
      "Evaluated model in 146.31s\n",
      "Evaluated model in 143.49s\n",
      "Evaluated model in 142.14s\n",
      "Evaluated model in 143.13s\n",
      "Evaluated model in 145.95s\n",
      "Evaluated model in 144.07s\n",
      "Evaluated model in 145.50s\n",
      "Evaluated model in 151.48s\n",
      "Evaluated model in 147.10s\n",
      "Evaluated model in 145.25s\n",
      "Evaluated model in 143.41s\n",
      "Evaluated model in 145.11s\n",
      "Evaluated model in 145.81s\n",
      "Evaluated model in 144.37s\n",
      "Evaluated model in 144.12s\n",
      "Evaluated model in 145.20s\n",
      "Evaluated model in 146.50s\n",
      "Evaluated model in 145.51s\n",
      "Evaluated model in 144.97s\n",
      "Evaluated model in 144.07s\n",
      "Evaluated model in 142.89s\n",
      "Evaluated model in 143.48s\n",
      "Evaluated model in 145.52s\n",
      "Evaluated model in 145.72s\n",
      "Evaluated model in 142.95s\n",
      "Evaluated model in 161.01s\n",
      "Evaluated model in 158.94s\n",
      "Evaluated model in 157.93s\n",
      "Evaluated model in 157.22s\n",
      "Evaluated model in 159.46s\n",
      "Evaluated model in 159.92s\n",
      "Evaluated model in 159.27s\n",
      "Evaluated model in 159.23s\n",
      "Evaluated model in 159.25s\n",
      "Evaluated model in 156.92s\n",
      "Evaluated model in 160.67s\n",
      "Evaluated model in 157.88s\n",
      "Evaluated model in 158.59s\n",
      "Evaluated model in 158.66s\n",
      "Evaluated model in 159.08s\n",
      "Evaluated model in 160.89s\n",
      "Evaluated model in 160.18s\n",
      "Evaluated model in 160.75s\n",
      "Evaluated model in 158.59s\n",
      "Evaluated model in 157.85s\n",
      "Evaluated model in 161.88s\n",
      "Evaluated model in 160.42s\n",
      "Evaluated model in 160.84s\n",
      "Evaluated model in 162.05s\n",
      "Evaluated model in 158.73s\n",
      "Evaluated model in 160.73s\n",
      "Evaluated model in 161.46s\n",
      "Evaluated model in 0.48s\n",
      "Evaluated model in 0.50s\n",
      "Evaluated model in 0.48s\n",
      "Evaluated model in 0.50s\n",
      "Evaluated model in 0.50s\n",
      "Evaluated model in 0.50s\n",
      "Evaluated model in 0.58s\n",
      "Evaluated model in 0.62s\n",
      "Evaluated model in 0.56s\n",
      "Evaluated model in 0.56s\n",
      "Evaluated model in 0.59s\n",
      "Evaluated model in 0.61s\n",
      "Evaluated model in 0.61s\n",
      "Evaluated model in 0.58s\n",
      "Evaluated model in 0.61s\n",
      "Evaluated model in 0.64s\n",
      "Evaluated model in 0.62s\n",
      "Evaluated model in 0.52s\n",
      "Evaluated model in 0.50s\n",
      "Evaluated model in 0.52s\n",
      "Evaluated model in 0.50s\n",
      "Evaluated model in 0.50s\n",
      "Evaluated model in 0.52s\n",
      "Evaluated model in 0.53s\n",
      "Evaluated model in 0.50s\n",
      "Evaluated model in 0.53s\n",
      "Evaluated model in 0.50s\n",
      "Evaluated model in 0.50s\n",
      "Evaluated model in 0.52s\n",
      "Evaluated model in 0.52s\n",
      "Evaluated model in 0.52s\n",
      "Evaluated model in 0.52s\n",
      "Evaluated model in 0.52s\n",
      "Evaluated model in 0.50s\n",
      "Evaluated model in 0.52s\n",
      "Evaluated model in 0.50s\n",
      "Evaluated model in 0.52s\n",
      "Evaluated model in 0.50s\n",
      "Evaluated model in 0.50s\n",
      "Evaluated model in 0.52s\n",
      "Evaluated model in 0.50s\n",
      "Evaluated model in 0.50s\n",
      "Evaluated model in 0.52s\n",
      "Evaluated model in 0.50s\n",
      "Evaluated model in 0.50s\n",
      "Evaluated model in 0.52s\n",
      "Evaluated model in 0.52s\n",
      "Evaluated model in 0.52s\n",
      "Evaluated model in 0.50s\n",
      "Evaluated model in 0.52s\n",
      "Evaluated model in 0.48s\n",
      "Evaluated model in 0.50s\n",
      "Evaluated model in 0.48s\n",
      "Evaluated model in 0.48s\n",
      "Evaluated model in 0.50s\n",
      "Evaluated model in 0.50s\n",
      "Evaluated model in 0.48s\n",
      "Evaluated model in 0.50s\n",
      "Evaluated model in 0.48s\n",
      "Evaluated model in 0.50s\n",
      "Evaluated model in 0.50s\n",
      "Evaluated model in 0.50s\n",
      "Evaluated model in 0.50s\n",
      "Evaluated model in 0.52s\n",
      "Evaluated model in 0.48s\n",
      "Evaluated model in 0.48s\n",
      "Evaluated model in 0.48s\n",
      "Evaluated model in 0.47s\n",
      "Evaluated model in 0.47s\n",
      "Evaluated model in 0.48s\n",
      "Evaluated model in 0.48s\n",
      "Evaluated model in 0.48s\n",
      "Evaluated model in 0.48s\n",
      "Evaluated model in 0.48s\n",
      "Evaluated model in 0.47s\n",
      "Evaluated model in 0.48s\n",
      "Evaluated model in 0.48s\n",
      "Evaluated model in 0.48s\n",
      "Evaluated model in 0.48s\n",
      "Evaluated model in 0.48s\n",
      "Evaluated model in 0.47s\n",
      "Evaluated model in 0.48s\n",
      "Evaluated model in 0.47s\n",
      "Evaluated model in 0.48s\n",
      "Evaluated model in 0.45s\n",
      "Evaluated model in 0.47s\n",
      "Evaluated model in 0.47s\n",
      "Evaluated model in 0.47s\n",
      "Evaluated model in 0.48s\n",
      "Evaluated model in 0.47s\n",
      "Evaluated model in 0.47s\n",
      "Evaluated model in 0.47s\n",
      "Evaluated model in 0.47s\n",
      "Evaluated model in 0.47s\n",
      "Evaluated model in 0.48s\n",
      "Evaluated model in 0.48s\n",
      "Evaluated model in 0.50s\n",
      "Evaluated model in 0.47s\n",
      "Evaluated model in 0.48s\n",
      "Evaluated model in 0.48s\n",
      "Evaluated model in 0.50s\n",
      "Evaluated model in 0.47s\n",
      "Evaluated model in 0.45s\n",
      "Evaluated model in 0.48s\n",
      "Evaluated model in 0.48s\n",
      "Evaluated model in 0.47s\n",
      "Evaluated model in 0.47s\n",
      "Evaluated model in 0.47s\n",
      "Evaluated model in 0.50s\n",
      "Evaluated model in 0.48s\n",
      "Evaluated model in 0.47s\n",
      "Evaluated model in 0.48s\n",
      "Evaluated model in 0.47s\n",
      "Evaluated model in 0.47s\n",
      "Evaluated model in 0.47s\n",
      "Evaluated model in 0.48s\n",
      "Evaluated model in 0.47s\n",
      "Evaluated model in 0.48s\n",
      "Evaluated model in 0.47s\n",
      "Evaluated model in 0.47s\n",
      "Evaluated model in 0.47s\n",
      "Evaluated model in 0.47s\n",
      "Evaluated model in 0.47s\n",
      "Evaluated model in 0.47s\n",
      "Evaluated model in 0.48s\n",
      "Evaluated model in 0.45s\n",
      "Evaluated model in 0.48s\n",
      "Evaluated model in 0.47s\n",
      "Evaluated model in 0.48s\n",
      "Evaluated model in 0.47s\n",
      "Evaluated model in 0.47s\n",
      "Evaluated model in 0.47s\n",
      "Evaluated model in 0.47s\n",
      "Evaluated model in 0.47s\n",
      "Evaluated model in 0.48s\n",
      "Evaluated model in 0.47s\n",
      "Evaluated model in 0.47s\n",
      "Evaluated model in 0.48s\n",
      "Evaluated model in 0.48s\n",
      "Evaluated model in 0.50s\n",
      "Evaluated model in 0.47s\n",
      "Evaluated model in 0.47s\n",
      "Evaluated model in 0.47s\n",
      "Evaluated model in 0.47s\n",
      "Evaluated model in 0.45s\n",
      "Evaluated model in 0.47s\n",
      "Evaluated model in 0.47s\n",
      "Evaluated model in 0.47s\n",
      "Evaluated model in 0.47s\n",
      "Evaluated model in 0.47s\n",
      "Evaluated model in 0.47s\n",
      "Evaluated model in 0.48s\n",
      "Evaluated model in 0.47s\n",
      "Evaluated model in 0.47s\n",
      "Evaluated model in 0.50s\n",
      "Evaluated model in 0.47s\n",
      "Evaluated model in 0.47s\n",
      "Evaluated model in 0.47s\n",
      "Evaluated model in 0.47s\n",
      "Evaluated model in 0.47s\n",
      "Evaluated model in 0.47s\n",
      "Evaluated model in 0.47s\n",
      "Evaluated model in 0.47s\n",
      "Evaluated model in 0.47s\n",
      "Evaluated model in 0.47s\n",
      "Evaluated model in 0.47s\n",
      "Evaluated model in 0.48s\n",
      "Evaluated model in 0.48s\n"
     ]
    },
    {
     "name": "stderr",
     "output_type": "stream",
     "text": [
      "DEBUG:root:Cross-validation experiment finished in 51275.64s\n"
     ]
    }
   ],
   "source": [
    "start = time.time()\n",
    "\n",
    "# run 5-fold CV experiment\n",
    "result = ee.run_cv_experiment(models, folds, metrics,\n",
    "                              fold_experiment=ee.topk_test,\n",
    "                              topk_list=topk_values)\n",
    "\n",
    "\n",
    "logging.debug(\"Cross-validation experiment finished in %0.2fs\", time.time() - start)"
   ]
  },
  {
   "cell_type": "code",
   "execution_count": 16,
   "metadata": {},
   "outputs": [],
   "source": [
    "pickle.dump(result, open(\"pickle/result.p\", \"wb\"))"
   ]
  },
  {
   "cell_type": "code",
   "execution_count": null,
   "metadata": {},
   "outputs": [],
   "source": [
    "# holdout_sizes = [1, 2, 5]\n",
    "\n",
    "# result = ee.run_cv_experiment(models, folds, metrics,\n",
    "#                               fold_experiment=ee.holdout_test,\n",
    "#                               holdout_sizes=holdout_sizes)"
   ]
  },
  {
   "cell_type": "code",
   "execution_count": 17,
   "metadata": {},
   "outputs": [
    {
     "data": {
      "text/html": [
       "<div>\n",
       "<style scoped>\n",
       "    .dataframe tbody tr th:only-of-type {\n",
       "        vertical-align: middle;\n",
       "    }\n",
       "\n",
       "    .dataframe tbody tr th {\n",
       "        vertical-align: top;\n",
       "    }\n",
       "\n",
       "    .dataframe thead tr th {\n",
       "        text-align: left;\n",
       "    }\n",
       "\n",
       "    .dataframe thead tr:last-of-type th {\n",
       "        text-align: right;\n",
       "    }\n",
       "</style>\n",
       "<table border=\"1\" class=\"dataframe\">\n",
       "  <thead>\n",
       "    <tr>\n",
       "      <th></th>\n",
       "      <th>type</th>\n",
       "      <th colspan=\"3\" halign=\"left\">relevance</th>\n",
       "      <th>ranking</th>\n",
       "    </tr>\n",
       "    <tr>\n",
       "      <th></th>\n",
       "      <th>metric</th>\n",
       "      <th>precision</th>\n",
       "      <th>recall</th>\n",
       "      <th>miss_rate</th>\n",
       "      <th>nDCG</th>\n",
       "    </tr>\n",
       "    <tr>\n",
       "      <th>top-n</th>\n",
       "      <th>model</th>\n",
       "      <th></th>\n",
       "      <th></th>\n",
       "      <th></th>\n",
       "      <th></th>\n",
       "    </tr>\n",
       "  </thead>\n",
       "  <tbody>\n",
       "    <tr>\n",
       "      <th rowspan=\"30\" valign=\"top\">5</th>\n",
       "      <th>RND</th>\n",
       "      <td>0.000012</td>\n",
       "      <td>0.000020</td>\n",
       "      <td>0.999980</td>\n",
       "      <td>0.000014</td>\n",
       "    </tr>\n",
       "    <tr>\n",
       "      <th>MP</th>\n",
       "      <td>0.001156</td>\n",
       "      <td>0.001927</td>\n",
       "      <td>0.998073</td>\n",
       "      <td>0.001675</td>\n",
       "    </tr>\n",
       "    <tr>\n",
       "      <th>PureSVD</th>\n",
       "      <td>0.001158</td>\n",
       "      <td>0.001929</td>\n",
       "      <td>0.998071</td>\n",
       "      <td>0.001816</td>\n",
       "    </tr>\n",
       "    <tr>\n",
       "      <th>ALS_rank-10_regularization-0.01_alpha-1_num_epochs-15</th>\n",
       "      <td>0.000909</td>\n",
       "      <td>0.001516</td>\n",
       "      <td>0.998484</td>\n",
       "      <td>0.001353</td>\n",
       "    </tr>\n",
       "    <tr>\n",
       "      <th>ALS_rank-10_regularization-0.01_alpha-1_num_epochs-30</th>\n",
       "      <td>0.000958</td>\n",
       "      <td>0.001597</td>\n",
       "      <td>0.998403</td>\n",
       "      <td>0.001440</td>\n",
       "    </tr>\n",
       "    <tr>\n",
       "      <th>ALS_rank-10_regularization-0.01_alpha-1_num_epochs-40</th>\n",
       "      <td>0.000937</td>\n",
       "      <td>0.001561</td>\n",
       "      <td>0.998439</td>\n",
       "      <td>0.001383</td>\n",
       "    </tr>\n",
       "    <tr>\n",
       "      <th>ALS_rank-10_regularization-0.01_alpha-50_num_epochs-15</th>\n",
       "      <td>0.000708</td>\n",
       "      <td>0.001180</td>\n",
       "      <td>0.998820</td>\n",
       "      <td>0.000938</td>\n",
       "    </tr>\n",
       "    <tr>\n",
       "      <th>ALS_rank-10_regularization-0.01_alpha-50_num_epochs-30</th>\n",
       "      <td>0.000726</td>\n",
       "      <td>0.001211</td>\n",
       "      <td>0.998789</td>\n",
       "      <td>0.000959</td>\n",
       "    </tr>\n",
       "    <tr>\n",
       "      <th>ALS_rank-10_regularization-0.01_alpha-50_num_epochs-40</th>\n",
       "      <td>0.000808</td>\n",
       "      <td>0.001347</td>\n",
       "      <td>0.998653</td>\n",
       "      <td>0.001122</td>\n",
       "    </tr>\n",
       "    <tr>\n",
       "      <th>ALS_rank-10_regularization-0.01_alpha-100_num_epochs-15</th>\n",
       "      <td>0.000605</td>\n",
       "      <td>0.001009</td>\n",
       "      <td>0.998991</td>\n",
       "      <td>0.000812</td>\n",
       "    </tr>\n",
       "    <tr>\n",
       "      <th>ALS_rank-10_regularization-0.01_alpha-100_num_epochs-30</th>\n",
       "      <td>0.000530</td>\n",
       "      <td>0.000883</td>\n",
       "      <td>0.999117</td>\n",
       "      <td>0.000693</td>\n",
       "    </tr>\n",
       "    <tr>\n",
       "      <th>ALS_rank-10_regularization-0.01_alpha-100_num_epochs-40</th>\n",
       "      <td>0.000549</td>\n",
       "      <td>0.000915</td>\n",
       "      <td>0.999085</td>\n",
       "      <td>0.000694</td>\n",
       "    </tr>\n",
       "    <tr>\n",
       "      <th>ALS_rank-10_regularization-0.1_alpha-1_num_epochs-15</th>\n",
       "      <td>0.000917</td>\n",
       "      <td>0.001528</td>\n",
       "      <td>0.998472</td>\n",
       "      <td>0.001376</td>\n",
       "    </tr>\n",
       "    <tr>\n",
       "      <th>ALS_rank-10_regularization-0.1_alpha-1_num_epochs-30</th>\n",
       "      <td>0.001008</td>\n",
       "      <td>0.001680</td>\n",
       "      <td>0.998320</td>\n",
       "      <td>0.001487</td>\n",
       "    </tr>\n",
       "    <tr>\n",
       "      <th>ALS_rank-10_regularization-0.1_alpha-1_num_epochs-40</th>\n",
       "      <td>0.000906</td>\n",
       "      <td>0.001511</td>\n",
       "      <td>0.998489</td>\n",
       "      <td>0.001379</td>\n",
       "    </tr>\n",
       "    <tr>\n",
       "      <th>ALS_rank-10_regularization-0.1_alpha-50_num_epochs-15</th>\n",
       "      <td>0.000697</td>\n",
       "      <td>0.001162</td>\n",
       "      <td>0.998838</td>\n",
       "      <td>0.000929</td>\n",
       "    </tr>\n",
       "    <tr>\n",
       "      <th>ALS_rank-10_regularization-0.1_alpha-50_num_epochs-30</th>\n",
       "      <td>0.000769</td>\n",
       "      <td>0.001281</td>\n",
       "      <td>0.998719</td>\n",
       "      <td>0.000995</td>\n",
       "    </tr>\n",
       "    <tr>\n",
       "      <th>ALS_rank-10_regularization-0.1_alpha-50_num_epochs-40</th>\n",
       "      <td>0.000755</td>\n",
       "      <td>0.001258</td>\n",
       "      <td>0.998742</td>\n",
       "      <td>0.000995</td>\n",
       "    </tr>\n",
       "    <tr>\n",
       "      <th>ALS_rank-10_regularization-0.1_alpha-100_num_epochs-15</th>\n",
       "      <td>0.000530</td>\n",
       "      <td>0.000883</td>\n",
       "      <td>0.999117</td>\n",
       "      <td>0.000722</td>\n",
       "    </tr>\n",
       "    <tr>\n",
       "      <th>ALS_rank-10_regularization-0.1_alpha-100_num_epochs-30</th>\n",
       "      <td>0.000572</td>\n",
       "      <td>0.000953</td>\n",
       "      <td>0.999047</td>\n",
       "      <td>0.000749</td>\n",
       "    </tr>\n",
       "    <tr>\n",
       "      <th>ALS_rank-10_regularization-0.1_alpha-100_num_epochs-40</th>\n",
       "      <td>0.000587</td>\n",
       "      <td>0.000978</td>\n",
       "      <td>0.999022</td>\n",
       "      <td>0.000757</td>\n",
       "    </tr>\n",
       "    <tr>\n",
       "      <th>ALS_rank-10_regularization-1_alpha-1_num_epochs-15</th>\n",
       "      <td>0.000917</td>\n",
       "      <td>0.001528</td>\n",
       "      <td>0.998472</td>\n",
       "      <td>0.001421</td>\n",
       "    </tr>\n",
       "    <tr>\n",
       "      <th>ALS_rank-10_regularization-1_alpha-1_num_epochs-30</th>\n",
       "      <td>0.000947</td>\n",
       "      <td>0.001579</td>\n",
       "      <td>0.998421</td>\n",
       "      <td>0.001419</td>\n",
       "    </tr>\n",
       "    <tr>\n",
       "      <th>ALS_rank-10_regularization-1_alpha-1_num_epochs-40</th>\n",
       "      <td>0.000987</td>\n",
       "      <td>0.001644</td>\n",
       "      <td>0.998356</td>\n",
       "      <td>0.001456</td>\n",
       "    </tr>\n",
       "    <tr>\n",
       "      <th>ALS_rank-10_regularization-1_alpha-50_num_epochs-15</th>\n",
       "      <td>0.000666</td>\n",
       "      <td>0.001110</td>\n",
       "      <td>0.998890</td>\n",
       "      <td>0.000925</td>\n",
       "    </tr>\n",
       "    <tr>\n",
       "      <th>ALS_rank-10_regularization-1_alpha-50_num_epochs-30</th>\n",
       "      <td>0.000813</td>\n",
       "      <td>0.001354</td>\n",
       "      <td>0.998646</td>\n",
       "      <td>0.001104</td>\n",
       "    </tr>\n",
       "    <tr>\n",
       "      <th>ALS_rank-10_regularization-1_alpha-50_num_epochs-40</th>\n",
       "      <td>0.000722</td>\n",
       "      <td>0.001203</td>\n",
       "      <td>0.998797</td>\n",
       "      <td>0.000950</td>\n",
       "    </tr>\n",
       "    <tr>\n",
       "      <th>ALS_rank-10_regularization-1_alpha-100_num_epochs-15</th>\n",
       "      <td>0.000604</td>\n",
       "      <td>0.001006</td>\n",
       "      <td>0.998994</td>\n",
       "      <td>0.000843</td>\n",
       "    </tr>\n",
       "    <tr>\n",
       "      <th>ALS_rank-10_regularization-1_alpha-100_num_epochs-30</th>\n",
       "      <td>0.000581</td>\n",
       "      <td>0.000968</td>\n",
       "      <td>0.999032</td>\n",
       "      <td>0.000774</td>\n",
       "    </tr>\n",
       "    <tr>\n",
       "      <th>ALS_rank-10_regularization-1_alpha-100_num_epochs-40</th>\n",
       "      <td>0.000561</td>\n",
       "      <td>0.000935</td>\n",
       "      <td>0.999065</td>\n",
       "      <td>0.000719</td>\n",
       "    </tr>\n",
       "    <tr>\n",
       "      <th>...</th>\n",
       "      <th>...</th>\n",
       "      <td>...</td>\n",
       "      <td>...</td>\n",
       "      <td>...</td>\n",
       "      <td>...</td>\n",
       "    </tr>\n",
       "    <tr>\n",
       "      <th rowspan=\"30\" valign=\"top\">20</th>\n",
       "      <th>ALS_rank-50_regularization-1_alpha-100_num_epochs-15</th>\n",
       "      <td>0.000983</td>\n",
       "      <td>0.006551</td>\n",
       "      <td>0.993449</td>\n",
       "      <td>0.003760</td>\n",
       "    </tr>\n",
       "    <tr>\n",
       "      <th>ALS_rank-50_regularization-1_alpha-100_num_epochs-30</th>\n",
       "      <td>0.001252</td>\n",
       "      <td>0.008350</td>\n",
       "      <td>0.991650</td>\n",
       "      <td>0.004836</td>\n",
       "    </tr>\n",
       "    <tr>\n",
       "      <th>ALS_rank-50_regularization-1_alpha-100_num_epochs-40</th>\n",
       "      <td>0.001341</td>\n",
       "      <td>0.008937</td>\n",
       "      <td>0.991063</td>\n",
       "      <td>0.005118</td>\n",
       "    </tr>\n",
       "    <tr>\n",
       "      <th>ALS_rank-100_regularization-0.01_alpha-1_num_epochs-15</th>\n",
       "      <td>0.001833</td>\n",
       "      <td>0.012220</td>\n",
       "      <td>0.987780</td>\n",
       "      <td>0.007162</td>\n",
       "    </tr>\n",
       "    <tr>\n",
       "      <th>ALS_rank-100_regularization-0.01_alpha-1_num_epochs-30</th>\n",
       "      <td>0.001903</td>\n",
       "      <td>0.012687</td>\n",
       "      <td>0.987313</td>\n",
       "      <td>0.007365</td>\n",
       "    </tr>\n",
       "    <tr>\n",
       "      <th>ALS_rank-100_regularization-0.01_alpha-1_num_epochs-40</th>\n",
       "      <td>0.001900</td>\n",
       "      <td>0.012664</td>\n",
       "      <td>0.987336</td>\n",
       "      <td>0.007411</td>\n",
       "    </tr>\n",
       "    <tr>\n",
       "      <th>ALS_rank-100_regularization-0.01_alpha-50_num_epochs-15</th>\n",
       "      <td>0.001915</td>\n",
       "      <td>0.012767</td>\n",
       "      <td>0.987233</td>\n",
       "      <td>0.007783</td>\n",
       "    </tr>\n",
       "    <tr>\n",
       "      <th>ALS_rank-100_regularization-0.01_alpha-50_num_epochs-30</th>\n",
       "      <td>0.002172</td>\n",
       "      <td>0.014482</td>\n",
       "      <td>0.985518</td>\n",
       "      <td>0.008645</td>\n",
       "    </tr>\n",
       "    <tr>\n",
       "      <th>ALS_rank-100_regularization-0.01_alpha-50_num_epochs-40</th>\n",
       "      <td>0.002229</td>\n",
       "      <td>0.014863</td>\n",
       "      <td>0.985137</td>\n",
       "      <td>0.008948</td>\n",
       "    </tr>\n",
       "    <tr>\n",
       "      <th>ALS_rank-100_regularization-0.01_alpha-100_num_epochs-15</th>\n",
       "      <td>0.001637</td>\n",
       "      <td>0.010914</td>\n",
       "      <td>0.989086</td>\n",
       "      <td>0.006670</td>\n",
       "    </tr>\n",
       "    <tr>\n",
       "      <th>ALS_rank-100_regularization-0.01_alpha-100_num_epochs-30</th>\n",
       "      <td>0.001981</td>\n",
       "      <td>0.013206</td>\n",
       "      <td>0.986794</td>\n",
       "      <td>0.007966</td>\n",
       "    </tr>\n",
       "    <tr>\n",
       "      <th>ALS_rank-100_regularization-0.01_alpha-100_num_epochs-40</th>\n",
       "      <td>0.002073</td>\n",
       "      <td>0.013819</td>\n",
       "      <td>0.986181</td>\n",
       "      <td>0.008341</td>\n",
       "    </tr>\n",
       "    <tr>\n",
       "      <th>ALS_rank-100_regularization-0.1_alpha-1_num_epochs-15</th>\n",
       "      <td>0.001852</td>\n",
       "      <td>0.012349</td>\n",
       "      <td>0.987651</td>\n",
       "      <td>0.007221</td>\n",
       "    </tr>\n",
       "    <tr>\n",
       "      <th>ALS_rank-100_regularization-0.1_alpha-1_num_epochs-30</th>\n",
       "      <td>0.001881</td>\n",
       "      <td>0.012538</td>\n",
       "      <td>0.987462</td>\n",
       "      <td>0.007355</td>\n",
       "    </tr>\n",
       "    <tr>\n",
       "      <th>ALS_rank-100_regularization-0.1_alpha-1_num_epochs-40</th>\n",
       "      <td>0.001920</td>\n",
       "      <td>0.012797</td>\n",
       "      <td>0.987203</td>\n",
       "      <td>0.007404</td>\n",
       "    </tr>\n",
       "    <tr>\n",
       "      <th>ALS_rank-100_regularization-0.1_alpha-50_num_epochs-15</th>\n",
       "      <td>0.001867</td>\n",
       "      <td>0.012444</td>\n",
       "      <td>0.987556</td>\n",
       "      <td>0.007570</td>\n",
       "    </tr>\n",
       "    <tr>\n",
       "      <th>ALS_rank-100_regularization-0.1_alpha-50_num_epochs-30</th>\n",
       "      <td>0.002143</td>\n",
       "      <td>0.014288</td>\n",
       "      <td>0.985712</td>\n",
       "      <td>0.008671</td>\n",
       "    </tr>\n",
       "    <tr>\n",
       "      <th>ALS_rank-100_regularization-0.1_alpha-50_num_epochs-40</th>\n",
       "      <td>0.002226</td>\n",
       "      <td>0.014842</td>\n",
       "      <td>0.985158</td>\n",
       "      <td>0.008963</td>\n",
       "    </tr>\n",
       "    <tr>\n",
       "      <th>ALS_rank-100_regularization-0.1_alpha-100_num_epochs-15</th>\n",
       "      <td>0.001583</td>\n",
       "      <td>0.010553</td>\n",
       "      <td>0.989447</td>\n",
       "      <td>0.006458</td>\n",
       "    </tr>\n",
       "    <tr>\n",
       "      <th>ALS_rank-100_regularization-0.1_alpha-100_num_epochs-30</th>\n",
       "      <td>0.001936</td>\n",
       "      <td>0.012906</td>\n",
       "      <td>0.987094</td>\n",
       "      <td>0.007801</td>\n",
       "    </tr>\n",
       "    <tr>\n",
       "      <th>ALS_rank-100_regularization-0.1_alpha-100_num_epochs-40</th>\n",
       "      <td>0.001986</td>\n",
       "      <td>0.013239</td>\n",
       "      <td>0.986761</td>\n",
       "      <td>0.008014</td>\n",
       "    </tr>\n",
       "    <tr>\n",
       "      <th>ALS_rank-100_regularization-1_alpha-1_num_epochs-15</th>\n",
       "      <td>0.001866</td>\n",
       "      <td>0.012442</td>\n",
       "      <td>0.987558</td>\n",
       "      <td>0.007199</td>\n",
       "    </tr>\n",
       "    <tr>\n",
       "      <th>ALS_rank-100_regularization-1_alpha-1_num_epochs-30</th>\n",
       "      <td>0.001874</td>\n",
       "      <td>0.012495</td>\n",
       "      <td>0.987505</td>\n",
       "      <td>0.007332</td>\n",
       "    </tr>\n",
       "    <tr>\n",
       "      <th>ALS_rank-100_regularization-1_alpha-1_num_epochs-40</th>\n",
       "      <td>0.001893</td>\n",
       "      <td>0.012621</td>\n",
       "      <td>0.987379</td>\n",
       "      <td>0.007389</td>\n",
       "    </tr>\n",
       "    <tr>\n",
       "      <th>ALS_rank-100_regularization-1_alpha-50_num_epochs-15</th>\n",
       "      <td>0.001791</td>\n",
       "      <td>0.011943</td>\n",
       "      <td>0.988057</td>\n",
       "      <td>0.007294</td>\n",
       "    </tr>\n",
       "    <tr>\n",
       "      <th>ALS_rank-100_regularization-1_alpha-50_num_epochs-30</th>\n",
       "      <td>0.002091</td>\n",
       "      <td>0.013937</td>\n",
       "      <td>0.986063</td>\n",
       "      <td>0.008346</td>\n",
       "    </tr>\n",
       "    <tr>\n",
       "      <th>ALS_rank-100_regularization-1_alpha-50_num_epochs-40</th>\n",
       "      <td>0.002149</td>\n",
       "      <td>0.014326</td>\n",
       "      <td>0.985674</td>\n",
       "      <td>0.008646</td>\n",
       "    </tr>\n",
       "    <tr>\n",
       "      <th>ALS_rank-100_regularization-1_alpha-100_num_epochs-15</th>\n",
       "      <td>0.001450</td>\n",
       "      <td>0.009666</td>\n",
       "      <td>0.990334</td>\n",
       "      <td>0.006002</td>\n",
       "    </tr>\n",
       "    <tr>\n",
       "      <th>ALS_rank-100_regularization-1_alpha-100_num_epochs-30</th>\n",
       "      <td>0.001856</td>\n",
       "      <td>0.012374</td>\n",
       "      <td>0.987626</td>\n",
       "      <td>0.007562</td>\n",
       "    </tr>\n",
       "    <tr>\n",
       "      <th>ALS_rank-100_regularization-1_alpha-100_num_epochs-40</th>\n",
       "      <td>0.001949</td>\n",
       "      <td>0.012992</td>\n",
       "      <td>0.987008</td>\n",
       "      <td>0.007856</td>\n",
       "    </tr>\n",
       "  </tbody>\n",
       "</table>\n",
       "<p>252 rows × 4 columns</p>\n",
       "</div>"
      ],
      "text/plain": [
       "type                                                     relevance            \\\n",
       "metric                                                   precision    recall   \n",
       "top-n model                                                                    \n",
       "5     RND                                                 0.000012  0.000020   \n",
       "      MP                                                  0.001156  0.001927   \n",
       "      PureSVD                                             0.001158  0.001929   \n",
       "      ALS_rank-10_regularization-0.01_alpha-1_num_epo...  0.000909  0.001516   \n",
       "      ALS_rank-10_regularization-0.01_alpha-1_num_epo...  0.000958  0.001597   \n",
       "      ALS_rank-10_regularization-0.01_alpha-1_num_epo...  0.000937  0.001561   \n",
       "      ALS_rank-10_regularization-0.01_alpha-50_num_ep...  0.000708  0.001180   \n",
       "      ALS_rank-10_regularization-0.01_alpha-50_num_ep...  0.000726  0.001211   \n",
       "      ALS_rank-10_regularization-0.01_alpha-50_num_ep...  0.000808  0.001347   \n",
       "      ALS_rank-10_regularization-0.01_alpha-100_num_e...  0.000605  0.001009   \n",
       "      ALS_rank-10_regularization-0.01_alpha-100_num_e...  0.000530  0.000883   \n",
       "      ALS_rank-10_regularization-0.01_alpha-100_num_e...  0.000549  0.000915   \n",
       "      ALS_rank-10_regularization-0.1_alpha-1_num_epoc...  0.000917  0.001528   \n",
       "      ALS_rank-10_regularization-0.1_alpha-1_num_epoc...  0.001008  0.001680   \n",
       "      ALS_rank-10_regularization-0.1_alpha-1_num_epoc...  0.000906  0.001511   \n",
       "      ALS_rank-10_regularization-0.1_alpha-50_num_epo...  0.000697  0.001162   \n",
       "      ALS_rank-10_regularization-0.1_alpha-50_num_epo...  0.000769  0.001281   \n",
       "      ALS_rank-10_regularization-0.1_alpha-50_num_epo...  0.000755  0.001258   \n",
       "      ALS_rank-10_regularization-0.1_alpha-100_num_ep...  0.000530  0.000883   \n",
       "      ALS_rank-10_regularization-0.1_alpha-100_num_ep...  0.000572  0.000953   \n",
       "      ALS_rank-10_regularization-0.1_alpha-100_num_ep...  0.000587  0.000978   \n",
       "      ALS_rank-10_regularization-1_alpha-1_num_epochs-15  0.000917  0.001528   \n",
       "      ALS_rank-10_regularization-1_alpha-1_num_epochs-30  0.000947  0.001579   \n",
       "      ALS_rank-10_regularization-1_alpha-1_num_epochs-40  0.000987  0.001644   \n",
       "      ALS_rank-10_regularization-1_alpha-50_num_epoch...  0.000666  0.001110   \n",
       "      ALS_rank-10_regularization-1_alpha-50_num_epoch...  0.000813  0.001354   \n",
       "      ALS_rank-10_regularization-1_alpha-50_num_epoch...  0.000722  0.001203   \n",
       "      ALS_rank-10_regularization-1_alpha-100_num_epoc...  0.000604  0.001006   \n",
       "      ALS_rank-10_regularization-1_alpha-100_num_epoc...  0.000581  0.000968   \n",
       "      ALS_rank-10_regularization-1_alpha-100_num_epoc...  0.000561  0.000935   \n",
       "...                                                            ...       ...   \n",
       "20    ALS_rank-50_regularization-1_alpha-100_num_epoc...  0.000983  0.006551   \n",
       "      ALS_rank-50_regularization-1_alpha-100_num_epoc...  0.001252  0.008350   \n",
       "      ALS_rank-50_regularization-1_alpha-100_num_epoc...  0.001341  0.008937   \n",
       "      ALS_rank-100_regularization-0.01_alpha-1_num_ep...  0.001833  0.012220   \n",
       "      ALS_rank-100_regularization-0.01_alpha-1_num_ep...  0.001903  0.012687   \n",
       "      ALS_rank-100_regularization-0.01_alpha-1_num_ep...  0.001900  0.012664   \n",
       "      ALS_rank-100_regularization-0.01_alpha-50_num_e...  0.001915  0.012767   \n",
       "      ALS_rank-100_regularization-0.01_alpha-50_num_e...  0.002172  0.014482   \n",
       "      ALS_rank-100_regularization-0.01_alpha-50_num_e...  0.002229  0.014863   \n",
       "      ALS_rank-100_regularization-0.01_alpha-100_num_...  0.001637  0.010914   \n",
       "      ALS_rank-100_regularization-0.01_alpha-100_num_...  0.001981  0.013206   \n",
       "      ALS_rank-100_regularization-0.01_alpha-100_num_...  0.002073  0.013819   \n",
       "      ALS_rank-100_regularization-0.1_alpha-1_num_epo...  0.001852  0.012349   \n",
       "      ALS_rank-100_regularization-0.1_alpha-1_num_epo...  0.001881  0.012538   \n",
       "      ALS_rank-100_regularization-0.1_alpha-1_num_epo...  0.001920  0.012797   \n",
       "      ALS_rank-100_regularization-0.1_alpha-50_num_ep...  0.001867  0.012444   \n",
       "      ALS_rank-100_regularization-0.1_alpha-50_num_ep...  0.002143  0.014288   \n",
       "      ALS_rank-100_regularization-0.1_alpha-50_num_ep...  0.002226  0.014842   \n",
       "      ALS_rank-100_regularization-0.1_alpha-100_num_e...  0.001583  0.010553   \n",
       "      ALS_rank-100_regularization-0.1_alpha-100_num_e...  0.001936  0.012906   \n",
       "      ALS_rank-100_regularization-0.1_alpha-100_num_e...  0.001986  0.013239   \n",
       "      ALS_rank-100_regularization-1_alpha-1_num_epoch...  0.001866  0.012442   \n",
       "      ALS_rank-100_regularization-1_alpha-1_num_epoch...  0.001874  0.012495   \n",
       "      ALS_rank-100_regularization-1_alpha-1_num_epoch...  0.001893  0.012621   \n",
       "      ALS_rank-100_regularization-1_alpha-50_num_epoc...  0.001791  0.011943   \n",
       "      ALS_rank-100_regularization-1_alpha-50_num_epoc...  0.002091  0.013937   \n",
       "      ALS_rank-100_regularization-1_alpha-50_num_epoc...  0.002149  0.014326   \n",
       "      ALS_rank-100_regularization-1_alpha-100_num_epo...  0.001450  0.009666   \n",
       "      ALS_rank-100_regularization-1_alpha-100_num_epo...  0.001856  0.012374   \n",
       "      ALS_rank-100_regularization-1_alpha-100_num_epo...  0.001949  0.012992   \n",
       "\n",
       "type                                                                 ranking  \n",
       "metric                                                   miss_rate      nDCG  \n",
       "top-n model                                                                   \n",
       "5     RND                                                 0.999980  0.000014  \n",
       "      MP                                                  0.998073  0.001675  \n",
       "      PureSVD                                             0.998071  0.001816  \n",
       "      ALS_rank-10_regularization-0.01_alpha-1_num_epo...  0.998484  0.001353  \n",
       "      ALS_rank-10_regularization-0.01_alpha-1_num_epo...  0.998403  0.001440  \n",
       "      ALS_rank-10_regularization-0.01_alpha-1_num_epo...  0.998439  0.001383  \n",
       "      ALS_rank-10_regularization-0.01_alpha-50_num_ep...  0.998820  0.000938  \n",
       "      ALS_rank-10_regularization-0.01_alpha-50_num_ep...  0.998789  0.000959  \n",
       "      ALS_rank-10_regularization-0.01_alpha-50_num_ep...  0.998653  0.001122  \n",
       "      ALS_rank-10_regularization-0.01_alpha-100_num_e...  0.998991  0.000812  \n",
       "      ALS_rank-10_regularization-0.01_alpha-100_num_e...  0.999117  0.000693  \n",
       "      ALS_rank-10_regularization-0.01_alpha-100_num_e...  0.999085  0.000694  \n",
       "      ALS_rank-10_regularization-0.1_alpha-1_num_epoc...  0.998472  0.001376  \n",
       "      ALS_rank-10_regularization-0.1_alpha-1_num_epoc...  0.998320  0.001487  \n",
       "      ALS_rank-10_regularization-0.1_alpha-1_num_epoc...  0.998489  0.001379  \n",
       "      ALS_rank-10_regularization-0.1_alpha-50_num_epo...  0.998838  0.000929  \n",
       "      ALS_rank-10_regularization-0.1_alpha-50_num_epo...  0.998719  0.000995  \n",
       "      ALS_rank-10_regularization-0.1_alpha-50_num_epo...  0.998742  0.000995  \n",
       "      ALS_rank-10_regularization-0.1_alpha-100_num_ep...  0.999117  0.000722  \n",
       "      ALS_rank-10_regularization-0.1_alpha-100_num_ep...  0.999047  0.000749  \n",
       "      ALS_rank-10_regularization-0.1_alpha-100_num_ep...  0.999022  0.000757  \n",
       "      ALS_rank-10_regularization-1_alpha-1_num_epochs-15  0.998472  0.001421  \n",
       "      ALS_rank-10_regularization-1_alpha-1_num_epochs-30  0.998421  0.001419  \n",
       "      ALS_rank-10_regularization-1_alpha-1_num_epochs-40  0.998356  0.001456  \n",
       "      ALS_rank-10_regularization-1_alpha-50_num_epoch...  0.998890  0.000925  \n",
       "      ALS_rank-10_regularization-1_alpha-50_num_epoch...  0.998646  0.001104  \n",
       "      ALS_rank-10_regularization-1_alpha-50_num_epoch...  0.998797  0.000950  \n",
       "      ALS_rank-10_regularization-1_alpha-100_num_epoc...  0.998994  0.000843  \n",
       "      ALS_rank-10_regularization-1_alpha-100_num_epoc...  0.999032  0.000774  \n",
       "      ALS_rank-10_regularization-1_alpha-100_num_epoc...  0.999065  0.000719  \n",
       "...                                                            ...       ...  \n",
       "20    ALS_rank-50_regularization-1_alpha-100_num_epoc...  0.993449  0.003760  \n",
       "      ALS_rank-50_regularization-1_alpha-100_num_epoc...  0.991650  0.004836  \n",
       "      ALS_rank-50_regularization-1_alpha-100_num_epoc...  0.991063  0.005118  \n",
       "      ALS_rank-100_regularization-0.01_alpha-1_num_ep...  0.987780  0.007162  \n",
       "      ALS_rank-100_regularization-0.01_alpha-1_num_ep...  0.987313  0.007365  \n",
       "      ALS_rank-100_regularization-0.01_alpha-1_num_ep...  0.987336  0.007411  \n",
       "      ALS_rank-100_regularization-0.01_alpha-50_num_e...  0.987233  0.007783  \n",
       "      ALS_rank-100_regularization-0.01_alpha-50_num_e...  0.985518  0.008645  \n",
       "      ALS_rank-100_regularization-0.01_alpha-50_num_e...  0.985137  0.008948  \n",
       "      ALS_rank-100_regularization-0.01_alpha-100_num_...  0.989086  0.006670  \n",
       "      ALS_rank-100_regularization-0.01_alpha-100_num_...  0.986794  0.007966  \n",
       "      ALS_rank-100_regularization-0.01_alpha-100_num_...  0.986181  0.008341  \n",
       "      ALS_rank-100_regularization-0.1_alpha-1_num_epo...  0.987651  0.007221  \n",
       "      ALS_rank-100_regularization-0.1_alpha-1_num_epo...  0.987462  0.007355  \n",
       "      ALS_rank-100_regularization-0.1_alpha-1_num_epo...  0.987203  0.007404  \n",
       "      ALS_rank-100_regularization-0.1_alpha-50_num_ep...  0.987556  0.007570  \n",
       "      ALS_rank-100_regularization-0.1_alpha-50_num_ep...  0.985712  0.008671  \n",
       "      ALS_rank-100_regularization-0.1_alpha-50_num_ep...  0.985158  0.008963  \n",
       "      ALS_rank-100_regularization-0.1_alpha-100_num_e...  0.989447  0.006458  \n",
       "      ALS_rank-100_regularization-0.1_alpha-100_num_e...  0.987094  0.007801  \n",
       "      ALS_rank-100_regularization-0.1_alpha-100_num_e...  0.986761  0.008014  \n",
       "      ALS_rank-100_regularization-1_alpha-1_num_epoch...  0.987558  0.007199  \n",
       "      ALS_rank-100_regularization-1_alpha-1_num_epoch...  0.987505  0.007332  \n",
       "      ALS_rank-100_regularization-1_alpha-1_num_epoch...  0.987379  0.007389  \n",
       "      ALS_rank-100_regularization-1_alpha-50_num_epoc...  0.988057  0.007294  \n",
       "      ALS_rank-100_regularization-1_alpha-50_num_epoc...  0.986063  0.008346  \n",
       "      ALS_rank-100_regularization-1_alpha-50_num_epoc...  0.985674  0.008646  \n",
       "      ALS_rank-100_regularization-1_alpha-100_num_epo...  0.990334  0.006002  \n",
       "      ALS_rank-100_regularization-1_alpha-100_num_epo...  0.987626  0.007562  \n",
       "      ALS_rank-100_regularization-1_alpha-100_num_epo...  0.987008  0.007856  \n",
       "\n",
       "[252 rows x 4 columns]"
      ]
     },
     "execution_count": 17,
     "metadata": {},
     "output_type": "execute_result"
    }
   ],
   "source": [
    "# calculate average values across all folds for e.g. relevance metrics\n",
    "scores = result.mean(axis=0, level=['top-n', 'model']) # use .std instead of .mean for standard deviation\n",
    "# scores.xs('recall', level='metric', axis=1).unstack('model')\n",
    "scores"
   ]
  },
  {
   "cell_type": "code",
   "execution_count": 18,
   "metadata": {},
   "outputs": [
    {
     "data": {
      "text/html": [
       "<div>\n",
       "<style scoped>\n",
       "    .dataframe tbody tr th:only-of-type {\n",
       "        vertical-align: middle;\n",
       "    }\n",
       "\n",
       "    .dataframe tbody tr th {\n",
       "        vertical-align: top;\n",
       "    }\n",
       "\n",
       "    .dataframe thead tr th {\n",
       "        text-align: left;\n",
       "    }\n",
       "\n",
       "    .dataframe thead tr:last-of-type th {\n",
       "        text-align: right;\n",
       "    }\n",
       "</style>\n",
       "<table border=\"1\" class=\"dataframe\">\n",
       "  <thead>\n",
       "    <tr>\n",
       "      <th></th>\n",
       "      <th></th>\n",
       "      <th>type</th>\n",
       "      <th colspan=\"5\" halign=\"left\">relevance</th>\n",
       "      <th colspan=\"2\" halign=\"left\">ranking</th>\n",
       "    </tr>\n",
       "    <tr>\n",
       "      <th></th>\n",
       "      <th></th>\n",
       "      <th>metric</th>\n",
       "      <th>precision</th>\n",
       "      <th>recall</th>\n",
       "      <th>fallout</th>\n",
       "      <th>specifity</th>\n",
       "      <th>miss_rate</th>\n",
       "      <th>nDCG</th>\n",
       "      <th>nDCL</th>\n",
       "    </tr>\n",
       "    <tr>\n",
       "      <th>fold</th>\n",
       "      <th>top-n</th>\n",
       "      <th>model</th>\n",
       "      <th></th>\n",
       "      <th></th>\n",
       "      <th></th>\n",
       "      <th></th>\n",
       "      <th></th>\n",
       "      <th></th>\n",
       "      <th></th>\n",
       "    </tr>\n",
       "  </thead>\n",
       "  <tbody>\n",
       "    <tr>\n",
       "      <th rowspan=\"30\" valign=\"top\">1</th>\n",
       "      <th rowspan=\"30\" valign=\"top\">5</th>\n",
       "      <th>RND</th>\n",
       "      <td>0.000005</td>\n",
       "      <td>0.000008</td>\n",
       "      <td>None</td>\n",
       "      <td>None</td>\n",
       "      <td>0.999992</td>\n",
       "      <td>0.000004</td>\n",
       "      <td>None</td>\n",
       "    </tr>\n",
       "    <tr>\n",
       "      <th>MP</th>\n",
       "      <td>0.001115</td>\n",
       "      <td>0.001858</td>\n",
       "      <td>None</td>\n",
       "      <td>None</td>\n",
       "      <td>0.998142</td>\n",
       "      <td>0.001654</td>\n",
       "      <td>None</td>\n",
       "    </tr>\n",
       "    <tr>\n",
       "      <th>PureSVD</th>\n",
       "      <td>0.001355</td>\n",
       "      <td>0.002258</td>\n",
       "      <td>None</td>\n",
       "      <td>None</td>\n",
       "      <td>0.997742</td>\n",
       "      <td>0.002124</td>\n",
       "      <td>None</td>\n",
       "    </tr>\n",
       "    <tr>\n",
       "      <th>ALS_rank-10_regularization-0.01_alpha-1_num_epochs-15</th>\n",
       "      <td>0.000834</td>\n",
       "      <td>0.001390</td>\n",
       "      <td>None</td>\n",
       "      <td>None</td>\n",
       "      <td>0.998610</td>\n",
       "      <td>0.001252</td>\n",
       "      <td>None</td>\n",
       "    </tr>\n",
       "    <tr>\n",
       "      <th>ALS_rank-10_regularization-0.01_alpha-1_num_epochs-30</th>\n",
       "      <td>0.000875</td>\n",
       "      <td>0.001458</td>\n",
       "      <td>None</td>\n",
       "      <td>None</td>\n",
       "      <td>0.998542</td>\n",
       "      <td>0.001320</td>\n",
       "      <td>None</td>\n",
       "    </tr>\n",
       "    <tr>\n",
       "      <th>ALS_rank-10_regularization-0.01_alpha-1_num_epochs-40</th>\n",
       "      <td>0.000893</td>\n",
       "      <td>0.001488</td>\n",
       "      <td>None</td>\n",
       "      <td>None</td>\n",
       "      <td>0.998512</td>\n",
       "      <td>0.001335</td>\n",
       "      <td>None</td>\n",
       "    </tr>\n",
       "    <tr>\n",
       "      <th>ALS_rank-10_regularization-0.01_alpha-50_num_epochs-15</th>\n",
       "      <td>0.000634</td>\n",
       "      <td>0.001057</td>\n",
       "      <td>None</td>\n",
       "      <td>None</td>\n",
       "      <td>0.998943</td>\n",
       "      <td>0.000812</td>\n",
       "      <td>None</td>\n",
       "    </tr>\n",
       "    <tr>\n",
       "      <th>ALS_rank-10_regularization-0.01_alpha-50_num_epochs-30</th>\n",
       "      <td>0.000662</td>\n",
       "      <td>0.001103</td>\n",
       "      <td>None</td>\n",
       "      <td>None</td>\n",
       "      <td>0.998897</td>\n",
       "      <td>0.000818</td>\n",
       "      <td>None</td>\n",
       "    </tr>\n",
       "    <tr>\n",
       "      <th>ALS_rank-10_regularization-0.01_alpha-50_num_epochs-40</th>\n",
       "      <td>0.000798</td>\n",
       "      <td>0.001329</td>\n",
       "      <td>None</td>\n",
       "      <td>None</td>\n",
       "      <td>0.998671</td>\n",
       "      <td>0.001116</td>\n",
       "      <td>None</td>\n",
       "    </tr>\n",
       "    <tr>\n",
       "      <th>ALS_rank-10_regularization-0.01_alpha-100_num_epochs-15</th>\n",
       "      <td>0.000598</td>\n",
       "      <td>0.000997</td>\n",
       "      <td>None</td>\n",
       "      <td>None</td>\n",
       "      <td>0.999003</td>\n",
       "      <td>0.000749</td>\n",
       "      <td>None</td>\n",
       "    </tr>\n",
       "    <tr>\n",
       "      <th>ALS_rank-10_regularization-0.01_alpha-100_num_epochs-30</th>\n",
       "      <td>0.000557</td>\n",
       "      <td>0.000929</td>\n",
       "      <td>None</td>\n",
       "      <td>None</td>\n",
       "      <td>0.999071</td>\n",
       "      <td>0.000729</td>\n",
       "      <td>None</td>\n",
       "    </tr>\n",
       "    <tr>\n",
       "      <th>ALS_rank-10_regularization-0.01_alpha-100_num_epochs-40</th>\n",
       "      <td>0.000530</td>\n",
       "      <td>0.000884</td>\n",
       "      <td>None</td>\n",
       "      <td>None</td>\n",
       "      <td>0.999116</td>\n",
       "      <td>0.000683</td>\n",
       "      <td>None</td>\n",
       "    </tr>\n",
       "    <tr>\n",
       "      <th>ALS_rank-10_regularization-0.1_alpha-1_num_epochs-15</th>\n",
       "      <td>0.000829</td>\n",
       "      <td>0.001382</td>\n",
       "      <td>None</td>\n",
       "      <td>None</td>\n",
       "      <td>0.998618</td>\n",
       "      <td>0.001259</td>\n",
       "      <td>None</td>\n",
       "    </tr>\n",
       "    <tr>\n",
       "      <th>ALS_rank-10_regularization-0.1_alpha-1_num_epochs-30</th>\n",
       "      <td>0.000947</td>\n",
       "      <td>0.001578</td>\n",
       "      <td>None</td>\n",
       "      <td>None</td>\n",
       "      <td>0.998422</td>\n",
       "      <td>0.001371</td>\n",
       "      <td>None</td>\n",
       "    </tr>\n",
       "    <tr>\n",
       "      <th>ALS_rank-10_regularization-0.1_alpha-1_num_epochs-40</th>\n",
       "      <td>0.000938</td>\n",
       "      <td>0.001563</td>\n",
       "      <td>None</td>\n",
       "      <td>None</td>\n",
       "      <td>0.998437</td>\n",
       "      <td>0.001400</td>\n",
       "      <td>None</td>\n",
       "    </tr>\n",
       "    <tr>\n",
       "      <th>ALS_rank-10_regularization-0.1_alpha-50_num_epochs-15</th>\n",
       "      <td>0.000684</td>\n",
       "      <td>0.001140</td>\n",
       "      <td>None</td>\n",
       "      <td>None</td>\n",
       "      <td>0.998860</td>\n",
       "      <td>0.000882</td>\n",
       "      <td>None</td>\n",
       "    </tr>\n",
       "    <tr>\n",
       "      <th>ALS_rank-10_regularization-0.1_alpha-50_num_epochs-30</th>\n",
       "      <td>0.000766</td>\n",
       "      <td>0.001276</td>\n",
       "      <td>None</td>\n",
       "      <td>None</td>\n",
       "      <td>0.998724</td>\n",
       "      <td>0.000967</td>\n",
       "      <td>None</td>\n",
       "    </tr>\n",
       "    <tr>\n",
       "      <th>ALS_rank-10_regularization-0.1_alpha-50_num_epochs-40</th>\n",
       "      <td>0.000798</td>\n",
       "      <td>0.001329</td>\n",
       "      <td>None</td>\n",
       "      <td>None</td>\n",
       "      <td>0.998671</td>\n",
       "      <td>0.001016</td>\n",
       "      <td>None</td>\n",
       "    </tr>\n",
       "    <tr>\n",
       "      <th>ALS_rank-10_regularization-0.1_alpha-100_num_epochs-15</th>\n",
       "      <td>0.000485</td>\n",
       "      <td>0.000808</td>\n",
       "      <td>None</td>\n",
       "      <td>None</td>\n",
       "      <td>0.999192</td>\n",
       "      <td>0.000681</td>\n",
       "      <td>None</td>\n",
       "    </tr>\n",
       "    <tr>\n",
       "      <th>ALS_rank-10_regularization-0.1_alpha-100_num_epochs-30</th>\n",
       "      <td>0.000494</td>\n",
       "      <td>0.000823</td>\n",
       "      <td>None</td>\n",
       "      <td>None</td>\n",
       "      <td>0.999177</td>\n",
       "      <td>0.000631</td>\n",
       "      <td>None</td>\n",
       "    </tr>\n",
       "    <tr>\n",
       "      <th>ALS_rank-10_regularization-0.1_alpha-100_num_epochs-40</th>\n",
       "      <td>0.000548</td>\n",
       "      <td>0.000914</td>\n",
       "      <td>None</td>\n",
       "      <td>None</td>\n",
       "      <td>0.999086</td>\n",
       "      <td>0.000696</td>\n",
       "      <td>None</td>\n",
       "    </tr>\n",
       "    <tr>\n",
       "      <th>ALS_rank-10_regularization-1_alpha-1_num_epochs-15</th>\n",
       "      <td>0.000902</td>\n",
       "      <td>0.001503</td>\n",
       "      <td>None</td>\n",
       "      <td>None</td>\n",
       "      <td>0.998497</td>\n",
       "      <td>0.001387</td>\n",
       "      <td>None</td>\n",
       "    </tr>\n",
       "    <tr>\n",
       "      <th>ALS_rank-10_regularization-1_alpha-1_num_epochs-30</th>\n",
       "      <td>0.000843</td>\n",
       "      <td>0.001405</td>\n",
       "      <td>None</td>\n",
       "      <td>None</td>\n",
       "      <td>0.998595</td>\n",
       "      <td>0.001278</td>\n",
       "      <td>None</td>\n",
       "    </tr>\n",
       "    <tr>\n",
       "      <th>ALS_rank-10_regularization-1_alpha-1_num_epochs-40</th>\n",
       "      <td>0.000865</td>\n",
       "      <td>0.001442</td>\n",
       "      <td>None</td>\n",
       "      <td>None</td>\n",
       "      <td>0.998558</td>\n",
       "      <td>0.001348</td>\n",
       "      <td>None</td>\n",
       "    </tr>\n",
       "    <tr>\n",
       "      <th>ALS_rank-10_regularization-1_alpha-50_num_epochs-15</th>\n",
       "      <td>0.000603</td>\n",
       "      <td>0.001004</td>\n",
       "      <td>None</td>\n",
       "      <td>None</td>\n",
       "      <td>0.998996</td>\n",
       "      <td>0.000807</td>\n",
       "      <td>None</td>\n",
       "    </tr>\n",
       "    <tr>\n",
       "      <th>ALS_rank-10_regularization-1_alpha-50_num_epochs-30</th>\n",
       "      <td>0.000852</td>\n",
       "      <td>0.001420</td>\n",
       "      <td>None</td>\n",
       "      <td>None</td>\n",
       "      <td>0.998580</td>\n",
       "      <td>0.001148</td>\n",
       "      <td>None</td>\n",
       "    </tr>\n",
       "    <tr>\n",
       "      <th>ALS_rank-10_regularization-1_alpha-50_num_epochs-40</th>\n",
       "      <td>0.000657</td>\n",
       "      <td>0.001095</td>\n",
       "      <td>None</td>\n",
       "      <td>None</td>\n",
       "      <td>0.998905</td>\n",
       "      <td>0.000874</td>\n",
       "      <td>None</td>\n",
       "    </tr>\n",
       "    <tr>\n",
       "      <th>ALS_rank-10_regularization-1_alpha-100_num_epochs-15</th>\n",
       "      <td>0.000535</td>\n",
       "      <td>0.000891</td>\n",
       "      <td>None</td>\n",
       "      <td>None</td>\n",
       "      <td>0.999109</td>\n",
       "      <td>0.000730</td>\n",
       "      <td>None</td>\n",
       "    </tr>\n",
       "    <tr>\n",
       "      <th>ALS_rank-10_regularization-1_alpha-100_num_epochs-30</th>\n",
       "      <td>0.000544</td>\n",
       "      <td>0.000906</td>\n",
       "      <td>None</td>\n",
       "      <td>None</td>\n",
       "      <td>0.999094</td>\n",
       "      <td>0.000771</td>\n",
       "      <td>None</td>\n",
       "    </tr>\n",
       "    <tr>\n",
       "      <th>ALS_rank-10_regularization-1_alpha-100_num_epochs-40</th>\n",
       "      <td>0.000603</td>\n",
       "      <td>0.001004</td>\n",
       "      <td>None</td>\n",
       "      <td>None</td>\n",
       "      <td>0.998996</td>\n",
       "      <td>0.000762</td>\n",
       "      <td>None</td>\n",
       "    </tr>\n",
       "    <tr>\n",
       "      <th>...</th>\n",
       "      <th>...</th>\n",
       "      <th>...</th>\n",
       "      <td>...</td>\n",
       "      <td>...</td>\n",
       "      <td>...</td>\n",
       "      <td>...</td>\n",
       "      <td>...</td>\n",
       "      <td>...</td>\n",
       "      <td>...</td>\n",
       "    </tr>\n",
       "    <tr>\n",
       "      <th rowspan=\"30\" valign=\"top\">3</th>\n",
       "      <th rowspan=\"30\" valign=\"top\">20</th>\n",
       "      <th>ALS_rank-50_regularization-1_alpha-100_num_epochs-15</th>\n",
       "      <td>0.000998</td>\n",
       "      <td>0.006651</td>\n",
       "      <td>None</td>\n",
       "      <td>None</td>\n",
       "      <td>0.993349</td>\n",
       "      <td>0.003851</td>\n",
       "      <td>None</td>\n",
       "    </tr>\n",
       "    <tr>\n",
       "      <th>ALS_rank-50_regularization-1_alpha-100_num_epochs-30</th>\n",
       "      <td>0.001263</td>\n",
       "      <td>0.008418</td>\n",
       "      <td>None</td>\n",
       "      <td>None</td>\n",
       "      <td>0.991582</td>\n",
       "      <td>0.004840</td>\n",
       "      <td>None</td>\n",
       "    </tr>\n",
       "    <tr>\n",
       "      <th>ALS_rank-50_regularization-1_alpha-100_num_epochs-40</th>\n",
       "      <td>0.001384</td>\n",
       "      <td>0.009225</td>\n",
       "      <td>None</td>\n",
       "      <td>None</td>\n",
       "      <td>0.990775</td>\n",
       "      <td>0.005384</td>\n",
       "      <td>None</td>\n",
       "    </tr>\n",
       "    <tr>\n",
       "      <th>ALS_rank-100_regularization-0.01_alpha-1_num_epochs-15</th>\n",
       "      <td>0.001827</td>\n",
       "      <td>0.012177</td>\n",
       "      <td>None</td>\n",
       "      <td>None</td>\n",
       "      <td>0.987823</td>\n",
       "      <td>0.007050</td>\n",
       "      <td>None</td>\n",
       "    </tr>\n",
       "    <tr>\n",
       "      <th>ALS_rank-100_regularization-0.01_alpha-1_num_epochs-30</th>\n",
       "      <td>0.001878</td>\n",
       "      <td>0.012517</td>\n",
       "      <td>None</td>\n",
       "      <td>None</td>\n",
       "      <td>0.987483</td>\n",
       "      <td>0.007157</td>\n",
       "      <td>None</td>\n",
       "    </tr>\n",
       "    <tr>\n",
       "      <th>ALS_rank-100_regularization-0.01_alpha-1_num_epochs-40</th>\n",
       "      <td>0.001916</td>\n",
       "      <td>0.012774</td>\n",
       "      <td>None</td>\n",
       "      <td>None</td>\n",
       "      <td>0.987226</td>\n",
       "      <td>0.007337</td>\n",
       "      <td>None</td>\n",
       "    </tr>\n",
       "    <tr>\n",
       "      <th>ALS_rank-100_regularization-0.01_alpha-50_num_epochs-15</th>\n",
       "      <td>0.001944</td>\n",
       "      <td>0.012963</td>\n",
       "      <td>None</td>\n",
       "      <td>None</td>\n",
       "      <td>0.987037</td>\n",
       "      <td>0.008005</td>\n",
       "      <td>None</td>\n",
       "    </tr>\n",
       "    <tr>\n",
       "      <th>ALS_rank-100_regularization-0.01_alpha-50_num_epochs-30</th>\n",
       "      <td>0.002188</td>\n",
       "      <td>0.014586</td>\n",
       "      <td>None</td>\n",
       "      <td>None</td>\n",
       "      <td>0.985414</td>\n",
       "      <td>0.008774</td>\n",
       "      <td>None</td>\n",
       "    </tr>\n",
       "    <tr>\n",
       "      <th>ALS_rank-100_regularization-0.01_alpha-50_num_epochs-40</th>\n",
       "      <td>0.002261</td>\n",
       "      <td>0.015076</td>\n",
       "      <td>None</td>\n",
       "      <td>None</td>\n",
       "      <td>0.984924</td>\n",
       "      <td>0.009153</td>\n",
       "      <td>None</td>\n",
       "    </tr>\n",
       "    <tr>\n",
       "      <th>ALS_rank-100_regularization-0.01_alpha-100_num_epochs-15</th>\n",
       "      <td>0.001661</td>\n",
       "      <td>0.011075</td>\n",
       "      <td>None</td>\n",
       "      <td>None</td>\n",
       "      <td>0.988925</td>\n",
       "      <td>0.006834</td>\n",
       "      <td>None</td>\n",
       "    </tr>\n",
       "    <tr>\n",
       "      <th>ALS_rank-100_regularization-0.01_alpha-100_num_epochs-30</th>\n",
       "      <td>0.002027</td>\n",
       "      <td>0.013514</td>\n",
       "      <td>None</td>\n",
       "      <td>None</td>\n",
       "      <td>0.986486</td>\n",
       "      <td>0.008027</td>\n",
       "      <td>None</td>\n",
       "    </tr>\n",
       "    <tr>\n",
       "      <th>ALS_rank-100_regularization-0.01_alpha-100_num_epochs-40</th>\n",
       "      <td>0.002115</td>\n",
       "      <td>0.014102</td>\n",
       "      <td>None</td>\n",
       "      <td>None</td>\n",
       "      <td>0.985898</td>\n",
       "      <td>0.008576</td>\n",
       "      <td>None</td>\n",
       "    </tr>\n",
       "    <tr>\n",
       "      <th>ALS_rank-100_regularization-0.1_alpha-1_num_epochs-15</th>\n",
       "      <td>0.001837</td>\n",
       "      <td>0.012245</td>\n",
       "      <td>None</td>\n",
       "      <td>None</td>\n",
       "      <td>0.987755</td>\n",
       "      <td>0.007110</td>\n",
       "      <td>None</td>\n",
       "    </tr>\n",
       "    <tr>\n",
       "      <th>ALS_rank-100_regularization-0.1_alpha-1_num_epochs-30</th>\n",
       "      <td>0.001861</td>\n",
       "      <td>0.012404</td>\n",
       "      <td>None</td>\n",
       "      <td>None</td>\n",
       "      <td>0.987596</td>\n",
       "      <td>0.007302</td>\n",
       "      <td>None</td>\n",
       "    </tr>\n",
       "    <tr>\n",
       "      <th>ALS_rank-100_regularization-0.1_alpha-1_num_epochs-40</th>\n",
       "      <td>0.001938</td>\n",
       "      <td>0.012917</td>\n",
       "      <td>None</td>\n",
       "      <td>None</td>\n",
       "      <td>0.987083</td>\n",
       "      <td>0.007331</td>\n",
       "      <td>None</td>\n",
       "    </tr>\n",
       "    <tr>\n",
       "      <th>ALS_rank-100_regularization-0.1_alpha-50_num_epochs-15</th>\n",
       "      <td>0.001956</td>\n",
       "      <td>0.013038</td>\n",
       "      <td>None</td>\n",
       "      <td>None</td>\n",
       "      <td>0.986962</td>\n",
       "      <td>0.007874</td>\n",
       "      <td>None</td>\n",
       "    </tr>\n",
       "    <tr>\n",
       "      <th>ALS_rank-100_regularization-0.1_alpha-50_num_epochs-30</th>\n",
       "      <td>0.002186</td>\n",
       "      <td>0.014571</td>\n",
       "      <td>None</td>\n",
       "      <td>None</td>\n",
       "      <td>0.985429</td>\n",
       "      <td>0.008772</td>\n",
       "      <td>None</td>\n",
       "    </tr>\n",
       "    <tr>\n",
       "      <th>ALS_rank-100_regularization-0.1_alpha-50_num_epochs-40</th>\n",
       "      <td>0.002281</td>\n",
       "      <td>0.015205</td>\n",
       "      <td>None</td>\n",
       "      <td>None</td>\n",
       "      <td>0.984795</td>\n",
       "      <td>0.009162</td>\n",
       "      <td>None</td>\n",
       "    </tr>\n",
       "    <tr>\n",
       "      <th>ALS_rank-100_regularization-0.1_alpha-100_num_epochs-15</th>\n",
       "      <td>0.001576</td>\n",
       "      <td>0.010509</td>\n",
       "      <td>None</td>\n",
       "      <td>None</td>\n",
       "      <td>0.989491</td>\n",
       "      <td>0.006561</td>\n",
       "      <td>None</td>\n",
       "    </tr>\n",
       "    <tr>\n",
       "      <th>ALS_rank-100_regularization-0.1_alpha-100_num_epochs-30</th>\n",
       "      <td>0.001968</td>\n",
       "      <td>0.013121</td>\n",
       "      <td>None</td>\n",
       "      <td>None</td>\n",
       "      <td>0.986879</td>\n",
       "      <td>0.007914</td>\n",
       "      <td>None</td>\n",
       "    </tr>\n",
       "    <tr>\n",
       "      <th>ALS_rank-100_regularization-0.1_alpha-100_num_epochs-40</th>\n",
       "      <td>0.002006</td>\n",
       "      <td>0.013370</td>\n",
       "      <td>None</td>\n",
       "      <td>None</td>\n",
       "      <td>0.986630</td>\n",
       "      <td>0.008123</td>\n",
       "      <td>None</td>\n",
       "    </tr>\n",
       "    <tr>\n",
       "      <th>ALS_rank-100_regularization-1_alpha-1_num_epochs-15</th>\n",
       "      <td>0.001823</td>\n",
       "      <td>0.012155</td>\n",
       "      <td>None</td>\n",
       "      <td>None</td>\n",
       "      <td>0.987845</td>\n",
       "      <td>0.007107</td>\n",
       "      <td>None</td>\n",
       "    </tr>\n",
       "    <tr>\n",
       "      <th>ALS_rank-100_regularization-1_alpha-1_num_epochs-30</th>\n",
       "      <td>0.001878</td>\n",
       "      <td>0.012517</td>\n",
       "      <td>None</td>\n",
       "      <td>None</td>\n",
       "      <td>0.987483</td>\n",
       "      <td>0.007249</td>\n",
       "      <td>None</td>\n",
       "    </tr>\n",
       "    <tr>\n",
       "      <th>ALS_rank-100_regularization-1_alpha-1_num_epochs-40</th>\n",
       "      <td>0.001865</td>\n",
       "      <td>0.012434</td>\n",
       "      <td>None</td>\n",
       "      <td>None</td>\n",
       "      <td>0.987566</td>\n",
       "      <td>0.007271</td>\n",
       "      <td>None</td>\n",
       "    </tr>\n",
       "    <tr>\n",
       "      <th>ALS_rank-100_regularization-1_alpha-50_num_epochs-15</th>\n",
       "      <td>0.001832</td>\n",
       "      <td>0.012215</td>\n",
       "      <td>None</td>\n",
       "      <td>None</td>\n",
       "      <td>0.987785</td>\n",
       "      <td>0.007416</td>\n",
       "      <td>None</td>\n",
       "    </tr>\n",
       "    <tr>\n",
       "      <th>ALS_rank-100_regularization-1_alpha-50_num_epochs-30</th>\n",
       "      <td>0.002115</td>\n",
       "      <td>0.014102</td>\n",
       "      <td>None</td>\n",
       "      <td>None</td>\n",
       "      <td>0.985898</td>\n",
       "      <td>0.008508</td>\n",
       "      <td>None</td>\n",
       "    </tr>\n",
       "    <tr>\n",
       "      <th>ALS_rank-100_regularization-1_alpha-50_num_epochs-40</th>\n",
       "      <td>0.002194</td>\n",
       "      <td>0.014623</td>\n",
       "      <td>None</td>\n",
       "      <td>None</td>\n",
       "      <td>0.985377</td>\n",
       "      <td>0.008737</td>\n",
       "      <td>None</td>\n",
       "    </tr>\n",
       "    <tr>\n",
       "      <th>ALS_rank-100_regularization-1_alpha-100_num_epochs-15</th>\n",
       "      <td>0.001469</td>\n",
       "      <td>0.009792</td>\n",
       "      <td>None</td>\n",
       "      <td>None</td>\n",
       "      <td>0.990208</td>\n",
       "      <td>0.006125</td>\n",
       "      <td>None</td>\n",
       "    </tr>\n",
       "    <tr>\n",
       "      <th>ALS_rank-100_regularization-1_alpha-100_num_epochs-30</th>\n",
       "      <td>0.001859</td>\n",
       "      <td>0.012396</td>\n",
       "      <td>None</td>\n",
       "      <td>None</td>\n",
       "      <td>0.987604</td>\n",
       "      <td>0.007621</td>\n",
       "      <td>None</td>\n",
       "    </tr>\n",
       "    <tr>\n",
       "      <th>ALS_rank-100_regularization-1_alpha-100_num_epochs-40</th>\n",
       "      <td>0.001996</td>\n",
       "      <td>0.013310</td>\n",
       "      <td>None</td>\n",
       "      <td>None</td>\n",
       "      <td>0.986690</td>\n",
       "      <td>0.007999</td>\n",
       "      <td>None</td>\n",
       "    </tr>\n",
       "  </tbody>\n",
       "</table>\n",
       "<p>756 rows × 7 columns</p>\n",
       "</div>"
      ],
      "text/plain": [
       "type                                                          relevance  \\\n",
       "metric                                                        precision   \n",
       "fold top-n model                                                          \n",
       "1    5     RND                                                 0.000005   \n",
       "           MP                                                  0.001115   \n",
       "           PureSVD                                             0.001355   \n",
       "           ALS_rank-10_regularization-0.01_alpha-1_num_epo...  0.000834   \n",
       "           ALS_rank-10_regularization-0.01_alpha-1_num_epo...  0.000875   \n",
       "           ALS_rank-10_regularization-0.01_alpha-1_num_epo...  0.000893   \n",
       "           ALS_rank-10_regularization-0.01_alpha-50_num_ep...  0.000634   \n",
       "           ALS_rank-10_regularization-0.01_alpha-50_num_ep...  0.000662   \n",
       "           ALS_rank-10_regularization-0.01_alpha-50_num_ep...  0.000798   \n",
       "           ALS_rank-10_regularization-0.01_alpha-100_num_e...  0.000598   \n",
       "           ALS_rank-10_regularization-0.01_alpha-100_num_e...  0.000557   \n",
       "           ALS_rank-10_regularization-0.01_alpha-100_num_e...  0.000530   \n",
       "           ALS_rank-10_regularization-0.1_alpha-1_num_epoc...  0.000829   \n",
       "           ALS_rank-10_regularization-0.1_alpha-1_num_epoc...  0.000947   \n",
       "           ALS_rank-10_regularization-0.1_alpha-1_num_epoc...  0.000938   \n",
       "           ALS_rank-10_regularization-0.1_alpha-50_num_epo...  0.000684   \n",
       "           ALS_rank-10_regularization-0.1_alpha-50_num_epo...  0.000766   \n",
       "           ALS_rank-10_regularization-0.1_alpha-50_num_epo...  0.000798   \n",
       "           ALS_rank-10_regularization-0.1_alpha-100_num_ep...  0.000485   \n",
       "           ALS_rank-10_regularization-0.1_alpha-100_num_ep...  0.000494   \n",
       "           ALS_rank-10_regularization-0.1_alpha-100_num_ep...  0.000548   \n",
       "           ALS_rank-10_regularization-1_alpha-1_num_epochs-15  0.000902   \n",
       "           ALS_rank-10_regularization-1_alpha-1_num_epochs-30  0.000843   \n",
       "           ALS_rank-10_regularization-1_alpha-1_num_epochs-40  0.000865   \n",
       "           ALS_rank-10_regularization-1_alpha-50_num_epoch...  0.000603   \n",
       "           ALS_rank-10_regularization-1_alpha-50_num_epoch...  0.000852   \n",
       "           ALS_rank-10_regularization-1_alpha-50_num_epoch...  0.000657   \n",
       "           ALS_rank-10_regularization-1_alpha-100_num_epoc...  0.000535   \n",
       "           ALS_rank-10_regularization-1_alpha-100_num_epoc...  0.000544   \n",
       "           ALS_rank-10_regularization-1_alpha-100_num_epoc...  0.000603   \n",
       "...                                                                 ...   \n",
       "3    20    ALS_rank-50_regularization-1_alpha-100_num_epoc...  0.000998   \n",
       "           ALS_rank-50_regularization-1_alpha-100_num_epoc...  0.001263   \n",
       "           ALS_rank-50_regularization-1_alpha-100_num_epoc...  0.001384   \n",
       "           ALS_rank-100_regularization-0.01_alpha-1_num_ep...  0.001827   \n",
       "           ALS_rank-100_regularization-0.01_alpha-1_num_ep...  0.001878   \n",
       "           ALS_rank-100_regularization-0.01_alpha-1_num_ep...  0.001916   \n",
       "           ALS_rank-100_regularization-0.01_alpha-50_num_e...  0.001944   \n",
       "           ALS_rank-100_regularization-0.01_alpha-50_num_e...  0.002188   \n",
       "           ALS_rank-100_regularization-0.01_alpha-50_num_e...  0.002261   \n",
       "           ALS_rank-100_regularization-0.01_alpha-100_num_...  0.001661   \n",
       "           ALS_rank-100_regularization-0.01_alpha-100_num_...  0.002027   \n",
       "           ALS_rank-100_regularization-0.01_alpha-100_num_...  0.002115   \n",
       "           ALS_rank-100_regularization-0.1_alpha-1_num_epo...  0.001837   \n",
       "           ALS_rank-100_regularization-0.1_alpha-1_num_epo...  0.001861   \n",
       "           ALS_rank-100_regularization-0.1_alpha-1_num_epo...  0.001938   \n",
       "           ALS_rank-100_regularization-0.1_alpha-50_num_ep...  0.001956   \n",
       "           ALS_rank-100_regularization-0.1_alpha-50_num_ep...  0.002186   \n",
       "           ALS_rank-100_regularization-0.1_alpha-50_num_ep...  0.002281   \n",
       "           ALS_rank-100_regularization-0.1_alpha-100_num_e...  0.001576   \n",
       "           ALS_rank-100_regularization-0.1_alpha-100_num_e...  0.001968   \n",
       "           ALS_rank-100_regularization-0.1_alpha-100_num_e...  0.002006   \n",
       "           ALS_rank-100_regularization-1_alpha-1_num_epoch...  0.001823   \n",
       "           ALS_rank-100_regularization-1_alpha-1_num_epoch...  0.001878   \n",
       "           ALS_rank-100_regularization-1_alpha-1_num_epoch...  0.001865   \n",
       "           ALS_rank-100_regularization-1_alpha-50_num_epoc...  0.001832   \n",
       "           ALS_rank-100_regularization-1_alpha-50_num_epoc...  0.002115   \n",
       "           ALS_rank-100_regularization-1_alpha-50_num_epoc...  0.002194   \n",
       "           ALS_rank-100_regularization-1_alpha-100_num_epo...  0.001469   \n",
       "           ALS_rank-100_regularization-1_alpha-100_num_epo...  0.001859   \n",
       "           ALS_rank-100_regularization-1_alpha-100_num_epo...  0.001996   \n",
       "\n",
       "type                                                                     \\\n",
       "metric                                                           recall   \n",
       "fold top-n model                                                          \n",
       "1    5     RND                                                 0.000008   \n",
       "           MP                                                  0.001858   \n",
       "           PureSVD                                             0.002258   \n",
       "           ALS_rank-10_regularization-0.01_alpha-1_num_epo...  0.001390   \n",
       "           ALS_rank-10_regularization-0.01_alpha-1_num_epo...  0.001458   \n",
       "           ALS_rank-10_regularization-0.01_alpha-1_num_epo...  0.001488   \n",
       "           ALS_rank-10_regularization-0.01_alpha-50_num_ep...  0.001057   \n",
       "           ALS_rank-10_regularization-0.01_alpha-50_num_ep...  0.001103   \n",
       "           ALS_rank-10_regularization-0.01_alpha-50_num_ep...  0.001329   \n",
       "           ALS_rank-10_regularization-0.01_alpha-100_num_e...  0.000997   \n",
       "           ALS_rank-10_regularization-0.01_alpha-100_num_e...  0.000929   \n",
       "           ALS_rank-10_regularization-0.01_alpha-100_num_e...  0.000884   \n",
       "           ALS_rank-10_regularization-0.1_alpha-1_num_epoc...  0.001382   \n",
       "           ALS_rank-10_regularization-0.1_alpha-1_num_epoc...  0.001578   \n",
       "           ALS_rank-10_regularization-0.1_alpha-1_num_epoc...  0.001563   \n",
       "           ALS_rank-10_regularization-0.1_alpha-50_num_epo...  0.001140   \n",
       "           ALS_rank-10_regularization-0.1_alpha-50_num_epo...  0.001276   \n",
       "           ALS_rank-10_regularization-0.1_alpha-50_num_epo...  0.001329   \n",
       "           ALS_rank-10_regularization-0.1_alpha-100_num_ep...  0.000808   \n",
       "           ALS_rank-10_regularization-0.1_alpha-100_num_ep...  0.000823   \n",
       "           ALS_rank-10_regularization-0.1_alpha-100_num_ep...  0.000914   \n",
       "           ALS_rank-10_regularization-1_alpha-1_num_epochs-15  0.001503   \n",
       "           ALS_rank-10_regularization-1_alpha-1_num_epochs-30  0.001405   \n",
       "           ALS_rank-10_regularization-1_alpha-1_num_epochs-40  0.001442   \n",
       "           ALS_rank-10_regularization-1_alpha-50_num_epoch...  0.001004   \n",
       "           ALS_rank-10_regularization-1_alpha-50_num_epoch...  0.001420   \n",
       "           ALS_rank-10_regularization-1_alpha-50_num_epoch...  0.001095   \n",
       "           ALS_rank-10_regularization-1_alpha-100_num_epoc...  0.000891   \n",
       "           ALS_rank-10_regularization-1_alpha-100_num_epoc...  0.000906   \n",
       "           ALS_rank-10_regularization-1_alpha-100_num_epoc...  0.001004   \n",
       "...                                                                 ...   \n",
       "3    20    ALS_rank-50_regularization-1_alpha-100_num_epoc...  0.006651   \n",
       "           ALS_rank-50_regularization-1_alpha-100_num_epoc...  0.008418   \n",
       "           ALS_rank-50_regularization-1_alpha-100_num_epoc...  0.009225   \n",
       "           ALS_rank-100_regularization-0.01_alpha-1_num_ep...  0.012177   \n",
       "           ALS_rank-100_regularization-0.01_alpha-1_num_ep...  0.012517   \n",
       "           ALS_rank-100_regularization-0.01_alpha-1_num_ep...  0.012774   \n",
       "           ALS_rank-100_regularization-0.01_alpha-50_num_e...  0.012963   \n",
       "           ALS_rank-100_regularization-0.01_alpha-50_num_e...  0.014586   \n",
       "           ALS_rank-100_regularization-0.01_alpha-50_num_e...  0.015076   \n",
       "           ALS_rank-100_regularization-0.01_alpha-100_num_...  0.011075   \n",
       "           ALS_rank-100_regularization-0.01_alpha-100_num_...  0.013514   \n",
       "           ALS_rank-100_regularization-0.01_alpha-100_num_...  0.014102   \n",
       "           ALS_rank-100_regularization-0.1_alpha-1_num_epo...  0.012245   \n",
       "           ALS_rank-100_regularization-0.1_alpha-1_num_epo...  0.012404   \n",
       "           ALS_rank-100_regularization-0.1_alpha-1_num_epo...  0.012917   \n",
       "           ALS_rank-100_regularization-0.1_alpha-50_num_ep...  0.013038   \n",
       "           ALS_rank-100_regularization-0.1_alpha-50_num_ep...  0.014571   \n",
       "           ALS_rank-100_regularization-0.1_alpha-50_num_ep...  0.015205   \n",
       "           ALS_rank-100_regularization-0.1_alpha-100_num_e...  0.010509   \n",
       "           ALS_rank-100_regularization-0.1_alpha-100_num_e...  0.013121   \n",
       "           ALS_rank-100_regularization-0.1_alpha-100_num_e...  0.013370   \n",
       "           ALS_rank-100_regularization-1_alpha-1_num_epoch...  0.012155   \n",
       "           ALS_rank-100_regularization-1_alpha-1_num_epoch...  0.012517   \n",
       "           ALS_rank-100_regularization-1_alpha-1_num_epoch...  0.012434   \n",
       "           ALS_rank-100_regularization-1_alpha-50_num_epoc...  0.012215   \n",
       "           ALS_rank-100_regularization-1_alpha-50_num_epoc...  0.014102   \n",
       "           ALS_rank-100_regularization-1_alpha-50_num_epoc...  0.014623   \n",
       "           ALS_rank-100_regularization-1_alpha-100_num_epo...  0.009792   \n",
       "           ALS_rank-100_regularization-1_alpha-100_num_epo...  0.012396   \n",
       "           ALS_rank-100_regularization-1_alpha-100_num_epo...  0.013310   \n",
       "\n",
       "type                                                                   \\\n",
       "metric                                                        fallout   \n",
       "fold top-n model                                                        \n",
       "1    5     RND                                                   None   \n",
       "           MP                                                    None   \n",
       "           PureSVD                                               None   \n",
       "           ALS_rank-10_regularization-0.01_alpha-1_num_epo...    None   \n",
       "           ALS_rank-10_regularization-0.01_alpha-1_num_epo...    None   \n",
       "           ALS_rank-10_regularization-0.01_alpha-1_num_epo...    None   \n",
       "           ALS_rank-10_regularization-0.01_alpha-50_num_ep...    None   \n",
       "           ALS_rank-10_regularization-0.01_alpha-50_num_ep...    None   \n",
       "           ALS_rank-10_regularization-0.01_alpha-50_num_ep...    None   \n",
       "           ALS_rank-10_regularization-0.01_alpha-100_num_e...    None   \n",
       "           ALS_rank-10_regularization-0.01_alpha-100_num_e...    None   \n",
       "           ALS_rank-10_regularization-0.01_alpha-100_num_e...    None   \n",
       "           ALS_rank-10_regularization-0.1_alpha-1_num_epoc...    None   \n",
       "           ALS_rank-10_regularization-0.1_alpha-1_num_epoc...    None   \n",
       "           ALS_rank-10_regularization-0.1_alpha-1_num_epoc...    None   \n",
       "           ALS_rank-10_regularization-0.1_alpha-50_num_epo...    None   \n",
       "           ALS_rank-10_regularization-0.1_alpha-50_num_epo...    None   \n",
       "           ALS_rank-10_regularization-0.1_alpha-50_num_epo...    None   \n",
       "           ALS_rank-10_regularization-0.1_alpha-100_num_ep...    None   \n",
       "           ALS_rank-10_regularization-0.1_alpha-100_num_ep...    None   \n",
       "           ALS_rank-10_regularization-0.1_alpha-100_num_ep...    None   \n",
       "           ALS_rank-10_regularization-1_alpha-1_num_epochs-15    None   \n",
       "           ALS_rank-10_regularization-1_alpha-1_num_epochs-30    None   \n",
       "           ALS_rank-10_regularization-1_alpha-1_num_epochs-40    None   \n",
       "           ALS_rank-10_regularization-1_alpha-50_num_epoch...    None   \n",
       "           ALS_rank-10_regularization-1_alpha-50_num_epoch...    None   \n",
       "           ALS_rank-10_regularization-1_alpha-50_num_epoch...    None   \n",
       "           ALS_rank-10_regularization-1_alpha-100_num_epoc...    None   \n",
       "           ALS_rank-10_regularization-1_alpha-100_num_epoc...    None   \n",
       "           ALS_rank-10_regularization-1_alpha-100_num_epoc...    None   \n",
       "...                                                               ...   \n",
       "3    20    ALS_rank-50_regularization-1_alpha-100_num_epoc...    None   \n",
       "           ALS_rank-50_regularization-1_alpha-100_num_epoc...    None   \n",
       "           ALS_rank-50_regularization-1_alpha-100_num_epoc...    None   \n",
       "           ALS_rank-100_regularization-0.01_alpha-1_num_ep...    None   \n",
       "           ALS_rank-100_regularization-0.01_alpha-1_num_ep...    None   \n",
       "           ALS_rank-100_regularization-0.01_alpha-1_num_ep...    None   \n",
       "           ALS_rank-100_regularization-0.01_alpha-50_num_e...    None   \n",
       "           ALS_rank-100_regularization-0.01_alpha-50_num_e...    None   \n",
       "           ALS_rank-100_regularization-0.01_alpha-50_num_e...    None   \n",
       "           ALS_rank-100_regularization-0.01_alpha-100_num_...    None   \n",
       "           ALS_rank-100_regularization-0.01_alpha-100_num_...    None   \n",
       "           ALS_rank-100_regularization-0.01_alpha-100_num_...    None   \n",
       "           ALS_rank-100_regularization-0.1_alpha-1_num_epo...    None   \n",
       "           ALS_rank-100_regularization-0.1_alpha-1_num_epo...    None   \n",
       "           ALS_rank-100_regularization-0.1_alpha-1_num_epo...    None   \n",
       "           ALS_rank-100_regularization-0.1_alpha-50_num_ep...    None   \n",
       "           ALS_rank-100_regularization-0.1_alpha-50_num_ep...    None   \n",
       "           ALS_rank-100_regularization-0.1_alpha-50_num_ep...    None   \n",
       "           ALS_rank-100_regularization-0.1_alpha-100_num_e...    None   \n",
       "           ALS_rank-100_regularization-0.1_alpha-100_num_e...    None   \n",
       "           ALS_rank-100_regularization-0.1_alpha-100_num_e...    None   \n",
       "           ALS_rank-100_regularization-1_alpha-1_num_epoch...    None   \n",
       "           ALS_rank-100_regularization-1_alpha-1_num_epoch...    None   \n",
       "           ALS_rank-100_regularization-1_alpha-1_num_epoch...    None   \n",
       "           ALS_rank-100_regularization-1_alpha-50_num_epoc...    None   \n",
       "           ALS_rank-100_regularization-1_alpha-50_num_epoc...    None   \n",
       "           ALS_rank-100_regularization-1_alpha-50_num_epoc...    None   \n",
       "           ALS_rank-100_regularization-1_alpha-100_num_epo...    None   \n",
       "           ALS_rank-100_regularization-1_alpha-100_num_epo...    None   \n",
       "           ALS_rank-100_regularization-1_alpha-100_num_epo...    None   \n",
       "\n",
       "type                                                                     \\\n",
       "metric                                                        specifity   \n",
       "fold top-n model                                                          \n",
       "1    5     RND                                                     None   \n",
       "           MP                                                      None   \n",
       "           PureSVD                                                 None   \n",
       "           ALS_rank-10_regularization-0.01_alpha-1_num_epo...      None   \n",
       "           ALS_rank-10_regularization-0.01_alpha-1_num_epo...      None   \n",
       "           ALS_rank-10_regularization-0.01_alpha-1_num_epo...      None   \n",
       "           ALS_rank-10_regularization-0.01_alpha-50_num_ep...      None   \n",
       "           ALS_rank-10_regularization-0.01_alpha-50_num_ep...      None   \n",
       "           ALS_rank-10_regularization-0.01_alpha-50_num_ep...      None   \n",
       "           ALS_rank-10_regularization-0.01_alpha-100_num_e...      None   \n",
       "           ALS_rank-10_regularization-0.01_alpha-100_num_e...      None   \n",
       "           ALS_rank-10_regularization-0.01_alpha-100_num_e...      None   \n",
       "           ALS_rank-10_regularization-0.1_alpha-1_num_epoc...      None   \n",
       "           ALS_rank-10_regularization-0.1_alpha-1_num_epoc...      None   \n",
       "           ALS_rank-10_regularization-0.1_alpha-1_num_epoc...      None   \n",
       "           ALS_rank-10_regularization-0.1_alpha-50_num_epo...      None   \n",
       "           ALS_rank-10_regularization-0.1_alpha-50_num_epo...      None   \n",
       "           ALS_rank-10_regularization-0.1_alpha-50_num_epo...      None   \n",
       "           ALS_rank-10_regularization-0.1_alpha-100_num_ep...      None   \n",
       "           ALS_rank-10_regularization-0.1_alpha-100_num_ep...      None   \n",
       "           ALS_rank-10_regularization-0.1_alpha-100_num_ep...      None   \n",
       "           ALS_rank-10_regularization-1_alpha-1_num_epochs-15      None   \n",
       "           ALS_rank-10_regularization-1_alpha-1_num_epochs-30      None   \n",
       "           ALS_rank-10_regularization-1_alpha-1_num_epochs-40      None   \n",
       "           ALS_rank-10_regularization-1_alpha-50_num_epoch...      None   \n",
       "           ALS_rank-10_regularization-1_alpha-50_num_epoch...      None   \n",
       "           ALS_rank-10_regularization-1_alpha-50_num_epoch...      None   \n",
       "           ALS_rank-10_regularization-1_alpha-100_num_epoc...      None   \n",
       "           ALS_rank-10_regularization-1_alpha-100_num_epoc...      None   \n",
       "           ALS_rank-10_regularization-1_alpha-100_num_epoc...      None   \n",
       "...                                                                 ...   \n",
       "3    20    ALS_rank-50_regularization-1_alpha-100_num_epoc...      None   \n",
       "           ALS_rank-50_regularization-1_alpha-100_num_epoc...      None   \n",
       "           ALS_rank-50_regularization-1_alpha-100_num_epoc...      None   \n",
       "           ALS_rank-100_regularization-0.01_alpha-1_num_ep...      None   \n",
       "           ALS_rank-100_regularization-0.01_alpha-1_num_ep...      None   \n",
       "           ALS_rank-100_regularization-0.01_alpha-1_num_ep...      None   \n",
       "           ALS_rank-100_regularization-0.01_alpha-50_num_e...      None   \n",
       "           ALS_rank-100_regularization-0.01_alpha-50_num_e...      None   \n",
       "           ALS_rank-100_regularization-0.01_alpha-50_num_e...      None   \n",
       "           ALS_rank-100_regularization-0.01_alpha-100_num_...      None   \n",
       "           ALS_rank-100_regularization-0.01_alpha-100_num_...      None   \n",
       "           ALS_rank-100_regularization-0.01_alpha-100_num_...      None   \n",
       "           ALS_rank-100_regularization-0.1_alpha-1_num_epo...      None   \n",
       "           ALS_rank-100_regularization-0.1_alpha-1_num_epo...      None   \n",
       "           ALS_rank-100_regularization-0.1_alpha-1_num_epo...      None   \n",
       "           ALS_rank-100_regularization-0.1_alpha-50_num_ep...      None   \n",
       "           ALS_rank-100_regularization-0.1_alpha-50_num_ep...      None   \n",
       "           ALS_rank-100_regularization-0.1_alpha-50_num_ep...      None   \n",
       "           ALS_rank-100_regularization-0.1_alpha-100_num_e...      None   \n",
       "           ALS_rank-100_regularization-0.1_alpha-100_num_e...      None   \n",
       "           ALS_rank-100_regularization-0.1_alpha-100_num_e...      None   \n",
       "           ALS_rank-100_regularization-1_alpha-1_num_epoch...      None   \n",
       "           ALS_rank-100_regularization-1_alpha-1_num_epoch...      None   \n",
       "           ALS_rank-100_regularization-1_alpha-1_num_epoch...      None   \n",
       "           ALS_rank-100_regularization-1_alpha-50_num_epoc...      None   \n",
       "           ALS_rank-100_regularization-1_alpha-50_num_epoc...      None   \n",
       "           ALS_rank-100_regularization-1_alpha-50_num_epoc...      None   \n",
       "           ALS_rank-100_regularization-1_alpha-100_num_epo...      None   \n",
       "           ALS_rank-100_regularization-1_alpha-100_num_epo...      None   \n",
       "           ALS_rank-100_regularization-1_alpha-100_num_epo...      None   \n",
       "\n",
       "type                                                                     \\\n",
       "metric                                                        miss_rate   \n",
       "fold top-n model                                                          \n",
       "1    5     RND                                                 0.999992   \n",
       "           MP                                                  0.998142   \n",
       "           PureSVD                                             0.997742   \n",
       "           ALS_rank-10_regularization-0.01_alpha-1_num_epo...  0.998610   \n",
       "           ALS_rank-10_regularization-0.01_alpha-1_num_epo...  0.998542   \n",
       "           ALS_rank-10_regularization-0.01_alpha-1_num_epo...  0.998512   \n",
       "           ALS_rank-10_regularization-0.01_alpha-50_num_ep...  0.998943   \n",
       "           ALS_rank-10_regularization-0.01_alpha-50_num_ep...  0.998897   \n",
       "           ALS_rank-10_regularization-0.01_alpha-50_num_ep...  0.998671   \n",
       "           ALS_rank-10_regularization-0.01_alpha-100_num_e...  0.999003   \n",
       "           ALS_rank-10_regularization-0.01_alpha-100_num_e...  0.999071   \n",
       "           ALS_rank-10_regularization-0.01_alpha-100_num_e...  0.999116   \n",
       "           ALS_rank-10_regularization-0.1_alpha-1_num_epoc...  0.998618   \n",
       "           ALS_rank-10_regularization-0.1_alpha-1_num_epoc...  0.998422   \n",
       "           ALS_rank-10_regularization-0.1_alpha-1_num_epoc...  0.998437   \n",
       "           ALS_rank-10_regularization-0.1_alpha-50_num_epo...  0.998860   \n",
       "           ALS_rank-10_regularization-0.1_alpha-50_num_epo...  0.998724   \n",
       "           ALS_rank-10_regularization-0.1_alpha-50_num_epo...  0.998671   \n",
       "           ALS_rank-10_regularization-0.1_alpha-100_num_ep...  0.999192   \n",
       "           ALS_rank-10_regularization-0.1_alpha-100_num_ep...  0.999177   \n",
       "           ALS_rank-10_regularization-0.1_alpha-100_num_ep...  0.999086   \n",
       "           ALS_rank-10_regularization-1_alpha-1_num_epochs-15  0.998497   \n",
       "           ALS_rank-10_regularization-1_alpha-1_num_epochs-30  0.998595   \n",
       "           ALS_rank-10_regularization-1_alpha-1_num_epochs-40  0.998558   \n",
       "           ALS_rank-10_regularization-1_alpha-50_num_epoch...  0.998996   \n",
       "           ALS_rank-10_regularization-1_alpha-50_num_epoch...  0.998580   \n",
       "           ALS_rank-10_regularization-1_alpha-50_num_epoch...  0.998905   \n",
       "           ALS_rank-10_regularization-1_alpha-100_num_epoc...  0.999109   \n",
       "           ALS_rank-10_regularization-1_alpha-100_num_epoc...  0.999094   \n",
       "           ALS_rank-10_regularization-1_alpha-100_num_epoc...  0.998996   \n",
       "...                                                                 ...   \n",
       "3    20    ALS_rank-50_regularization-1_alpha-100_num_epoc...  0.993349   \n",
       "           ALS_rank-50_regularization-1_alpha-100_num_epoc...  0.991582   \n",
       "           ALS_rank-50_regularization-1_alpha-100_num_epoc...  0.990775   \n",
       "           ALS_rank-100_regularization-0.01_alpha-1_num_ep...  0.987823   \n",
       "           ALS_rank-100_regularization-0.01_alpha-1_num_ep...  0.987483   \n",
       "           ALS_rank-100_regularization-0.01_alpha-1_num_ep...  0.987226   \n",
       "           ALS_rank-100_regularization-0.01_alpha-50_num_e...  0.987037   \n",
       "           ALS_rank-100_regularization-0.01_alpha-50_num_e...  0.985414   \n",
       "           ALS_rank-100_regularization-0.01_alpha-50_num_e...  0.984924   \n",
       "           ALS_rank-100_regularization-0.01_alpha-100_num_...  0.988925   \n",
       "           ALS_rank-100_regularization-0.01_alpha-100_num_...  0.986486   \n",
       "           ALS_rank-100_regularization-0.01_alpha-100_num_...  0.985898   \n",
       "           ALS_rank-100_regularization-0.1_alpha-1_num_epo...  0.987755   \n",
       "           ALS_rank-100_regularization-0.1_alpha-1_num_epo...  0.987596   \n",
       "           ALS_rank-100_regularization-0.1_alpha-1_num_epo...  0.987083   \n",
       "           ALS_rank-100_regularization-0.1_alpha-50_num_ep...  0.986962   \n",
       "           ALS_rank-100_regularization-0.1_alpha-50_num_ep...  0.985429   \n",
       "           ALS_rank-100_regularization-0.1_alpha-50_num_ep...  0.984795   \n",
       "           ALS_rank-100_regularization-0.1_alpha-100_num_e...  0.989491   \n",
       "           ALS_rank-100_regularization-0.1_alpha-100_num_e...  0.986879   \n",
       "           ALS_rank-100_regularization-0.1_alpha-100_num_e...  0.986630   \n",
       "           ALS_rank-100_regularization-1_alpha-1_num_epoch...  0.987845   \n",
       "           ALS_rank-100_regularization-1_alpha-1_num_epoch...  0.987483   \n",
       "           ALS_rank-100_regularization-1_alpha-1_num_epoch...  0.987566   \n",
       "           ALS_rank-100_regularization-1_alpha-50_num_epoc...  0.987785   \n",
       "           ALS_rank-100_regularization-1_alpha-50_num_epoc...  0.985898   \n",
       "           ALS_rank-100_regularization-1_alpha-50_num_epoc...  0.985377   \n",
       "           ALS_rank-100_regularization-1_alpha-100_num_epo...  0.990208   \n",
       "           ALS_rank-100_regularization-1_alpha-100_num_epo...  0.987604   \n",
       "           ALS_rank-100_regularization-1_alpha-100_num_epo...  0.986690   \n",
       "\n",
       "type                                                            ranking        \n",
       "metric                                                             nDCG  nDCL  \n",
       "fold top-n model                                                               \n",
       "1    5     RND                                                 0.000004  None  \n",
       "           MP                                                  0.001654  None  \n",
       "           PureSVD                                             0.002124  None  \n",
       "           ALS_rank-10_regularization-0.01_alpha-1_num_epo...  0.001252  None  \n",
       "           ALS_rank-10_regularization-0.01_alpha-1_num_epo...  0.001320  None  \n",
       "           ALS_rank-10_regularization-0.01_alpha-1_num_epo...  0.001335  None  \n",
       "           ALS_rank-10_regularization-0.01_alpha-50_num_ep...  0.000812  None  \n",
       "           ALS_rank-10_regularization-0.01_alpha-50_num_ep...  0.000818  None  \n",
       "           ALS_rank-10_regularization-0.01_alpha-50_num_ep...  0.001116  None  \n",
       "           ALS_rank-10_regularization-0.01_alpha-100_num_e...  0.000749  None  \n",
       "           ALS_rank-10_regularization-0.01_alpha-100_num_e...  0.000729  None  \n",
       "           ALS_rank-10_regularization-0.01_alpha-100_num_e...  0.000683  None  \n",
       "           ALS_rank-10_regularization-0.1_alpha-1_num_epoc...  0.001259  None  \n",
       "           ALS_rank-10_regularization-0.1_alpha-1_num_epoc...  0.001371  None  \n",
       "           ALS_rank-10_regularization-0.1_alpha-1_num_epoc...  0.001400  None  \n",
       "           ALS_rank-10_regularization-0.1_alpha-50_num_epo...  0.000882  None  \n",
       "           ALS_rank-10_regularization-0.1_alpha-50_num_epo...  0.000967  None  \n",
       "           ALS_rank-10_regularization-0.1_alpha-50_num_epo...  0.001016  None  \n",
       "           ALS_rank-10_regularization-0.1_alpha-100_num_ep...  0.000681  None  \n",
       "           ALS_rank-10_regularization-0.1_alpha-100_num_ep...  0.000631  None  \n",
       "           ALS_rank-10_regularization-0.1_alpha-100_num_ep...  0.000696  None  \n",
       "           ALS_rank-10_regularization-1_alpha-1_num_epochs-15  0.001387  None  \n",
       "           ALS_rank-10_regularization-1_alpha-1_num_epochs-30  0.001278  None  \n",
       "           ALS_rank-10_regularization-1_alpha-1_num_epochs-40  0.001348  None  \n",
       "           ALS_rank-10_regularization-1_alpha-50_num_epoch...  0.000807  None  \n",
       "           ALS_rank-10_regularization-1_alpha-50_num_epoch...  0.001148  None  \n",
       "           ALS_rank-10_regularization-1_alpha-50_num_epoch...  0.000874  None  \n",
       "           ALS_rank-10_regularization-1_alpha-100_num_epoc...  0.000730  None  \n",
       "           ALS_rank-10_regularization-1_alpha-100_num_epoc...  0.000771  None  \n",
       "           ALS_rank-10_regularization-1_alpha-100_num_epoc...  0.000762  None  \n",
       "...                                                                 ...   ...  \n",
       "3    20    ALS_rank-50_regularization-1_alpha-100_num_epoc...  0.003851  None  \n",
       "           ALS_rank-50_regularization-1_alpha-100_num_epoc...  0.004840  None  \n",
       "           ALS_rank-50_regularization-1_alpha-100_num_epoc...  0.005384  None  \n",
       "           ALS_rank-100_regularization-0.01_alpha-1_num_ep...  0.007050  None  \n",
       "           ALS_rank-100_regularization-0.01_alpha-1_num_ep...  0.007157  None  \n",
       "           ALS_rank-100_regularization-0.01_alpha-1_num_ep...  0.007337  None  \n",
       "           ALS_rank-100_regularization-0.01_alpha-50_num_e...  0.008005  None  \n",
       "           ALS_rank-100_regularization-0.01_alpha-50_num_e...  0.008774  None  \n",
       "           ALS_rank-100_regularization-0.01_alpha-50_num_e...  0.009153  None  \n",
       "           ALS_rank-100_regularization-0.01_alpha-100_num_...  0.006834  None  \n",
       "           ALS_rank-100_regularization-0.01_alpha-100_num_...  0.008027  None  \n",
       "           ALS_rank-100_regularization-0.01_alpha-100_num_...  0.008576  None  \n",
       "           ALS_rank-100_regularization-0.1_alpha-1_num_epo...  0.007110  None  \n",
       "           ALS_rank-100_regularization-0.1_alpha-1_num_epo...  0.007302  None  \n",
       "           ALS_rank-100_regularization-0.1_alpha-1_num_epo...  0.007331  None  \n",
       "           ALS_rank-100_regularization-0.1_alpha-50_num_ep...  0.007874  None  \n",
       "           ALS_rank-100_regularization-0.1_alpha-50_num_ep...  0.008772  None  \n",
       "           ALS_rank-100_regularization-0.1_alpha-50_num_ep...  0.009162  None  \n",
       "           ALS_rank-100_regularization-0.1_alpha-100_num_e...  0.006561  None  \n",
       "           ALS_rank-100_regularization-0.1_alpha-100_num_e...  0.007914  None  \n",
       "           ALS_rank-100_regularization-0.1_alpha-100_num_e...  0.008123  None  \n",
       "           ALS_rank-100_regularization-1_alpha-1_num_epoch...  0.007107  None  \n",
       "           ALS_rank-100_regularization-1_alpha-1_num_epoch...  0.007249  None  \n",
       "           ALS_rank-100_regularization-1_alpha-1_num_epoch...  0.007271  None  \n",
       "           ALS_rank-100_regularization-1_alpha-50_num_epoc...  0.007416  None  \n",
       "           ALS_rank-100_regularization-1_alpha-50_num_epoc...  0.008508  None  \n",
       "           ALS_rank-100_regularization-1_alpha-50_num_epoc...  0.008737  None  \n",
       "           ALS_rank-100_regularization-1_alpha-100_num_epo...  0.006125  None  \n",
       "           ALS_rank-100_regularization-1_alpha-100_num_epo...  0.007621  None  \n",
       "           ALS_rank-100_regularization-1_alpha-100_num_epo...  0.007999  None  \n",
       "\n",
       "[756 rows x 7 columns]"
      ]
     },
     "execution_count": 18,
     "metadata": {},
     "output_type": "execute_result"
    }
   ],
   "source": [
    "result"
   ]
  },
  {
   "cell_type": "code",
   "execution_count": null,
   "metadata": {},
   "outputs": [],
   "source": []
  },
  {
   "cell_type": "markdown",
   "metadata": {},
   "source": [
    "***\n",
    "### Variable sizes"
   ]
  },
  {
   "cell_type": "code",
   "execution_count": 14,
   "metadata": {},
   "outputs": [
    {
     "name": "stdout",
     "output_type": "stream",
     "text": [
      "               RecommenderData:   2.0KiB\n",
      "                   ImplicitALS:   2.0KiB\n",
      "                      SVDModel:   1.4KiB\n",
      "               PopularityModel:   1.4KiB\n",
      "                   RandomModel:   1.4KiB\n",
      "                    csr_matrix:   1.0KiB\n",
      "                    lil_matrix:   1.0KiB\n",
      "             CooccurrenceModel:   1.0KiB\n",
      "                           _i1:   917.0B\n",
      "                    als_models:   768.0B\n"
     ]
    }
   ],
   "source": [
    "import sys\n",
    "def sizeof_fmt(num, suffix='B'):\n",
    "    ''' By Fred Cirera, after https://stackoverflow.com/a/1094933/1870254'''\n",
    "    for unit in ['','Ki','Mi','Gi','Ti','Pi','Ei','Zi']:\n",
    "        if abs(num) < 1024.0:\n",
    "            return \"%3.1f%s%s\" % (num, unit, suffix)\n",
    "        num /= 1024.0\n",
    "    return \"%.1f%s%s\" % (num, 'Yi', suffix)\n",
    "\n",
    "for name, size in sorted(((name, sys.getsizeof(value)) for name,value in locals().items()),\n",
    "                         key= lambda x: -x[1])[:10]:\n",
    "    print(\"{:>30}: {:>8}\".format(name,sizeof_fmt(size)))"
   ]
  },
  {
   "cell_type": "code",
   "execution_count": 13,
   "metadata": {},
   "outputs": [],
   "source": [
    "del kiva_dataframe"
   ]
  }
 ],
 "metadata": {
  "kernelspec": {
   "display_name": "Python 3",
   "language": "python",
   "name": "python3"
  },
  "language_info": {
   "codemirror_mode": {
    "name": "ipython",
    "version": 3
   },
   "file_extension": ".py",
   "mimetype": "text/x-python",
   "name": "python",
   "nbconvert_exporter": "python",
   "pygments_lexer": "ipython3",
   "version": "3.6.8"
  }
 },
 "nbformat": 4,
 "nbformat_minor": 2
}
