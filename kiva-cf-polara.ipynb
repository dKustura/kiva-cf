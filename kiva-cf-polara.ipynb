{
 "cells": [
  {
   "cell_type": "markdown",
   "metadata": {},
   "source": [
    "# Kiva collaborative filtering\n",
    "## Polara framework"
   ]
  },
  {
   "cell_type": "markdown",
   "metadata": {},
   "source": [
    "***\n",
    "### Imports"
   ]
  },
  {
   "cell_type": "code",
   "execution_count": 1,
   "metadata": {},
   "outputs": [],
   "source": [
    "# essentials\n",
    "import os\n",
    "import sys\n",
    "import csv\n",
    "import itertools\n",
    "import copy\n",
    "import pandas as pd\n",
    "import numpy as np\n",
    "from sklearn.metrics import roc_auc_score, precision_recall_curve, auc\n",
    "from scipy.sparse import csr_matrix, lil_matrix\n",
    "\n",
    "# polara framework\n",
    "from polara.recommender.data import RecommenderData\n",
    "from polara.recommender.models import SVDModel, PopularityModel, RandomModel, CooccurrenceModel\n",
    "from polara.recommender.external.implicit.ialswrapper import ImplicitALS\n",
    "from polara.recommender.external.implicit.ibprwrapper import ImplicitBPR\n",
    "from polara.datasets.movielens import get_movielens_data\n",
    "from polara.evaluation import evaluation_engine as ee\n",
    "from polara.evaluation.plotting import show_hit_rates, show_precision_recall, show_ranking, show_relevance\n",
    "\n",
    "# utilities\n",
    "import codecs\n",
    "import logging\n",
    "import time\n",
    "import tqdm\n",
    "\n",
    "# visualization libraries\n",
    "import seaborn as sns\n",
    "import matplotlib.pyplot as plt\n",
    "\n",
    "# serialization\n",
    "import pickle"
   ]
  },
  {
   "cell_type": "code",
   "execution_count": 19,
   "metadata": {},
   "outputs": [],
   "source": [
    "pd.set_option('display.max_columns', 40)\n",
    "pd.set_option('display.max_rows', 300)"
   ]
  },
  {
   "cell_type": "code",
   "execution_count": 3,
   "metadata": {},
   "outputs": [
    {
     "name": "stdout",
     "output_type": "stream",
     "text": [
      "env: MKL_NUM_THREADS=1\n"
     ]
    }
   ],
   "source": [
    "%env MKL_NUM_THREADS=1\n",
    "logging.basicConfig(level=logging.DEBUG)"
   ]
  },
  {
   "cell_type": "markdown",
   "metadata": {},
   "source": [
    "***\n",
    "### Pickle loads"
   ]
  },
  {
   "cell_type": "code",
   "execution_count": null,
   "metadata": {},
   "outputs": [],
   "source": [
    "loans_table = pickle.load(open(\"pickle/loans_table.p\", \"rb\"))\n",
    "funded_loans_table = pickle.load(open(\"pickle/funded_loans_table.p\", \"rb\"))\n",
    "funded_loan_ids_set = pickle.load(open(\"pickle/funded_loan_ids_set.p\", \"rb\"))"
   ]
  },
  {
   "cell_type": "code",
   "execution_count": null,
   "metadata": {},
   "outputs": [],
   "source": [
    "utility_matrix = pickle.load(open(\"pickle/utility_matrix.p\", \"rb\"))"
   ]
  },
  {
   "cell_type": "code",
   "execution_count": null,
   "metadata": {},
   "outputs": [],
   "source": [
    "utility_matrix_df = pickle.load(open(\"pickle/utility_matrix_df.p\", \"rb\"))"
   ]
  },
  {
   "cell_type": "code",
   "execution_count": null,
   "metadata": {},
   "outputs": [],
   "source": [
    "utility_matrix_df.head()"
   ]
  },
  {
   "cell_type": "markdown",
   "metadata": {},
   "source": [
    "***\n",
    "### Dataset reading"
   ]
  },
  {
   "cell_type": "code",
   "execution_count": null,
   "metadata": {},
   "outputs": [],
   "source": [
    "loans_table = pd.read_csv('additional-kiva-snapshot/loans.csv')\n",
    "loans_table = loans_table.sort_values(by='raised_time')"
   ]
  },
  {
   "cell_type": "code",
   "execution_count": null,
   "metadata": {},
   "outputs": [],
   "source": [
    "funded_loans_table = loans_table[loans_table.status == 'funded']"
   ]
  },
  {
   "cell_type": "code",
   "execution_count": null,
   "metadata": {},
   "outputs": [],
   "source": [
    "START_DATE = '2013-10-01'\n",
    "END_DATE = '2015-05-01'\n",
    "\n",
    "mask = (funded_loans_table['raised_time'] > START_DATE) & (funded_loans_table['raised_time'] <= END_DATE)\n",
    "funded_loans_table = funded_loans_table.loc[mask]\n",
    "del mask\n",
    "\n",
    "funded_loan_ids_set = set(funded_loans_table['loan_id'])"
   ]
  },
  {
   "cell_type": "code",
   "execution_count": null,
   "metadata": {},
   "outputs": [],
   "source": [
    "# pickle.dump(loans_table, open(\"pickle/loans_table.p\", \"wb\"))\n",
    "# pickle.dump(funded_loans_table, open(\"pickle/funded_loans_table.p\", \"wb\"))\n",
    "# pickle.dump(funded_loan_ids_set, open(\"pickle/funded_loan_ids_set.p\", \"wb\"))"
   ]
  },
  {
   "cell_type": "code",
   "execution_count": null,
   "metadata": {},
   "outputs": [],
   "source": [
    "# free ram\n",
    "del loans_table\n",
    "del funded_loans_table"
   ]
  },
  {
   "cell_type": "code",
   "execution_count": null,
   "metadata": {},
   "outputs": [],
   "source": [
    "loans = set()\n",
    "lenders = set()\n",
    "loans_lenders_dict = {}\n",
    "\n",
    "with open('additional-kiva-snapshot/loans_lenders.csv', newline='', encoding=\"utf8\") as csvfile:\n",
    "    csv_reader = csv.reader(csvfile)\n",
    "    line_num = 0\n",
    "    for row in csv_reader:\n",
    "        if line_num == 0:\n",
    "            line_num += 1\n",
    "            continue\n",
    "        loan_id, lender_ids = row\n",
    "        loan_id = int(loan_id)\n",
    "        if loan_id not in funded_loan_ids_set:\n",
    "            continue\n",
    "        \n",
    "        loans.add(loan_id)\n",
    "        new_lenders = set(lender_ids.split(\", \"))\n",
    "        loans_lenders_dict[loan_id] = new_lenders\n",
    "        lenders.update(new_lenders)\n",
    "        line_num += 1\n",
    "\n",
    "loans = list(loans)\n",
    "lenders = list(lenders)\n",
    "\n",
    "print('Loans-lenders dict filled')"
   ]
  },
  {
   "cell_type": "markdown",
   "metadata": {},
   "source": [
    "***\n",
    "### Utility matrix creation"
   ]
  },
  {
   "cell_type": "code",
   "execution_count": null,
   "metadata": {},
   "outputs": [],
   "source": [
    "lenders_reverse_index = {k: v for v, k in enumerate(lenders)}\n",
    "utility_matrix = lil_matrix((len(loans), len(lenders)), dtype=np.float64)"
   ]
  },
  {
   "cell_type": "code",
   "execution_count": null,
   "metadata": {},
   "outputs": [],
   "source": [
    "for loan_index, loan in enumerate(loans):\n",
    "    for lender in loans_lenders_dict[loan]:\n",
    "        lender_index = lenders_reverse_index[lender]\n",
    "        utility_matrix[loan_index, lender_index] = 1.0\n",
    "\n",
    "print('Filled utility matrix')"
   ]
  },
  {
   "cell_type": "code",
   "execution_count": null,
   "metadata": {},
   "outputs": [],
   "source": [
    "utility_matrix = utility_matrix.tocsr()"
   ]
  },
  {
   "cell_type": "code",
   "execution_count": null,
   "metadata": {},
   "outputs": [],
   "source": [
    "# pickle.dump(utility_matrix, open(\"pickle/utility_matrix.p\", \"wb\"))"
   ]
  },
  {
   "cell_type": "markdown",
   "metadata": {},
   "source": [
    "#### Conversion to SparseDataFrame"
   ]
  },
  {
   "cell_type": "code",
   "execution_count": null,
   "metadata": {},
   "outputs": [],
   "source": [
    "utility_matrix_df = pd.SparseDataFrame(utility_matrix)"
   ]
  },
  {
   "cell_type": "code",
   "execution_count": null,
   "metadata": {},
   "outputs": [],
   "source": [
    "# pickle.dump(utility_matrix_df, open(\"pickle/utility_matrix_df.p\", \"wb\"))"
   ]
  },
  {
   "cell_type": "code",
   "execution_count": null,
   "metadata": {},
   "outputs": [],
   "source": [
    "def write_matrix_to_csv(matrix, filename):\n",
    "    if not isinstance(matrix, scipy.sparse.coo_matrix):\n",
    "        matrix = matrix.tocoo()\n",
    "    \n",
    "    with open(filename, 'w', encoding='utf-8') as f:\n",
    "        f.write(\"%s,%s,%s\\n\" % ('itemid', 'userid', 'feedback'))\n",
    "        for i,j,v in zip(matrix.row, matrix.col, matrix.data):\n",
    "            f.write(\"%s,%s,%s\\n\" % (i, j, v))"
   ]
  },
  {
   "cell_type": "markdown",
   "metadata": {},
   "source": [
    "#### Load Kiva dataframe"
   ]
  },
  {
   "cell_type": "code",
   "execution_count": 4,
   "metadata": {},
   "outputs": [],
   "source": [
    "kiva_dataframe = pd.read_csv('kiva_dataframe.csv', engine='c')"
   ]
  },
  {
   "cell_type": "code",
   "execution_count": 5,
   "metadata": {},
   "outputs": [
    {
     "data": {
      "text/plain": [
       "(5339455, 3)"
      ]
     },
     "execution_count": 5,
     "metadata": {},
     "output_type": "execute_result"
    }
   ],
   "source": [
    "kiva_dataframe.shape"
   ]
  },
  {
   "cell_type": "code",
   "execution_count": 6,
   "metadata": {},
   "outputs": [
    {
     "data": {
      "text/html": [
       "<div>\n",
       "<style scoped>\n",
       "    .dataframe tbody tr th:only-of-type {\n",
       "        vertical-align: middle;\n",
       "    }\n",
       "\n",
       "    .dataframe tbody tr th {\n",
       "        vertical-align: top;\n",
       "    }\n",
       "\n",
       "    .dataframe thead th {\n",
       "        text-align: right;\n",
       "    }\n",
       "</style>\n",
       "<table border=\"1\" class=\"dataframe\">\n",
       "  <thead>\n",
       "    <tr style=\"text-align: right;\">\n",
       "      <th></th>\n",
       "      <th>itemid</th>\n",
       "      <th>userid</th>\n",
       "      <th>feedback</th>\n",
       "    </tr>\n",
       "  </thead>\n",
       "  <tbody>\n",
       "    <tr>\n",
       "      <th>0</th>\n",
       "      <td>0</td>\n",
       "      <td>7703</td>\n",
       "      <td>1.0</td>\n",
       "    </tr>\n",
       "    <tr>\n",
       "      <th>1</th>\n",
       "      <td>0</td>\n",
       "      <td>8354</td>\n",
       "      <td>1.0</td>\n",
       "    </tr>\n",
       "    <tr>\n",
       "      <th>2</th>\n",
       "      <td>0</td>\n",
       "      <td>9000</td>\n",
       "      <td>1.0</td>\n",
       "    </tr>\n",
       "    <tr>\n",
       "      <th>3</th>\n",
       "      <td>0</td>\n",
       "      <td>10247</td>\n",
       "      <td>1.0</td>\n",
       "    </tr>\n",
       "    <tr>\n",
       "      <th>4</th>\n",
       "      <td>0</td>\n",
       "      <td>21284</td>\n",
       "      <td>1.0</td>\n",
       "    </tr>\n",
       "  </tbody>\n",
       "</table>\n",
       "</div>"
      ],
      "text/plain": [
       "   itemid  userid  feedback\n",
       "0       0    7703       1.0\n",
       "1       0    8354       1.0\n",
       "2       0    9000       1.0\n",
       "3       0   10247       1.0\n",
       "4       0   21284       1.0"
      ]
     },
     "execution_count": 6,
     "metadata": {},
     "output_type": "execute_result"
    }
   ],
   "source": [
    "kiva_dataframe.head()"
   ]
  },
  {
   "cell_type": "markdown",
   "metadata": {},
   "source": [
    "***\n",
    "### Polara example"
   ]
  },
  {
   "cell_type": "code",
   "execution_count": null,
   "metadata": {},
   "outputs": [],
   "source": [
    "# define models\n",
    "ml_data = get_movielens_data(get_genres=False)\n",
    "data_model = RecommenderData(ml_data, 'userid', 'movieid', 'rating')\n",
    "\n",
    "# data_model = RecommenderData(kiva_dataframe, 'userid', 'itemid', 'feedback')\n",
    "\n",
    "svd = SVDModel(data_model)\n",
    "popular = PopularityModel(data_model)\n",
    "random = RandomModel(data_model)\n",
    "models = [svd, popular, random]\n",
    "\n",
    "metrics = ['ranking', 'relevance'] # metrics for evaluation: NDGC, Precision, Recall, etc.\n",
    "folds = [1, 2, 3, 4, 5] # use all 5 folds for cross-validation (default)\n",
    "topk_values = [1, 5, 10, 20, 50] # values of k to experiment with\n",
    "\n",
    "# run 5-fold CV experiment\n",
    "result = ee.run_cv_experiment(models, folds, metrics,\n",
    "                              fold_experiment=ee.topk_test,\n",
    "                              topk_list=topk_values)"
   ]
  },
  {
   "cell_type": "code",
   "execution_count": null,
   "metadata": {},
   "outputs": [],
   "source": [
    "# calculate average values across all folds for e.g. relevance metrics\n",
    "scores = result.mean(axis=0, level=['top-n', 'model']) # use .std instead of .mean for standard deviation\n",
    "# scores.xs('nDCG', level='metric', axis=1).unstack('model')"
   ]
  },
  {
   "cell_type": "code",
   "execution_count": null,
   "metadata": {},
   "outputs": [],
   "source": [
    "scores"
   ]
  },
  {
   "cell_type": "markdown",
   "metadata": {},
   "source": [
    "***\n",
    "### Cross-validation"
   ]
  },
  {
   "cell_type": "code",
   "execution_count": 7,
   "metadata": {},
   "outputs": [
    {
     "name": "stdout",
     "output_type": "stream",
     "text": [
      "Preparing data...\n",
      "207 unique itemid's within 228 holdout interactions were filtered. Reason: not in the training data.\n",
      "85452 unique userid's within 136096 holdout interactions were filtered. Reason: not in the training data.\n",
      "114 of 44225 userid's were filtered out from holdout. Reason: incompatible number of items.\n",
      "Done.\n",
      "There are 5070574 events in the training and 132333 events in the holdout.\n"
     ]
    },
    {
     "name": "stderr",
     "output_type": "stream",
     "text": [
      "DEBUG:root:Prepared data in 132.61s\n"
     ]
    }
   ],
   "source": [
    "data_model = RecommenderData(kiva_dataframe, 'userid', 'itemid', 'feedback', seed=0)\n",
    "data_model.warm_start = False\n",
    "\n",
    "start = time.time()\n",
    "data_model.prepare()\n",
    "logging.debug(\"Prepared data in %0.2fs\", time.time() - start)"
   ]
  },
  {
   "cell_type": "code",
   "execution_count": null,
   "metadata": {},
   "outputs": [],
   "source": [
    "random = RandomModel(data_model)\n",
    "popular = PopularityModel(data_model)\n",
    "svd = SVDModel(data_model)\n",
    "\n",
    "bpr = ImplicitBPR(data_model)\n",
    "bpr.rank = 200\n",
    "bpr.num_epochs = 100\n",
    "bpr.use_gpu = False"
   ]
  },
  {
   "cell_type": "code",
   "execution_count": null,
   "metadata": {},
   "outputs": [],
   "source": [
    "bpr.learning_rate"
   ]
  },
  {
   "cell_type": "markdown",
   "metadata": {},
   "source": [
    "Generate a list of ALS models by parameter grid:"
   ]
  },
  {
   "cell_type": "code",
   "execution_count": 9,
   "metadata": {},
   "outputs": [],
   "source": [
    "def get_base_model():\n",
    "    model = ImplicitALS(data_model)\n",
    "    model.epsilon = 1e-8\n",
    "    model.weight_func = np.log2\n",
    "    model.use_gpu = False\n",
    "    return model\n",
    "\n",
    "def get_grid_models(cv_param_grid):\n",
    "    models = []\n",
    "    keys, values = zip(*cv_param_grid.items())\n",
    "    for v in itertools.product(*values):\n",
    "        params = dict(zip(keys, v))\n",
    "        next_model = get_base_model()\n",
    "        name = 'ALS'\n",
    "        for k, v in params.items():\n",
    "            setattr(next_model, k, v)\n",
    "            name += '_%s-%s' % (k, v)\n",
    "        \n",
    "        next_model.method = name\n",
    "        models.append(next_model)\n",
    "    return models"
   ]
  },
  {
   "cell_type": "markdown",
   "metadata": {},
   "source": [
    "Cross-validation setup:"
   ]
  },
  {
   "cell_type": "code",
   "execution_count": 37,
   "metadata": {},
   "outputs": [],
   "source": [
    "cv_param_grid = {\n",
    "    'rank': [200, 250],\n",
    "    'regularization': [0.01],\n",
    "    'alpha': [50],\n",
    "    'num_epochs': [20, 50, 100],\n",
    "}"
   ]
  },
  {
   "cell_type": "code",
   "execution_count": 38,
   "metadata": {},
   "outputs": [],
   "source": [
    "basic_models = [random, popular, svd, bpr]\n",
    "als_models = get_grid_models(cv_param_grid)\n",
    "models = basic_models + als_models\n",
    "\n",
    "metrics = ['ranking', 'relevance'] # metrics for evaluation: NDGC, Precision, Recall, etc.\n",
    "folds = [1, 2, 3]\n",
    "topk_values = [5, 10, 20] # values of k to experiment with"
   ]
  },
  {
   "cell_type": "code",
   "execution_count": 39,
   "metadata": {},
   "outputs": [
    {
     "name": "stdout",
     "output_type": "stream",
     "text": [
      "Preparing data...\n",
      "211 unique itemid's within 234 holdout interactions were filtered. Reason: not in the training data.\n",
      "85443 unique userid's within 136172 holdout interactions were filtered. Reason: not in the training data.\n",
      "100 of 44237 userid's were filtered out from holdout. Reason: incompatible number of items.\n",
      "Done.\n",
      "There are 5070446 events in the training and 132411 events in the holdout.\n",
      "PureSVD training time: 3.653s\n"
     ]
    },
    {
     "name": "stderr",
     "output_type": "stream",
     "text": [
      "DEBUG:implicit:Converting input to CSR format\n",
      "DEBUG:implicit:Converted input to CSR in 0.250s\n",
      "DEBUG:implicit:Calculated transpose in 0.141s\n",
      "DEBUG:implicit:Initialized factors in 1.2831928730010986\n",
      "DEBUG:implicit:Running 40 ALS iterations\n",
      "100%|████████████████████████████████████████████████████████████████████████████████| 40.0/40 [01:45<00:00,  2.43s/it]\n"
     ]
    },
    {
     "name": "stdout",
     "output_type": "stream",
     "text": [
      "ALS_rank-100_regularization-0.01_alpha-50_num_epochs-40 training time: 01m:47s\n"
     ]
    },
    {
     "name": "stderr",
     "output_type": "stream",
     "text": [
      "DEBUG:implicit:Converting input to CSR format\n",
      "DEBUG:implicit:Converted input to CSR in 0.187s\n",
      "DEBUG:implicit:Calculated transpose in 0.125s\n",
      "DEBUG:implicit:Initialized factors in 1.2496850490570068\n",
      "DEBUG:implicit:Running 60 ALS iterations\n",
      "100%|████████████████████████████████████████████████████████████████████████████████| 60.0/60 [02:39<00:00,  2.50s/it]\n"
     ]
    },
    {
     "name": "stdout",
     "output_type": "stream",
     "text": [
      "ALS_rank-100_regularization-0.01_alpha-50_num_epochs-60 training time: 02m:41s\n"
     ]
    },
    {
     "name": "stderr",
     "output_type": "stream",
     "text": [
      "DEBUG:implicit:Converting input to CSR format\n",
      "DEBUG:implicit:Converted input to CSR in 0.187s\n",
      "DEBUG:implicit:Calculated transpose in 0.125s\n",
      "DEBUG:implicit:Initialized factors in 1.2653238773345947\n",
      "DEBUG:implicit:Running 80 ALS iterations\n",
      "100%|████████████████████████████████████████████████████████████████████████████████| 80.0/80 [03:31<00:00,  2.65s/it]\n"
     ]
    },
    {
     "name": "stdout",
     "output_type": "stream",
     "text": [
      "ALS_rank-100_regularization-0.01_alpha-50_num_epochs-80 training time: 03m:33s\n"
     ]
    },
    {
     "name": "stderr",
     "output_type": "stream",
     "text": [
      "DEBUG:implicit:Converting input to CSR format\n",
      "DEBUG:implicit:Converted input to CSR in 0.187s\n",
      "DEBUG:implicit:Calculated transpose in 0.125s\n",
      "DEBUG:implicit:Initialized factors in 1.3121559619903564\n",
      "DEBUG:implicit:Running 100 ALS iterations\n",
      "100%|██████████████████████████████████████████████████████████████████████████████| 100.0/100 [04:26<00:00,  2.43s/it]\n"
     ]
    },
    {
     "name": "stdout",
     "output_type": "stream",
     "text": [
      "ALS_rank-100_regularization-0.01_alpha-50_num_epochs-100 training time: 04m:28s\n"
     ]
    },
    {
     "name": "stderr",
     "output_type": "stream",
     "text": [
      "DEBUG:implicit:Converting input to CSR format\n",
      "DEBUG:implicit:Converted input to CSR in 0.187s\n",
      "DEBUG:implicit:Calculated transpose in 0.125s\n",
      "DEBUG:implicit:Initialized factors in 1.8937618732452393\n",
      "DEBUG:implicit:Running 40 ALS iterations\n",
      "100%|████████████████████████████████████████████████████████████████████████████████| 40.0/40 [02:33<00:00,  3.40s/it]\n"
     ]
    },
    {
     "name": "stdout",
     "output_type": "stream",
     "text": [
      "ALS_rank-150_regularization-0.01_alpha-50_num_epochs-40 training time: 02m:35s\n"
     ]
    },
    {
     "name": "stderr",
     "output_type": "stream",
     "text": [
      "DEBUG:implicit:Converting input to CSR format\n",
      "DEBUG:implicit:Converted input to CSR in 0.187s\n",
      "DEBUG:implicit:Calculated transpose in 0.141s\n",
      "DEBUG:implicit:Initialized factors in 1.952660322189331\n",
      "DEBUG:implicit:Running 60 ALS iterations\n",
      "100%|████████████████████████████████████████████████████████████████████████████████| 60.0/60 [03:49<00:00,  3.46s/it]\n"
     ]
    },
    {
     "name": "stdout",
     "output_type": "stream",
     "text": [
      "ALS_rank-150_regularization-0.01_alpha-50_num_epochs-60 training time: 03m:52s\n"
     ]
    },
    {
     "name": "stderr",
     "output_type": "stream",
     "text": [
      "DEBUG:implicit:Converting input to CSR format\n",
      "DEBUG:implicit:Converted input to CSR in 0.219s\n",
      "DEBUG:implicit:Calculated transpose in 0.125s\n",
      "DEBUG:implicit:Initialized factors in 1.8643686771392822\n",
      "DEBUG:implicit:Running 80 ALS iterations\n",
      "100%|████████████████████████████████████████████████████████████████████████████████| 80.0/80 [05:03<00:00,  3.42s/it]\n"
     ]
    },
    {
     "name": "stdout",
     "output_type": "stream",
     "text": [
      "ALS_rank-150_regularization-0.01_alpha-50_num_epochs-80 training time: 05m:05s\n"
     ]
    },
    {
     "name": "stderr",
     "output_type": "stream",
     "text": [
      "DEBUG:implicit:Converting input to CSR format\n",
      "DEBUG:implicit:Converted input to CSR in 0.187s\n",
      "DEBUG:implicit:Calculated transpose in 0.125s\n",
      "DEBUG:implicit:Initialized factors in 1.9228496551513672\n",
      "DEBUG:implicit:Running 100 ALS iterations\n",
      "100%|██████████████████████████████████████████████████████████████████████████████| 100.0/100 [06:12<00:00,  3.53s/it]\n"
     ]
    },
    {
     "name": "stdout",
     "output_type": "stream",
     "text": [
      "ALS_rank-150_regularization-0.01_alpha-50_num_epochs-100 training time: 06m:15s\n"
     ]
    },
    {
     "name": "stderr",
     "output_type": "stream",
     "text": [
      "DEBUG:implicit:Converting input to CSR format\n",
      "DEBUG:implicit:Converted input to CSR in 0.187s\n",
      "DEBUG:implicit:Calculated transpose in 0.141s\n",
      "DEBUG:implicit:Initialized factors in 2.6883513927459717\n",
      "DEBUG:implicit:Running 40 ALS iterations\n",
      "100%|████████████████████████████████████████████████████████████████████████████████| 40.0/40 [03:05<00:00,  4.32s/it]\n"
     ]
    },
    {
     "name": "stdout",
     "output_type": "stream",
     "text": [
      "ALS_rank-200_regularization-0.01_alpha-50_num_epochs-40 training time: 03m:09s\n"
     ]
    },
    {
     "name": "stderr",
     "output_type": "stream",
     "text": [
      "DEBUG:implicit:Converting input to CSR format\n",
      "DEBUG:implicit:Converted input to CSR in 0.203s\n",
      "DEBUG:implicit:Calculated transpose in 0.141s\n",
      "DEBUG:implicit:Initialized factors in 2.6087849140167236\n",
      "DEBUG:implicit:Running 60 ALS iterations\n",
      "100%|████████████████████████████████████████████████████████████████████████████████| 60.0/60 [04:42<00:00,  4.28s/it]\n"
     ]
    },
    {
     "name": "stdout",
     "output_type": "stream",
     "text": [
      "ALS_rank-200_regularization-0.01_alpha-50_num_epochs-60 training time: 04m:46s\n"
     ]
    },
    {
     "name": "stderr",
     "output_type": "stream",
     "text": [
      "DEBUG:implicit:Converting input to CSR format\n",
      "DEBUG:implicit:Converted input to CSR in 0.172s\n",
      "DEBUG:implicit:Calculated transpose in 0.125s\n",
      "DEBUG:implicit:Initialized factors in 3.561655282974243\n",
      "DEBUG:implicit:Running 80 ALS iterations\n",
      "100%|████████████████████████████████████████████████████████████████████████████████| 80.0/80 [06:13<00:00,  4.39s/it]\n"
     ]
    },
    {
     "name": "stdout",
     "output_type": "stream",
     "text": [
      "ALS_rank-200_regularization-0.01_alpha-50_num_epochs-80 training time: 06m:17s\n"
     ]
    },
    {
     "name": "stderr",
     "output_type": "stream",
     "text": [
      "DEBUG:implicit:Converting input to CSR format\n",
      "DEBUG:implicit:Converted input to CSR in 0.172s\n",
      "DEBUG:implicit:Calculated transpose in 0.141s\n",
      "DEBUG:implicit:Initialized factors in 2.7024545669555664\n",
      "DEBUG:implicit:Running 100 ALS iterations\n",
      "100%|██████████████████████████████████████████████████████████████████████████████| 100.0/100 [08:04<00:00,  4.33s/it]\n"
     ]
    },
    {
     "name": "stdout",
     "output_type": "stream",
     "text": [
      "ALS_rank-200_regularization-0.01_alpha-50_num_epochs-100 training time: 08m:07s\n",
      "Evaluated model in 260.15s\n",
      "Evaluated model in 108.11s\n",
      "Evaluated model in 168.75s\n",
      "Evaluated model in 203.08s\n",
      "Evaluated model in 179.54s\n",
      "Evaluated model in 181.71s\n",
      "Evaluated model in 197.90s\n",
      "Evaluated model in 203.98s\n",
      "Evaluated model in 174.26s\n",
      "Evaluated model in 174.17s\n",
      "Evaluated model in 187.64s\n",
      "Evaluated model in 218.63s\n",
      "Evaluated model in 201.76s\n",
      "Evaluated model in 211.66s\n",
      "Evaluated model in 195.28s\n",
      "Evaluated model in 0.50s\n",
      "Evaluated model in 0.47s\n",
      "Evaluated model in 0.50s\n",
      "Evaluated model in 0.48s\n",
      "Evaluated model in 0.50s\n",
      "Evaluated model in 0.48s\n",
      "Evaluated model in 0.48s\n",
      "Evaluated model in 0.49s\n",
      "Evaluated model in 0.49s\n",
      "Evaluated model in 0.48s\n",
      "Evaluated model in 0.48s\n",
      "Evaluated model in 0.48s\n",
      "Evaluated model in 0.47s\n",
      "Evaluated model in 0.47s\n",
      "Evaluated model in 0.48s\n",
      "Evaluated model in 0.47s\n",
      "Evaluated model in 0.45s\n",
      "Evaluated model in 0.45s\n",
      "Evaluated model in 0.51s\n",
      "Evaluated model in 0.48s\n",
      "Evaluated model in 0.47s\n",
      "Evaluated model in 0.47s\n",
      "Evaluated model in 0.50s\n",
      "Evaluated model in 0.47s\n",
      "Evaluated model in 0.45s\n",
      "Evaluated model in 0.47s\n",
      "Evaluated model in 0.47s\n",
      "Evaluated model in 0.48s\n",
      "Evaluated model in 0.46s\n",
      "Evaluated model in 0.47s\n",
      "Preparing data...\n",
      "182 unique itemid's within 197 holdout interactions were filtered. Reason: not in the training data.\n",
      "85704 unique userid's within 136225 holdout interactions were filtered. Reason: not in the training data.\n",
      "89 of 43984 userid's were filtered out from holdout. Reason: incompatible number of items.\n",
      "Done.\n",
      "There are 5071181 events in the training and 131685 events in the holdout.\n",
      "PureSVD training time: 3.085s\n"
     ]
    },
    {
     "name": "stderr",
     "output_type": "stream",
     "text": [
      "DEBUG:implicit:Converting input to CSR format\n",
      "DEBUG:implicit:Converted input to CSR in 0.187s\n",
      "DEBUG:implicit:Calculated transpose in 0.125s\n",
      "DEBUG:implicit:Initialized factors in 1.2496976852416992\n",
      "DEBUG:implicit:Running 40 ALS iterations\n",
      "100%|████████████████████████████████████████████████████████████████████████████████| 40.0/40 [01:42<00:00,  2.35s/it]\n"
     ]
    },
    {
     "name": "stdout",
     "output_type": "stream",
     "text": [
      "ALS_rank-100_regularization-0.01_alpha-50_num_epochs-40 training time: 01m:44s\n"
     ]
    },
    {
     "name": "stderr",
     "output_type": "stream",
     "text": [
      "DEBUG:implicit:Converting input to CSR format\n",
      "DEBUG:implicit:Converted input to CSR in 0.187s\n",
      "DEBUG:implicit:Calculated transpose in 0.141s\n",
      "DEBUG:implicit:Initialized factors in 1.2028393745422363\n",
      "DEBUG:implicit:Running 60 ALS iterations\n",
      "100%|████████████████████████████████████████████████████████████████████████████████| 60.0/60 [02:40<00:00,  2.36s/it]\n"
     ]
    },
    {
     "name": "stdout",
     "output_type": "stream",
     "text": [
      "ALS_rank-100_regularization-0.01_alpha-50_num_epochs-60 training time: 02m:42s\n"
     ]
    },
    {
     "name": "stderr",
     "output_type": "stream",
     "text": [
      "DEBUG:implicit:Converting input to CSR format\n",
      "DEBUG:implicit:Converted input to CSR in 0.187s\n",
      "DEBUG:implicit:Calculated transpose in 0.187s\n",
      "DEBUG:implicit:Initialized factors in 1.259425401687622\n",
      "DEBUG:implicit:Running 80 ALS iterations\n",
      "100%|████████████████████████████████████████████████████████████████████████████████| 80.0/80 [03:24<00:00,  2.40s/it]\n"
     ]
    },
    {
     "name": "stdout",
     "output_type": "stream",
     "text": [
      "ALS_rank-100_regularization-0.01_alpha-50_num_epochs-80 training time: 03m:26s\n"
     ]
    },
    {
     "name": "stderr",
     "output_type": "stream",
     "text": [
      "DEBUG:implicit:Converting input to CSR format\n",
      "DEBUG:implicit:Converted input to CSR in 0.172s\n",
      "DEBUG:implicit:Calculated transpose in 0.141s\n",
      "DEBUG:implicit:Initialized factors in 1.2367868423461914\n",
      "DEBUG:implicit:Running 100 ALS iterations\n",
      "100%|██████████████████████████████████████████████████████████████████████████████| 100.0/100 [04:23<00:00,  2.49s/it]\n"
     ]
    },
    {
     "name": "stdout",
     "output_type": "stream",
     "text": [
      "ALS_rank-100_regularization-0.01_alpha-50_num_epochs-100 training time: 04m:26s\n"
     ]
    },
    {
     "name": "stderr",
     "output_type": "stream",
     "text": [
      "DEBUG:implicit:Converting input to CSR format\n",
      "DEBUG:implicit:Converted input to CSR in 0.187s\n",
      "DEBUG:implicit:Calculated transpose in 0.141s\n",
      "DEBUG:implicit:Initialized factors in 1.8745579719543457\n",
      "DEBUG:implicit:Running 40 ALS iterations\n",
      "100%|████████████████████████████████████████████████████████████████████████████████| 40.0/40 [02:27<00:00,  3.41s/it]\n"
     ]
    },
    {
     "name": "stdout",
     "output_type": "stream",
     "text": [
      "ALS_rank-150_regularization-0.01_alpha-50_num_epochs-40 training time: 02m:30s\n"
     ]
    },
    {
     "name": "stderr",
     "output_type": "stream",
     "text": [
      "DEBUG:implicit:Converting input to CSR format\n",
      "DEBUG:implicit:Converted input to CSR in 0.172s\n",
      "DEBUG:implicit:Calculated transpose in 0.125s\n",
      "DEBUG:implicit:Initialized factors in 1.9682509899139404\n",
      "DEBUG:implicit:Running 60 ALS iterations\n",
      "100%|████████████████████████████████████████████████████████████████████████████████| 60.0/60 [03:43<00:00,  3.46s/it]\n"
     ]
    },
    {
     "name": "stdout",
     "output_type": "stream",
     "text": [
      "ALS_rank-150_regularization-0.01_alpha-50_num_epochs-60 training time: 03m:46s\n"
     ]
    },
    {
     "name": "stderr",
     "output_type": "stream",
     "text": [
      "DEBUG:implicit:Converting input to CSR format\n",
      "DEBUG:implicit:Converted input to CSR in 0.172s\n",
      "DEBUG:implicit:Calculated transpose in 0.141s\n",
      "DEBUG:implicit:Initialized factors in 1.8737566471099854\n",
      "DEBUG:implicit:Running 80 ALS iterations\n",
      "100%|████████████████████████████████████████████████████████████████████████████████| 80.0/80 [04:56<00:00,  3.53s/it]\n"
     ]
    },
    {
     "name": "stdout",
     "output_type": "stream",
     "text": [
      "ALS_rank-150_regularization-0.01_alpha-50_num_epochs-80 training time: 04m:59s\n"
     ]
    },
    {
     "name": "stderr",
     "output_type": "stream",
     "text": [
      "DEBUG:implicit:Converting input to CSR format\n",
      "DEBUG:implicit:Converted input to CSR in 0.172s\n",
      "DEBUG:implicit:Calculated transpose in 0.141s\n",
      "DEBUG:implicit:Initialized factors in 1.8588998317718506\n",
      "DEBUG:implicit:Running 100 ALS iterations\n",
      "100%|██████████████████████████████████████████████████████████████████████████████| 100.0/100 [06:04<00:00,  3.40s/it]\n"
     ]
    },
    {
     "name": "stdout",
     "output_type": "stream",
     "text": [
      "ALS_rank-150_regularization-0.01_alpha-50_num_epochs-100 training time: 06m:07s\n"
     ]
    },
    {
     "name": "stderr",
     "output_type": "stream",
     "text": [
      "DEBUG:implicit:Converting input to CSR format\n",
      "DEBUG:implicit:Converted input to CSR in 0.158s\n",
      "DEBUG:implicit:Calculated transpose in 0.141s\n",
      "DEBUG:implicit:Initialized factors in 2.45253586769104\n",
      "DEBUG:implicit:Running 40 ALS iterations\n",
      "100%|████████████████████████████████████████████████████████████████████████████████| 40.0/40 [03:04<00:00,  4.26s/it]\n"
     ]
    },
    {
     "name": "stdout",
     "output_type": "stream",
     "text": [
      "ALS_rank-200_regularization-0.01_alpha-50_num_epochs-40 training time: 03m:07s\n"
     ]
    },
    {
     "name": "stderr",
     "output_type": "stream",
     "text": [
      "DEBUG:implicit:Converting input to CSR format\n",
      "DEBUG:implicit:Converted input to CSR in 0.156s\n",
      "DEBUG:implicit:Calculated transpose in 0.141s\n",
      "DEBUG:implicit:Initialized factors in 2.923424482345581\n",
      "DEBUG:implicit:Running 60 ALS iterations\n",
      "100%|████████████████████████████████████████████████████████████████████████████████| 60.0/60 [04:36<00:00,  4.34s/it]\n"
     ]
    },
    {
     "name": "stdout",
     "output_type": "stream",
     "text": [
      "ALS_rank-200_regularization-0.01_alpha-50_num_epochs-60 training time: 04m:40s\n"
     ]
    },
    {
     "name": "stderr",
     "output_type": "stream",
     "text": [
      "DEBUG:implicit:Converting input to CSR format\n",
      "DEBUG:implicit:Converted input to CSR in 0.172s\n",
      "DEBUG:implicit:Calculated transpose in 0.125s\n",
      "DEBUG:implicit:Initialized factors in 3.392364025115967\n",
      "DEBUG:implicit:Running 80 ALS iterations\n",
      "100%|████████████████████████████████████████████████████████████████████████████████| 80.0/80 [06:09<00:00,  4.33s/it]\n"
     ]
    },
    {
     "name": "stdout",
     "output_type": "stream",
     "text": [
      "ALS_rank-200_regularization-0.01_alpha-50_num_epochs-80 training time: 06m:13s\n"
     ]
    },
    {
     "name": "stderr",
     "output_type": "stream",
     "text": [
      "DEBUG:implicit:Converting input to CSR format\n",
      "DEBUG:implicit:Converted input to CSR in 0.172s\n",
      "DEBUG:implicit:Calculated transpose in 0.141s\n",
      "DEBUG:implicit:Initialized factors in 3.280439853668213\n",
      "DEBUG:implicit:Running 100 ALS iterations\n",
      "100%|██████████████████████████████████████████████████████████████████████████████| 100.0/100 [07:37<00:00,  4.40s/it]\n"
     ]
    },
    {
     "name": "stdout",
     "output_type": "stream",
     "text": [
      "ALS_rank-200_regularization-0.01_alpha-50_num_epochs-100 training time: 07m:41s\n",
      "Evaluated model in 250.93s\n",
      "Evaluated model in 104.55s\n",
      "Evaluated model in 179.87s\n",
      "Evaluated model in 162.09s\n",
      "Evaluated model in 159.58s\n",
      "Evaluated model in 160.62s\n",
      "Evaluated model in 161.12s\n",
      "Evaluated model in 171.53s\n",
      "Evaluated model in 180.33s\n",
      "Evaluated model in 169.47s\n",
      "Evaluated model in 174.57s\n",
      "Evaluated model in 184.98s\n",
      "Evaluated model in 185.06s\n",
      "Evaluated model in 185.19s\n",
      "Evaluated model in 180.98s\n",
      "Evaluated model in 0.46s\n",
      "Evaluated model in 0.48s\n",
      "Evaluated model in 0.48s\n",
      "Evaluated model in 0.48s\n",
      "Evaluated model in 0.47s\n",
      "Evaluated model in 0.48s\n",
      "Evaluated model in 0.49s\n",
      "Evaluated model in 0.48s\n",
      "Evaluated model in 0.52s\n",
      "Evaluated model in 0.47s\n",
      "Evaluated model in 0.47s\n",
      "Evaluated model in 0.47s\n",
      "Evaluated model in 0.47s\n",
      "Evaluated model in 0.47s\n",
      "Evaluated model in 0.47s\n",
      "Evaluated model in 0.45s\n",
      "Evaluated model in 0.45s\n",
      "Evaluated model in 0.45s\n",
      "Evaluated model in 0.46s\n",
      "Evaluated model in 0.47s\n",
      "Evaluated model in 0.45s\n",
      "Evaluated model in 0.45s\n",
      "Evaluated model in 0.47s\n",
      "Evaluated model in 0.45s\n",
      "Evaluated model in 0.45s\n",
      "Evaluated model in 0.45s\n",
      "Evaluated model in 0.47s\n",
      "Evaluated model in 0.45s\n",
      "Evaluated model in 0.45s\n",
      "Evaluated model in 0.45s\n",
      "Preparing data...\n",
      "215 unique itemid's within 227 holdout interactions were filtered. Reason: not in the training data.\n",
      "85431 unique userid's within 135552 holdout interactions were filtered. Reason: not in the training data.\n",
      "97 of 44250 userid's were filtered out from holdout. Reason: incompatible number of items.\n",
      "Done.\n",
      "There are 5071031 events in the training and 132459 events in the holdout.\n",
      "PureSVD training time: 3.081s\n"
     ]
    },
    {
     "name": "stderr",
     "output_type": "stream",
     "text": [
      "DEBUG:implicit:Converting input to CSR format\n",
      "DEBUG:implicit:Converted input to CSR in 0.187s\n",
      "DEBUG:implicit:Calculated transpose in 0.141s\n",
      "DEBUG:implicit:Initialized factors in 1.2965328693389893\n",
      "DEBUG:implicit:Running 40 ALS iterations\n",
      "100%|████████████████████████████████████████████████████████████████████████████████| 40.0/40 [01:42<00:00,  2.34s/it]\n"
     ]
    },
    {
     "name": "stdout",
     "output_type": "stream",
     "text": [
      "ALS_rank-100_regularization-0.01_alpha-50_num_epochs-40 training time: 01m:44s\n"
     ]
    },
    {
     "name": "stderr",
     "output_type": "stream",
     "text": [
      "DEBUG:implicit:Converting input to CSR format\n",
      "DEBUG:implicit:Converted input to CSR in 0.156s\n",
      "DEBUG:implicit:Calculated transpose in 0.125s\n",
      "DEBUG:implicit:Initialized factors in 1.23410964012146\n",
      "DEBUG:implicit:Running 60 ALS iterations\n",
      "100%|████████████████████████████████████████████████████████████████████████████████| 60.0/60 [02:33<00:00,  2.38s/it]\n"
     ]
    },
    {
     "name": "stdout",
     "output_type": "stream",
     "text": [
      "ALS_rank-100_regularization-0.01_alpha-50_num_epochs-60 training time: 02m:35s\n"
     ]
    },
    {
     "name": "stderr",
     "output_type": "stream",
     "text": [
      "DEBUG:implicit:Converting input to CSR format\n",
      "DEBUG:implicit:Converted input to CSR in 0.172s\n",
      "DEBUG:implicit:Calculated transpose in 0.141s\n",
      "DEBUG:implicit:Initialized factors in 1.2093708515167236\n",
      "DEBUG:implicit:Running 80 ALS iterations\n",
      "100%|████████████████████████████████████████████████████████████████████████████████| 80.0/80 [03:25<00:00,  2.35s/it]\n"
     ]
    },
    {
     "name": "stdout",
     "output_type": "stream",
     "text": [
      "ALS_rank-100_regularization-0.01_alpha-50_num_epochs-80 training time: 03m:27s\n"
     ]
    },
    {
     "name": "stderr",
     "output_type": "stream",
     "text": [
      "DEBUG:implicit:Converting input to CSR format\n",
      "DEBUG:implicit:Converted input to CSR in 0.193s\n",
      "DEBUG:implicit:Calculated transpose in 0.156s\n",
      "DEBUG:implicit:Initialized factors in 1.2340517044067383\n",
      "DEBUG:implicit:Running 100 ALS iterations\n",
      "100%|██████████████████████████████████████████████████████████████████████████████| 100.0/100 [04:17<00:00,  2.41s/it]\n"
     ]
    },
    {
     "name": "stdout",
     "output_type": "stream",
     "text": [
      "ALS_rank-100_regularization-0.01_alpha-50_num_epochs-100 training time: 04m:19s\n"
     ]
    },
    {
     "name": "stderr",
     "output_type": "stream",
     "text": [
      "DEBUG:implicit:Converting input to CSR format\n",
      "DEBUG:implicit:Converted input to CSR in 0.172s\n",
      "DEBUG:implicit:Calculated transpose in 0.141s\n",
      "DEBUG:implicit:Initialized factors in 1.8589308261871338\n",
      "DEBUG:implicit:Running 40 ALS iterations\n",
      "100%|████████████████████████████████████████████████████████████████████████████████| 40.0/40 [02:24<00:00,  3.35s/it]\n"
     ]
    },
    {
     "name": "stdout",
     "output_type": "stream",
     "text": [
      "ALS_rank-150_regularization-0.01_alpha-50_num_epochs-40 training time: 02m:26s\n"
     ]
    },
    {
     "name": "stderr",
     "output_type": "stream",
     "text": [
      "DEBUG:implicit:Converting input to CSR format\n",
      "DEBUG:implicit:Converted input to CSR in 0.203s\n",
      "DEBUG:implicit:Calculated transpose in 0.156s\n",
      "DEBUG:implicit:Initialized factors in 2.436920642852783\n",
      "DEBUG:implicit:Running 60 ALS iterations\n",
      "100%|████████████████████████████████████████████████████████████████████████████████| 60.0/60 [03:37<00:00,  3.53s/it]\n"
     ]
    },
    {
     "name": "stdout",
     "output_type": "stream",
     "text": [
      "ALS_rank-150_regularization-0.01_alpha-50_num_epochs-60 training time: 03m:40s\n"
     ]
    },
    {
     "name": "stderr",
     "output_type": "stream",
     "text": [
      "DEBUG:implicit:Converting input to CSR format\n",
      "DEBUG:implicit:Converted input to CSR in 0.187s\n",
      "DEBUG:implicit:Calculated transpose in 0.125s\n",
      "DEBUG:implicit:Initialized factors in 1.9370312690734863\n",
      "DEBUG:implicit:Running 80 ALS iterations\n",
      "100%|████████████████████████████████████████████████████████████████████████████████| 80.0/80 [04:49<00:00,  3.41s/it]\n"
     ]
    },
    {
     "name": "stdout",
     "output_type": "stream",
     "text": [
      "ALS_rank-150_regularization-0.01_alpha-50_num_epochs-80 training time: 04m:52s\n"
     ]
    },
    {
     "name": "stderr",
     "output_type": "stream",
     "text": [
      "DEBUG:implicit:Converting input to CSR format\n",
      "DEBUG:implicit:Converted input to CSR in 0.156s\n",
      "DEBUG:implicit:Calculated transpose in 0.125s\n",
      "DEBUG:implicit:Initialized factors in 1.9838993549346924\n",
      "DEBUG:implicit:Running 100 ALS iterations\n",
      "100%|██████████████████████████████████████████████████████████████████████████████| 100.0/100 [05:59<00:00,  3.33s/it]\n"
     ]
    },
    {
     "name": "stdout",
     "output_type": "stream",
     "text": [
      "ALS_rank-150_regularization-0.01_alpha-50_num_epochs-100 training time: 06m:01s\n"
     ]
    },
    {
     "name": "stderr",
     "output_type": "stream",
     "text": [
      "DEBUG:implicit:Converting input to CSR format\n",
      "DEBUG:implicit:Converted input to CSR in 0.203s\n",
      "DEBUG:implicit:Calculated transpose in 0.125s\n",
      "DEBUG:implicit:Initialized factors in 3.3453621864318848\n",
      "DEBUG:implicit:Running 40 ALS iterations\n",
      "100%|████████████████████████████████████████████████████████████████████████████████| 40.0/40 [03:06<00:00,  4.37s/it]\n"
     ]
    },
    {
     "name": "stdout",
     "output_type": "stream",
     "text": [
      "ALS_rank-200_regularization-0.01_alpha-50_num_epochs-40 training time: 03m:10s\n"
     ]
    },
    {
     "name": "stderr",
     "output_type": "stream",
     "text": [
      "DEBUG:implicit:Converting input to CSR format\n",
      "DEBUG:implicit:Converted input to CSR in 0.172s\n",
      "DEBUG:implicit:Calculated transpose in 0.125s\n",
      "DEBUG:implicit:Initialized factors in 3.4679253101348877\n",
      "DEBUG:implicit:Running 60 ALS iterations\n",
      "100%|████████████████████████████████████████████████████████████████████████████████| 60.0/60 [04:36<00:00,  4.22s/it]\n"
     ]
    },
    {
     "name": "stdout",
     "output_type": "stream",
     "text": [
      "ALS_rank-200_regularization-0.01_alpha-50_num_epochs-60 training time: 04m:41s\n"
     ]
    },
    {
     "name": "stderr",
     "output_type": "stream",
     "text": [
      "DEBUG:implicit:Converting input to CSR format\n",
      "DEBUG:implicit:Converted input to CSR in 0.172s\n",
      "DEBUG:implicit:Calculated transpose in 0.141s\n",
      "DEBUG:implicit:Initialized factors in 2.5462698936462402\n",
      "DEBUG:implicit:Running 80 ALS iterations\n",
      "100%|████████████████████████████████████████████████████████████████████████████████| 80.0/80 [06:04<00:00,  4.38s/it]\n"
     ]
    },
    {
     "name": "stdout",
     "output_type": "stream",
     "text": [
      "ALS_rank-200_regularization-0.01_alpha-50_num_epochs-80 training time: 06m:07s\n"
     ]
    },
    {
     "name": "stderr",
     "output_type": "stream",
     "text": [
      "DEBUG:implicit:Converting input to CSR format\n",
      "DEBUG:implicit:Converted input to CSR in 0.156s\n",
      "DEBUG:implicit:Calculated transpose in 0.125s\n",
      "DEBUG:implicit:Initialized factors in 2.858694314956665\n",
      "DEBUG:implicit:Running 100 ALS iterations\n",
      "100%|██████████████████████████████████████████████████████████████████████████████| 100.0/100 [07:36<00:00,  4.24s/it]\n"
     ]
    },
    {
     "name": "stdout",
     "output_type": "stream",
     "text": [
      "ALS_rank-200_regularization-0.01_alpha-50_num_epochs-100 training time: 07m:40s\n",
      "Evaluated model in 254.70s\n",
      "Evaluated model in 107.96s\n",
      "Evaluated model in 164.45s\n",
      "Evaluated model in 156.68s\n",
      "Evaluated model in 159.96s\n",
      "Evaluated model in 159.74s\n",
      "Evaluated model in 159.77s\n",
      "Evaluated model in 172.31s\n",
      "Evaluated model in 172.61s\n",
      "Evaluated model in 169.88s\n",
      "Evaluated model in 172.45s\n",
      "Evaluated model in 184.49s\n",
      "Evaluated model in 185.18s\n",
      "Evaluated model in 183.39s\n",
      "Evaluated model in 181.58s\n",
      "Evaluated model in 0.47s\n",
      "Evaluated model in 0.45s\n",
      "Evaluated model in 0.47s\n",
      "Evaluated model in 0.47s\n",
      "Evaluated model in 0.47s\n",
      "Evaluated model in 0.47s\n",
      "Evaluated model in 0.47s\n",
      "Evaluated model in 0.47s\n",
      "Evaluated model in 0.48s\n",
      "Evaluated model in 0.47s\n",
      "Evaluated model in 0.47s\n",
      "Evaluated model in 0.47s\n",
      "Evaluated model in 0.48s\n",
      "Evaluated model in 0.47s\n",
      "Evaluated model in 0.47s\n",
      "Evaluated model in 0.47s\n",
      "Evaluated model in 0.47s\n",
      "Evaluated model in 0.47s\n",
      "Evaluated model in 0.45s\n",
      "Evaluated model in 0.45s\n",
      "Evaluated model in 0.47s\n",
      "Evaluated model in 0.45s\n",
      "Evaluated model in 0.45s\n",
      "Evaluated model in 0.45s\n",
      "Evaluated model in 0.47s\n",
      "Evaluated model in 0.47s\n",
      "Evaluated model in 0.45s\n",
      "Evaluated model in 0.45s\n",
      "Evaluated model in 0.47s\n",
      "Evaluated model in 0.47s\n"
     ]
    },
    {
     "name": "stderr",
     "output_type": "stream",
     "text": [
      "DEBUG:root:Cross-validation experiment finished in 17790.02s\n"
     ]
    }
   ],
   "source": [
    "start = time.time()\n",
    "\n",
    "# run 5-fold CV experiment\n",
    "result = ee.run_cv_experiment(models, folds, metrics,\n",
    "                              fold_experiment=ee.topk_test,\n",
    "                              topk_list=topk_values)\n",
    "\n",
    "\n",
    "logging.debug(\"Cross-validation experiment finished in %0.2fs\", time.time() - start)"
   ]
  },
  {
   "cell_type": "code",
   "execution_count": 40,
   "metadata": {},
   "outputs": [],
   "source": [
    "pickle.dump(result, open(\"eval_results/result_4.p\", \"wb\"))"
   ]
  },
  {
   "cell_type": "code",
   "execution_count": null,
   "metadata": {},
   "outputs": [],
   "source": [
    "# holdout_sizes = [1, 2, 5]\n",
    "\n",
    "# result = ee.run_cv_experiment(models, folds, metrics,\n",
    "#                               fold_experiment=ee.holdout_test,\n",
    "#                               holdout_sizes=holdout_sizes)"
   ]
  },
  {
   "cell_type": "code",
   "execution_count": null,
   "metadata": {},
   "outputs": [],
   "source": [
    "# calculate average values across all folds for e.g. relevance metrics\n",
    "scores = result.mean(axis=0, level=['top-n', 'model']) # use .std instead of .mean for standard deviation\n",
    "# scores.xs('recall', level='metric', axis=1).unstack('model')\n",
    "scores"
   ]
  },
  {
   "cell_type": "markdown",
   "metadata": {},
   "source": [
    "***\n",
    "### Variable sizes"
   ]
  },
  {
   "cell_type": "code",
   "execution_count": 14,
   "metadata": {},
   "outputs": [
    {
     "name": "stdout",
     "output_type": "stream",
     "text": [
      "               RecommenderData:   2.0KiB\n",
      "                   ImplicitALS:   2.0KiB\n",
      "                      SVDModel:   1.4KiB\n",
      "               PopularityModel:   1.4KiB\n",
      "                   RandomModel:   1.4KiB\n",
      "                    csr_matrix:   1.0KiB\n",
      "                    lil_matrix:   1.0KiB\n",
      "             CooccurrenceModel:   1.0KiB\n",
      "                           _i1:   917.0B\n",
      "                    als_models:   768.0B\n"
     ]
    }
   ],
   "source": [
    "import sys\n",
    "def sizeof_fmt(num, suffix='B'):\n",
    "    ''' By Fred Cirera, after https://stackoverflow.com/a/1094933/1870254'''\n",
    "    for unit in ['','Ki','Mi','Gi','Ti','Pi','Ei','Zi']:\n",
    "        if abs(num) < 1024.0:\n",
    "            return \"%3.1f%s%s\" % (num, unit, suffix)\n",
    "        num /= 1024.0\n",
    "    return \"%.1f%s%s\" % (num, 'Yi', suffix)\n",
    "\n",
    "for name, size in sorted(((name, sys.getsizeof(value)) for name,value in locals().items()),\n",
    "                         key= lambda x: -x[1])[:10]:\n",
    "    print(\"{:>30}: {:>8}\".format(name,sizeof_fmt(size)))"
   ]
  },
  {
   "cell_type": "code",
   "execution_count": 13,
   "metadata": {},
   "outputs": [],
   "source": [
    "del kiva_dataframe"
   ]
  }
 ],
 "metadata": {
  "kernelspec": {
   "display_name": "Python 3",
   "language": "python",
   "name": "python3"
  },
  "language_info": {
   "codemirror_mode": {
    "name": "ipython",
    "version": 3
   },
   "file_extension": ".py",
   "mimetype": "text/x-python",
   "name": "python",
   "nbconvert_exporter": "python",
   "pygments_lexer": "ipython3",
   "version": "3.6.8"
  }
 },
 "nbformat": 4,
 "nbformat_minor": 2
}
